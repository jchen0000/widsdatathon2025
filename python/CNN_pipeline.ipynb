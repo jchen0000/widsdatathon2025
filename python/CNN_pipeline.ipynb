{
  "nbformat": 4,
  "nbformat_minor": 0,
  "metadata": {
    "colab": {
      "provenance": [],
      "authorship_tag": "ABX9TyP4R+2JP4A+kjpunI8owlZU",
      "include_colab_link": true
    },
    "kernelspec": {
      "name": "python3",
      "display_name": "Python 3"
    },
    "language_info": {
      "name": "python"
    }
  },
  "cells": [
    {
      "cell_type": "markdown",
      "metadata": {
        "id": "view-in-github",
        "colab_type": "text"
      },
      "source": [
        "<a href=\"https://colab.research.google.com/github/jchen0000/widsdatathon2025/blob/main/python/CNN_pipeline.ipynb\" target=\"_parent\"><img src=\"https://colab.research.google.com/assets/colab-badge.svg\" alt=\"Open In Colab\"/></a>"
      ]
    },
    {
      "cell_type": "code",
      "execution_count": 3,
      "metadata": {
        "id": "OgfhbqVL6Zxs"
      },
      "outputs": [],
      "source": [
        "import pandas as pd\n",
        "import numpy as np"
      ]
    },
    {
      "cell_type": "markdown",
      "source": [
        "# Neural Networks\n",
        "reference:"
      ],
      "metadata": {
        "id": "wQpY5Stw6dpX"
      }
    },
    {
      "cell_type": "code",
      "source": [],
      "metadata": {
        "id": "j32yV4y8xOdH"
      },
      "execution_count": null,
      "outputs": []
    },
    {
      "cell_type": "markdown",
      "source": [
        "### Load Data"
      ],
      "metadata": {
        "id": "p4hsoygvxPA8"
      }
    },
    {
      "cell_type": "code",
      "source": [
        "from google.colab import drive\n",
        "drive.mount('/content/drive')\n",
        "\n",
        "## suppose you've created a folder named \"widsdatathon2025\"\n",
        "%cd /content/drive/MyDrive/widsdatathon2025/\n",
        "%ls"
      ],
      "metadata": {
        "colab": {
          "base_uri": "https://localhost:8080/"
        },
        "id": "JQHQtzE1xAo1",
        "outputId": "5b4d8eac-086a-46ab-a2c7-556f162a2505"
      },
      "execution_count": 4,
      "outputs": [
        {
          "output_type": "stream",
          "name": "stdout",
          "text": [
            "Mounted at /content/drive\n",
            "/content/drive/MyDrive/widsdatathon2025\n",
            "'Data Dictionary.xlsx'   \u001b[0m\u001b[01;34mgnn\u001b[0m/   SAMPLE_SUBMISSION.xlsx   \u001b[01;34mTEST\u001b[0m/   \u001b[01;34mTRAIN\u001b[0m/   \u001b[01;34mWork\u001b[0m/\n"
          ]
        }
      ]
    },
    {
      "cell_type": "code",
      "source": [
        "# training data\n",
        "dir = './TRAIN/' #\"./data/train/\"\n",
        "df_train_mri = pd.read_csv(dir+\"TRAIN_FUNCTIONAL_CONNECTOME_MATRICES.csv\")\n",
        "df_train_mri.set_index('participant_id', inplace=True)\n",
        "print(df_train_mri.shape)\n",
        "df_train_mri.head()\n",
        "\n",
        "df_train_meta_quant = pd.read_excel(dir+\"TRAIN_QUANTITATIVE_METADATA.xlsx\")\n",
        "df_train_meta_quant.set_index('participant_id', inplace=True)\n",
        "print(df_train_meta_quant.shape)\n",
        "\n",
        "df_train_meta_cat = pd.read_excel(dir+\"TRAIN_CATEGORICAL_METADATA.xlsx\")\n",
        "df_train_meta_cat.set_index('participant_id', inplace=True)\n",
        "print(df_train_meta_cat.shape)\n",
        "\n",
        "df_train_y = pd.read_excel(dir+\"TRAINING_SOLUTIONS.xlsx\")\n",
        "df_train_y.set_index('participant_id', inplace=True)\n",
        "print(df_train_y.shape)"
      ],
      "metadata": {
        "colab": {
          "base_uri": "https://localhost:8080/"
        },
        "id": "psm9D3KFxFya",
        "outputId": "cceaeca4-9a32-4bd2-d965-0586c745d185"
      },
      "execution_count": 5,
      "outputs": [
        {
          "output_type": "stream",
          "name": "stdout",
          "text": [
            "(1213, 19900)\n",
            "(1213, 18)\n",
            "(1213, 9)\n",
            "(1213, 2)\n"
          ]
        }
      ]
    },
    {
      "cell_type": "code",
      "source": [
        "# Merge all training data together\n",
        "df_train_X = pd.concat([df_train_mri, df_train_meta_quant, df_train_meta_cat], axis=1)\n",
        "print(df_train_X.shape)\n",
        "\n",
        "# Combine both columns for prediction\n",
        "# (0,0): 0\n",
        "# (0,1): 1\n",
        "# (1,0): 2\n",
        "# (1,1): 3\n",
        "df_train_y_sparse = pd.DataFrame()\n",
        "df_train_y_sparse['sparse_category'] = df_train_y['ADHD_Outcome'] *2 + df_train_y['Sex_F']\n",
        "df_train_y_sparse.head()"
      ],
      "metadata": {
        "colab": {
          "base_uri": "https://localhost:8080/"
        },
        "id": "qms61wLx5U1W",
        "outputId": "8c7f012b-741b-4821-c360-df5d89e52cf2"
      },
      "execution_count": 6,
      "outputs": [
        {
          "output_type": "execute_result",
          "data": {
            "text/plain": [
              "(1213, 19927)"
            ]
          },
          "metadata": {},
          "execution_count": 6
        }
      ]
    },
    {
      "cell_type": "code",
      "source": [
        "from sklearn.impute import SimpleImputer\n",
        "from sklearn.impute import KNNImputer\n",
        "\n",
        "df_train_X[df_train_X == \"NA\"] = np.nan\n",
        "\n",
        "# Impute missing values with KNN imputation\n",
        "imputer_metadata = KNNImputer(n_neighbors=5)  # Using KNN for imputation instead of mean\n",
        "df_train_X_imputed = imputer_metadata.fit_transform(df_train_X)  # ((1213, 19927)\n",
        "df_train_X_imputed = pd.DataFrame(df_train_X_imputed, columns=df_train_X.columns, index=df_train_X.index)\n",
        "print(df_train_X_imputed.shape)"
      ],
      "metadata": {
        "colab": {
          "base_uri": "https://localhost:8080/"
        },
        "id": "VjHgr7zBffrI",
        "outputId": "2df21e27-a98c-4380-dde1-e93b71b13692"
      },
      "execution_count": 180,
      "outputs": [
        {
          "output_type": "stream",
          "name": "stdout",
          "text": [
            "(1213, 19927)\n"
          ]
        }
      ]
    },
    {
      "cell_type": "code",
      "source": [
        "# prompt: check NA value in the df_train_X_imputed variable\n",
        "\n",
        "import numpy as np\n",
        "\n",
        "# check NA in original dataset\n",
        "na_count_old = np.isnan(df_train_X).sum()\n",
        "print(f\"Number of NA values in df_train_X: {na_count_old.sum()}\")\n",
        "print(f\"NA value per column (>0): \\n{na_count_old[na_count_old > 0]}\")\n",
        "\n",
        "# Check for NaN values in the imputed dataset\n",
        "na_count = np.isnan(df_train_X_imputed).sum()\n",
        "print(f\"\\n\\nNumber of NA values in df_train_X_imputed: {na_count.sum()}\")\n",
        "\n",
        "# Check for NaN values in each column\n",
        "na_per_column = np.isnan(df_train_X_imputed).sum(axis=0)\n",
        "print(f\"After Inputation: More than 1 NA columns: {sum(na_per_column > 0)}\")\n",
        "print(f\"NA values per column:\\n{na_per_column.values}\")\n"
      ],
      "metadata": {
        "colab": {
          "base_uri": "https://localhost:8080/"
        },
        "id": "Epyt8jfdP9xq",
        "outputId": "1bfee148-0d2c-45e4-92d8-af3565c7947f"
      },
      "execution_count": 184,
      "outputs": [
        {
          "output_type": "stream",
          "name": "stdout",
          "text": [
            "Number of NA values in df_train_X: 371\n",
            "NA value per column (>0): \n",
            "MRI_Track_Age_at_Scan               360\n",
            "PreInt_Demos_Fam_Child_Ethnicity     11\n",
            "dtype: int64\n",
            "\n",
            "\n",
            "Number of NA values in df_train_X_imputed: 0\n",
            "After Inputation: More than 1 NA columns: 0\n",
            "NA values per column:\n",
            "[0 0 0 ... 0 0 0]\n"
          ]
        }
      ]
    },
    {
      "cell_type": "code",
      "source": [
        "# # prompt: normalize and standardize df_train_X\n",
        "\n",
        "# from sklearn.preprocessing import MinMaxScaler, StandardScaler\n",
        "\n",
        "# # # Normalize\n",
        "# # scaler = MinMaxScaler()\n",
        "# # df_train_X_normalized = scaler.fit_transform(df_train_X)\n",
        "# # df_train_X_normalized = pd.DataFrame(df_train_X_normalized, columns=df_train_X.columns, index=df_train_X.index)\n",
        "\n",
        "# # Standardize\n",
        "# scaler = StandardScaler()\n",
        "# df_train_X_standardized = scaler.fit_transform(df_train_X)\n",
        "# df_train_X_standardized = pd.DataFrame(df_train_X_standardized, columns=df_train_X.columns, index=df_train_X.index)\n",
        "\n",
        "# # Normalize\n",
        "# scaler = MinMaxScaler()\n",
        "# df_train_X_normalized = scaler.fit_transform(df_train_X_standardized)\n",
        "# df_train_X_normalized = pd.DataFrame(df_train_X_normalized, columns=df_train_X.columns, index=df_train_X.index)\n",
        "\n",
        "# df_train_X_normalized.iloc[:, -27:].describe()\n"
      ],
      "metadata": {
        "id": "gHvPO-_o7HSd"
      },
      "execution_count": 82,
      "outputs": []
    },
    {
      "cell_type": "code",
      "source": [
        "# Test data\n",
        "dir = './TEST/'\n",
        "df_test_mri = pd.read_csv(dir+\"TEST_FUNCTIONAL_CONNECTOME_MATRICES.csv\")\n",
        "df_test_mri.set_index('participant_id', inplace=True)\n",
        "print(df_test_mri.shape)\n",
        "\n",
        "df_test_meta_quant = pd.read_excel(dir+\"TEST_QUANTITATIVE_METADATA.xlsx\")\n",
        "df_test_meta_quant.set_index('participant_id', inplace=True)\n",
        "print(df_test_meta_quant.shape)\n",
        "\n",
        "df_test_meta_cat = pd.read_excel(dir+\"TEST_CATEGORICAL.xlsx\")\n",
        "df_test_meta_cat.set_index('participant_id', inplace=True)\n",
        "print(df_test_meta_cat.shape)"
      ],
      "metadata": {
        "colab": {
          "base_uri": "https://localhost:8080/"
        },
        "id": "z8rrmbT0x1nZ",
        "outputId": "d1f82c24-596c-4671-86f2-0aef2577db99"
      },
      "execution_count": 7,
      "outputs": [
        {
          "output_type": "stream",
          "name": "stdout",
          "text": [
            "(304, 19900)\n",
            "(304, 18)\n",
            "(304, 9)\n"
          ]
        }
      ]
    },
    {
      "cell_type": "code",
      "source": [
        "df_test_X = pd.concat([df_test_mri, df_test_meta_quant, df_test_meta_cat], axis=1)\n",
        "df_test_X.shape"
      ],
      "metadata": {
        "colab": {
          "base_uri": "https://localhost:8080/"
        },
        "id": "5McpeFCf5b35",
        "outputId": "f07db0b7-35ea-46f6-dba2-4c194b4fa7fe"
      },
      "execution_count": 8,
      "outputs": [
        {
          "output_type": "execute_result",
          "data": {
            "text/plain": [
              "(304, 19927)"
            ]
          },
          "metadata": {},
          "execution_count": 8
        }
      ]
    },
    {
      "cell_type": "markdown",
      "source": [
        "### Train-validation data splitting"
      ],
      "metadata": {
        "id": "es9BLvbta2H1"
      }
    },
    {
      "cell_type": "code",
      "source": [
        "# prompt: split df_train_X and df_train_y into train and validation set and convert df into arrays able to be input into keras model\n",
        "\n",
        "from sklearn.model_selection import train_test_split\n",
        "\n",
        "# Split the data into training and validation sets\n",
        "X_train, X_val, y_train, y_val = train_test_split(df_train_X_imputed, df_train_y, test_size=0.2, random_state=42)\n",
        "\n",
        "# Convert DataFrames to NumPy arrays\n",
        "X_train = X_train.values\n",
        "X_val = X_val.values\n",
        "y_train = y_train.values\n",
        "y_val = y_val.values\n",
        "\n",
        "print(y_val.shape)"
      ],
      "metadata": {
        "colab": {
          "base_uri": "https://localhost:8080/"
        },
        "id": "-qe4yTLza2b8",
        "outputId": "d43523dd-c6be-4381-b749-d22f9e539c3d"
      },
      "execution_count": 185,
      "outputs": [
        {
          "output_type": "stream",
          "name": "stdout",
          "text": [
            "(243, 2)\n"
          ]
        }
      ]
    },
    {
      "cell_type": "code",
      "source": [],
      "metadata": {
        "id": "yYlBCqxFa2qt"
      },
      "execution_count": null,
      "outputs": []
    },
    {
      "cell_type": "markdown",
      "source": [
        "## Evaluation Metrics"
      ],
      "metadata": {
        "id": "rQ3qa1a_apzy"
      }
    },
    {
      "cell_type": "code",
      "source": [
        "# prompt: I have a y_true array with two columns and a y_pred array with two columns, I want to use both columns together to determine if it's correct or not. how to calculate the f1 score. customized the weight variable based on the y_true, setting each (1,1) pair in y_true as 2 in weight, all others are 1 in weight. use sklearn f1-score function if possible. construct the function to be used as the keras neural network training metrics. The input is two tensor array\n",
        "\n",
        "import numpy as np\n",
        "from sklearn.metrics import f1_score\n",
        "import tensorflow as tf\n",
        "\n",
        "def custom_f1(y_true, y_pred):\n",
        "    y_true = tf.cast(y_true, tf.int32)\n",
        "    y_pred = tf.cast(tf.round(y_pred), tf.int32)\n",
        "\n",
        "    if y_true.shape[-1] == 2:\n",
        "      # Combine both columns for prediction\n",
        "      # (0,0): 0\n",
        "      # (0,1): 1\n",
        "      # (1,0): 2\n",
        "      # (1,1): 3\n",
        "      y_true = y_true[:,0] * 2 + y_true[:,1]\n",
        "      y_pred = y_pred[:,0] * 2 + y_pred[:,1]\n",
        "    elif y_true.shape[-1] == 1:\n",
        "      y_true = tf.squeeze(y_true)\n",
        "      y_pred = tf.squeeze(y_pred)\n",
        "    else:\n",
        "      raise ValueError(\"y_true should have shape (None, 2) or (None, 1)\")\n",
        "\n",
        "    # Calculate weights\n",
        "    weights = tf.where(tf.equal(y_true, 3), 2.0, 1.0)\n",
        "\n",
        "    # Reshape for sklearn f1_score\n",
        "    y_true_reshaped = tf.reshape(y_true, [-1]).numpy()\n",
        "    y_pred_reshaped = tf.reshape(y_pred, [-1]).numpy()\n",
        "    weights_reshaped = tf.reshape(weights, [-1]).numpy()\n",
        "    print(y_true_reshaped.shape)\n",
        "    print(y_pred_reshaped.shape)\n",
        "    print(weights_reshaped.shape)\n",
        "\n",
        "    f1 = f1_score(y_true_reshaped, y_pred_reshaped, average='weighted', sample_weight=weights_reshaped)\n",
        "    return f1\n"
      ],
      "metadata": {
        "id": "WzpF3HR-XsbN"
      },
      "execution_count": 219,
      "outputs": []
    },
    {
      "cell_type": "code",
      "source": [
        "## fake y_pred\n",
        "y_pred = np.random.randint(0, 2, size=(y_train.shape[0], 2))\n",
        "y_train_tensor = tf.convert_to_tensor(y_train, dtype=tf.float32)\n",
        "y_pred_tensor = tf.convert_to_tensor(y_pred, dtype=tf.float32)\n",
        "print(y_train_tensor.shape)\n",
        "print(y_pred_tensor.shape)\n",
        "\n",
        "custom_f1(y_train, y_pred)"
      ],
      "metadata": {
        "colab": {
          "base_uri": "https://localhost:8080/"
        },
        "id": "IE-xN-3PZ3V9",
        "outputId": "5c509870-efe0-4f36-a93f-2485bdf3f00b"
      },
      "execution_count": 220,
      "outputs": [
        {
          "output_type": "stream",
          "name": "stdout",
          "text": [
            "(970, 2)\n",
            "(970, 2)\n",
            "(970,)\n",
            "(970,)\n",
            "(970,)\n"
          ]
        },
        {
          "output_type": "execute_result",
          "data": {
            "text/plain": [
              "0.2670525573366143"
            ]
          },
          "metadata": {},
          "execution_count": 220
        }
      ]
    },
    {
      "cell_type": "code",
      "source": [],
      "metadata": {
        "id": "Sy9Zoh6ZaqMM"
      },
      "execution_count": null,
      "outputs": []
    },
    {
      "cell_type": "markdown",
      "source": [
        "## Neural network"
      ],
      "metadata": {
        "id": "GGrNRIfYygdl"
      }
    },
    {
      "cell_type": "code",
      "source": [
        "# # prompt: I have a y_true array with two columns and a y_pred array with two columns, I want to use both columns together to determine if it's correct or not. how to calculate the f1 score. customized the weight variable based on the y_true, setting each (1,1) pair in y_true as 2 in weight, all others are 1 in weight. use sklearn f1-score function if possible. construct the function to be used in the keras neural network training metrics. The input is two tensor array\n",
        "\n",
        "# import tensorflow as tf\n",
        "# from sklearn.metrics import f1_score\n",
        "\n",
        "# def custom_f1(y_true, y_pred):\n",
        "#     y_true = tf.cast(y_true, tf.float32)\n",
        "#     y_pred = tf.cast(tf.math.round(y_pred), tf.float32)\n",
        "#     print(y_true.shape)\n",
        "#     print(y_pred.shape)\n",
        "\n",
        "#     # Create weights based on y_true\n",
        "#     weights = tf.where(tf.reduce_all(tf.equal(y_true, [[1.0, 1.0]]), axis=1), 2.0, 1.0)\n",
        "\n",
        "#     # Calculate the F1 score using sklearn\n",
        "#     f1 = tf.numpy_function(f1_score_with_weights,\n",
        "#                            inp=[y_true, y_pred, weights],\n",
        "#                            Tout=tf.float32)\n",
        "#     return f1\n",
        "\n",
        "\n",
        "# def f1_score_with_weights(y_true, y_pred, weights):\n",
        "#     y_true = y_true.astype(int)\n",
        "#     y_pred = y_pred.astype(int)\n",
        "#     weights = weights.flatten()\n",
        "\n",
        "#     # Combine both columns for prediction\n",
        "#     # (0,0): 0\n",
        "#     # (0,1): 1\n",
        "#     # (1,0): 2\n",
        "#     # (1,1): 3\n",
        "#     combined_y_true = y_true[:,0] * 2 + y_true[:,1]\n",
        "#     combined_y_pred = y_pred[:,0] * 2 + y_pred[:,1]\n",
        "\n",
        "#     return f1_score(combined_y_true, combined_y_pred, average='weighted', sample_weight=weights)\n"
      ],
      "metadata": {
        "id": "9VFNvi4e2c91"
      },
      "execution_count": 120,
      "outputs": []
    },
    {
      "cell_type": "code",
      "source": [
        "# ## fake y_pred\n",
        "# y_pred = np.random.randint(0, 2, size=(y_train.shape[0], 2))\n",
        "# y_train_tensor = tf.convert_to_tensor(y_train, dtype=tf.float32)\n",
        "# y_pred_tensor = tf.convert_to_tensor(y_pred, dtype=tf.float32)\n",
        "# custom_f1(y_train_tensor, y_pred_tensor)"
      ],
      "metadata": {
        "colab": {
          "base_uri": "https://localhost:8080/"
        },
        "id": "KFSYwiYQ-65Y",
        "outputId": "da46e5a7-4a23-475e-a948-95db0e267a31"
      },
      "execution_count": 121,
      "outputs": [
        {
          "output_type": "stream",
          "name": "stdout",
          "text": [
            "(970, 2)\n",
            "(970, 2)\n"
          ]
        },
        {
          "output_type": "execute_result",
          "data": {
            "text/plain": [
              "<tf.Tensor: shape=(), dtype=float32, numpy=0.26099467277526855>"
            ]
          },
          "metadata": {},
          "execution_count": 121
        }
      ]
    },
    {
      "cell_type": "code",
      "source": [
        "# prompt: set up a neural network model with an input layer of 19927 cells, and output layer of 2 cells, add dropoff layer if needed, add activation functions. try use keras package to do that.\n",
        "\n",
        "import tensorflow as tf\n",
        "from tensorflow import keras\n",
        "from tensorflow.keras.regularizers import l2\n",
        "from tensorflow.keras.layers import Dense, Dropout\n",
        "\n",
        "model = keras.Sequential([\n",
        "    Dense(128, activation='relu', input_shape=(19927,), kernel_regularizer=l2(0.01)),  # Input layer with 19927 cells and ReLU activation\n",
        "    Dropout(0.5),  # Dropout layer for regularization\n",
        "    Dense(64, activation='relu', kernel_regularizer=l2(0.01)),  # Hidden layer with 64 cells and ReLU activation\n",
        "    Dropout(0.3), # Another dropout layer\n",
        "    Dense(2, activation='sigmoid', kernel_regularizer=l2(0.01))  # Output layer with 2 cells and sigmoid activation for binary classification\n",
        "])\n",
        "\n",
        "# Compile the model\n",
        "optimizer = tf.keras.optimizers.Adam(learning_rate=1e-3, clipvalue=1)\n",
        "# f1_scorer = tf.keras.metrics.F1Score(average='weight')\n",
        "model.compile(optimizer=optimizer,\n",
        "              loss='binary_crossentropy', # Use binary_crossentropy for binary classification\n",
        "              metrics=['f1_score']) # Include custom F1 metric\n",
        "\n",
        "# Print model summary\n",
        "model.summary()\n"
      ],
      "metadata": {
        "colab": {
          "base_uri": "https://localhost:8080/",
          "height": 289
        },
        "id": "bDN3It9WjjUI",
        "outputId": "376b628a-b334-4b1d-8202-9004111e505c"
      },
      "execution_count": 212,
      "outputs": [
        {
          "output_type": "display_data",
          "data": {
            "text/plain": [
              "\u001b[1mModel: \"sequential_29\"\u001b[0m\n"
            ],
            "text/html": [
              "<pre style=\"white-space:pre;overflow-x:auto;line-height:normal;font-family:Menlo,'DejaVu Sans Mono',consolas,'Courier New',monospace\"><span style=\"font-weight: bold\">Model: \"sequential_29\"</span>\n",
              "</pre>\n"
            ]
          },
          "metadata": {}
        },
        {
          "output_type": "display_data",
          "data": {
            "text/plain": [
              "┏━━━━━━━━━━━━━━━━━━━━━━━━━━━━━━━━━━━━━━┳━━━━━━━━━━━━━━━━━━━━━━━━━━━━━┳━━━━━━━━━━━━━━━━━┓\n",
              "┃\u001b[1m \u001b[0m\u001b[1mLayer (type)                        \u001b[0m\u001b[1m \u001b[0m┃\u001b[1m \u001b[0m\u001b[1mOutput Shape               \u001b[0m\u001b[1m \u001b[0m┃\u001b[1m \u001b[0m\u001b[1m        Param #\u001b[0m\u001b[1m \u001b[0m┃\n",
              "┡━━━━━━━━━━━━━━━━━━━━━━━━━━━━━━━━━━━━━━╇━━━━━━━━━━━━━━━━━━━━━━━━━━━━━╇━━━━━━━━━━━━━━━━━┩\n",
              "│ dense_87 (\u001b[38;5;33mDense\u001b[0m)                     │ (\u001b[38;5;45mNone\u001b[0m, \u001b[38;5;34m128\u001b[0m)                 │       \u001b[38;5;34m2,550,784\u001b[0m │\n",
              "├──────────────────────────────────────┼─────────────────────────────┼─────────────────┤\n",
              "│ dropout_58 (\u001b[38;5;33mDropout\u001b[0m)                 │ (\u001b[38;5;45mNone\u001b[0m, \u001b[38;5;34m128\u001b[0m)                 │               \u001b[38;5;34m0\u001b[0m │\n",
              "├──────────────────────────────────────┼─────────────────────────────┼─────────────────┤\n",
              "│ dense_88 (\u001b[38;5;33mDense\u001b[0m)                     │ (\u001b[38;5;45mNone\u001b[0m, \u001b[38;5;34m64\u001b[0m)                  │           \u001b[38;5;34m8,256\u001b[0m │\n",
              "├──────────────────────────────────────┼─────────────────────────────┼─────────────────┤\n",
              "│ dropout_59 (\u001b[38;5;33mDropout\u001b[0m)                 │ (\u001b[38;5;45mNone\u001b[0m, \u001b[38;5;34m64\u001b[0m)                  │               \u001b[38;5;34m0\u001b[0m │\n",
              "├──────────────────────────────────────┼─────────────────────────────┼─────────────────┤\n",
              "│ dense_89 (\u001b[38;5;33mDense\u001b[0m)                     │ (\u001b[38;5;45mNone\u001b[0m, \u001b[38;5;34m2\u001b[0m)                   │             \u001b[38;5;34m130\u001b[0m │\n",
              "└──────────────────────────────────────┴─────────────────────────────┴─────────────────┘\n"
            ],
            "text/html": [
              "<pre style=\"white-space:pre;overflow-x:auto;line-height:normal;font-family:Menlo,'DejaVu Sans Mono',consolas,'Courier New',monospace\">┏━━━━━━━━━━━━━━━━━━━━━━━━━━━━━━━━━━━━━━┳━━━━━━━━━━━━━━━━━━━━━━━━━━━━━┳━━━━━━━━━━━━━━━━━┓\n",
              "┃<span style=\"font-weight: bold\"> Layer (type)                         </span>┃<span style=\"font-weight: bold\"> Output Shape                </span>┃<span style=\"font-weight: bold\">         Param # </span>┃\n",
              "┡━━━━━━━━━━━━━━━━━━━━━━━━━━━━━━━━━━━━━━╇━━━━━━━━━━━━━━━━━━━━━━━━━━━━━╇━━━━━━━━━━━━━━━━━┩\n",
              "│ dense_87 (<span style=\"color: #0087ff; text-decoration-color: #0087ff\">Dense</span>)                     │ (<span style=\"color: #00d7ff; text-decoration-color: #00d7ff\">None</span>, <span style=\"color: #00af00; text-decoration-color: #00af00\">128</span>)                 │       <span style=\"color: #00af00; text-decoration-color: #00af00\">2,550,784</span> │\n",
              "├──────────────────────────────────────┼─────────────────────────────┼─────────────────┤\n",
              "│ dropout_58 (<span style=\"color: #0087ff; text-decoration-color: #0087ff\">Dropout</span>)                 │ (<span style=\"color: #00d7ff; text-decoration-color: #00d7ff\">None</span>, <span style=\"color: #00af00; text-decoration-color: #00af00\">128</span>)                 │               <span style=\"color: #00af00; text-decoration-color: #00af00\">0</span> │\n",
              "├──────────────────────────────────────┼─────────────────────────────┼─────────────────┤\n",
              "│ dense_88 (<span style=\"color: #0087ff; text-decoration-color: #0087ff\">Dense</span>)                     │ (<span style=\"color: #00d7ff; text-decoration-color: #00d7ff\">None</span>, <span style=\"color: #00af00; text-decoration-color: #00af00\">64</span>)                  │           <span style=\"color: #00af00; text-decoration-color: #00af00\">8,256</span> │\n",
              "├──────────────────────────────────────┼─────────────────────────────┼─────────────────┤\n",
              "│ dropout_59 (<span style=\"color: #0087ff; text-decoration-color: #0087ff\">Dropout</span>)                 │ (<span style=\"color: #00d7ff; text-decoration-color: #00d7ff\">None</span>, <span style=\"color: #00af00; text-decoration-color: #00af00\">64</span>)                  │               <span style=\"color: #00af00; text-decoration-color: #00af00\">0</span> │\n",
              "├──────────────────────────────────────┼─────────────────────────────┼─────────────────┤\n",
              "│ dense_89 (<span style=\"color: #0087ff; text-decoration-color: #0087ff\">Dense</span>)                     │ (<span style=\"color: #00d7ff; text-decoration-color: #00d7ff\">None</span>, <span style=\"color: #00af00; text-decoration-color: #00af00\">2</span>)                   │             <span style=\"color: #00af00; text-decoration-color: #00af00\">130</span> │\n",
              "└──────────────────────────────────────┴─────────────────────────────┴─────────────────┘\n",
              "</pre>\n"
            ]
          },
          "metadata": {}
        },
        {
          "output_type": "display_data",
          "data": {
            "text/plain": [
              "\u001b[1m Total params: \u001b[0m\u001b[38;5;34m2,559,170\u001b[0m (9.76 MB)\n"
            ],
            "text/html": [
              "<pre style=\"white-space:pre;overflow-x:auto;line-height:normal;font-family:Menlo,'DejaVu Sans Mono',consolas,'Courier New',monospace\"><span style=\"font-weight: bold\"> Total params: </span><span style=\"color: #00af00; text-decoration-color: #00af00\">2,559,170</span> (9.76 MB)\n",
              "</pre>\n"
            ]
          },
          "metadata": {}
        },
        {
          "output_type": "display_data",
          "data": {
            "text/plain": [
              "\u001b[1m Trainable params: \u001b[0m\u001b[38;5;34m2,559,170\u001b[0m (9.76 MB)\n"
            ],
            "text/html": [
              "<pre style=\"white-space:pre;overflow-x:auto;line-height:normal;font-family:Menlo,'DejaVu Sans Mono',consolas,'Courier New',monospace\"><span style=\"font-weight: bold\"> Trainable params: </span><span style=\"color: #00af00; text-decoration-color: #00af00\">2,559,170</span> (9.76 MB)\n",
              "</pre>\n"
            ]
          },
          "metadata": {}
        },
        {
          "output_type": "display_data",
          "data": {
            "text/plain": [
              "\u001b[1m Non-trainable params: \u001b[0m\u001b[38;5;34m0\u001b[0m (0.00 B)\n"
            ],
            "text/html": [
              "<pre style=\"white-space:pre;overflow-x:auto;line-height:normal;font-family:Menlo,'DejaVu Sans Mono',consolas,'Courier New',monospace\"><span style=\"font-weight: bold\"> Non-trainable params: </span><span style=\"color: #00af00; text-decoration-color: #00af00\">0</span> (0.00 B)\n",
              "</pre>\n"
            ]
          },
          "metadata": {}
        }
      ]
    },
    {
      "cell_type": "code",
      "source": [
        "# prompt: set up a neural network model with an input layer of 19927 cells, and output layer of 1 cells with 4 potential categories, add dropoff layer if needed, add activation functions. try use keras package to do that.\n",
        "\n",
        "sparse_model = keras.Sequential([\n",
        "    keras.layers.Dense(128, activation='relu', input_shape=(X_train.shape[1],)),\n",
        "    keras.layers.Dropout(0.5),\n",
        "    keras.layers.Dense(64, activation='relu'),\n",
        "    keras.layers.Dropout(0.3),\n",
        "    keras.layers.Dense(4, activation='softmax') # Output layer with 4 categories and softmax activation\n",
        "])\n",
        "\n",
        "optimizer = tf.keras.optimizers.Adam(learning_rate=0.01)\n",
        "sparse_model.compile(optimizer=optimizer,\n",
        "              loss='sparse_categorical_crossentropy', # Use sparse_categorical_crossentropy for integer labels\n",
        "              metrics=['f1_score']) # Use accuracy as metric\n",
        "\n",
        "sparse_model.summary()\n"
      ],
      "metadata": {
        "colab": {
          "base_uri": "https://localhost:8080/",
          "height": 289
        },
        "id": "6_32gnFI_C7A",
        "outputId": "0b1242be-8e36-4675-946d-7c5d24d07c00"
      },
      "execution_count": 123,
      "outputs": [
        {
          "output_type": "display_data",
          "data": {
            "text/plain": [
              "\u001b[1mModel: \"sequential_24\"\u001b[0m\n"
            ],
            "text/html": [
              "<pre style=\"white-space:pre;overflow-x:auto;line-height:normal;font-family:Menlo,'DejaVu Sans Mono',consolas,'Courier New',monospace\"><span style=\"font-weight: bold\">Model: \"sequential_24\"</span>\n",
              "</pre>\n"
            ]
          },
          "metadata": {}
        },
        {
          "output_type": "display_data",
          "data": {
            "text/plain": [
              "┏━━━━━━━━━━━━━━━━━━━━━━━━━━━━━━━━━━━━━━┳━━━━━━━━━━━━━━━━━━━━━━━━━━━━━┳━━━━━━━━━━━━━━━━━┓\n",
              "┃\u001b[1m \u001b[0m\u001b[1mLayer (type)                        \u001b[0m\u001b[1m \u001b[0m┃\u001b[1m \u001b[0m\u001b[1mOutput Shape               \u001b[0m\u001b[1m \u001b[0m┃\u001b[1m \u001b[0m\u001b[1m        Param #\u001b[0m\u001b[1m \u001b[0m┃\n",
              "┡━━━━━━━━━━━━━━━━━━━━━━━━━━━━━━━━━━━━━━╇━━━━━━━━━━━━━━━━━━━━━━━━━━━━━╇━━━━━━━━━━━━━━━━━┩\n",
              "│ dense_72 (\u001b[38;5;33mDense\u001b[0m)                     │ (\u001b[38;5;45mNone\u001b[0m, \u001b[38;5;34m128\u001b[0m)                 │       \u001b[38;5;34m2,547,328\u001b[0m │\n",
              "├──────────────────────────────────────┼─────────────────────────────┼─────────────────┤\n",
              "│ dropout_48 (\u001b[38;5;33mDropout\u001b[0m)                 │ (\u001b[38;5;45mNone\u001b[0m, \u001b[38;5;34m128\u001b[0m)                 │               \u001b[38;5;34m0\u001b[0m │\n",
              "├──────────────────────────────────────┼─────────────────────────────┼─────────────────┤\n",
              "│ dense_73 (\u001b[38;5;33mDense\u001b[0m)                     │ (\u001b[38;5;45mNone\u001b[0m, \u001b[38;5;34m64\u001b[0m)                  │           \u001b[38;5;34m8,256\u001b[0m │\n",
              "├──────────────────────────────────────┼─────────────────────────────┼─────────────────┤\n",
              "│ dropout_49 (\u001b[38;5;33mDropout\u001b[0m)                 │ (\u001b[38;5;45mNone\u001b[0m, \u001b[38;5;34m64\u001b[0m)                  │               \u001b[38;5;34m0\u001b[0m │\n",
              "├──────────────────────────────────────┼─────────────────────────────┼─────────────────┤\n",
              "│ dense_74 (\u001b[38;5;33mDense\u001b[0m)                     │ (\u001b[38;5;45mNone\u001b[0m, \u001b[38;5;34m4\u001b[0m)                   │             \u001b[38;5;34m260\u001b[0m │\n",
              "└──────────────────────────────────────┴─────────────────────────────┴─────────────────┘\n"
            ],
            "text/html": [
              "<pre style=\"white-space:pre;overflow-x:auto;line-height:normal;font-family:Menlo,'DejaVu Sans Mono',consolas,'Courier New',monospace\">┏━━━━━━━━━━━━━━━━━━━━━━━━━━━━━━━━━━━━━━┳━━━━━━━━━━━━━━━━━━━━━━━━━━━━━┳━━━━━━━━━━━━━━━━━┓\n",
              "┃<span style=\"font-weight: bold\"> Layer (type)                         </span>┃<span style=\"font-weight: bold\"> Output Shape                </span>┃<span style=\"font-weight: bold\">         Param # </span>┃\n",
              "┡━━━━━━━━━━━━━━━━━━━━━━━━━━━━━━━━━━━━━━╇━━━━━━━━━━━━━━━━━━━━━━━━━━━━━╇━━━━━━━━━━━━━━━━━┩\n",
              "│ dense_72 (<span style=\"color: #0087ff; text-decoration-color: #0087ff\">Dense</span>)                     │ (<span style=\"color: #00d7ff; text-decoration-color: #00d7ff\">None</span>, <span style=\"color: #00af00; text-decoration-color: #00af00\">128</span>)                 │       <span style=\"color: #00af00; text-decoration-color: #00af00\">2,547,328</span> │\n",
              "├──────────────────────────────────────┼─────────────────────────────┼─────────────────┤\n",
              "│ dropout_48 (<span style=\"color: #0087ff; text-decoration-color: #0087ff\">Dropout</span>)                 │ (<span style=\"color: #00d7ff; text-decoration-color: #00d7ff\">None</span>, <span style=\"color: #00af00; text-decoration-color: #00af00\">128</span>)                 │               <span style=\"color: #00af00; text-decoration-color: #00af00\">0</span> │\n",
              "├──────────────────────────────────────┼─────────────────────────────┼─────────────────┤\n",
              "│ dense_73 (<span style=\"color: #0087ff; text-decoration-color: #0087ff\">Dense</span>)                     │ (<span style=\"color: #00d7ff; text-decoration-color: #00d7ff\">None</span>, <span style=\"color: #00af00; text-decoration-color: #00af00\">64</span>)                  │           <span style=\"color: #00af00; text-decoration-color: #00af00\">8,256</span> │\n",
              "├──────────────────────────────────────┼─────────────────────────────┼─────────────────┤\n",
              "│ dropout_49 (<span style=\"color: #0087ff; text-decoration-color: #0087ff\">Dropout</span>)                 │ (<span style=\"color: #00d7ff; text-decoration-color: #00d7ff\">None</span>, <span style=\"color: #00af00; text-decoration-color: #00af00\">64</span>)                  │               <span style=\"color: #00af00; text-decoration-color: #00af00\">0</span> │\n",
              "├──────────────────────────────────────┼─────────────────────────────┼─────────────────┤\n",
              "│ dense_74 (<span style=\"color: #0087ff; text-decoration-color: #0087ff\">Dense</span>)                     │ (<span style=\"color: #00d7ff; text-decoration-color: #00d7ff\">None</span>, <span style=\"color: #00af00; text-decoration-color: #00af00\">4</span>)                   │             <span style=\"color: #00af00; text-decoration-color: #00af00\">260</span> │\n",
              "└──────────────────────────────────────┴─────────────────────────────┴─────────────────┘\n",
              "</pre>\n"
            ]
          },
          "metadata": {}
        },
        {
          "output_type": "display_data",
          "data": {
            "text/plain": [
              "\u001b[1m Total params: \u001b[0m\u001b[38;5;34m2,555,844\u001b[0m (9.75 MB)\n"
            ],
            "text/html": [
              "<pre style=\"white-space:pre;overflow-x:auto;line-height:normal;font-family:Menlo,'DejaVu Sans Mono',consolas,'Courier New',monospace\"><span style=\"font-weight: bold\"> Total params: </span><span style=\"color: #00af00; text-decoration-color: #00af00\">2,555,844</span> (9.75 MB)\n",
              "</pre>\n"
            ]
          },
          "metadata": {}
        },
        {
          "output_type": "display_data",
          "data": {
            "text/plain": [
              "\u001b[1m Trainable params: \u001b[0m\u001b[38;5;34m2,555,844\u001b[0m (9.75 MB)\n"
            ],
            "text/html": [
              "<pre style=\"white-space:pre;overflow-x:auto;line-height:normal;font-family:Menlo,'DejaVu Sans Mono',consolas,'Courier New',monospace\"><span style=\"font-weight: bold\"> Trainable params: </span><span style=\"color: #00af00; text-decoration-color: #00af00\">2,555,844</span> (9.75 MB)\n",
              "</pre>\n"
            ]
          },
          "metadata": {}
        },
        {
          "output_type": "display_data",
          "data": {
            "text/plain": [
              "\u001b[1m Non-trainable params: \u001b[0m\u001b[38;5;34m0\u001b[0m (0.00 B)\n"
            ],
            "text/html": [
              "<pre style=\"white-space:pre;overflow-x:auto;line-height:normal;font-family:Menlo,'DejaVu Sans Mono',consolas,'Courier New',monospace\"><span style=\"font-weight: bold\"> Non-trainable params: </span><span style=\"color: #00af00; text-decoration-color: #00af00\">0</span> (0.00 B)\n",
              "</pre>\n"
            ]
          },
          "metadata": {}
        }
      ]
    },
    {
      "cell_type": "code",
      "source": [
        "# # prompt: set up a neural network model with an input layer of 19927 cells, and output layer of 2 cells, add dropoff layer if needed, add activation functions. try use keras package to do that.\n",
        "\n",
        "# import tensorflow as tf\n",
        "# from tensorflow import keras\n",
        "# from tensorflow.keras.layers import Dense, Dropout\n",
        "\n",
        "# sparse_model = keras.Sequential([\n",
        "#     Dense(128, activation='relu', input_shape=(19900,), kernel_initializer='he_normal'),  # Input layer with 19927 cells and ReLU activation\n",
        "#     Dropout(0.5),  # Dropout layer for regularization\n",
        "#     Dense(64, activation='relu'),  # Hidden layer with 64 cells and ReLU activation\n",
        "#     Dropout(0.3), # Another dropout layer\n",
        "#     Dense(1, activation='softmax')  # Output layer with 2 cells and sigmoid activation for binary classification\n",
        "# ])\n",
        "\n",
        "# # Compile the model\n",
        "# optimizer = tf.keras.optimizers.Adam(learning_rate=1e-4, clipvalue=1)\n",
        "# # f1_scorer = tf.keras.metrics.F1Score(average='weight')\n",
        "# sparse_model.compile(optimizer=optimizer,\n",
        "#               loss='sparse_categorical_crossentropy', # Use binary_crossentropy for binary classification\n",
        "#               metrics=['f1_score']) # Include custom F1 metric\n",
        "\n",
        "# # Print model summary\n",
        "# sparse_model.summary()\n"
      ],
      "metadata": {
        "colab": {
          "base_uri": "https://localhost:8080/",
          "height": 344
        },
        "id": "vBZfJyBC-Bmj",
        "outputId": "4a64d5ab-523b-4ea9-e169-ae4adc6464ba"
      },
      "execution_count": 101,
      "outputs": [
        {
          "output_type": "stream",
          "name": "stderr",
          "text": [
            "/usr/local/lib/python3.11/dist-packages/keras/src/layers/core/dense.py:87: UserWarning: Do not pass an `input_shape`/`input_dim` argument to a layer. When using Sequential models, prefer using an `Input(shape)` object as the first layer in the model instead.\n",
            "  super().__init__(activity_regularizer=activity_regularizer, **kwargs)\n"
          ]
        },
        {
          "output_type": "display_data",
          "data": {
            "text/plain": [
              "\u001b[1mModel: \"sequential_19\"\u001b[0m\n"
            ],
            "text/html": [
              "<pre style=\"white-space:pre;overflow-x:auto;line-height:normal;font-family:Menlo,'DejaVu Sans Mono',consolas,'Courier New',monospace\"><span style=\"font-weight: bold\">Model: \"sequential_19\"</span>\n",
              "</pre>\n"
            ]
          },
          "metadata": {}
        },
        {
          "output_type": "display_data",
          "data": {
            "text/plain": [
              "┏━━━━━━━━━━━━━━━━━━━━━━━━━━━━━━━━━━━━━━┳━━━━━━━━━━━━━━━━━━━━━━━━━━━━━┳━━━━━━━━━━━━━━━━━┓\n",
              "┃\u001b[1m \u001b[0m\u001b[1mLayer (type)                        \u001b[0m\u001b[1m \u001b[0m┃\u001b[1m \u001b[0m\u001b[1mOutput Shape               \u001b[0m\u001b[1m \u001b[0m┃\u001b[1m \u001b[0m\u001b[1m        Param #\u001b[0m\u001b[1m \u001b[0m┃\n",
              "┡━━━━━━━━━━━━━━━━━━━━━━━━━━━━━━━━━━━━━━╇━━━━━━━━━━━━━━━━━━━━━━━━━━━━━╇━━━━━━━━━━━━━━━━━┩\n",
              "│ dense_57 (\u001b[38;5;33mDense\u001b[0m)                     │ (\u001b[38;5;45mNone\u001b[0m, \u001b[38;5;34m128\u001b[0m)                 │       \u001b[38;5;34m2,547,328\u001b[0m │\n",
              "├──────────────────────────────────────┼─────────────────────────────┼─────────────────┤\n",
              "│ dropout_38 (\u001b[38;5;33mDropout\u001b[0m)                 │ (\u001b[38;5;45mNone\u001b[0m, \u001b[38;5;34m128\u001b[0m)                 │               \u001b[38;5;34m0\u001b[0m │\n",
              "├──────────────────────────────────────┼─────────────────────────────┼─────────────────┤\n",
              "│ dense_58 (\u001b[38;5;33mDense\u001b[0m)                     │ (\u001b[38;5;45mNone\u001b[0m, \u001b[38;5;34m64\u001b[0m)                  │           \u001b[38;5;34m8,256\u001b[0m │\n",
              "├──────────────────────────────────────┼─────────────────────────────┼─────────────────┤\n",
              "│ dropout_39 (\u001b[38;5;33mDropout\u001b[0m)                 │ (\u001b[38;5;45mNone\u001b[0m, \u001b[38;5;34m64\u001b[0m)                  │               \u001b[38;5;34m0\u001b[0m │\n",
              "├──────────────────────────────────────┼─────────────────────────────┼─────────────────┤\n",
              "│ dense_59 (\u001b[38;5;33mDense\u001b[0m)                     │ (\u001b[38;5;45mNone\u001b[0m, \u001b[38;5;34m1\u001b[0m)                   │              \u001b[38;5;34m65\u001b[0m │\n",
              "└──────────────────────────────────────┴─────────────────────────────┴─────────────────┘\n"
            ],
            "text/html": [
              "<pre style=\"white-space:pre;overflow-x:auto;line-height:normal;font-family:Menlo,'DejaVu Sans Mono',consolas,'Courier New',monospace\">┏━━━━━━━━━━━━━━━━━━━━━━━━━━━━━━━━━━━━━━┳━━━━━━━━━━━━━━━━━━━━━━━━━━━━━┳━━━━━━━━━━━━━━━━━┓\n",
              "┃<span style=\"font-weight: bold\"> Layer (type)                         </span>┃<span style=\"font-weight: bold\"> Output Shape                </span>┃<span style=\"font-weight: bold\">         Param # </span>┃\n",
              "┡━━━━━━━━━━━━━━━━━━━━━━━━━━━━━━━━━━━━━━╇━━━━━━━━━━━━━━━━━━━━━━━━━━━━━╇━━━━━━━━━━━━━━━━━┩\n",
              "│ dense_57 (<span style=\"color: #0087ff; text-decoration-color: #0087ff\">Dense</span>)                     │ (<span style=\"color: #00d7ff; text-decoration-color: #00d7ff\">None</span>, <span style=\"color: #00af00; text-decoration-color: #00af00\">128</span>)                 │       <span style=\"color: #00af00; text-decoration-color: #00af00\">2,547,328</span> │\n",
              "├──────────────────────────────────────┼─────────────────────────────┼─────────────────┤\n",
              "│ dropout_38 (<span style=\"color: #0087ff; text-decoration-color: #0087ff\">Dropout</span>)                 │ (<span style=\"color: #00d7ff; text-decoration-color: #00d7ff\">None</span>, <span style=\"color: #00af00; text-decoration-color: #00af00\">128</span>)                 │               <span style=\"color: #00af00; text-decoration-color: #00af00\">0</span> │\n",
              "├──────────────────────────────────────┼─────────────────────────────┼─────────────────┤\n",
              "│ dense_58 (<span style=\"color: #0087ff; text-decoration-color: #0087ff\">Dense</span>)                     │ (<span style=\"color: #00d7ff; text-decoration-color: #00d7ff\">None</span>, <span style=\"color: #00af00; text-decoration-color: #00af00\">64</span>)                  │           <span style=\"color: #00af00; text-decoration-color: #00af00\">8,256</span> │\n",
              "├──────────────────────────────────────┼─────────────────────────────┼─────────────────┤\n",
              "│ dropout_39 (<span style=\"color: #0087ff; text-decoration-color: #0087ff\">Dropout</span>)                 │ (<span style=\"color: #00d7ff; text-decoration-color: #00d7ff\">None</span>, <span style=\"color: #00af00; text-decoration-color: #00af00\">64</span>)                  │               <span style=\"color: #00af00; text-decoration-color: #00af00\">0</span> │\n",
              "├──────────────────────────────────────┼─────────────────────────────┼─────────────────┤\n",
              "│ dense_59 (<span style=\"color: #0087ff; text-decoration-color: #0087ff\">Dense</span>)                     │ (<span style=\"color: #00d7ff; text-decoration-color: #00d7ff\">None</span>, <span style=\"color: #00af00; text-decoration-color: #00af00\">1</span>)                   │              <span style=\"color: #00af00; text-decoration-color: #00af00\">65</span> │\n",
              "└──────────────────────────────────────┴─────────────────────────────┴─────────────────┘\n",
              "</pre>\n"
            ]
          },
          "metadata": {}
        },
        {
          "output_type": "display_data",
          "data": {
            "text/plain": [
              "\u001b[1m Total params: \u001b[0m\u001b[38;5;34m2,555,649\u001b[0m (9.75 MB)\n"
            ],
            "text/html": [
              "<pre style=\"white-space:pre;overflow-x:auto;line-height:normal;font-family:Menlo,'DejaVu Sans Mono',consolas,'Courier New',monospace\"><span style=\"font-weight: bold\"> Total params: </span><span style=\"color: #00af00; text-decoration-color: #00af00\">2,555,649</span> (9.75 MB)\n",
              "</pre>\n"
            ]
          },
          "metadata": {}
        },
        {
          "output_type": "display_data",
          "data": {
            "text/plain": [
              "\u001b[1m Trainable params: \u001b[0m\u001b[38;5;34m2,555,649\u001b[0m (9.75 MB)\n"
            ],
            "text/html": [
              "<pre style=\"white-space:pre;overflow-x:auto;line-height:normal;font-family:Menlo,'DejaVu Sans Mono',consolas,'Courier New',monospace\"><span style=\"font-weight: bold\"> Trainable params: </span><span style=\"color: #00af00; text-decoration-color: #00af00\">2,555,649</span> (9.75 MB)\n",
              "</pre>\n"
            ]
          },
          "metadata": {}
        },
        {
          "output_type": "display_data",
          "data": {
            "text/plain": [
              "\u001b[1m Non-trainable params: \u001b[0m\u001b[38;5;34m0\u001b[0m (0.00 B)\n"
            ],
            "text/html": [
              "<pre style=\"white-space:pre;overflow-x:auto;line-height:normal;font-family:Menlo,'DejaVu Sans Mono',consolas,'Courier New',monospace\"><span style=\"font-weight: bold\"> Non-trainable params: </span><span style=\"color: #00af00; text-decoration-color: #00af00\">0</span> (0.00 B)\n",
              "</pre>\n"
            ]
          },
          "metadata": {}
        }
      ]
    },
    {
      "cell_type": "code",
      "source": [
        "# # prompt: set up a neural network model with an input layer of 19927 cells, and output layer of 2 cells, add dropoff layer if needed, add activation functions. try use keras package to do that. Use weighted F1 score as training metrics (2x in y=(1,1))\n",
        "\n",
        "# import tensorflow as tf\n",
        "# from tensorflow import keras\n",
        "# from tensorflow.keras.layers import Dense, Dropout\n",
        "# from tensorflow.keras.models import Sequential\n",
        "# from sklearn.metrics import f1_score\n",
        "\n",
        "# # Assuming df_train_mri, df_train_meta_quant, df_train_meta_cat, and df_train_y are defined as in the previous code.\n",
        "# # And that X_train and y_train are preprocessed appropriately\n",
        "\n",
        "# # Define the model\n",
        "# model = Sequential()\n",
        "# model.add(Dense(128, activation='relu', input_shape=(19927,))) # Input layer with 19927 cells\n",
        "# model.add(Dropout(0.5)) # Dropout layer for regularization\n",
        "# model.add(Dense(64, activation='relu'))\n",
        "# model.add(Dropout(0.3))\n",
        "# model.add(Dense(2, activation='sigmoid')) # Output layer with 2 cells and softmax activation for classification\n",
        "\n",
        "# model.compile(optimizer='adam',\n",
        "#               loss='categorical_crossentropy', # Or categorical_crossentropy if y_train is one-hot encoded\n",
        "#               metrics=['accuracy'])\n",
        "\n",
        "# # Example training (replace with your actual data and training parameters)\n",
        "# # Assuming X_train and y_train are numpy arrays\n",
        "# # X_train = np.array(...)\n",
        "# # y_train = np.array(...)\n",
        "\n",
        "# # history = model.fit(X_train, y_train, epochs=10, batch_size=32, validation_split=0.2)\n",
        "\n",
        "# # Evaluate the model\n",
        "# # loss, weighted_f1_value = model.evaluate(X_test, y_test)\n",
        "# # print('Weighted F1 Score:', weighted_f1_value)\n"
      ],
      "metadata": {
        "colab": {
          "base_uri": "https://localhost:8080/"
        },
        "id": "XAzy0ec4yg80",
        "outputId": "24f0fd9e-f505-4ce7-838e-d870a85ff785"
      },
      "execution_count": 35,
      "outputs": [
        {
          "output_type": "stream",
          "name": "stderr",
          "text": [
            "/usr/local/lib/python3.11/dist-packages/keras/src/layers/core/dense.py:87: UserWarning: Do not pass an `input_shape`/`input_dim` argument to a layer. When using Sequential models, prefer using an `Input(shape)` object as the first layer in the model instead.\n",
            "  super().__init__(activity_regularizer=activity_regularizer, **kwargs)\n"
          ]
        }
      ]
    },
    {
      "cell_type": "code",
      "source": [
        "## including meta data\n",
        "from tensorflow.keras.callbacks import EarlyStopping\n",
        "# Set up early stopping to monitor validation accuracy and stop when it stops improving\n",
        "early_stopping = EarlyStopping(monitor='val_loss', patience=10, restore_best_weights=True)\n",
        "\n",
        "history = model.fit(X_train, y_train, epochs=100, batch_size=32, validation_split=0.2, callbacks=[early_stopping])"
      ],
      "metadata": {
        "colab": {
          "base_uri": "https://localhost:8080/"
        },
        "id": "gjLg_ZiJ5e0o",
        "outputId": "dc5c8ba4-b9ce-45ec-d244-756697666e13"
      },
      "execution_count": 213,
      "outputs": [
        {
          "output_type": "stream",
          "name": "stdout",
          "text": [
            "Epoch 1/100\n",
            "\u001b[1m25/25\u001b[0m \u001b[32m━━━━━━━━━━━━━━━━━━━━\u001b[0m\u001b[37m\u001b[0m \u001b[1m5s\u001b[0m 87ms/step - f1_score: 0.4883 - loss: 4.4387 - val_f1_score: 0.4530 - val_loss: 4.5896\n",
            "Epoch 2/100\n",
            "\u001b[1m25/25\u001b[0m \u001b[32m━━━━━━━━━━━━━━━━━━━━\u001b[0m\u001b[37m\u001b[0m \u001b[1m2s\u001b[0m 50ms/step - f1_score: 0.6573 - loss: 4.4663 - val_f1_score: 0.4443 - val_loss: 4.6531\n",
            "Epoch 3/100\n",
            "\u001b[1m25/25\u001b[0m \u001b[32m━━━━━━━━━━━━━━━━━━━━\u001b[0m\u001b[37m\u001b[0m \u001b[1m2s\u001b[0m 47ms/step - f1_score: 0.7189 - loss: 4.3012 - val_f1_score: 0.4723 - val_loss: 4.4671\n",
            "Epoch 4/100\n",
            "\u001b[1m25/25\u001b[0m \u001b[32m━━━━━━━━━━━━━━━━━━━━\u001b[0m\u001b[37m\u001b[0m \u001b[1m1s\u001b[0m 51ms/step - f1_score: 0.7453 - loss: 3.8346 - val_f1_score: 0.4823 - val_loss: 4.1784\n",
            "Epoch 5/100\n",
            "\u001b[1m25/25\u001b[0m \u001b[32m━━━━━━━━━━━━━━━━━━━━\u001b[0m\u001b[37m\u001b[0m \u001b[1m2s\u001b[0m 47ms/step - f1_score: 0.7563 - loss: 3.4791 - val_f1_score: 0.4443 - val_loss: 3.8323\n",
            "Epoch 6/100\n",
            "\u001b[1m25/25\u001b[0m \u001b[32m━━━━━━━━━━━━━━━━━━━━\u001b[0m\u001b[37m\u001b[0m \u001b[1m1s\u001b[0m 47ms/step - f1_score: 0.7450 - loss: 3.1081 - val_f1_score: 0.4482 - val_loss: 3.5413\n",
            "Epoch 7/100\n",
            "\u001b[1m25/25\u001b[0m \u001b[32m━━━━━━━━━━━━━━━━━━━━\u001b[0m\u001b[37m\u001b[0m \u001b[1m2s\u001b[0m 57ms/step - f1_score: 0.7530 - loss: 2.7573 - val_f1_score: 0.4583 - val_loss: 3.2898\n",
            "Epoch 8/100\n",
            "\u001b[1m25/25\u001b[0m \u001b[32m━━━━━━━━━━━━━━━━━━━━\u001b[0m\u001b[37m\u001b[0m \u001b[1m2s\u001b[0m 70ms/step - f1_score: 0.7365 - loss: 2.4113 - val_f1_score: 0.4444 - val_loss: 2.9565\n",
            "Epoch 9/100\n",
            "\u001b[1m25/25\u001b[0m \u001b[32m━━━━━━━━━━━━━━━━━━━━\u001b[0m\u001b[37m\u001b[0m \u001b[1m2s\u001b[0m 72ms/step - f1_score: 0.7481 - loss: 2.1502 - val_f1_score: 0.4303 - val_loss: 2.7133\n",
            "Epoch 10/100\n",
            "\u001b[1m25/25\u001b[0m \u001b[32m━━━━━━━━━━━━━━━━━━━━\u001b[0m\u001b[37m\u001b[0m \u001b[1m2s\u001b[0m 47ms/step - f1_score: 0.7686 - loss: 1.8507 - val_f1_score: 0.4335 - val_loss: 2.4992\n",
            "Epoch 11/100\n",
            "\u001b[1m25/25\u001b[0m \u001b[32m━━━━━━━━━━━━━━━━━━━━\u001b[0m\u001b[37m\u001b[0m \u001b[1m1s\u001b[0m 47ms/step - f1_score: 0.7556 - loss: 1.6348 - val_f1_score: 0.4362 - val_loss: 2.2957\n",
            "Epoch 12/100\n",
            "\u001b[1m25/25\u001b[0m \u001b[32m━━━━━━━━━━━━━━━━━━━━\u001b[0m\u001b[37m\u001b[0m \u001b[1m1s\u001b[0m 47ms/step - f1_score: 0.7512 - loss: 1.4632 - val_f1_score: 0.4496 - val_loss: 2.1305\n",
            "Epoch 13/100\n",
            "\u001b[1m25/25\u001b[0m \u001b[32m━━━━━━━━━━━━━━━━━━━━\u001b[0m\u001b[37m\u001b[0m \u001b[1m1s\u001b[0m 47ms/step - f1_score: 0.7826 - loss: 1.2670 - val_f1_score: 0.4790 - val_loss: 1.9784\n",
            "Epoch 14/100\n",
            "\u001b[1m25/25\u001b[0m \u001b[32m━━━━━━━━━━━━━━━━━━━━\u001b[0m\u001b[37m\u001b[0m \u001b[1m1s\u001b[0m 47ms/step - f1_score: 0.7748 - loss: 1.1364 - val_f1_score: 0.4719 - val_loss: 1.8793\n",
            "Epoch 15/100\n",
            "\u001b[1m25/25\u001b[0m \u001b[32m━━━━━━━━━━━━━━━━━━━━\u001b[0m\u001b[37m\u001b[0m \u001b[1m1s\u001b[0m 50ms/step - f1_score: 0.7858 - loss: 1.0210 - val_f1_score: 0.4582 - val_loss: 1.7620\n",
            "Epoch 16/100\n",
            "\u001b[1m25/25\u001b[0m \u001b[32m━━━━━━━━━━━━━━━━━━━━\u001b[0m\u001b[37m\u001b[0m \u001b[1m1s\u001b[0m 47ms/step - f1_score: 0.7766 - loss: 0.9179 - val_f1_score: 0.4707 - val_loss: 1.6570\n",
            "Epoch 17/100\n",
            "\u001b[1m25/25\u001b[0m \u001b[32m━━━━━━━━━━━━━━━━━━━━\u001b[0m\u001b[37m\u001b[0m \u001b[1m1s\u001b[0m 58ms/step - f1_score: 0.7878 - loss: 0.8692 - val_f1_score: 0.4565 - val_loss: 1.6125\n",
            "Epoch 18/100\n",
            "\u001b[1m25/25\u001b[0m \u001b[32m━━━━━━━━━━━━━━━━━━━━\u001b[0m\u001b[37m\u001b[0m \u001b[1m3s\u001b[0m 72ms/step - f1_score: 0.7551 - loss: 0.8236 - val_f1_score: 0.4407 - val_loss: 1.5932\n",
            "Epoch 19/100\n",
            "\u001b[1m25/25\u001b[0m \u001b[32m━━━━━━━━━━━━━━━━━━━━\u001b[0m\u001b[37m\u001b[0m \u001b[1m2s\u001b[0m 47ms/step - f1_score: 0.7839 - loss: 0.8060 - val_f1_score: 0.4321 - val_loss: 1.6098\n",
            "Epoch 20/100\n",
            "\u001b[1m25/25\u001b[0m \u001b[32m━━━━━━━━━━━━━━━━━━━━\u001b[0m\u001b[37m\u001b[0m \u001b[1m1s\u001b[0m 48ms/step - f1_score: 0.7928 - loss: 0.8361 - val_f1_score: 0.4585 - val_loss: 1.5541\n",
            "Epoch 21/100\n",
            "\u001b[1m25/25\u001b[0m \u001b[32m━━━━━━━━━━━━━━━━━━━━\u001b[0m\u001b[37m\u001b[0m \u001b[1m1s\u001b[0m 48ms/step - f1_score: 0.7766 - loss: 0.7359 - val_f1_score: 0.4352 - val_loss: 1.5457\n",
            "Epoch 22/100\n",
            "\u001b[1m25/25\u001b[0m \u001b[32m━━━━━━━━━━━━━━━━━━━━\u001b[0m\u001b[37m\u001b[0m \u001b[1m1s\u001b[0m 50ms/step - f1_score: 0.7687 - loss: 0.7055 - val_f1_score: 0.4607 - val_loss: 1.5258\n",
            "Epoch 23/100\n",
            "\u001b[1m25/25\u001b[0m \u001b[32m━━━━━━━━━━━━━━━━━━━━\u001b[0m\u001b[37m\u001b[0m \u001b[1m1s\u001b[0m 47ms/step - f1_score: 0.7686 - loss: 0.6656 - val_f1_score: 0.4713 - val_loss: 1.4911\n",
            "Epoch 24/100\n",
            "\u001b[1m25/25\u001b[0m \u001b[32m━━━━━━━━━━━━━━━━━━━━\u001b[0m\u001b[37m\u001b[0m \u001b[1m1s\u001b[0m 48ms/step - f1_score: 0.7801 - loss: 0.6434 - val_f1_score: 0.4721 - val_loss: 1.4892\n",
            "Epoch 25/100\n",
            "\u001b[1m25/25\u001b[0m \u001b[32m━━━━━━━━━━━━━━━━━━━━\u001b[0m\u001b[37m\u001b[0m \u001b[1m1s\u001b[0m 46ms/step - f1_score: 0.7770 - loss: 0.6262 - val_f1_score: 0.4830 - val_loss: 1.4330\n",
            "Epoch 26/100\n",
            "\u001b[1m25/25\u001b[0m \u001b[32m━━━━━━━━━━━━━━━━━━━━\u001b[0m\u001b[37m\u001b[0m \u001b[1m1s\u001b[0m 58ms/step - f1_score: 0.7835 - loss: 0.6039 - val_f1_score: 0.4720 - val_loss: 1.3640\n",
            "Epoch 27/100\n",
            "\u001b[1m25/25\u001b[0m \u001b[32m━━━━━━━━━━━━━━━━━━━━\u001b[0m\u001b[37m\u001b[0m \u001b[1m2s\u001b[0m 69ms/step - f1_score: 0.7825 - loss: 0.5402 - val_f1_score: 0.4627 - val_loss: 1.3035\n",
            "Epoch 28/100\n",
            "\u001b[1m25/25\u001b[0m \u001b[32m━━━━━━━━━━━━━━━━━━━━\u001b[0m\u001b[37m\u001b[0m \u001b[1m2s\u001b[0m 54ms/step - f1_score: 0.7812 - loss: 0.5309 - val_f1_score: 0.4560 - val_loss: 1.3071\n",
            "Epoch 29/100\n",
            "\u001b[1m25/25\u001b[0m \u001b[32m━━━━━━━━━━━━━━━━━━━━\u001b[0m\u001b[37m\u001b[0m \u001b[1m1s\u001b[0m 47ms/step - f1_score: 0.7870 - loss: 0.5146 - val_f1_score: 0.4968 - val_loss: 1.2945\n",
            "Epoch 30/100\n",
            "\u001b[1m25/25\u001b[0m \u001b[32m━━━━━━━━━━━━━━━━━━━━\u001b[0m\u001b[37m\u001b[0m \u001b[1m1s\u001b[0m 47ms/step - f1_score: 0.7958 - loss: 0.5049 - val_f1_score: 0.4873 - val_loss: 1.2740\n",
            "Epoch 31/100\n",
            "\u001b[1m25/25\u001b[0m \u001b[32m━━━━━━━━━━━━━━━━━━━━\u001b[0m\u001b[37m\u001b[0m \u001b[1m1s\u001b[0m 51ms/step - f1_score: 0.7623 - loss: 0.5263 - val_f1_score: 0.4793 - val_loss: 1.3108\n",
            "Epoch 32/100\n",
            "\u001b[1m25/25\u001b[0m \u001b[32m━━━━━━━━━━━━━━━━━━━━\u001b[0m\u001b[37m\u001b[0m \u001b[1m1s\u001b[0m 52ms/step - f1_score: 0.7812 - loss: 0.6253 - val_f1_score: 0.4864 - val_loss: 1.5125\n",
            "Epoch 33/100\n",
            "\u001b[1m25/25\u001b[0m \u001b[32m━━━━━━━━━━━━━━━━━━━━\u001b[0m\u001b[37m\u001b[0m \u001b[1m2s\u001b[0m 46ms/step - f1_score: 0.7747 - loss: 0.7226 - val_f1_score: 0.5332 - val_loss: 1.5668\n",
            "Epoch 34/100\n",
            "\u001b[1m25/25\u001b[0m \u001b[32m━━━━━━━━━━━━━━━━━━━━\u001b[0m\u001b[37m\u001b[0m \u001b[1m1s\u001b[0m 47ms/step - f1_score: 0.7797 - loss: 0.7752 - val_f1_score: 0.4880 - val_loss: 1.6207\n",
            "Epoch 35/100\n",
            "\u001b[1m25/25\u001b[0m \u001b[32m━━━━━━━━━━━━━━━━━━━━\u001b[0m\u001b[37m\u001b[0m \u001b[1m2s\u001b[0m 69ms/step - f1_score: 0.7861 - loss: 0.7925 - val_f1_score: 0.4998 - val_loss: 1.6729\n",
            "Epoch 36/100\n",
            "\u001b[1m25/25\u001b[0m \u001b[32m━━━━━━━━━━━━━━━━━━━━\u001b[0m\u001b[37m\u001b[0m \u001b[1m3s\u001b[0m 88ms/step - f1_score: 0.7770 - loss: 0.7841 - val_f1_score: 0.5176 - val_loss: 1.6732\n",
            "Epoch 37/100\n",
            "\u001b[1m25/25\u001b[0m \u001b[32m━━━━━━━━━━━━━━━━━━━━\u001b[0m\u001b[37m\u001b[0m \u001b[1m2s\u001b[0m 46ms/step - f1_score: 0.7846 - loss: 0.7738 - val_f1_score: 0.4511 - val_loss: 1.7400\n",
            "Epoch 38/100\n",
            "\u001b[1m25/25\u001b[0m \u001b[32m━━━━━━━━━━━━━━━━━━━━\u001b[0m\u001b[37m\u001b[0m \u001b[1m1s\u001b[0m 47ms/step - f1_score: 0.7980 - loss: 0.8310 - val_f1_score: 0.4599 - val_loss: 1.8646\n",
            "Epoch 39/100\n",
            "\u001b[1m25/25\u001b[0m \u001b[32m━━━━━━━━━━━━━━━━━━━━\u001b[0m\u001b[37m\u001b[0m \u001b[1m1s\u001b[0m 46ms/step - f1_score: 0.7817 - loss: 0.9943 - val_f1_score: 0.4712 - val_loss: 2.3230\n",
            "Epoch 40/100\n",
            "\u001b[1m25/25\u001b[0m \u001b[32m━━━━━━━━━━━━━━━━━━━━\u001b[0m\u001b[37m\u001b[0m \u001b[1m1s\u001b[0m 49ms/step - f1_score: 0.7893 - loss: 1.2278 - val_f1_score: 0.5000 - val_loss: 2.3522\n"
          ]
        }
      ]
    },
    {
      "cell_type": "code",
      "source": [
        "## only mri data\n",
        "history = model.fit(X_train, y_train, epochs=100, batch_size=64, validation_split=0.2)"
      ],
      "metadata": {
        "colab": {
          "base_uri": "https://localhost:8080/",
          "height": 339
        },
        "id": "Bquk7fIayhS-",
        "outputId": "a6336fc7-8739-49b5-aa66-5a3ecccce5d5"
      },
      "execution_count": 140,
      "outputs": [
        {
          "output_type": "stream",
          "name": "stdout",
          "text": [
            "Epoch 1/100\n"
          ]
        },
        {
          "output_type": "error",
          "ename": "AttributeError",
          "evalue": "'SymbolicTensor' object has no attribute 'numpy'",
          "traceback": [
            "\u001b[0;31m---------------------------------------------------------------------------\u001b[0m",
            "\u001b[0;31mAttributeError\u001b[0m                            Traceback (most recent call last)",
            "\u001b[0;32m<ipython-input-140-3e72abe27a7c>\u001b[0m in \u001b[0;36m<cell line: 0>\u001b[0;34m()\u001b[0m\n\u001b[1;32m      1\u001b[0m \u001b[0;31m## only mri data\u001b[0m\u001b[0;34m\u001b[0m\u001b[0;34m\u001b[0m\u001b[0m\n\u001b[0;32m----> 2\u001b[0;31m \u001b[0mhistory\u001b[0m \u001b[0;34m=\u001b[0m \u001b[0mmodel\u001b[0m\u001b[0;34m.\u001b[0m\u001b[0mfit\u001b[0m\u001b[0;34m(\u001b[0m\u001b[0mX_train\u001b[0m\u001b[0;34m,\u001b[0m \u001b[0my_train\u001b[0m\u001b[0;34m,\u001b[0m \u001b[0mepochs\u001b[0m\u001b[0;34m=\u001b[0m\u001b[0;36m100\u001b[0m\u001b[0;34m,\u001b[0m \u001b[0mbatch_size\u001b[0m\u001b[0;34m=\u001b[0m\u001b[0;36m64\u001b[0m\u001b[0;34m,\u001b[0m \u001b[0mvalidation_split\u001b[0m\u001b[0;34m=\u001b[0m\u001b[0;36m0.2\u001b[0m\u001b[0;34m)\u001b[0m\u001b[0;34m\u001b[0m\u001b[0;34m\u001b[0m\u001b[0m\n\u001b[0m",
            "\u001b[0;32m/usr/local/lib/python3.11/dist-packages/keras/src/utils/traceback_utils.py\u001b[0m in \u001b[0;36merror_handler\u001b[0;34m(*args, **kwargs)\u001b[0m\n\u001b[1;32m    120\u001b[0m             \u001b[0;31m# To get the full stack trace, call:\u001b[0m\u001b[0;34m\u001b[0m\u001b[0;34m\u001b[0m\u001b[0m\n\u001b[1;32m    121\u001b[0m             \u001b[0;31m# `keras.config.disable_traceback_filtering()`\u001b[0m\u001b[0;34m\u001b[0m\u001b[0;34m\u001b[0m\u001b[0m\n\u001b[0;32m--> 122\u001b[0;31m             \u001b[0;32mraise\u001b[0m \u001b[0me\u001b[0m\u001b[0;34m.\u001b[0m\u001b[0mwith_traceback\u001b[0m\u001b[0;34m(\u001b[0m\u001b[0mfiltered_tb\u001b[0m\u001b[0;34m)\u001b[0m \u001b[0;32mfrom\u001b[0m \u001b[0;32mNone\u001b[0m\u001b[0;34m\u001b[0m\u001b[0;34m\u001b[0m\u001b[0m\n\u001b[0m\u001b[1;32m    123\u001b[0m         \u001b[0;32mfinally\u001b[0m\u001b[0;34m:\u001b[0m\u001b[0;34m\u001b[0m\u001b[0;34m\u001b[0m\u001b[0m\n\u001b[1;32m    124\u001b[0m             \u001b[0;32mdel\u001b[0m \u001b[0mfiltered_tb\u001b[0m\u001b[0;34m\u001b[0m\u001b[0;34m\u001b[0m\u001b[0m\n",
            "\u001b[0;32m<ipython-input-137-e0eff64c6007>\u001b[0m in \u001b[0;36mcustom_f1\u001b[0;34m(y_true, y_pred)\u001b[0m\n\u001b[1;32m     27\u001b[0m \u001b[0;34m\u001b[0m\u001b[0m\n\u001b[1;32m     28\u001b[0m     \u001b[0;31m# Reshape for sklearn f1_score\u001b[0m\u001b[0;34m\u001b[0m\u001b[0;34m\u001b[0m\u001b[0m\n\u001b[0;32m---> 29\u001b[0;31m     \u001b[0my_true_reshaped\u001b[0m \u001b[0;34m=\u001b[0m \u001b[0mtf\u001b[0m\u001b[0;34m.\u001b[0m\u001b[0mreshape\u001b[0m\u001b[0;34m(\u001b[0m\u001b[0my_true\u001b[0m\u001b[0;34m,\u001b[0m \u001b[0;34m[\u001b[0m\u001b[0;34m-\u001b[0m\u001b[0;36m1\u001b[0m\u001b[0;34m]\u001b[0m\u001b[0;34m)\u001b[0m\u001b[0;34m.\u001b[0m\u001b[0mnumpy\u001b[0m\u001b[0;34m(\u001b[0m\u001b[0;34m)\u001b[0m\u001b[0;34m\u001b[0m\u001b[0;34m\u001b[0m\u001b[0m\n\u001b[0m\u001b[1;32m     30\u001b[0m     \u001b[0my_pred_reshaped\u001b[0m \u001b[0;34m=\u001b[0m \u001b[0mtf\u001b[0m\u001b[0;34m.\u001b[0m\u001b[0mreshape\u001b[0m\u001b[0;34m(\u001b[0m\u001b[0my_pred\u001b[0m\u001b[0;34m,\u001b[0m \u001b[0;34m[\u001b[0m\u001b[0;34m-\u001b[0m\u001b[0;36m1\u001b[0m\u001b[0;34m]\u001b[0m\u001b[0;34m)\u001b[0m\u001b[0;34m.\u001b[0m\u001b[0mnumpy\u001b[0m\u001b[0;34m(\u001b[0m\u001b[0;34m)\u001b[0m\u001b[0;34m\u001b[0m\u001b[0;34m\u001b[0m\u001b[0m\n\u001b[1;32m     31\u001b[0m     \u001b[0mweights_reshaped\u001b[0m \u001b[0;34m=\u001b[0m \u001b[0mtf\u001b[0m\u001b[0;34m.\u001b[0m\u001b[0mreshape\u001b[0m\u001b[0;34m(\u001b[0m\u001b[0mweights\u001b[0m\u001b[0;34m,\u001b[0m \u001b[0;34m[\u001b[0m\u001b[0;34m-\u001b[0m\u001b[0;36m1\u001b[0m\u001b[0;34m]\u001b[0m\u001b[0;34m)\u001b[0m\u001b[0;34m.\u001b[0m\u001b[0mnumpy\u001b[0m\u001b[0;34m(\u001b[0m\u001b[0;34m)\u001b[0m\u001b[0;34m\u001b[0m\u001b[0;34m\u001b[0m\u001b[0m\n",
            "\u001b[0;31mAttributeError\u001b[0m: 'SymbolicTensor' object has no attribute 'numpy'"
          ]
        }
      ]
    },
    {
      "cell_type": "code",
      "source": [
        "## only mri data with single y output\n",
        "# history = sparse_model.fit(X_train, y_train, epochs=50, batch_size=64, validation_split=0.2)"
      ],
      "metadata": {
        "id": "l7-_H5D7-btn"
      },
      "execution_count": 214,
      "outputs": []
    },
    {
      "cell_type": "code",
      "source": [
        "loss, f1_score = model.evaluate(X_val, y_val)\n",
        "print(f1_score)"
      ],
      "metadata": {
        "colab": {
          "base_uri": "https://localhost:8080/"
        },
        "id": "EoVzVMYZ5zbR",
        "outputId": "d35734fd-017e-4608-87a5-6bb5e7b19998"
      },
      "execution_count": 215,
      "outputs": [
        {
          "output_type": "stream",
          "name": "stdout",
          "text": [
            "\u001b[1m8/8\u001b[0m \u001b[32m━━━━━━━━━━━━━━━━━━━━\u001b[0m\u001b[37m\u001b[0m \u001b[1m0s\u001b[0m 13ms/step - f1_score: 0.5236 - loss: 1.2395\n",
            "tf.Tensor([0.7130435  0.31081074], shape=(2,), dtype=float32)\n"
          ]
        }
      ]
    },
    {
      "cell_type": "code",
      "source": [
        "# prompt: predict a test set X_val and return the y_pred output\n",
        "\n",
        "y_pred = model.predict(X_val)\n",
        "y_pred"
      ],
      "metadata": {
        "colab": {
          "base_uri": "https://localhost:8080/"
        },
        "id": "m6feHc4akurR",
        "outputId": "6ce179cf-d74f-452c-c7c9-51af5bd7269b"
      },
      "execution_count": 221,
      "outputs": [
        {
          "output_type": "stream",
          "name": "stdout",
          "text": [
            "\u001b[1m8/8\u001b[0m \u001b[32m━━━━━━━━━━━━━━━━━━━━\u001b[0m\u001b[37m\u001b[0m \u001b[1m0s\u001b[0m 16ms/step\n"
          ]
        },
        {
          "output_type": "execute_result",
          "data": {
            "text/plain": [
              "array([[0.45012036, 0.6245119 ],\n",
              "       [0.19051644, 0.39136204],\n",
              "       [0.726145  , 0.22643347],\n",
              "       [0.726012  , 0.2812463 ],\n",
              "       [0.82815355, 0.18551928],\n",
              "       [0.75762916, 0.32699674],\n",
              "       [0.7137311 , 0.80004567],\n",
              "       [0.38594168, 0.27984872],\n",
              "       [0.63901997, 0.08362451],\n",
              "       [0.7787992 , 0.15354931],\n",
              "       [0.8769829 , 0.65035135],\n",
              "       [0.77857727, 0.68517995],\n",
              "       [0.95726097, 0.8579606 ],\n",
              "       [0.52710074, 0.3931329 ],\n",
              "       [0.5795346 , 0.6319059 ],\n",
              "       [0.76435924, 0.71583474],\n",
              "       [0.8506829 , 0.79897445],\n",
              "       [0.5378481 , 0.72258604],\n",
              "       [0.34419382, 0.2747322 ],\n",
              "       [0.9289797 , 0.8571267 ],\n",
              "       [0.6795474 , 0.08179553],\n",
              "       [0.8016355 , 0.35278285],\n",
              "       [0.6306865 , 0.3100822 ],\n",
              "       [0.2820302 , 0.88591665],\n",
              "       [0.9134137 , 0.40096116],\n",
              "       [0.84276515, 0.14927608],\n",
              "       [0.6098923 , 0.90851724],\n",
              "       [0.8858541 , 0.6041616 ],\n",
              "       [0.90122265, 0.06754637],\n",
              "       [0.36660528, 0.57506144],\n",
              "       [0.7875944 , 0.32188755],\n",
              "       [0.820074  , 0.16358301],\n",
              "       [0.6858143 , 0.3185257 ],\n",
              "       [0.8543135 , 0.149422  ],\n",
              "       [0.23218764, 0.37307423],\n",
              "       [0.55129206, 0.6282827 ],\n",
              "       [0.8266249 , 0.2889947 ],\n",
              "       [0.749021  , 0.24270684],\n",
              "       [0.7637704 , 0.7889972 ],\n",
              "       [0.6845487 , 0.3813707 ],\n",
              "       [0.691974  , 0.20017846],\n",
              "       [0.4566522 , 0.79266137],\n",
              "       [0.73265177, 0.61234206],\n",
              "       [0.747524  , 0.29558375],\n",
              "       [0.64032507, 0.65776104],\n",
              "       [0.7465734 , 0.70378363],\n",
              "       [0.7323963 , 0.34223416],\n",
              "       [0.78194827, 0.2444098 ],\n",
              "       [0.7811869 , 0.8431667 ],\n",
              "       [0.82142377, 0.706069  ],\n",
              "       [0.22261506, 0.17188667],\n",
              "       [0.571449  , 0.5615256 ],\n",
              "       [0.40333062, 0.32675225],\n",
              "       [0.21337122, 0.7408396 ],\n",
              "       [0.32097974, 0.37220645],\n",
              "       [0.71275365, 0.40350226],\n",
              "       [0.76577115, 0.51630336],\n",
              "       [0.06316612, 0.2505707 ],\n",
              "       [0.5746771 , 0.5864283 ],\n",
              "       [0.332742  , 0.5712602 ],\n",
              "       [0.4226207 , 0.26461396],\n",
              "       [0.4277431 , 0.57764614],\n",
              "       [0.44760957, 0.30335188],\n",
              "       [0.38623536, 0.29610667],\n",
              "       [0.21523103, 0.2217368 ],\n",
              "       [0.21240751, 0.2851035 ],\n",
              "       [0.6147083 , 0.13105372],\n",
              "       [0.59747446, 0.60881096],\n",
              "       [0.908567  , 0.5383272 ],\n",
              "       [0.23975371, 0.26045257],\n",
              "       [0.5242132 , 0.21467756],\n",
              "       [0.4968843 , 0.19178383],\n",
              "       [0.8851773 , 0.77939177],\n",
              "       [0.8115621 , 0.80839944],\n",
              "       [0.61881787, 0.6272118 ],\n",
              "       [0.6856458 , 0.32255143],\n",
              "       [0.4215786 , 0.49487764],\n",
              "       [0.32078603, 0.5628013 ],\n",
              "       [0.76736635, 0.7390306 ],\n",
              "       [0.7799051 , 0.5146224 ],\n",
              "       [0.18116228, 0.09024648],\n",
              "       [0.88397896, 0.40625113],\n",
              "       [0.7720043 , 0.50603414],\n",
              "       [0.37411073, 0.5932556 ],\n",
              "       [0.5185678 , 0.61410064],\n",
              "       [0.6263968 , 0.22068794],\n",
              "       [0.72936785, 0.34358135],\n",
              "       [0.6013842 , 0.647855  ],\n",
              "       [0.84062654, 0.15549007],\n",
              "       [0.47398058, 0.19167225],\n",
              "       [0.889895  , 0.05149395],\n",
              "       [0.715378  , 0.50231755],\n",
              "       [0.3529439 , 0.29901338],\n",
              "       [0.4704693 , 0.0900897 ],\n",
              "       [0.39048785, 0.51373786],\n",
              "       [0.6485943 , 0.12973511],\n",
              "       [0.8127175 , 0.61479384],\n",
              "       [0.7720678 , 0.6245405 ],\n",
              "       [0.80405504, 0.47488418],\n",
              "       [0.3047719 , 0.38439992],\n",
              "       [0.30668294, 0.12883566],\n",
              "       [0.5842199 , 0.23395057],\n",
              "       [0.5664228 , 0.63065094],\n",
              "       [0.7078468 , 0.854356  ],\n",
              "       [0.6717698 , 0.60037184],\n",
              "       [0.48007163, 0.58147943],\n",
              "       [0.81020457, 0.80761933],\n",
              "       [0.5603182 , 0.27487335],\n",
              "       [0.73023987, 0.53664833],\n",
              "       [0.79085   , 0.17673706],\n",
              "       [0.58293384, 0.58532614],\n",
              "       [0.51810014, 0.54481405],\n",
              "       [0.55784535, 0.24038917],\n",
              "       [0.6852459 , 0.68561155],\n",
              "       [0.82110965, 0.7188556 ],\n",
              "       [0.80455685, 0.5263338 ],\n",
              "       [0.5707973 , 0.5510818 ],\n",
              "       [0.71775514, 0.7044117 ],\n",
              "       [0.8170046 , 0.72453433],\n",
              "       [0.8248733 , 0.4885934 ],\n",
              "       [0.8252006 , 0.60809714],\n",
              "       [0.9827818 , 0.29217297],\n",
              "       [0.92893475, 0.95451105],\n",
              "       [0.22627419, 0.11295349],\n",
              "       [0.6361032 , 0.08224805],\n",
              "       [0.36891454, 0.77101845],\n",
              "       [0.70693445, 0.41469255],\n",
              "       [0.72722584, 0.50560105],\n",
              "       [0.4266937 , 0.34415284],\n",
              "       [0.27950668, 0.3758172 ],\n",
              "       [0.22365077, 0.7890872 ],\n",
              "       [0.710174  , 0.42406356],\n",
              "       [0.5574958 , 0.14489804],\n",
              "       [0.8042838 , 0.46703705],\n",
              "       [0.60977733, 0.7046695 ],\n",
              "       [0.5057021 , 0.6892188 ],\n",
              "       [0.62348163, 0.57919866],\n",
              "       [0.22452718, 0.21291529],\n",
              "       [0.5396577 , 0.66195136],\n",
              "       [0.6264102 , 0.29232946],\n",
              "       [0.48506865, 0.74761486],\n",
              "       [0.31446284, 0.72141033],\n",
              "       [0.17146198, 0.1596445 ],\n",
              "       [0.39883137, 0.6594386 ],\n",
              "       [0.7385325 , 0.64967954],\n",
              "       [0.59049845, 0.24422196],\n",
              "       [0.79158306, 0.35720667],\n",
              "       [0.6645097 , 0.33082694],\n",
              "       [0.46491608, 0.2962615 ],\n",
              "       [0.510415  , 0.37403995],\n",
              "       [0.56045043, 0.67508286],\n",
              "       [0.33559275, 0.32139212],\n",
              "       [0.64597017, 0.7587827 ],\n",
              "       [0.32218385, 0.718553  ],\n",
              "       [0.65044755, 0.34807783],\n",
              "       [0.47906166, 0.4539425 ],\n",
              "       [0.90454465, 0.3078337 ],\n",
              "       [0.66911656, 0.6166004 ],\n",
              "       [0.40632132, 0.27425882],\n",
              "       [0.8779171 , 0.48399115],\n",
              "       [0.34626868, 0.47755632],\n",
              "       [0.8774628 , 0.13958615],\n",
              "       [0.53078026, 0.7224242 ],\n",
              "       [0.5351913 , 0.29598492],\n",
              "       [0.49609184, 0.28306657],\n",
              "       [0.40912664, 0.20185067],\n",
              "       [0.44272003, 0.7672508 ],\n",
              "       [0.7554432 , 0.504248  ],\n",
              "       [0.9218763 , 0.06010071],\n",
              "       [0.580311  , 0.23008895],\n",
              "       [0.8174741 , 0.48762548],\n",
              "       [0.33940777, 0.5530446 ],\n",
              "       [0.8274987 , 0.48824725],\n",
              "       [0.5109676 , 0.1848688 ],\n",
              "       [0.5661413 , 0.68793523],\n",
              "       [0.62584525, 0.8208517 ],\n",
              "       [0.6965061 , 0.7318252 ],\n",
              "       [0.86498183, 0.18690355],\n",
              "       [0.5760283 , 0.1804502 ],\n",
              "       [0.50695336, 0.4535703 ],\n",
              "       [0.31415385, 0.76071227],\n",
              "       [0.64585793, 0.51558477],\n",
              "       [0.66267776, 0.76271933],\n",
              "       [0.24223861, 0.45345402],\n",
              "       [0.3668308 , 0.50026613],\n",
              "       [0.6692526 , 0.59410334],\n",
              "       [0.6537813 , 0.5097139 ],\n",
              "       [0.640431  , 0.73124844],\n",
              "       [0.607731  , 0.5540387 ],\n",
              "       [0.15074626, 0.12161078],\n",
              "       [0.88509005, 0.4735787 ],\n",
              "       [0.36113772, 0.5852132 ],\n",
              "       [0.788849  , 0.6697219 ],\n",
              "       [0.18446897, 0.3021345 ],\n",
              "       [0.37204432, 0.3992395 ],\n",
              "       [0.94704384, 0.5755364 ],\n",
              "       [0.6024541 , 0.5010785 ],\n",
              "       [0.85039884, 0.65813965],\n",
              "       [0.8211932 , 0.6129761 ],\n",
              "       [0.5391691 , 0.08270389],\n",
              "       [0.5143369 , 0.35188875],\n",
              "       [0.493825  , 0.24638227],\n",
              "       [0.29615116, 0.39632326],\n",
              "       [0.23104791, 0.39803916],\n",
              "       [0.8486984 , 0.716917  ],\n",
              "       [0.28014615, 0.10422846],\n",
              "       [0.13778475, 0.5056529 ],\n",
              "       [0.11951335, 0.6326947 ],\n",
              "       [0.54396075, 0.71739316],\n",
              "       [0.73249453, 0.19013172],\n",
              "       [0.46018824, 0.14223886],\n",
              "       [0.76563257, 0.19974218],\n",
              "       [0.73376554, 0.5660625 ],\n",
              "       [0.49784645, 0.5874537 ],\n",
              "       [0.72169787, 0.67748094],\n",
              "       [0.3080552 , 0.3042791 ],\n",
              "       [0.90894663, 0.12177502],\n",
              "       [0.6399426 , 0.5260344 ],\n",
              "       [0.50709486, 0.55827814],\n",
              "       [0.8098657 , 0.60683817],\n",
              "       [0.37819177, 0.1647032 ],\n",
              "       [0.37372887, 0.6820437 ],\n",
              "       [0.9403927 , 0.22970963],\n",
              "       [0.66588527, 0.62119466],\n",
              "       [0.5099661 , 0.49244204],\n",
              "       [0.6772664 , 0.42296138],\n",
              "       [0.58068925, 0.08348463],\n",
              "       [0.27884737, 0.10498368],\n",
              "       [0.62928075, 0.4061694 ],\n",
              "       [0.39412883, 0.6752109 ],\n",
              "       [0.7719861 , 0.48222476],\n",
              "       [0.61357754, 0.37114224],\n",
              "       [0.6586759 , 0.36458027],\n",
              "       [0.59690505, 0.45342025],\n",
              "       [0.56563157, 0.30709964],\n",
              "       [0.47864792, 0.65841466],\n",
              "       [0.9278316 , 0.14012916],\n",
              "       [0.8359211 , 0.54348266],\n",
              "       [0.884366  , 0.8288655 ],\n",
              "       [0.49546975, 0.1133734 ],\n",
              "       [0.22798479, 0.09253194],\n",
              "       [0.63296676, 0.54589766],\n",
              "       [0.80166316, 0.19202438]], dtype=float32)"
            ]
          },
          "metadata": {},
          "execution_count": 221
        }
      ]
    },
    {
      "cell_type": "code",
      "source": [
        "# prompt: help me calculate the accuracy score of y_pred and y_val for each column separately\n",
        "\n",
        "from sklearn.metrics import accuracy_score\n",
        "\n",
        "# Assuming y_pred and y_val are numpy arrays\n",
        "# and y_pred contains probabilities for each class\n",
        "\n",
        "# Convert probabilities to class labels (0 or 1)\n",
        "y_pred_classes = (y_pred > 0.5).astype(int)\n",
        "print(y_val.shape)\n",
        "print(y_pred_classes.shape)\n",
        "\n",
        "# Calculate accuracy for each column separately\n",
        "for i in range(y_val.shape[1]):\n",
        "    accuracy = accuracy_score(y_val[:, i], y_pred_classes[:, i])\n",
        "    print(f\"Accuracy for column {i}: {accuracy}\")\n",
        "\n",
        "## weighted F1 score\n",
        "# print(y_val.shape)\n",
        "# print(y_pred_classes.shape)\n",
        "y_val_tensor = tf.convert_to_tensor(y_val, dtype=tf.float32)\n",
        "y_pred_tensor = tf.convert_to_tensor(y_pred_classes, dtype=tf.float32)\n",
        "f1 = custom_f1(y_val_tensor, y_pred_tensor)\n",
        "print(f\"Weighted F1 Score: {f1}\")"
      ],
      "metadata": {
        "colab": {
          "base_uri": "https://localhost:8080/"
        },
        "id": "b1aVbKoxRXWH",
        "outputId": "7dcd1388-6e1f-4ad0-9e20-560a2dfe09ae"
      },
      "execution_count": 225,
      "outputs": [
        {
          "output_type": "stream",
          "name": "stdout",
          "text": [
            "(243, 2)\n",
            "(243, 2)\n",
            "Accuracy for column 0: 0.6008230452674898\n",
            "Accuracy for column 1: 0.49382716049382713\n",
            "(243,)\n",
            "(243,)\n",
            "(243,)\n",
            "Weighted F1 Score: 0.2971913925499785\n"
          ]
        }
      ]
    },
    {
      "cell_type": "code",
      "source": [],
      "metadata": {
        "colab": {
          "base_uri": "https://localhost:8080/"
        },
        "id": "MMu3lm3zk7Hx",
        "outputId": "0257ca5d-44bf-4a7d-f145-be48201489ba"
      },
      "execution_count": 223,
      "outputs": [
        {
          "output_type": "stream",
          "name": "stdout",
          "text": [
            "(243, 2)\n",
            "(243, 2)\n",
            "(243,)\n",
            "(243,)\n",
            "(243,)\n"
          ]
        },
        {
          "output_type": "execute_result",
          "data": {
            "text/plain": [
              "0.2971913925499785"
            ]
          },
          "metadata": {},
          "execution_count": 223
        }
      ]
    },
    {
      "cell_type": "code",
      "source": [],
      "metadata": {
        "id": "34QX_plgE04B"
      },
      "execution_count": null,
      "outputs": []
    },
    {
      "cell_type": "markdown",
      "source": [
        "## Convolutional Neural Network"
      ],
      "metadata": {
        "id": "na_o32wSEzyS"
      }
    },
    {
      "cell_type": "code",
      "source": [],
      "metadata": {
        "id": "LYssfVU4E1ku"
      },
      "execution_count": null,
      "outputs": []
    },
    {
      "cell_type": "code",
      "source": [],
      "metadata": {
        "id": "T_Nl-7m1E1xa"
      },
      "execution_count": null,
      "outputs": []
    },
    {
      "cell_type": "code",
      "source": [],
      "metadata": {
        "id": "vehBqXiaE1-c"
      },
      "execution_count": null,
      "outputs": []
    }
  ]
}