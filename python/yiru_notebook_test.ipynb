{
  "nbformat": 4,
  "nbformat_minor": 0,
  "metadata": {
    "colab": {
      "provenance": [],
      "authorship_tag": "ABX9TyObDCJ8fvBOD5aN325FES5S",
      "include_colab_link": true
    },
    "kernelspec": {
      "name": "python3",
      "display_name": "Python 3"
    },
    "language_info": {
      "name": "python"
    }
  },
  "cells": [
    {
      "cell_type": "markdown",
      "metadata": {
        "id": "view-in-github",
        "colab_type": "text"
      },
      "source": [
        "<a href=\"https://colab.research.google.com/github/jchen0000/widsdatathon2025/blob/main/python/yiru_notebook_test.ipynb\" target=\"_parent\"><img src=\"https://colab.research.google.com/assets/colab-badge.svg\" alt=\"Open In Colab\"/></a>"
      ]
    },
    {
      "cell_type": "code",
      "execution_count": 11,
      "metadata": {
        "colab": {
          "base_uri": "https://localhost:8080/"
        },
        "id": "icLJmPYQcAbO",
        "outputId": "0838bbd4-1ea1-4948-a88d-8c6eb425fd7a"
      },
      "outputs": [
        {
          "output_type": "stream",
          "name": "stdout",
          "text": [
            "Mounted at /content/drive\n",
            "[Errno 2] No such file or directory: '/content/drive/Shareddrives/'\n",
            "/content/drive/MyDrive\n"
          ]
        }
      ],
      "source": [
        "# prompt: mount the notebook with current folder\n",
        "\n",
        "from google.colab import drive\n",
        "drive.mount('/content/', force_remount=True)\n",
        "%cd /content/drive/Shareddrives/"
      ]
    },
    {
      "cell_type": "code",
      "source": [
        "# cd /content/drive/\n",
        "%cd ./MyDrive/\n",
        "!ls"
      ],
      "metadata": {
        "colab": {
          "base_uri": "https://localhost:8080/"
        },
        "id": "D7VKcmiYcJwg",
        "outputId": "27cfc579-b976-46f4-df03-c3f60191e0ae"
      },
      "execution_count": 6,
      "outputs": [
        {
          "output_type": "stream",
          "name": "stdout",
          "text": [
            "/content/drive/MyDrive\n",
            " Architecture.drawio\t    EWS\n",
            "'Colab Notebooks'\t    final_rt_df.csv\n",
            " CSSA\t\t\t    image.jpg\n",
            "'CUMC Slide Deck.gslides'   internship\n",
            " CV_YiruGong_academic.pdf   NLP\n",
            "'DL exe 8'\t\t   'NLP Final Report.pdf'\n",
            "'DL mask-git'\t\t    RSVP.gform\n",
            " DL_Project\t\t   'St Patricks Day Potlucks!.gsheet'\n",
            " es_senti.gsheet\t    W4111\n",
            " es_senti_wierd.gsheet\t   '医学中心学联文娱类活动意向征集 (Responses).gsheet'\n"
          ]
        }
      ]
    },
    {
      "cell_type": "code",
      "source": [],
      "metadata": {
        "id": "EIMAp3Wkcm9F"
      },
      "execution_count": null,
      "outputs": []
    }
  ]
}