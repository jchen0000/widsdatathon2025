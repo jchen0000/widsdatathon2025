{
  "nbformat": 4,
  "nbformat_minor": 0,
  "metadata": {
    "colab": {
      "provenance": [],
      "authorship_tag": "ABX9TyPu6lW5l2CUK3vO+xWY/VK8",
      "include_colab_link": true
    },
    "kernelspec": {
      "name": "python3",
      "display_name": "Python 3"
    },
    "language_info": {
      "name": "python"
    }
  },
  "cells": [
    {
      "cell_type": "markdown",
      "metadata": {
        "id": "view-in-github",
        "colab_type": "text"
      },
      "source": [
        "<a href=\"https://colab.research.google.com/github/jchen0000/widsdatathon2025/blob/main/python/Jiaqi.ipynb\" target=\"_parent\"><img src=\"https://colab.research.google.com/assets/colab-badge.svg\" alt=\"Open In Colab\"/></a>"
      ]
    },
    {
      "cell_type": "code",
      "source": [
        "import pandas as pd\n",
        "from sklearn.model_selection import train_test_split\n",
        "from sklearn.preprocessing import StandardScaler\n",
        "from sklearn.pipeline import Pipeline\n",
        "from sklearn.ensemble import RandomForestClassifier"
      ],
      "metadata": {
        "id": "GXkIyJKwV8Rm"
      },
      "execution_count": null,
      "outputs": []
    },
    {
      "cell_type": "code",
      "execution_count": null,
      "metadata": {
        "colab": {
          "base_uri": "https://localhost:8080/"
        },
        "id": "miZaVks22mx_",
        "outputId": "948da3a4-33cf-4526-c22d-32f2d732c537",
        "collapsed": true
      },
      "outputs": [
        {
          "output_type": "stream",
          "name": "stdout",
          "text": [
            "Drive already mounted at /content/drive; to attempt to forcibly remount, call drive.mount(\"/content/drive\", force_remount=True).\n"
          ]
        }
      ],
      "source": [
        "# prompt: Access data from google drive\n",
        "from google.colab import drive\n",
        "drive.mount('/content/drive')\n",
        "\n",
        "# Import train categorical data (1213, 10)\n",
        "train_cat = pd.read_excel(\"drive/My Drive/widsdatathon2025/TRAIN/TRAIN_CATEGORICAL_METADATA.xlsx\")\n",
        "# train_cat.shape\n",
        "# train_cat.describe()\n",
        "\n",
        "# Import train quantitative data (1213, 19)\n",
        "train_quant = pd.read_excel(\"drive/My Drive/widsdatathon2025/TRAIN/TRAIN_QUANTITATIVE_METADATA.xlsx\")\n",
        "# train_quant.shape\n",
        "# train_quant.describe()\n",
        "\n",
        "# Import train\n",
        "#train_func = pd.read_excel(\"drive/My Drive/widsdatathon2025/TRAIN/TRAIN_FUNCTIONAL_METADATA.xlsx\")\n",
        "# train_func.shape\n",
        "# train_func.describe()\n",
        "\n",
        "\n",
        "# Import solution w outcome data (1213, 3)\n",
        "train_sol = pd.read_excel(\"drive/My Drive/widsdatathon2025/TRAIN/TRAINING_SOLUTIONS.xlsx\")\n",
        "# train_sol.shape\n",
        "# train_sol.describe()\n",
        "\n",
        "\n"
      ]
    },
    {
      "cell_type": "code",
      "source": [
        "# Merge datasets on the participant ID  (1213, 30)\n",
        "combined_data = pd.merge(train_cat, train_quant, on='participant_id')\n",
        "combined_data = pd.merge(combined_data, train_sol, on='participant_id')\n",
        "\n",
        "# Separate input and outcome variable\n",
        "X = combined_data.drop(columns=['participant_id', 'ADHD_Outcome'])  # (1213, 28)\n",
        "y = combined_data['ADHD_Outcome']    # (1213, 1)"
      ],
      "metadata": {
        "id": "aBxfF0yqnbxT"
      },
      "execution_count": null,
      "outputs": []
    },
    {
      "cell_type": "code",
      "source": [
        "# Preprocessing: Scale all numeric features\n",
        "scaler = StandardScaler()\n",
        "\n",
        "# Build pipeline\n",
        "pipeline = Pipeline(steps=[\n",
        "    ('scaler', scaler),  # Scale all numeric features\n",
        "    ('classifier', RandomForestClassifier())\n",
        "])\n",
        "\n",
        "# Split data\n",
        "X_train, X_test, y_train, y_test = train_test_split(X, y, test_size=0.2, random_state=42)\n",
        "\n",
        "# Train model\n",
        "pipeline.fit(X_train, y_train)\n",
        "\n",
        "# Make predictions\n",
        "predictions = pipeline.predict(X_test)\n",
        "\n",
        "# Prepare final output with ID, Outcome, Gender, and Predictions\n",
        "X_test_final = combined_data.loc[X_test.index, ['participant_id', 'ADHD_Outcome', 'Sex_F']]\n",
        "X_test_final['Prediction'] = predictions\n",
        "\n",
        "# Display final output\n",
        "print(X_test_final)\n"
      ],
      "metadata": {
        "colab": {
          "base_uri": "https://localhost:8080/"
        },
        "collapsed": true,
        "id": "lt27m_jTn0yT",
        "outputId": "0e7bb4ca-eed2-4248-92ff-50df129eb192"
      },
      "execution_count": null,
      "outputs": [
        {
          "output_type": "stream",
          "name": "stdout",
          "text": [
            "    participant_id  ADHD_Outcome  Sex_F  Prediction\n",
            "382   M6malGe8P7Ic             1      1           1\n",
            "787   XBAesR0BxzjQ             1      0           1\n",
            "43    PtxdLLjvEhIS             1      0           1\n",
            "155   OGitd7RL4GlH             1      0           1\n",
            "493   X6mFs3EnxuJt             1      1           0\n",
            "..             ...           ...    ...         ...\n",
            "59    m4lTzGns4f6M             1      0           1\n",
            "837   vrhTp07N2M92             0      0           1\n",
            "63    wHhpfK5aJYE6             1      0           1\n",
            "722   o6MXPHR32N94             1      0           1\n",
            "644   LzoOSXImj5i4             1      0           1\n",
            "\n",
            "[243 rows x 4 columns]\n"
          ]
        }
      ]
    },
    {
      "cell_type": "code",
      "source": [],
      "metadata": {
        "id": "S7Z0YQfGDFSG"
      },
      "execution_count": null,
      "outputs": []
    }
  ]
}