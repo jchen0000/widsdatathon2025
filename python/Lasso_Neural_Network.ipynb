{
  "nbformat": 4,
  "nbformat_minor": 0,
  "metadata": {
    "colab": {
      "provenance": [],
      "authorship_tag": "ABX9TyNmAiehWPzUyZP7EWUKqbcN",
      "include_colab_link": true
    },
    "kernelspec": {
      "name": "python3",
      "display_name": "Python 3"
    },
    "language_info": {
      "name": "python"
    }
  },
  "cells": [
    {
      "cell_type": "markdown",
      "metadata": {
        "id": "view-in-github",
        "colab_type": "text"
      },
      "source": [
        "<a href=\"https://colab.research.google.com/github/jchen0000/widsdatathon2025/blob/main/python/Lasso_Neural_Network.ipynb\" target=\"_parent\"><img src=\"https://colab.research.google.com/assets/colab-badge.svg\" alt=\"Open In Colab\"/></a>"
      ]
    },
    {
      "cell_type": "markdown",
      "source": [
        "# Data Import"
      ],
      "metadata": {
        "id": "mY3xblER-9qb"
      }
    },
    {
      "cell_type": "code",
      "execution_count": 88,
      "metadata": {
        "id": "8OgAF8gI-xyc",
        "collapsed": true,
        "colab": {
          "base_uri": "https://localhost:8080/"
        },
        "outputId": "579f0f17-abd9-4047-e26f-0bfd35974244"
      },
      "outputs": [
        {
          "output_type": "stream",
          "name": "stdout",
          "text": [
            "Drive already mounted at /content/drive; to attempt to forcibly remount, call drive.mount(\"/content/drive\", force_remount=True).\n",
            "--2025-04-26 01:48:17--  https://github.com/jchen0000/widsdatathon2025/blob/main/data/train/TRAIN_CATEGORICAL_METADATA_imputed_Jing.xlsx?raw=true\n",
            "Resolving github.com (github.com)... 20.27.177.113\n",
            "Connecting to github.com (github.com)|20.27.177.113|:443... connected.\n",
            "HTTP request sent, awaiting response... 302 Found\n",
            "Location: https://github.com/jchen0000/widsdatathon2025/raw/refs/heads/main/data/train/TRAIN_CATEGORICAL_METADATA_imputed_Jing.xlsx [following]\n",
            "--2025-04-26 01:48:17--  https://github.com/jchen0000/widsdatathon2025/raw/refs/heads/main/data/train/TRAIN_CATEGORICAL_METADATA_imputed_Jing.xlsx\n",
            "Reusing existing connection to github.com:443.\n",
            "HTTP request sent, awaiting response... 302 Found\n",
            "Location: https://raw.githubusercontent.com/jchen0000/widsdatathon2025/refs/heads/main/data/train/TRAIN_CATEGORICAL_METADATA_imputed_Jing.xlsx [following]\n",
            "--2025-04-26 01:48:17--  https://raw.githubusercontent.com/jchen0000/widsdatathon2025/refs/heads/main/data/train/TRAIN_CATEGORICAL_METADATA_imputed_Jing.xlsx\n",
            "Resolving raw.githubusercontent.com (raw.githubusercontent.com)... 185.199.110.133, 185.199.111.133, 185.199.108.133, ...\n",
            "Connecting to raw.githubusercontent.com (raw.githubusercontent.com)|185.199.110.133|:443... connected.\n",
            "HTTP request sent, awaiting response... 200 OK\n",
            "Length: 63570 (62K) [application/octet-stream]\n",
            "Saving to: ‘train_cat2.xlsx’\n",
            "\n",
            "train_cat2.xlsx     100%[===================>]  62.08K  --.-KB/s    in 0.08s   \n",
            "\n",
            "2025-04-26 01:48:18 (763 KB/s) - ‘train_cat2.xlsx’ saved [63570/63570]\n",
            "\n",
            "--2025-04-26 01:48:18--  https://github.com/jchen0000/widsdatathon2025/blob/main/data/train/TRAIN_QUANTITATIVE_METADATA_imputed_Jing.xlsx?raw=true\n",
            "Resolving github.com (github.com)... 20.27.177.113\n",
            "Connecting to github.com (github.com)|20.27.177.113|:443... connected.\n",
            "HTTP request sent, awaiting response... 302 Found\n",
            "Location: https://github.com/jchen0000/widsdatathon2025/raw/refs/heads/main/data/train/TRAIN_QUANTITATIVE_METADATA_imputed_Jing.xlsx [following]\n",
            "--2025-04-26 01:48:19--  https://github.com/jchen0000/widsdatathon2025/raw/refs/heads/main/data/train/TRAIN_QUANTITATIVE_METADATA_imputed_Jing.xlsx\n",
            "Reusing existing connection to github.com:443.\n",
            "HTTP request sent, awaiting response... 302 Found\n",
            "Location: https://raw.githubusercontent.com/jchen0000/widsdatathon2025/refs/heads/main/data/train/TRAIN_QUANTITATIVE_METADATA_imputed_Jing.xlsx [following]\n",
            "--2025-04-26 01:48:19--  https://raw.githubusercontent.com/jchen0000/widsdatathon2025/refs/heads/main/data/train/TRAIN_QUANTITATIVE_METADATA_imputed_Jing.xlsx\n",
            "Resolving raw.githubusercontent.com (raw.githubusercontent.com)... 185.199.108.133, 185.199.111.133, 185.199.110.133, ...\n",
            "Connecting to raw.githubusercontent.com (raw.githubusercontent.com)|185.199.108.133|:443... connected.\n",
            "HTTP request sent, awaiting response... 200 OK\n",
            "Length: 114112 (111K) [application/octet-stream]\n",
            "Saving to: ‘train_quant2.xlsx’\n",
            "\n",
            "train_quant2.xlsx   100%[===================>] 111.44K  --.-KB/s    in 0.1s    \n",
            "\n",
            "2025-04-26 01:48:21 (1.06 MB/s) - ‘train_quant2.xlsx’ saved [114112/114112]\n",
            "\n",
            "--2025-04-26 01:48:29--  https://github.com/jchen0000/widsdatathon2025/blob/main/data/train/TEST_CATEGORICAL_METADATA_imputed_Jing_new.xlsx?raw=true\n",
            "Resolving github.com (github.com)... 20.27.177.113\n",
            "Connecting to github.com (github.com)|20.27.177.113|:443... connected.\n",
            "HTTP request sent, awaiting response... 302 Found\n",
            "Location: https://github.com/jchen0000/widsdatathon2025/raw/refs/heads/main/data/train/TEST_CATEGORICAL_METADATA_imputed_Jing_new.xlsx [following]\n",
            "--2025-04-26 01:48:30--  https://github.com/jchen0000/widsdatathon2025/raw/refs/heads/main/data/train/TEST_CATEGORICAL_METADATA_imputed_Jing_new.xlsx\n",
            "Reusing existing connection to github.com:443.\n",
            "HTTP request sent, awaiting response... 302 Found\n",
            "Location: https://raw.githubusercontent.com/jchen0000/widsdatathon2025/refs/heads/main/data/train/TEST_CATEGORICAL_METADATA_imputed_Jing_new.xlsx [following]\n",
            "--2025-04-26 01:48:30--  https://raw.githubusercontent.com/jchen0000/widsdatathon2025/refs/heads/main/data/train/TEST_CATEGORICAL_METADATA_imputed_Jing_new.xlsx\n",
            "Resolving raw.githubusercontent.com (raw.githubusercontent.com)... 185.199.108.133, 185.199.109.133, 185.199.110.133, ...\n",
            "Connecting to raw.githubusercontent.com (raw.githubusercontent.com)|185.199.108.133|:443... connected.\n",
            "HTTP request sent, awaiting response... 200 OK\n",
            "Length: 19446 (19K) [application/octet-stream]\n",
            "Saving to: ‘test_cat2.xlsx’\n",
            "\n",
            "test_cat2.xlsx      100%[===================>]  18.99K  --.-KB/s    in 0.005s  \n",
            "\n",
            "2025-04-26 01:48:30 (3.98 MB/s) - ‘test_cat2.xlsx’ saved [19446/19446]\n",
            "\n",
            "--2025-04-26 01:48:30--  https://github.com/jchen0000/widsdatathon2025/blob/main/data/train/TEST_QUANTITATIVE_METADATA_imputed_Jing_new.xlsx?raw=true\n",
            "Resolving github.com (github.com)... 20.27.177.113\n",
            "Connecting to github.com (github.com)|20.27.177.113|:443... connected.\n",
            "HTTP request sent, awaiting response... 302 Found\n",
            "Location: https://github.com/jchen0000/widsdatathon2025/raw/refs/heads/main/data/train/TEST_QUANTITATIVE_METADATA_imputed_Jing_new.xlsx [following]\n",
            "--2025-04-26 01:48:31--  https://github.com/jchen0000/widsdatathon2025/raw/refs/heads/main/data/train/TEST_QUANTITATIVE_METADATA_imputed_Jing_new.xlsx\n",
            "Reusing existing connection to github.com:443.\n",
            "HTTP request sent, awaiting response... 302 Found\n",
            "Location: https://raw.githubusercontent.com/jchen0000/widsdatathon2025/refs/heads/main/data/train/TEST_QUANTITATIVE_METADATA_imputed_Jing_new.xlsx [following]\n",
            "--2025-04-26 01:48:31--  https://raw.githubusercontent.com/jchen0000/widsdatathon2025/refs/heads/main/data/train/TEST_QUANTITATIVE_METADATA_imputed_Jing_new.xlsx\n",
            "Resolving raw.githubusercontent.com (raw.githubusercontent.com)... 185.199.108.133, 185.199.109.133, 185.199.110.133, ...\n",
            "Connecting to raw.githubusercontent.com (raw.githubusercontent.com)|185.199.108.133|:443... connected.\n",
            "HTTP request sent, awaiting response... 200 OK\n",
            "Length: 32502 (32K) [application/octet-stream]\n",
            "Saving to: ‘test_quant2.xlsx’\n",
            "\n",
            "test_quant2.xlsx    100%[===================>]  31.74K  --.-KB/s    in 0.05s   \n",
            "\n",
            "2025-04-26 01:48:32 (699 KB/s) - ‘test_quant2.xlsx’ saved [32502/32502]\n",
            "\n"
          ]
        }
      ],
      "source": [
        "# prompt: Access data from google drive\n",
        "from google.colab import drive\n",
        "drive.mount('/content/drive')\n",
        "\n",
        "\n",
        "# Import solution w outcome data (1213, 3)\n",
        "train_sol = pd.read_excel(\"drive/My Drive/widsdatathon2025/TRAIN_NEW/TRAINING_SOLUTIONS.xlsx\")\n",
        "\n",
        "# Patient ID\n",
        "patient_id = train_sol.iloc[:, 0]\n",
        "\n",
        "# Import train MRI data (1213, 19901)\n",
        "train_mri_filepath = \"drive/My Drive/widsdatathon2025/TRAIN_NEW/TRAIN_FUNCTIONAL_CONNECTOME_MATRICES_new_36P_Pearson.csv\"\n",
        "train_mri = pd.read_csv(train_mri_filepath)\n",
        "\n",
        "# Remove first line, convert csv file to a functional connectome matrix\n",
        "train_matrix_data = train_mri.iloc[:, 1:].to_numpy(dtype=float)  # (1213, 19900)\n",
        "\n",
        "# Import Train Data\n",
        "!wget \"https://github.com/jchen0000/widsdatathon2025/blob/main/data/train/TRAIN_CATEGORICAL_METADATA_imputed_Jing.xlsx?raw=true\" -O train_cat2.xlsx\n",
        "train_cat2 = pd.read_excel(\"train_cat2.xlsx\")      # (1213, 10)\n",
        "\n",
        "!wget \"https://github.com/jchen0000/widsdatathon2025/blob/main/data/train/TRAIN_QUANTITATIVE_METADATA_imputed_Jing.xlsx?raw=true\" -O train_quant2.xlsx\n",
        "train_quant2 = pd.read_excel(\"train_quant2.xlsx\")  # (1213, 19)\n",
        "\n",
        "# Merge train datasets on the participant ID\n",
        "combined_train_data2 = pd.merge(train_cat2, train_quant2, on='participant_id')\n",
        "train_with_outcome2 = pd.merge(combined_train_data2, train_sol, on='participant_id')  # (1213, 30)\n",
        "\n",
        "# Combine metadata and fMRI into one feature matrix\n",
        "features2 = np.hstack([combined_train_data2, train_matrix_data])\n",
        "\n",
        "# Remove patient ID\n",
        "combined_metadata_imputed = features2[:, 1:]\n",
        "combined_metadata_imputed = combined_metadata_imputed.astype(float)  # (1213, 19927)\n",
        "\n",
        "\n",
        "\n",
        "# Import test MRI data\n",
        "test_mri_filepath = \"drive/My Drive/widsdatathon2025/TEST/TEST_FUNCTIONAL_CONNECTOME_MATRICES.csv\"\n",
        "test_mri = pd.read_csv(test_mri_filepath)\n",
        "\n",
        "# Remove first line, convert csv file to a functional connectome matrix\n",
        "test_matrix_data = test_mri.iloc[:, 1:].to_numpy(dtype=float)  # (304, 19900)\n",
        "\n",
        "# Import test Data\n",
        "!wget \"https://github.com/jchen0000/widsdatathon2025/blob/main/data/train/TEST_CATEGORICAL_METADATA_imputed_Jing_new.xlsx?raw=true\" -O test_cat2.xlsx\n",
        "test_cat2 = pd.read_excel(\"test_cat2.xlsx\")      # (304, 28)\n",
        "\n",
        "!wget \"https://github.com/jchen0000/widsdatathon2025/blob/main/data/train/TEST_QUANTITATIVE_METADATA_imputed_Jing_new.xlsx?raw=true\" -O test_quant2.xlsx\n",
        "test_quant2 = pd.read_excel(\"test_quant2.xlsx\")  # (304, 28)\n",
        "\n",
        "# Merge test datasets on the participant ID\n",
        "combined_test_data2 = pd.merge(test_cat2, test_quant2, on='participant_id')\n",
        "test_no_id2 = combined_test_data2.drop(columns=['participant_id'])\n",
        "\n",
        "test_patient_ids = combined_test_data2['participant_id'].values  # Extract patient IDs using column name\n",
        "\n",
        "# Combine metadata and fMRI into one feature matrix\n",
        "test_features2 = np.hstack([combined_test_data2, test_matrix_data])\n",
        "\n",
        "\n",
        "# Remove patient ID\n",
        "combined_test_metadata_imputed = test_features2[:, 1:]\n",
        "combined_test_metadata_imputed = combined_test_metadata_imputed.astype(float)  # (304, 19927)"
      ]
    },
    {
      "cell_type": "markdown",
      "source": [
        "# Jing's Lasso Data Import"
      ],
      "metadata": {
        "id": "AsgJgz9d0QdR"
      }
    },
    {
      "cell_type": "code",
      "source": [
        "import pandas as pd\n",
        "\n",
        "# prompt: Access data from google drive\n",
        "from google.colab import drive\n",
        "drive.mount('/content/drive')\n",
        "\n",
        "# Import solution w outcome data (1213, 3)\n",
        "train_sol = pd.read_excel(\"drive/My Drive/widsdatathon2025/TRAIN_NEW/TRAINING_SOLUTIONS.xlsx\")\n",
        "\n",
        "# Import test data\n",
        "!wget \"https://github.com/jchen0000/widsdatathon2025/blob/main/data/train/TEST_CATEGORICAL_METADATA_imputed_Jing_new.xlsx?raw=true\" -O test_cat2.xlsx\n",
        "test_cat2 = pd.read_excel(\"test_cat2.xlsx\")\n",
        "\n",
        "# Test patient id\n",
        "test_patient_ids = test_cat2['participant_id'].values  # Extract patient IDs using column name\n",
        "\n",
        "# Import standardized lasso data\n",
        "combined_metadata_imputed = pd.read_csv('/content/drive/My Drive/widsdatathon2025/Work/Processed Data/lasso_imputed_train.csv')  # (1213, 19927)\n",
        "combined_test_metadata_imputed = pd.read_csv('/content/drive/My Drive/widsdatathon2025/Work/Processed Data/lasso_imputed_test.csv')  # (304, 19927)"
      ],
      "metadata": {
        "collapsed": true,
        "colab": {
          "base_uri": "https://localhost:8080/"
        },
        "id": "6ktkvwmije4j",
        "outputId": "01fa67e3-8522-42dd-f1d2-8cb47ec9e516"
      },
      "execution_count": 97,
      "outputs": [
        {
          "output_type": "stream",
          "name": "stdout",
          "text": [
            "Drive already mounted at /content/drive; to attempt to forcibly remount, call drive.mount(\"/content/drive\", force_remount=True).\n",
            "--2025-04-26 01:58:31--  https://github.com/jchen0000/widsdatathon2025/blob/main/data/train/TEST_CATEGORICAL_METADATA_imputed_Jing_new.xlsx?raw=true\n",
            "Resolving github.com (github.com)... 20.27.177.113\n",
            "Connecting to github.com (github.com)|20.27.177.113|:443... connected.\n",
            "HTTP request sent, awaiting response... 302 Found\n",
            "Location: https://github.com/jchen0000/widsdatathon2025/raw/refs/heads/main/data/train/TEST_CATEGORICAL_METADATA_imputed_Jing_new.xlsx [following]\n",
            "--2025-04-26 01:58:31--  https://github.com/jchen0000/widsdatathon2025/raw/refs/heads/main/data/train/TEST_CATEGORICAL_METADATA_imputed_Jing_new.xlsx\n",
            "Reusing existing connection to github.com:443.\n",
            "HTTP request sent, awaiting response... 302 Found\n",
            "Location: https://raw.githubusercontent.com/jchen0000/widsdatathon2025/refs/heads/main/data/train/TEST_CATEGORICAL_METADATA_imputed_Jing_new.xlsx [following]\n",
            "--2025-04-26 01:58:31--  https://raw.githubusercontent.com/jchen0000/widsdatathon2025/refs/heads/main/data/train/TEST_CATEGORICAL_METADATA_imputed_Jing_new.xlsx\n",
            "Resolving raw.githubusercontent.com (raw.githubusercontent.com)... 185.199.108.133, 185.199.109.133, 185.199.110.133, ...\n",
            "Connecting to raw.githubusercontent.com (raw.githubusercontent.com)|185.199.108.133|:443... connected.\n",
            "HTTP request sent, awaiting response... 200 OK\n",
            "Length: 19446 (19K) [application/octet-stream]\n",
            "Saving to: ‘test_cat2.xlsx’\n",
            "\n",
            "test_cat2.xlsx      100%[===================>]  18.99K  --.-KB/s    in 0.007s  \n",
            "\n",
            "2025-04-26 01:58:32 (2.62 MB/s) - ‘test_cat2.xlsx’ saved [19446/19446]\n",
            "\n"
          ]
        }
      ]
    },
    {
      "cell_type": "markdown",
      "source": [
        "# Neural Network"
      ],
      "metadata": {
        "id": "-9qQWFKh-6or"
      }
    },
    {
      "cell_type": "code",
      "source": [
        "import tensorflow as tf\n",
        "from tensorflow.keras.models import Model\n",
        "from tensorflow.keras.layers import Input, Dense, Dropout, BatchNormalization\n",
        "from tensorflow.keras.callbacks import EarlyStopping\n",
        "from tensorflow.keras.regularizers import l2\n",
        "from sklearn.model_selection import train_test_split\n",
        "from sklearn.preprocessing import StandardScaler\n",
        "from sklearn.metrics import f1_score\n",
        "import numpy as np\n",
        "\n",
        "# --- Define the function to compute weighted F1 score ---\n",
        "def compute_weighted_f1(y_true_adhd, y_pred_adhd, y_true_sex, y_pred_sex):\n",
        "    \"\"\"\n",
        "    Compute the final weighted F1 score for the competition.\n",
        "    Female ADHD cases (where ADHD_Outcome==1 and Sex_F==1) are given 2x weight.\n",
        "    The final score is the average of the weighted F1 for ADHD_Outcome and the F1 for Sex_F.\n",
        "    \"\"\"\n",
        "    # Create sample weights for ADHD_Outcome: weight=2 for female ADHD cases, else 1.\n",
        "    weights = np.ones_like(y_true_adhd, dtype=float)\n",
        "    weights[(y_true_adhd == 1) & (y_true_sex == 1)] = 2.0\n",
        "\n",
        "    # Calculate weighted F1 for ADHD_Outcome\n",
        "    f1_adhd = f1_score(y_true_adhd, y_pred_adhd, sample_weight=weights)\n",
        "    # Calculate standard F1 for Sex_F\n",
        "    f1_sex = f1_score(y_true_sex, y_pred_sex)\n",
        "\n",
        "    # Final leaderboard score: average of the two F1 scores\n",
        "    final_f1 = (f1_adhd + f1_sex) / 2.0\n",
        "    return final_f1, f1_adhd, f1_sex\n",
        "\n",
        "# --- Prepare the data ---\n",
        "# Use combined_metadata_imputed as input features.\n",
        "X = combined_metadata_imputed  # (1213, 19927)\n",
        "# Extract targets from train_sol:\n",
        "y_adhd = train_sol['ADHD_Outcome'].values  # Binary labels (0 or 1)\n",
        "y_sex  = train_sol['Sex_F'].values         # Binary labels (0 or 1)\n",
        "\n",
        "# Standardize features.\n",
        "scaler = StandardScaler()\n",
        "X_scaled = scaler.fit_transform(X)\n",
        "\n",
        "# Split into training and validation sets.\n",
        "# Note: We split the labels separately but the splits will be aligned because we use the same X_scaled.\n",
        "X_train_split, X_val_split, y_train_adhd_split, y_val_adhd_split = train_test_split(\n",
        "    X_scaled, y_adhd, test_size=0.2, random_state=42\n",
        ")\n",
        "_, _, y_train_sex_split, y_val_sex_split = train_test_split(\n",
        "    X_scaled, y_sex, test_size=0.2, random_state=42\n",
        ")\n",
        "\n",
        "# --- Build the multi-output neural network model ---\n",
        "input_layer = Input(shape=(X_train_split.shape[1],))\n",
        "x = Dense(128, activation='relu', kernel_regularizer=l2(0.01))(input_layer)\n",
        "x = Dropout(0.5)(x)\n",
        "x = BatchNormalization()(x)\n",
        "x = Dense(64, activation='relu', kernel_regularizer=l2(0.01))(x)\n",
        "x = Dropout(0.5)(x)\n",
        "x = BatchNormalization()(x)\n",
        "x = Dense(32, activation='relu', kernel_regularizer=l2(0.01))(x)\n",
        "\n",
        "# Two separate output layers:\n",
        "output_adhd = Dense(1, activation='sigmoid', name='adhd_output')(x)\n",
        "output_sex  = Dense(1, activation='sigmoid', name='sex_output')(x)\n",
        "\n",
        "model = Model(inputs=input_layer, outputs=[output_adhd, output_sex])\n",
        "\n",
        "# Compile the model.\n",
        "model.compile(optimizer=tf.keras.optimizers.Adam(learning_rate=0.0005),\n",
        "              loss='binary_crossentropy',\n",
        "              metrics={'adhd_output': 'accuracy', 'sex_output': 'accuracy'})\n",
        "\n",
        "\n",
        "# Set up early stopping.\n",
        "early_stopping = EarlyStopping(monitor='val_loss', patience=10, restore_best_weights=True)\n",
        "\n",
        "# --- Train the model ---\n",
        "history = model.fit(\n",
        "    X_train_split,\n",
        "    {'adhd_output': y_train_adhd_split, 'sex_output': y_train_sex_split},\n",
        "    epochs=100,\n",
        "    batch_size=32,\n",
        "    validation_data=(X_val_split, {'adhd_output': y_val_adhd_split, 'sex_output': y_val_sex_split}),\n",
        "    callbacks=[early_stopping]\n",
        ")\n",
        "\n",
        "# --- Evaluate the model ---\n",
        "results = model.evaluate(X_val_split, {'adhd_output': y_val_adhd_split, 'sex_output': y_val_sex_split})\n",
        "print(\"Evaluation Results:\", results)\n",
        "\n",
        "# --- Make predictions on the validation set ---\n",
        "predictions = model.predict(X_val_split)   # (243, 2)\n",
        "# predictions is a list: predictions[0] for ADHD_Outcome, predictions[1] for Sex_F.\n",
        "y_val_pred_adhd = (predictions[0] > 0.5).astype(int).flatten()\n",
        "y_val_pred_sex  = (predictions[1] > 0.5).astype(int).flatten()\n",
        "\n",
        "# --- Compute the weighted F1 score ---\n",
        "final_f1, f1_adhd, f1_sex = compute_weighted_f1(y_val_adhd_split, y_val_pred_adhd, y_val_sex_split, y_val_pred_sex)\n",
        "\n",
        "print(f\"ADHD F1 Score (weighted): {f1_adhd:.4f}\")\n",
        "print(f\"Sex_F F1 Score: {f1_sex:.4f}\")\n",
        "print(f\"Final Weighted F1 Score: {final_f1:.4f}\")\n",
        "\n",
        "# ADHD F1 Score (weighted): 0.8388\n",
        "# Sex_F F1 Score: 0.3077\n",
        "# Final Weighted F1 Score: 0.5733\n"
      ],
      "metadata": {
        "id": "aJiAMMR9-2E5",
        "collapsed": true,
        "colab": {
          "base_uri": "https://localhost:8080/"
        },
        "outputId": "7512fd1e-fc17-4d6f-bfc1-36bba41161a3"
      },
      "execution_count": 103,
      "outputs": [
        {
          "output_type": "stream",
          "name": "stdout",
          "text": [
            "Epoch 1/100\n",
            "\u001b[1m31/31\u001b[0m \u001b[32m━━━━━━━━━━━━━━━━━━━━\u001b[0m\u001b[37m\u001b[0m \u001b[1m6s\u001b[0m 58ms/step - adhd_output_accuracy: 0.5184 - adhd_output_loss: 0.8033 - loss: 5.3989 - sex_output_accuracy: 0.5542 - sex_output_loss: 0.7599 - val_adhd_output_accuracy: 0.5185 - val_adhd_output_loss: 0.8187 - val_loss: 5.3238 - val_sex_output_accuracy: 0.5597 - val_sex_output_loss: 0.6812\n",
            "Epoch 2/100\n",
            "\u001b[1m31/31\u001b[0m \u001b[32m━━━━━━━━━━━━━━━━━━━━\u001b[0m\u001b[37m\u001b[0m \u001b[1m1s\u001b[0m 44ms/step - adhd_output_accuracy: 0.5888 - adhd_output_loss: 0.6764 - loss: 5.1399 - sex_output_accuracy: 0.6064 - sex_output_loss: 0.6916 - val_adhd_output_accuracy: 0.5802 - val_adhd_output_loss: 0.6725 - val_loss: 4.9448 - val_sex_output_accuracy: 0.5761 - val_sex_output_loss: 0.6708\n",
            "Epoch 3/100\n",
            "\u001b[1m31/31\u001b[0m \u001b[32m━━━━━━━━━━━━━━━━━━━━\u001b[0m\u001b[37m\u001b[0m \u001b[1m3s\u001b[0m 44ms/step - adhd_output_accuracy: 0.6069 - adhd_output_loss: 0.6659 - loss: 4.8704 - sex_output_accuracy: 0.6212 - sex_output_loss: 0.6676 - val_adhd_output_accuracy: 0.6337 - val_adhd_output_loss: 0.6460 - val_loss: 4.6345 - val_sex_output_accuracy: 0.6461 - val_sex_output_loss: 0.6514\n",
            "Epoch 4/100\n",
            "\u001b[1m31/31\u001b[0m \u001b[32m━━━━━━━━━━━━━━━━━━━━\u001b[0m\u001b[37m\u001b[0m \u001b[1m3s\u001b[0m 44ms/step - adhd_output_accuracy: 0.6541 - adhd_output_loss: 0.6205 - loss: 4.5606 - sex_output_accuracy: 0.6207 - sex_output_loss: 0.6634 - val_adhd_output_accuracy: 0.6955 - val_adhd_output_loss: 0.6240 - val_loss: 4.3612 - val_sex_output_accuracy: 0.6255 - val_sex_output_loss: 0.6462\n",
            "Epoch 5/100\n",
            "\u001b[1m31/31\u001b[0m \u001b[32m━━━━━━━━━━━━━━━━━━━━\u001b[0m\u001b[37m\u001b[0m \u001b[1m2s\u001b[0m 64ms/step - adhd_output_accuracy: 0.6873 - adhd_output_loss: 0.6056 - loss: 4.2959 - sex_output_accuracy: 0.6416 - sex_output_loss: 0.6639 - val_adhd_output_accuracy: 0.7243 - val_adhd_output_loss: 0.6076 - val_loss: 4.0988 - val_sex_output_accuracy: 0.6708 - val_sex_output_loss: 0.6449\n",
            "Epoch 6/100\n",
            "\u001b[1m31/31\u001b[0m \u001b[32m━━━━━━━━━━━━━━━━━━━━\u001b[0m\u001b[37m\u001b[0m \u001b[1m2s\u001b[0m 67ms/step - adhd_output_accuracy: 0.6607 - adhd_output_loss: 0.6237 - loss: 4.0302 - sex_output_accuracy: 0.6704 - sex_output_loss: 0.6187 - val_adhd_output_accuracy: 0.7202 - val_adhd_output_loss: 0.6107 - val_loss: 3.8704 - val_sex_output_accuracy: 0.6543 - val_sex_output_loss: 0.6409\n",
            "Epoch 7/100\n",
            "\u001b[1m31/31\u001b[0m \u001b[32m━━━━━━━━━━━━━━━━━━━━\u001b[0m\u001b[37m\u001b[0m \u001b[1m2s\u001b[0m 43ms/step - adhd_output_accuracy: 0.6920 - adhd_output_loss: 0.6034 - loss: 3.7802 - sex_output_accuracy: 0.6613 - sex_output_loss: 0.6111 - val_adhd_output_accuracy: 0.7119 - val_adhd_output_loss: 0.6052 - val_loss: 3.6581 - val_sex_output_accuracy: 0.6296 - val_sex_output_loss: 0.6403\n",
            "Epoch 8/100\n",
            "\u001b[1m31/31\u001b[0m \u001b[32m━━━━━━━━━━━━━━━━━━━━\u001b[0m\u001b[37m\u001b[0m \u001b[1m2s\u001b[0m 41ms/step - adhd_output_accuracy: 0.7062 - adhd_output_loss: 0.5751 - loss: 3.5428 - sex_output_accuracy: 0.6817 - sex_output_loss: 0.6024 - val_adhd_output_accuracy: 0.7078 - val_adhd_output_loss: 0.6016 - val_loss: 3.4798 - val_sex_output_accuracy: 0.6337 - val_sex_output_loss: 0.6469\n",
            "Epoch 9/100\n",
            "\u001b[1m31/31\u001b[0m \u001b[32m━━━━━━━━━━━━━━━━━━━━\u001b[0m\u001b[37m\u001b[0m \u001b[1m1s\u001b[0m 42ms/step - adhd_output_accuracy: 0.6872 - adhd_output_loss: 0.5665 - loss: 3.3450 - sex_output_accuracy: 0.6731 - sex_output_loss: 0.5902 - val_adhd_output_accuracy: 0.7037 - val_adhd_output_loss: 0.6052 - val_loss: 3.3276 - val_sex_output_accuracy: 0.6337 - val_sex_output_loss: 0.6487\n",
            "Epoch 10/100\n",
            "\u001b[1m31/31\u001b[0m \u001b[32m━━━━━━━━━━━━━━━━━━━━\u001b[0m\u001b[37m\u001b[0m \u001b[1m3s\u001b[0m 45ms/step - adhd_output_accuracy: 0.7391 - adhd_output_loss: 0.5425 - loss: 3.1706 - sex_output_accuracy: 0.6924 - sex_output_loss: 0.5917 - val_adhd_output_accuracy: 0.7037 - val_adhd_output_loss: 0.6058 - val_loss: 3.1827 - val_sex_output_accuracy: 0.6502 - val_sex_output_loss: 0.6440\n",
            "Epoch 11/100\n",
            "\u001b[1m31/31\u001b[0m \u001b[32m━━━━━━━━━━━━━━━━━━━━\u001b[0m\u001b[37m\u001b[0m \u001b[1m1s\u001b[0m 41ms/step - adhd_output_accuracy: 0.7496 - adhd_output_loss: 0.5165 - loss: 2.9834 - sex_output_accuracy: 0.7203 - sex_output_loss: 0.5564 - val_adhd_output_accuracy: 0.7037 - val_adhd_output_loss: 0.6087 - val_loss: 3.1066 - val_sex_output_accuracy: 0.6420 - val_sex_output_loss: 0.6587\n",
            "Epoch 12/100\n",
            "\u001b[1m31/31\u001b[0m \u001b[32m━━━━━━━━━━━━━━━━━━━━\u001b[0m\u001b[37m\u001b[0m \u001b[1m3s\u001b[0m 63ms/step - adhd_output_accuracy: 0.7494 - adhd_output_loss: 0.5152 - loss: 2.8932 - sex_output_accuracy: 0.7057 - sex_output_loss: 0.5691 - val_adhd_output_accuracy: 0.6955 - val_adhd_output_loss: 0.6140 - val_loss: 2.9996 - val_sex_output_accuracy: 0.6749 - val_sex_output_loss: 0.6537\n",
            "Epoch 13/100\n",
            "\u001b[1m31/31\u001b[0m \u001b[32m━━━━━━━━━━━━━━━━━━━━\u001b[0m\u001b[37m\u001b[0m \u001b[1m2s\u001b[0m 53ms/step - adhd_output_accuracy: 0.7698 - adhd_output_loss: 0.4747 - loss: 2.7362 - sex_output_accuracy: 0.7207 - sex_output_loss: 0.5546 - val_adhd_output_accuracy: 0.7160 - val_adhd_output_loss: 0.6131 - val_loss: 2.9047 - val_sex_output_accuracy: 0.6626 - val_sex_output_loss: 0.6574\n",
            "Epoch 14/100\n",
            "\u001b[1m31/31\u001b[0m \u001b[32m━━━━━━━━━━━━━━━━━━━━\u001b[0m\u001b[37m\u001b[0m \u001b[1m2s\u001b[0m 43ms/step - adhd_output_accuracy: 0.7873 - adhd_output_loss: 0.4725 - loss: 2.5957 - sex_output_accuracy: 0.7578 - sex_output_loss: 0.5118 - val_adhd_output_accuracy: 0.7078 - val_adhd_output_loss: 0.6192 - val_loss: 2.8639 - val_sex_output_accuracy: 0.6461 - val_sex_output_loss: 0.6847\n",
            "Epoch 15/100\n",
            "\u001b[1m31/31\u001b[0m \u001b[32m━━━━━━━━━━━━━━━━━━━━\u001b[0m\u001b[37m\u001b[0m \u001b[1m3s\u001b[0m 42ms/step - adhd_output_accuracy: 0.7945 - adhd_output_loss: 0.4534 - loss: 2.5264 - sex_output_accuracy: 0.7660 - sex_output_loss: 0.5032 - val_adhd_output_accuracy: 0.7037 - val_adhd_output_loss: 0.6330 - val_loss: 2.8918 - val_sex_output_accuracy: 0.6502 - val_sex_output_loss: 0.6844\n",
            "Epoch 16/100\n",
            "\u001b[1m31/31\u001b[0m \u001b[32m━━━━━━━━━━━━━━━━━━━━\u001b[0m\u001b[37m\u001b[0m \u001b[1m1s\u001b[0m 43ms/step - adhd_output_accuracy: 0.7955 - adhd_output_loss: 0.4515 - loss: 2.4965 - sex_output_accuracy: 0.7726 - sex_output_loss: 0.4822 - val_adhd_output_accuracy: 0.7160 - val_adhd_output_loss: 0.6227 - val_loss: 2.8228 - val_sex_output_accuracy: 0.6296 - val_sex_output_loss: 0.6867\n",
            "Epoch 17/100\n",
            "\u001b[1m31/31\u001b[0m \u001b[32m━━━━━━━━━━━━━━━━━━━━\u001b[0m\u001b[37m\u001b[0m \u001b[1m2s\u001b[0m 42ms/step - adhd_output_accuracy: 0.7996 - adhd_output_loss: 0.4362 - loss: 2.4197 - sex_output_accuracy: 0.7689 - sex_output_loss: 0.4785 - val_adhd_output_accuracy: 0.6955 - val_adhd_output_loss: 0.6369 - val_loss: 2.7955 - val_sex_output_accuracy: 0.6461 - val_sex_output_loss: 0.6854\n",
            "Epoch 18/100\n",
            "\u001b[1m31/31\u001b[0m \u001b[32m━━━━━━━━━━━━━━━━━━━━\u001b[0m\u001b[37m\u001b[0m \u001b[1m3s\u001b[0m 62ms/step - adhd_output_accuracy: 0.8113 - adhd_output_loss: 0.4164 - loss: 2.3236 - sex_output_accuracy: 0.8023 - sex_output_loss: 0.4447 - val_adhd_output_accuracy: 0.6996 - val_adhd_output_loss: 0.6569 - val_loss: 2.7560 - val_sex_output_accuracy: 0.6502 - val_sex_output_loss: 0.6721\n",
            "Epoch 19/100\n",
            "\u001b[1m31/31\u001b[0m \u001b[32m━━━━━━━━━━━━━━━━━━━━\u001b[0m\u001b[37m\u001b[0m \u001b[1m2s\u001b[0m 44ms/step - adhd_output_accuracy: 0.8252 - adhd_output_loss: 0.3955 - loss: 2.2657 - sex_output_accuracy: 0.7792 - sex_output_loss: 0.4434 - val_adhd_output_accuracy: 0.6996 - val_adhd_output_loss: 0.6374 - val_loss: 2.7384 - val_sex_output_accuracy: 0.6461 - val_sex_output_loss: 0.6974\n",
            "Epoch 20/100\n",
            "\u001b[1m31/31\u001b[0m \u001b[32m━━━━━━━━━━━━━━━━━━━━\u001b[0m\u001b[37m\u001b[0m \u001b[1m3s\u001b[0m 44ms/step - adhd_output_accuracy: 0.8442 - adhd_output_loss: 0.3696 - loss: 2.1793 - sex_output_accuracy: 0.8227 - sex_output_loss: 0.4122 - val_adhd_output_accuracy: 0.6914 - val_adhd_output_loss: 0.6164 - val_loss: 2.6612 - val_sex_output_accuracy: 0.6667 - val_sex_output_loss: 0.6783\n",
            "Epoch 21/100\n",
            "\u001b[1m31/31\u001b[0m \u001b[32m━━━━━━━━━━━━━━━━━━━━\u001b[0m\u001b[37m\u001b[0m \u001b[1m3s\u001b[0m 44ms/step - adhd_output_accuracy: 0.8586 - adhd_output_loss: 0.3385 - loss: 2.0822 - sex_output_accuracy: 0.8409 - sex_output_loss: 0.3790 - val_adhd_output_accuracy: 0.7037 - val_adhd_output_loss: 0.6469 - val_loss: 2.7125 - val_sex_output_accuracy: 0.6296 - val_sex_output_loss: 0.7201\n",
            "Epoch 22/100\n",
            "\u001b[1m31/31\u001b[0m \u001b[32m━━━━━━━━━━━━━━━━━━━━\u001b[0m\u001b[37m\u001b[0m \u001b[1m1s\u001b[0m 41ms/step - adhd_output_accuracy: 0.8665 - adhd_output_loss: 0.3321 - loss: 2.0440 - sex_output_accuracy: 0.8507 - sex_output_loss: 0.3588 - val_adhd_output_accuracy: 0.6996 - val_adhd_output_loss: 0.6528 - val_loss: 2.7565 - val_sex_output_accuracy: 0.5885 - val_sex_output_loss: 0.7371\n",
            "Epoch 23/100\n",
            "\u001b[1m31/31\u001b[0m \u001b[32m━━━━━━━━━━━━━━━━━━━━\u001b[0m\u001b[37m\u001b[0m \u001b[1m1s\u001b[0m 42ms/step - adhd_output_accuracy: 0.8496 - adhd_output_loss: 0.3470 - loss: 2.1519 - sex_output_accuracy: 0.8233 - sex_output_loss: 0.3987 - val_adhd_output_accuracy: 0.6996 - val_adhd_output_loss: 0.6661 - val_loss: 2.8645 - val_sex_output_accuracy: 0.6255 - val_sex_output_loss: 0.7240\n",
            "Epoch 24/100\n",
            "\u001b[1m31/31\u001b[0m \u001b[32m━━━━━━━━━━━━━━━━━━━━\u001b[0m\u001b[37m\u001b[0m \u001b[1m2s\u001b[0m 51ms/step - adhd_output_accuracy: 0.8723 - adhd_output_loss: 0.3050 - loss: 2.1478 - sex_output_accuracy: 0.8523 - sex_output_loss: 0.3688 - val_adhd_output_accuracy: 0.6831 - val_adhd_output_loss: 0.6981 - val_loss: 2.8873 - val_sex_output_accuracy: 0.6461 - val_sex_output_loss: 0.7260\n",
            "Epoch 25/100\n",
            "\u001b[1m31/31\u001b[0m \u001b[32m━━━━━━━━━━━━━━━━━━━━\u001b[0m\u001b[37m\u001b[0m \u001b[1m2s\u001b[0m 61ms/step - adhd_output_accuracy: 0.8522 - adhd_output_loss: 0.3432 - loss: 2.1807 - sex_output_accuracy: 0.8643 - sex_output_loss: 0.3350 - val_adhd_output_accuracy: 0.6914 - val_adhd_output_loss: 0.6914 - val_loss: 3.0462 - val_sex_output_accuracy: 0.5885 - val_sex_output_loss: 0.7937\n",
            "Epoch 26/100\n",
            "\u001b[1m31/31\u001b[0m \u001b[32m━━━━━━━━━━━━━━━━━━━━\u001b[0m\u001b[37m\u001b[0m \u001b[1m2s\u001b[0m 46ms/step - adhd_output_accuracy: 0.8606 - adhd_output_loss: 0.3456 - loss: 2.3197 - sex_output_accuracy: 0.8014 - sex_output_loss: 0.4120 - val_adhd_output_accuracy: 0.6831 - val_adhd_output_loss: 0.7396 - val_loss: 3.0406 - val_sex_output_accuracy: 0.5967 - val_sex_output_loss: 0.7533\n",
            "Epoch 27/100\n",
            "\u001b[1m31/31\u001b[0m \u001b[32m━━━━━━━━━━━━━━━━━━━━\u001b[0m\u001b[37m\u001b[0m \u001b[1m2s\u001b[0m 44ms/step - adhd_output_accuracy: 0.8720 - adhd_output_loss: 0.3188 - loss: 2.1837 - sex_output_accuracy: 0.8618 - sex_output_loss: 0.3341 - val_adhd_output_accuracy: 0.6790 - val_adhd_output_loss: 0.6962 - val_loss: 2.9411 - val_sex_output_accuracy: 0.6132 - val_sex_output_loss: 0.7538\n",
            "Epoch 28/100\n",
            "\u001b[1m31/31\u001b[0m \u001b[32m━━━━━━━━━━━━━━━━━━━━\u001b[0m\u001b[37m\u001b[0m \u001b[1m1s\u001b[0m 42ms/step - adhd_output_accuracy: 0.8985 - adhd_output_loss: 0.2667 - loss: 2.0650 - sex_output_accuracy: 0.8617 - sex_output_loss: 0.3316 - val_adhd_output_accuracy: 0.6955 - val_adhd_output_loss: 0.7260 - val_loss: 2.9368 - val_sex_output_accuracy: 0.6379 - val_sex_output_loss: 0.7837\n",
            "Epoch 29/100\n",
            "\u001b[1m31/31\u001b[0m \u001b[32m━━━━━━━━━━━━━━━━━━━━\u001b[0m\u001b[37m\u001b[0m \u001b[1m1s\u001b[0m 42ms/step - adhd_output_accuracy: 0.8608 - adhd_output_loss: 0.3161 - loss: 2.0380 - sex_output_accuracy: 0.8949 - sex_output_loss: 0.3019 - val_adhd_output_accuracy: 0.7202 - val_adhd_output_loss: 0.7278 - val_loss: 2.8896 - val_sex_output_accuracy: 0.6255 - val_sex_output_loss: 0.7629\n",
            "Epoch 30/100\n",
            "\u001b[1m31/31\u001b[0m \u001b[32m━━━━━━━━━━━━━━━━━━━━\u001b[0m\u001b[37m\u001b[0m \u001b[1m1s\u001b[0m 44ms/step - adhd_output_accuracy: 0.9051 - adhd_output_loss: 0.2487 - loss: 1.9698 - sex_output_accuracy: 0.8575 - sex_output_loss: 0.3180 - val_adhd_output_accuracy: 0.7078 - val_adhd_output_loss: 0.7220 - val_loss: 2.9592 - val_sex_output_accuracy: 0.6091 - val_sex_output_loss: 0.8390\n",
            "\u001b[1m8/8\u001b[0m \u001b[32m━━━━━━━━━━━━━━━━━━━━\u001b[0m\u001b[37m\u001b[0m \u001b[1m0s\u001b[0m 13ms/step - adhd_output_accuracy: 0.7264 - adhd_output_loss: 0.5735 - loss: 2.6008 - sex_output_accuracy: 0.6809 - sex_output_loss: 0.6590\n",
            "Evaluation Results: [2.6611924171447754, 0.6164149045944214, 0.6783443689346313, 0.6913580298423767, 0.6666666865348816]\n"
          ]
        },
        {
          "output_type": "stream",
          "name": "stderr",
          "text": [
            "WARNING:tensorflow:5 out of the last 17 calls to <function TensorFlowTrainer.make_predict_function.<locals>.one_step_on_data_distributed at 0x791433cd3a60> triggered tf.function retracing. Tracing is expensive and the excessive number of tracings could be due to (1) creating @tf.function repeatedly in a loop, (2) passing tensors with different shapes, (3) passing Python objects instead of tensors. For (1), please define your @tf.function outside of the loop. For (2), @tf.function has reduce_retracing=True option that can avoid unnecessary retracing. For (3), please refer to https://www.tensorflow.org/guide/function#controlling_retracing and https://www.tensorflow.org/api_docs/python/tf/function for  more details.\n"
          ]
        },
        {
          "output_type": "stream",
          "name": "stdout",
          "text": [
            "\u001b[1m8/8\u001b[0m \u001b[32m━━━━━━━━━━━━━━━━━━━━\u001b[0m\u001b[37m\u001b[0m \u001b[1m0s\u001b[0m 21ms/step\n",
            "ADHD F1 Score (weighted): 0.8388\n",
            "Sex_F F1 Score: 0.3077\n",
            "Final Weighted F1 Score: 0.5733\n"
          ]
        }
      ]
    },
    {
      "cell_type": "code",
      "source": [
        "# prompt: save model\n",
        "\n",
        "model.save('/content/drive/My Drive/widsdatathon2025/Work/Models/neural_network_full_data.keras')\n"
      ],
      "metadata": {
        "id": "aWmbMpn6n-b7"
      },
      "execution_count": 104,
      "outputs": []
    },
    {
      "cell_type": "code",
      "source": [
        "# prompt: save probability predictions to csv\n",
        "\n",
        "import pandas as pd\n",
        "# Make predictions on the test set\n",
        "test_predictions = model.predict(scaler.transform(combined_test_metadata_imputed))\n",
        "\n",
        "# Create a DataFrame for the predictions     # (304, 3)\n",
        "predictions_df = pd.DataFrame({\n",
        "    'participant_id': test_patient_ids,\n",
        "    'ADHD_Outcome_Probability': test_predictions[0].flatten(),\n",
        "    'Sex_F_Probability': test_predictions[1].flatten()\n",
        "})\n",
        "\n",
        "predictions_df\n",
        "# Save the predictions to a CSV file\n",
        "predictions_df.to_csv('/content/drive/My Drive/widsdatathon2025/Work/Prediction/nn_orig_data.csv', index=False)\n"
      ],
      "metadata": {
        "id": "v4itjDO-s3mI",
        "outputId": "e48ae0f9-c132-40e2-aeb1-b82b1bf21e9c",
        "colab": {
          "base_uri": "https://localhost:8080/"
        }
      },
      "execution_count": 105,
      "outputs": [
        {
          "output_type": "stream",
          "name": "stdout",
          "text": [
            "\u001b[1m10/10\u001b[0m \u001b[32m━━━━━━━━━━━━━━━━━━━━\u001b[0m\u001b[37m\u001b[0m \u001b[1m0s\u001b[0m 7ms/step \n"
          ]
        }
      ]
    },
    {
      "cell_type": "markdown",
      "source": [
        "# Threshold Tuning"
      ],
      "metadata": {
        "id": "rqyP44sK_Axz"
      }
    },
    {
      "cell_type": "code",
      "source": [
        "# For ADHD:\n",
        "#    y_val_adhd_prob: predicted probabilities from the model for ADHD_Outcome (shape: (n_samples,))\n",
        "#    y_val_adhd: true ADHD_Outcome labels (0 or 1)\n",
        "# For Sex_F:\n",
        "#    y_val_sex_prob: predicted probabilities from the model for Sex_F (shape: (n_samples,))\n",
        "#    y_val_sex: true Sex_F labels (0 or 1)\n",
        "\n",
        "y_val_adhd_prob = predictions[0].flatten()\n",
        "y_val_sex_prob  = predictions[1].flatten()\n",
        "\n",
        "# --- Define the function to compute weighted F1 score ---\n",
        "def compute_weighted_f1(y_true_adhd, y_pred_adhd, y_true_sex, y_pred_sex):\n",
        "    \"\"\"\n",
        "    Compute the final weighted F1 score.\n",
        "    Female ADHD cases (where ADHD_Outcome==1 and Sex_F==1) are given 2x weight.\n",
        "    Returns:\n",
        "       final_f1: the average of the weighted ADHD F1 and the Sex_F F1.\n",
        "       f1_adhd: F1 score for ADHD_Outcome using sample weights.\n",
        "       f1_sex:  F1 score for Sex_F (unweighted).\n",
        "    \"\"\"\n",
        "    weights = np.ones_like(y_true_adhd, dtype=float)\n",
        "    weights[(y_true_adhd == 1) & (y_true_sex == 1)] = 2.0\n",
        "    f1_adhd = f1_score(y_true_adhd, y_pred_adhd, sample_weight=weights)\n",
        "    f1_sex = f1_score(y_true_sex, y_pred_sex)\n",
        "    final_f1 = (f1_adhd + f1_sex) / 2.0\n",
        "    return final_f1, f1_adhd, f1_sex\n",
        "\n",
        "# --- Define a range of thresholds to test ---\n",
        "thresholds = np.linspace(0.08, 1, 93)  # from 0.00 to 1.00 in steps of 0.01\n",
        "#thresholds = np.linspace(0.1, 0.99, 90)\n",
        "\n",
        "best_final_f1 = 0.0\n",
        "best_thr_adhd = 0.0\n",
        "best_thr_sex  = 0.0\n",
        "best_f1_adhd = 0.0\n",
        "best_f1_sex  = 0.0\n",
        "\n",
        "# --- Perform a 2D threshold sweep ---\n",
        "for thr_a in thresholds:\n",
        "    for thr_s in thresholds:\n",
        "        y_pred_adhd = (y_val_adhd_prob > thr_a).astype(int)\n",
        "        y_pred_sex  = (y_val_sex_prob > thr_s).astype(int)\n",
        "        final_f1, f1_adhd, f1_sex = compute_weighted_f1(y_val_adhd_split, y_pred_adhd, y_val_sex_split, y_pred_sex)\n",
        "        if final_f1 > best_final_f1:\n",
        "            best_final_f1 = final_f1\n",
        "            best_thr_adhd = thr_a\n",
        "            best_thr_sex  = thr_s\n",
        "            best_f1_adhd = f1_adhd\n",
        "            best_f1_sex  = f1_sex\n",
        "\n",
        "print(f\"Best ADHD Threshold: {best_thr_adhd:.2f} with F1: {best_f1_adhd:.4f}\")\n",
        "print(f\"Best Sex_F Threshold: {best_thr_sex:.2f} with F1: {best_f1_sex:.4f}\")\n",
        "print(f\"Best Final Weighted F1: {best_final_f1:.4f}\")\n",
        "\n",
        "\n",
        "\n",
        "# Best ADHD Threshold: 0.08 with F1: 0.8728\n",
        "# Best Sex_F Threshold: 0.08 with F1: 0.4595\n",
        "# Best Final Weighted F1: 0.6662"
      ],
      "metadata": {
        "id": "4StHMFS5_BM5",
        "colab": {
          "base_uri": "https://localhost:8080/"
        },
        "outputId": "b27f1ae3-6edd-46da-e6aa-41a2dfeff0db"
      },
      "execution_count": 111,
      "outputs": [
        {
          "output_type": "stream",
          "name": "stdout",
          "text": [
            "Best ADHD Threshold: 0.08 with F1: 0.8728\n",
            "Best Sex_F Threshold: 0.08 with F1: 0.4595\n",
            "Best Final Weighted F1: 0.6662\n"
          ]
        }
      ]
    },
    {
      "cell_type": "code",
      "source": [
        "\n",
        "# ----------------------------\n",
        "# 1. Prepare Test Features\n",
        "# ----------------------------\n",
        "# test_features was constructed as follows:\n",
        "# - combined_test_data and test_matrix_data were merged to form a matrix.\n",
        "# - \"NA\" values were replaced with np.nan.\n",
        "# - The first column (patient IDs) was separated.\n",
        "# - Missing values were imputed (e.g., using KNN imputation).\n",
        "#\n",
        "# In your code, you ended with:\n",
        "# combined_test_metadata_imputed = imputer_test_metadata.fit_transform(test_features_no_id)\n",
        "# and then:\n",
        "# test_features = np.hstack([test_patient_ids.reshape(-1, 1), test_features_no_id])\n",
        "#\n",
        "# For prediction, we want to use the imputed features that match the training data.\n",
        "# Apply the same StandardScaler (fitted on the training data) to the test features.\n",
        "final_test_features = scaler.transform(combined_test_metadata_imputed)  # Shape: (n_test_samples, n_features)\n",
        "\n",
        "# ----------------------------\n",
        "# 2. Make Predictions on Test Data\n",
        "# ----------------------------\n",
        "# Using the multi-output model, predictions will be a list of arrays:\n",
        "#   test_predictions[0] corresponds to ADHD_Outcome probabilities.\n",
        "#   test_predictions[1] corresponds to Sex_F probabilities.\n",
        "test_predictions = model.predict(final_test_features)\n",
        "\n",
        "# Flatten the predictions (if needed) so they are 1D arrays:\n",
        "adhd_probs = test_predictions[0].flatten()\n",
        "sex_probs  = test_predictions[1].flatten()\n",
        "\n",
        "# ----------------------------\n",
        "# 3. Apply Optimal Thresholds\n",
        "# ----------------------------\n",
        "# Use the optimal thresholds found from threshold tuning.\n",
        "# (For example, these variables should have been computed during your threshold tuning process.)\n",
        "test_pred_adhd = (adhd_probs > best_thr_adhd).astype(int)\n",
        "test_pred_sex  = (sex_probs > best_thr_sex).astype(int)\n",
        "\n",
        "# ----------------------------\n",
        "# 4. Create the Submission DataFrame\n",
        "# ----------------------------\n",
        "# Ensure that test_patient_ids is a 1D array containing the IDs.\n",
        "submission_df = pd.DataFrame({\n",
        "    'participant_id': test_patient_ids.flatten(),  # Use your test IDs\n",
        "    'ADHD_Outcome': test_pred_adhd,\n",
        "    'Sex_F': test_pred_sex\n",
        "})\n",
        "\n",
        "# ----------------------------\n",
        "# 5. Save to CSV\n",
        "# ----------------------------\n",
        "submission_df.to_csv('/content/drive/My Drive/widsdatathon2025/Work/Submission/submission_orig_data.csv', index=False)\n",
        "print(\"Submission file saved as submission.csv\")\n"
      ],
      "metadata": {
        "colab": {
          "base_uri": "https://localhost:8080/"
        },
        "id": "N2zn_aMmxpZQ",
        "outputId": "75bbd42c-ee3e-44ec-c23c-4300d3598142"
      },
      "execution_count": 112,
      "outputs": [
        {
          "output_type": "stream",
          "name": "stdout",
          "text": [
            "\u001b[1m10/10\u001b[0m \u001b[32m━━━━━━━━━━━━━━━━━━━━\u001b[0m\u001b[37m\u001b[0m \u001b[1m0s\u001b[0m 11ms/step\n",
            "Submission file saved as submission.csv\n"
          ]
        }
      ]
    },
    {
      "cell_type": "markdown",
      "source": [
        "# Threshold Tuning Graph"
      ],
      "metadata": {
        "id": "k9vBUnn6_ICy"
      }
    },
    {
      "cell_type": "code",
      "source": [
        "# prompt: generate a threshold tuning graph for ADHD and Sex_F\n",
        "\n",
        "import numpy as np\n",
        "from sklearn.metrics import f1_score\n",
        "import matplotlib.pyplot as plt\n",
        "\n",
        "# Assuming y_val_adhd_prob, y_val_sex_prob, y_val_adhd_split, and y_val_sex_split are defined as in your code.\n",
        "\n",
        "# Function to compute the weighted F1 score (same as before)\n",
        "def compute_weighted_f1(y_true_adhd, y_pred_adhd, y_true_sex, y_pred_sex):\n",
        "    weights = np.ones_like(y_true_adhd, dtype=float)\n",
        "    weights[(y_true_adhd == 1) & (y_true_sex == 1)] = 2.0\n",
        "    f1_adhd = f1_score(y_true_adhd, y_pred_adhd, sample_weight=weights)\n",
        "    f1_sex = f1_score(y_true_sex, y_pred_sex)\n",
        "    final_f1 = (f1_adhd + f1_sex) / 2.0\n",
        "    return final_f1, f1_adhd, f1_sex\n",
        "\n",
        "\n",
        "thresholds = np.linspace(0, 1, 101)\n",
        "f1_scores_adhd = []\n",
        "f1_scores_sex = []\n",
        "\n",
        "for threshold in thresholds:\n",
        "    y_pred_adhd = (y_val_adhd_prob > threshold).astype(int)\n",
        "    y_pred_sex = (y_val_sex_prob > threshold).astype(int)\n",
        "    _, f1_adhd, f1_sex = compute_weighted_f1(y_val_adhd_split, y_pred_adhd, y_val_sex_split, y_pred_sex)\n",
        "    f1_scores_adhd.append(f1_adhd)\n",
        "    f1_scores_sex.append(f1_sex)\n",
        "\n",
        "# Plotting the threshold tuning graph\n",
        "plt.figure(figsize=(10, 6))\n",
        "plt.plot(thresholds, f1_scores_adhd, label='ADHD F1 Score')\n",
        "plt.plot(thresholds, f1_scores_sex, label='Sex_F F1 Score')\n",
        "plt.xlabel('Threshold')\n",
        "plt.ylabel('F1 Score')\n",
        "plt.title('Threshold Tuning Graph for ADHD and Sex_F')\n",
        "plt.legend()\n",
        "plt.grid(True)\n",
        "plt.show()\n"
      ],
      "metadata": {
        "id": "uANRbZqC_KHQ",
        "collapsed": true,
        "colab": {
          "base_uri": "https://localhost:8080/",
          "height": 564
        },
        "outputId": "b1331e64-1172-454d-b676-a3cad23108ec"
      },
      "execution_count": 107,
      "outputs": [
        {
          "output_type": "display_data",
          "data": {
            "text/plain": [
              "<Figure size 1000x600 with 1 Axes>"
            ],
            "image/png": "[encoded data removed]"
          },
          "metadata": {}
        }
      ]
    },
    {
      "cell_type": "markdown",
      "source": [
        "# Two Model Data Processing: Test metadata + fmri with no or few missing values"
      ],
      "metadata": {
        "id": "YYe6ynNZsi1Q"
      }
    },
    {
      "cell_type": "code",
      "source": [
        "# prompt: Access data from google drive\n",
        "from google.colab import drive\n",
        "drive.mount('/content/drive')\n",
        "\n",
        "# Import train categorical data (1213, 10)\n",
        "train_cat = pd.read_excel(\"drive/My Drive/widsdatathon2025/TRAIN_NEW/TRAIN_CATEGORICAL_METADATA_new.xlsx\")\n",
        "# train_cat.shape\n",
        "# train_cat.describe()\n",
        "\n",
        "# Import train quantitative data (1213, 19)\n",
        "train_quant = pd.read_excel(\"drive/My Drive/widsdatathon2025/TRAIN_NEW/TRAIN_QUANTITATIVE_METADATA_new.xlsx\")\n",
        "# train_quant.shape\n",
        "# train_quant.describe()\n",
        "\n",
        "# Import solution w outcome data (1213, 3)\n",
        "train_sol = pd.read_excel(\"drive/My Drive/widsdatathon2025/TRAIN_NEW/TRAINING_SOLUTIONS.xlsx\")\n",
        "# train_sol.shape\n",
        "# train_sol.describe()\n",
        "\n",
        "# Merge train datasets on the participant ID\n",
        "combined_train_data = pd.merge(train_cat, train_quant, on='participant_id')    # (1213, 28)\n",
        "train_with_outcome = pd.merge(combined_train_data, train_sol, on='participant_id')  # (1213, 30)\n",
        "\n",
        "# # Extract metadata from combined_train_data (skip the participant ID)\n",
        "# metadata = combined_train_data.iloc[:, 1:].to_numpy()  # shape: (1213, 27)\n",
        "\n",
        "# # Standardize metadata\n",
        "# scaler_meta = StandardScaler()\n",
        "# metadata_scaled = scaler_meta.fit_transform(metadata)\n",
        "\n",
        "# Import test categorical data (304, 10)\n",
        "test_cat = pd.read_excel(\"drive/My Drive/widsdatathon2025/TEST/TEST_CATEGORICAL.xlsx\")\n",
        "\n",
        "# Import test quantitative data (304, 19)\n",
        "test_quant = pd.read_excel(\"drive/My Drive/widsdatathon2025/TEST/TEST_QUANTITATIVE_METADATA.xlsx\")\n",
        "\n",
        "# Merge test datasets on the participant ID  (304, 28)\n",
        "combined_test_data = pd.merge(test_cat, test_quant, on='participant_id')\n",
        "test_no_id = combined_test_data.drop(columns=['participant_id'])\n",
        "\n",
        "# Import train MRI data (1213, 19901)\n",
        "train_mri_filepath = \"drive/My Drive/widsdatathon2025/TRAIN_NEW/TRAIN_FUNCTIONAL_CONNECTOME_MATRICES_new_36P_Pearson.csv\"\n",
        "train_mri = pd.read_csv(train_mri_filepath)\n",
        "\n",
        "# Import test MRI data\n",
        "test_mri_filepath = \"drive/My Drive/widsdatathon2025/TEST/TEST_FUNCTIONAL_CONNECTOME_MATRICES.csv\"\n",
        "test_mri = pd.read_csv(test_mri_filepath)\n",
        "\n",
        "# Remove first line, convert csv file to a functional connectome matrix\n",
        "test_matrix_data = test_mri.iloc[:, 1:].to_numpy(dtype=float)  # (304, 19900)\n",
        "\n",
        "# Remove first line, convert csv file to a functional connectome matrix\n",
        "train_matrix_data = train_mri.iloc[:, 1:].to_numpy(dtype=float)\n"
      ],
      "metadata": {
        "colab": {
          "base_uri": "https://localhost:8080/"
        },
        "id": "y70qnoy02Y3T",
        "outputId": "df0da693-625e-4bb9-ce39-fe9e46d0e0e2"
      },
      "execution_count": 130,
      "outputs": [
        {
          "output_type": "stream",
          "name": "stdout",
          "text": [
            "Drive already mounted at /content/drive; to attempt to forcibly remount, call drive.mount(\"/content/drive\", force_remount=True).\n"
          ]
        }
      ]
    },
    {
      "cell_type": "code",
      "source": [
        "from sklearn.impute import KNNImputer\n",
        "import numpy as np\n",
        "\n",
        "# Calculate the percentage of missing values in each column\n",
        "missing_percentage = combined_test_data.isnull().sum() / len(combined_test_data) * 100\n",
        "\n",
        "missing_percentage\n",
        "\n",
        "# Identify columns with more than a certain percentage threshold of missing values\n",
        "threshold = 10  # meaning 10%\n",
        "columns_to_remove = missing_percentage[missing_percentage > threshold].index\n",
        "\n",
        "# Extract columns with massive missing values\n",
        "test_extracted_columns = combined_test_data[columns_to_remove]         # (304, 2)\n",
        "\n",
        "# Extract columns with no or few missing values\n",
        "test_columns_few_missing = combined_test_data.drop(columns=columns_to_remove)     # (304,26)\n",
        "\n",
        "# Combine columns_few_missing with fmri\n",
        "test_features_few_missing = np.hstack([test_columns_few_missing, test_matrix_data])\n",
        "\n",
        "# Replace \"NA\" with np.nan\n",
        "test_features_few_missing[test_features_few_missing == \"NA\"] = np.nan\n",
        "\n",
        "# Remove Patient ID\n",
        "test_features_few_missing = test_features_few_missing[:, 1:]\n",
        "\n",
        "# Convert the features_few_missing to float\n",
        "test_features_few_missing = test_features_few_missing.astype(float)\n",
        "\n",
        "# Impute missing values with KNN imputation\n",
        "imputer_metadata = KNNImputer(n_neighbors=5)  # Using KNN for imputation instead of mean\n",
        "combined_test_metadata_imputed2 = imputer_metadata.fit_transform(test_features_few_missing)  # (304, 19925)\n"
      ],
      "metadata": {
        "id": "nYg0G-bqsiWQ"
      },
      "execution_count": 132,
      "outputs": []
    },
    {
      "cell_type": "markdown",
      "source": [
        "# Two Model Data Processing: Train metadata + fmri with no or few missing values"
      ],
      "metadata": {
        "id": "tmnCAgwK6ZOF"
      }
    },
    {
      "cell_type": "code",
      "source": [
        "# Extract columns with massive missing values\n",
        "extracted_columns = combined_train_data[columns_to_remove]         # (1213, 2)\n",
        "\n",
        "# Extract columns with no or few missing values\n",
        "columns_few_missing = combined_train_data.drop(columns=columns_to_remove)     # (1213, 26)\n",
        "\n",
        "# Combine columns_few_missing with fmri\n",
        "features_few_missing = np.hstack([columns_few_missing, train_matrix_data])\n",
        "\n",
        "# Replace \"NA\" with np.nan\n",
        "features_few_missing[features_few_missing == \"NA\"] = np.nan\n",
        "\n",
        "# Remove Patient ID\n",
        "features_few_missing = features_few_missing[:, 1:]\n",
        "\n",
        "# Convert the features_few_missing to float\n",
        "features_few_missing = features_few_missing.astype(float)\n",
        "\n",
        "# Impute missing values with KNN imputation\n",
        "imputer_metadata = KNNImputer(n_neighbors=5)  # Using KNN for imputation instead of mean\n",
        "combined_metadata_imputed2 = imputer_metadata.fit_transform(features_few_missing)  # (1213, 19925)"
      ],
      "metadata": {
        "id": "_zloNlNQ6Yff"
      },
      "execution_count": 136,
      "outputs": []
    },
    {
      "cell_type": "code",
      "source": [
        "combined_metadata_imputed2.shape"
      ],
      "metadata": {
        "id": "H6_9LlOR_Avz",
        "outputId": "cbc4e1ba-232e-4f41-f053-736b820b0ced",
        "colab": {
          "base_uri": "https://localhost:8080/"
        }
      },
      "execution_count": 137,
      "outputs": [
        {
          "output_type": "execute_result",
          "data": {
            "text/plain": [
              "(1213, 19925)"
            ]
          },
          "metadata": {},
          "execution_count": 137
        }
      ]
    },
    {
      "cell_type": "markdown",
      "source": [
        "# Neural Network Model"
      ],
      "metadata": {
        "id": "2OOqf0kd6iYp"
      }
    },
    {
      "cell_type": "code",
      "source": [
        "import tensorflow as tf\n",
        "from tensorflow.keras.models import Model\n",
        "from tensorflow.keras.layers import Input, Dense, Dropout, BatchNormalization\n",
        "from tensorflow.keras.callbacks import EarlyStopping\n",
        "from tensorflow.keras.regularizers import l2\n",
        "from sklearn.model_selection import train_test_split\n",
        "from sklearn.preprocessing import StandardScaler\n",
        "from sklearn.metrics import f1_score\n",
        "import numpy as np\n",
        "\n",
        "# --- Define the function to compute weighted F1 score ---\n",
        "def compute_weighted_f1(y_true_adhd, y_pred_adhd, y_true_sex, y_pred_sex):\n",
        "    \"\"\"\n",
        "    Compute the final weighted F1 score for the competition.\n",
        "    Female ADHD cases (where ADHD_Outcome==1 and Sex_F==1) are given 2x weight.\n",
        "    The final score is the average of the weighted F1 for ADHD_Outcome and the F1 for Sex_F.\n",
        "    \"\"\"\n",
        "    # Create sample weights for ADHD_Outcome: weight=2 for female ADHD cases, else 1.\n",
        "    weights = np.ones_like(y_true_adhd, dtype=float)\n",
        "    weights[(y_true_adhd == 1) & (y_true_sex == 1)] = 2.0\n",
        "\n",
        "    # Calculate weighted F1 for ADHD_Outcome\n",
        "    f1_adhd = f1_score(y_true_adhd, y_pred_adhd, sample_weight=weights)\n",
        "    # Calculate standard F1 for Sex_F\n",
        "    f1_sex = f1_score(y_true_sex, y_pred_sex)\n",
        "\n",
        "    # Final leaderboard score: average of the two F1 scores\n",
        "    final_f1 = (f1_adhd + f1_sex) / 2.0\n",
        "    return final_f1, f1_adhd, f1_sex\n",
        "\n",
        "# --- Prepare the data ---\n",
        "# Use combined_metadata_imputed as input features.\n",
        "X = combined_metadata_imputed2  # (1213, 19925)\n",
        "# Extract targets from train_sol:\n",
        "y_adhd = train_sol['ADHD_Outcome'].values  # Binary labels (0 or 1)\n",
        "y_sex  = train_sol['Sex_F'].values         # Binary labels (0 or 1)\n",
        "\n",
        "# Standardize features.\n",
        "scaler = StandardScaler()\n",
        "X_scaled = scaler.fit_transform(X)\n",
        "\n",
        "# Split into training and validation sets.\n",
        "# Note: We split the labels separately but the splits will be aligned because we use the same X_scaled.\n",
        "X_train_split, X_val_split, y_train_adhd_split, y_val_adhd_split = train_test_split(\n",
        "    X_scaled, y_adhd, test_size=0.2, random_state=42\n",
        ")\n",
        "_, _, y_train_sex_split, y_val_sex_split = train_test_split(\n",
        "    X_scaled, y_sex, test_size=0.2, random_state=42\n",
        ")\n",
        "\n",
        "# --- Build the multi-output neural network model ---\n",
        "input_layer = Input(shape=(X_train_split.shape[1],))\n",
        "x = Dense(128, activation='relu', kernel_regularizer=l2(0.01))(input_layer)\n",
        "x = Dropout(0.5)(x)\n",
        "x = BatchNormalization()(x)\n",
        "x = Dense(64, activation='relu', kernel_regularizer=l2(0.01))(x)\n",
        "x = Dropout(0.5)(x)\n",
        "x = BatchNormalization()(x)\n",
        "x = Dense(32, activation='relu', kernel_regularizer=l2(0.01))(x)\n",
        "\n",
        "# Two separate output layers:\n",
        "output_adhd = Dense(1, activation='sigmoid', name='adhd_output')(x)\n",
        "output_sex  = Dense(1, activation='sigmoid', name='sex_output')(x)\n",
        "\n",
        "model2 = Model(inputs=input_layer, outputs=[output_adhd, output_sex])\n",
        "\n",
        "# Compile the model.\n",
        "model2.compile(optimizer=tf.keras.optimizers.Adam(learning_rate=0.0005),\n",
        "              loss='binary_crossentropy',\n",
        "              metrics={'adhd_output': 'accuracy', 'sex_output': 'accuracy'})\n",
        "\n",
        "\n",
        "# Set up early stopping.\n",
        "early_stopping = EarlyStopping(monitor='val_loss', patience=10, restore_best_weights=True)\n",
        "\n",
        "# --- Train the model ---\n",
        "history = model2.fit(\n",
        "    X_train_split,\n",
        "    {'adhd_output': y_train_adhd_split, 'sex_output': y_train_sex_split},\n",
        "    epochs=100,\n",
        "    batch_size=32,\n",
        "    validation_data=(X_val_split, {'adhd_output': y_val_adhd_split, 'sex_output': y_val_sex_split}),\n",
        "    callbacks=[early_stopping]\n",
        ")\n",
        "\n",
        "# --- Evaluate the model ---\n",
        "results = model2.evaluate(X_val_split, {'adhd_output': y_val_adhd_split, 'sex_output': y_val_sex_split})\n",
        "print(\"Evaluation Results:\", results)\n",
        "\n",
        "# --- Make predictions on the validation set ---\n",
        "predictions2 = model2.predict(X_val_split)       # (243, 2)\n",
        "# predictions is a list: predictions[0] for ADHD_Outcome, predictions[1] for Sex_F.\n",
        "y_val_pred_adhd2 = (predictions2[0] > 0.5).astype(int).flatten()\n",
        "y_val_pred_sex2  = (predictions2[1] > 0.5).astype(int).flatten()\n",
        "\n",
        "# --- Compute the weighted F1 score ---\n",
        "final_f1, f1_adhd, f1_sex = compute_weighted_f1(y_val_adhd_split, y_val_pred_adhd2, y_val_sex_split, y_val_pred_sex2)\n",
        "\n",
        "print(f\"ADHD F1 Score (weighted): {f1_adhd:.4f}\")\n",
        "print(f\"Sex_F F1 Score: {f1_sex:.4f}\")\n",
        "print(f\"Final Weighted F1 Score: {final_f1:.4f}\")\n",
        "\n"
      ],
      "metadata": {
        "collapsed": true,
        "colab": {
          "base_uri": "https://localhost:8080/"
        },
        "id": "g-afr4Mg6h-I",
        "outputId": "85cc9bc3-ceb7-4153-b4af-5fe9aae55606"
      },
      "execution_count": 138,
      "outputs": [
        {
          "output_type": "stream",
          "name": "stdout",
          "text": [
            "Epoch 1/100\n",
            "\u001b[1m31/31\u001b[0m \u001b[32m━━━━━━━━━━━━━━━━━━━━\u001b[0m\u001b[37m\u001b[0m \u001b[1m6s\u001b[0m 61ms/step - adhd_output_accuracy: 0.4765 - adhd_output_loss: 0.8054 - loss: 5.3705 - sex_output_accuracy: 0.6072 - sex_output_loss: 0.7121 - val_adhd_output_accuracy: 0.6749 - val_adhd_output_loss: 0.6932 - val_loss: 5.2424 - val_sex_output_accuracy: 0.6708 - val_sex_output_loss: 0.7262\n",
            "Epoch 2/100\n",
            "\u001b[1m31/31\u001b[0m \u001b[32m━━━━━━━━━━━━━━━━━━━━\u001b[0m\u001b[37m\u001b[0m \u001b[1m1s\u001b[0m 44ms/step - adhd_output_accuracy: 0.5665 - adhd_output_loss: 0.7182 - loss: 5.1689 - sex_output_accuracy: 0.6170 - sex_output_loss: 0.6843 - val_adhd_output_accuracy: 0.6831 - val_adhd_output_loss: 0.6528 - val_loss: 4.9298 - val_sex_output_accuracy: 0.6667 - val_sex_output_loss: 0.6865\n",
            "Epoch 3/100\n",
            "\u001b[1m31/31\u001b[0m \u001b[32m━━━━━━━━━━━━━━━━━━━━\u001b[0m\u001b[37m\u001b[0m \u001b[1m1s\u001b[0m 43ms/step - adhd_output_accuracy: 0.6582 - adhd_output_loss: 0.6311 - loss: 4.8241 - sex_output_accuracy: 0.6285 - sex_output_loss: 0.6710 - val_adhd_output_accuracy: 0.6914 - val_adhd_output_loss: 0.6260 - val_loss: 4.6103 - val_sex_output_accuracy: 0.6626 - val_sex_output_loss: 0.6664\n",
            "Epoch 4/100\n",
            "\u001b[1m31/31\u001b[0m \u001b[32m━━━━━━━━━━━━━━━━━━━━\u001b[0m\u001b[37m\u001b[0m \u001b[1m2s\u001b[0m 52ms/step - adhd_output_accuracy: 0.6640 - adhd_output_loss: 0.6240 - loss: 4.5036 - sex_output_accuracy: 0.6656 - sex_output_loss: 0.6247 - val_adhd_output_accuracy: 0.7078 - val_adhd_output_loss: 0.6195 - val_loss: 4.3373 - val_sex_output_accuracy: 0.6420 - val_sex_output_loss: 0.6622\n",
            "Epoch 5/100\n",
            "\u001b[1m31/31\u001b[0m \u001b[32m━━━━━━━━━━━━━━━━━━━━\u001b[0m\u001b[37m\u001b[0m \u001b[1m3s\u001b[0m 63ms/step - adhd_output_accuracy: 0.6793 - adhd_output_loss: 0.6183 - loss: 4.2546 - sex_output_accuracy: 0.6325 - sex_output_loss: 0.6453 - val_adhd_output_accuracy: 0.7160 - val_adhd_output_loss: 0.6122 - val_loss: 4.0805 - val_sex_output_accuracy: 0.5926 - val_sex_output_loss: 0.6739\n",
            "Epoch 6/100\n",
            "\u001b[1m31/31\u001b[0m \u001b[32m━━━━━━━━━━━━━━━━━━━━\u001b[0m\u001b[37m\u001b[0m \u001b[1m2s\u001b[0m 42ms/step - adhd_output_accuracy: 0.6565 - adhd_output_loss: 0.6339 - loss: 3.9879 - sex_output_accuracy: 0.6485 - sex_output_loss: 0.6184 - val_adhd_output_accuracy: 0.7202 - val_adhd_output_loss: 0.6116 - val_loss: 3.8396 - val_sex_output_accuracy: 0.5967 - val_sex_output_loss: 0.6738\n",
            "Epoch 7/100\n",
            "\u001b[1m31/31\u001b[0m \u001b[32m━━━━━━━━━━━━━━━━━━━━\u001b[0m\u001b[37m\u001b[0m \u001b[1m3s\u001b[0m 42ms/step - adhd_output_accuracy: 0.6697 - adhd_output_loss: 0.6057 - loss: 3.6954 - sex_output_accuracy: 0.7203 - sex_output_loss: 0.5866 - val_adhd_output_accuracy: 0.7202 - val_adhd_output_loss: 0.6055 - val_loss: 3.6340 - val_sex_output_accuracy: 0.5638 - val_sex_output_loss: 0.6801\n",
            "Epoch 8/100\n",
            "\u001b[1m31/31\u001b[0m \u001b[32m━━━━━━━━━━━━━━━━━━━━\u001b[0m\u001b[37m\u001b[0m \u001b[1m1s\u001b[0m 41ms/step - adhd_output_accuracy: 0.6881 - adhd_output_loss: 0.5957 - loss: 3.5194 - sex_output_accuracy: 0.6832 - sex_output_loss: 0.6023 - val_adhd_output_accuracy: 0.7160 - val_adhd_output_loss: 0.6048 - val_loss: 3.5079 - val_sex_output_accuracy: 0.5720 - val_sex_output_loss: 0.6846\n",
            "Epoch 9/100\n",
            "\u001b[1m31/31\u001b[0m \u001b[32m━━━━━━━━━━━━━━━━━━━━\u001b[0m\u001b[37m\u001b[0m \u001b[1m3s\u001b[0m 43ms/step - adhd_output_accuracy: 0.6884 - adhd_output_loss: 0.5928 - loss: 3.3567 - sex_output_accuracy: 0.6953 - sex_output_loss: 0.5884 - val_adhd_output_accuracy: 0.7160 - val_adhd_output_loss: 0.6078 - val_loss: 3.3399 - val_sex_output_accuracy: 0.5802 - val_sex_output_loss: 0.6817\n",
            "Epoch 10/100\n",
            "\u001b[1m31/31\u001b[0m \u001b[32m━━━━━━━━━━━━━━━━━━━━\u001b[0m\u001b[37m\u001b[0m \u001b[1m1s\u001b[0m 41ms/step - adhd_output_accuracy: 0.7270 - adhd_output_loss: 0.5604 - loss: 3.1704 - sex_output_accuracy: 0.6516 - sex_output_loss: 0.5985 - val_adhd_output_accuracy: 0.7078 - val_adhd_output_loss: 0.6117 - val_loss: 3.1965 - val_sex_output_accuracy: 0.5597 - val_sex_output_loss: 0.6836\n",
            "Epoch 11/100\n",
            "\u001b[1m31/31\u001b[0m \u001b[32m━━━━━━━━━━━━━━━━━━━━\u001b[0m\u001b[37m\u001b[0m \u001b[1m4s\u001b[0m 90ms/step - adhd_output_accuracy: 0.7106 - adhd_output_loss: 0.5476 - loss: 2.9756 - sex_output_accuracy: 0.7192 - sex_output_loss: 0.5566 - val_adhd_output_accuracy: 0.6955 - val_adhd_output_loss: 0.5991 - val_loss: 3.0647 - val_sex_output_accuracy: 0.5391 - val_sex_output_loss: 0.6869\n",
            "Epoch 12/100\n",
            "\u001b[1m31/31\u001b[0m \u001b[32m━━━━━━━━━━━━━━━━━━━━\u001b[0m\u001b[37m\u001b[0m \u001b[1m3s\u001b[0m 86ms/step - adhd_output_accuracy: 0.7261 - adhd_output_loss: 0.5463 - loss: 2.8417 - sex_output_accuracy: 0.7178 - sex_output_loss: 0.5433 - val_adhd_output_accuracy: 0.7037 - val_adhd_output_loss: 0.6007 - val_loss: 2.9734 - val_sex_output_accuracy: 0.5391 - val_sex_output_loss: 0.6979\n",
            "Epoch 13/100\n",
            "\u001b[1m31/31\u001b[0m \u001b[32m━━━━━━━━━━━━━━━━━━━━\u001b[0m\u001b[37m\u001b[0m \u001b[1m4s\u001b[0m 67ms/step - adhd_output_accuracy: 0.7595 - adhd_output_loss: 0.5086 - loss: 2.6781 - sex_output_accuracy: 0.7344 - sex_output_loss: 0.5135 - val_adhd_output_accuracy: 0.7119 - val_adhd_output_loss: 0.6042 - val_loss: 2.9001 - val_sex_output_accuracy: 0.5185 - val_sex_output_loss: 0.6990\n",
            "Epoch 14/100\n",
            "\u001b[1m31/31\u001b[0m \u001b[32m━━━━━━━━━━━━━━━━━━━━\u001b[0m\u001b[37m\u001b[0m \u001b[1m2s\u001b[0m 60ms/step - adhd_output_accuracy: 0.7289 - adhd_output_loss: 0.5184 - loss: 2.6307 - sex_output_accuracy: 0.7263 - sex_output_loss: 0.5270 - val_adhd_output_accuracy: 0.6914 - val_adhd_output_loss: 0.6138 - val_loss: 2.8575 - val_sex_output_accuracy: 0.5309 - val_sex_output_loss: 0.7013\n",
            "Epoch 15/100\n",
            "\u001b[1m31/31\u001b[0m \u001b[32m━━━━━━━━━━━━━━━━━━━━\u001b[0m\u001b[37m\u001b[0m \u001b[1m3s\u001b[0m 73ms/step - adhd_output_accuracy: 0.7240 - adhd_output_loss: 0.5208 - loss: 2.5723 - sex_output_accuracy: 0.7416 - sex_output_loss: 0.5096 - val_adhd_output_accuracy: 0.6872 - val_adhd_output_loss: 0.6212 - val_loss: 2.8508 - val_sex_output_accuracy: 0.5062 - val_sex_output_loss: 0.7169\n",
            "Epoch 16/100\n",
            "\u001b[1m31/31\u001b[0m \u001b[32m━━━━━━━━━━━━━━━━━━━━\u001b[0m\u001b[37m\u001b[0m \u001b[1m2s\u001b[0m 63ms/step - adhd_output_accuracy: 0.7648 - adhd_output_loss: 0.4790 - loss: 2.5212 - sex_output_accuracy: 0.7016 - sex_output_loss: 0.5337 - val_adhd_output_accuracy: 0.6872 - val_adhd_output_loss: 0.6249 - val_loss: 2.8159 - val_sex_output_accuracy: 0.5226 - val_sex_output_loss: 0.7209\n",
            "Epoch 17/100\n",
            "\u001b[1m31/31\u001b[0m \u001b[32m━━━━━━━━━━━━━━━━━━━━\u001b[0m\u001b[37m\u001b[0m \u001b[1m1s\u001b[0m 44ms/step - adhd_output_accuracy: 0.7850 - adhd_output_loss: 0.4714 - loss: 2.4172 - sex_output_accuracy: 0.7898 - sex_output_loss: 0.4711 - val_adhd_output_accuracy: 0.6667 - val_adhd_output_loss: 0.6331 - val_loss: 2.8075 - val_sex_output_accuracy: 0.5473 - val_sex_output_loss: 0.7202\n",
            "Epoch 18/100\n",
            "\u001b[1m31/31\u001b[0m \u001b[32m━━━━━━━━━━━━━━━━━━━━\u001b[0m\u001b[37m\u001b[0m \u001b[1m2s\u001b[0m 43ms/step - adhd_output_accuracy: 0.8021 - adhd_output_loss: 0.4481 - loss: 2.3988 - sex_output_accuracy: 0.7634 - sex_output_loss: 0.5026 - val_adhd_output_accuracy: 0.6831 - val_adhd_output_loss: 0.6405 - val_loss: 2.7725 - val_sex_output_accuracy: 0.5638 - val_sex_output_loss: 0.7212\n",
            "Epoch 19/100\n",
            "\u001b[1m31/31\u001b[0m \u001b[32m━━━━━━━━━━━━━━━━━━━━\u001b[0m\u001b[37m\u001b[0m \u001b[1m3s\u001b[0m 45ms/step - adhd_output_accuracy: 0.8065 - adhd_output_loss: 0.4390 - loss: 2.3168 - sex_output_accuracy: 0.7815 - sex_output_loss: 0.4715 - val_adhd_output_accuracy: 0.6584 - val_adhd_output_loss: 0.6463 - val_loss: 2.7433 - val_sex_output_accuracy: 0.5473 - val_sex_output_loss: 0.7263\n",
            "Epoch 20/100\n",
            "\u001b[1m31/31\u001b[0m \u001b[32m━━━━━━━━━━━━━━━━━━━━\u001b[0m\u001b[37m\u001b[0m \u001b[1m1s\u001b[0m 41ms/step - adhd_output_accuracy: 0.8089 - adhd_output_loss: 0.4284 - loss: 2.2777 - sex_output_accuracy: 0.7841 - sex_output_loss: 0.4784 - val_adhd_output_accuracy: 0.6872 - val_adhd_output_loss: 0.6613 - val_loss: 2.7571 - val_sex_output_accuracy: 0.5103 - val_sex_output_loss: 0.7523\n",
            "Epoch 21/100\n",
            "\u001b[1m31/31\u001b[0m \u001b[32m━━━━━━━━━━━━━━━━━━━━\u001b[0m\u001b[37m\u001b[0m \u001b[1m1s\u001b[0m 45ms/step - adhd_output_accuracy: 0.7992 - adhd_output_loss: 0.4126 - loss: 2.1771 - sex_output_accuracy: 0.8219 - sex_output_loss: 0.4302 - val_adhd_output_accuracy: 0.7037 - val_adhd_output_loss: 0.6507 - val_loss: 2.7153 - val_sex_output_accuracy: 0.4938 - val_sex_output_loss: 0.7632\n",
            "Epoch 22/100\n",
            "\u001b[1m31/31\u001b[0m \u001b[32m━━━━━━━━━━━━━━━━━━━━\u001b[0m\u001b[37m\u001b[0m \u001b[1m2s\u001b[0m 61ms/step - adhd_output_accuracy: 0.8487 - adhd_output_loss: 0.3734 - loss: 2.0730 - sex_output_accuracy: 0.8227 - sex_output_loss: 0.4023 - val_adhd_output_accuracy: 0.6996 - val_adhd_output_loss: 0.6451 - val_loss: 2.6823 - val_sex_output_accuracy: 0.4856 - val_sex_output_loss: 0.7600\n",
            "Epoch 23/100\n",
            "\u001b[1m31/31\u001b[0m \u001b[32m━━━━━━━━━━━━━━━━━━━━\u001b[0m\u001b[37m\u001b[0m \u001b[1m2s\u001b[0m 59ms/step - adhd_output_accuracy: 0.8393 - adhd_output_loss: 0.3817 - loss: 2.0611 - sex_output_accuracy: 0.8343 - sex_output_loss: 0.3970 - val_adhd_output_accuracy: 0.6790 - val_adhd_output_loss: 0.6461 - val_loss: 2.6615 - val_sex_output_accuracy: 0.5473 - val_sex_output_loss: 0.7271\n",
            "Epoch 24/100\n",
            "\u001b[1m31/31\u001b[0m \u001b[32m━━━━━━━━━━━━━━━━━━━━\u001b[0m\u001b[37m\u001b[0m \u001b[1m1s\u001b[0m 42ms/step - adhd_output_accuracy: 0.8446 - adhd_output_loss: 0.3801 - loss: 2.0703 - sex_output_accuracy: 0.8268 - sex_output_loss: 0.4008 - val_adhd_output_accuracy: 0.6790 - val_adhd_output_loss: 0.6726 - val_loss: 2.7200 - val_sex_output_accuracy: 0.5185 - val_sex_output_loss: 0.7705\n",
            "Epoch 25/100\n",
            "\u001b[1m31/31\u001b[0m \u001b[32m━━━━━━━━━━━━━━━━━━━━\u001b[0m\u001b[37m\u001b[0m \u001b[1m3s\u001b[0m 42ms/step - adhd_output_accuracy: 0.8151 - adhd_output_loss: 0.3936 - loss: 2.1045 - sex_output_accuracy: 0.8167 - sex_output_loss: 0.3911 - val_adhd_output_accuracy: 0.6255 - val_adhd_output_loss: 0.7136 - val_loss: 2.8708 - val_sex_output_accuracy: 0.5267 - val_sex_output_loss: 0.7956\n",
            "Epoch 26/100\n",
            "\u001b[1m31/31\u001b[0m \u001b[32m━━━━━━━━━━━━━━━━━━━━\u001b[0m\u001b[37m\u001b[0m \u001b[1m3s\u001b[0m 44ms/step - adhd_output_accuracy: 0.8601 - adhd_output_loss: 0.3511 - loss: 2.0608 - sex_output_accuracy: 0.8605 - sex_output_loss: 0.3355 - val_adhd_output_accuracy: 0.6584 - val_adhd_output_loss: 0.6952 - val_loss: 2.8200 - val_sex_output_accuracy: 0.5103 - val_sex_output_loss: 0.7750\n",
            "Epoch 27/100\n",
            "\u001b[1m31/31\u001b[0m \u001b[32m━━━━━━━━━━━━━━━━━━━━\u001b[0m\u001b[37m\u001b[0m \u001b[1m1s\u001b[0m 41ms/step - adhd_output_accuracy: 0.8408 - adhd_output_loss: 0.3550 - loss: 2.0510 - sex_output_accuracy: 0.8528 - sex_output_loss: 0.3428 - val_adhd_output_accuracy: 0.6667 - val_adhd_output_loss: 0.7054 - val_loss: 2.8245 - val_sex_output_accuracy: 0.5185 - val_sex_output_loss: 0.8125\n",
            "Epoch 28/100\n",
            "\u001b[1m31/31\u001b[0m \u001b[32m━━━━━━━━━━━━━━━━━━━━\u001b[0m\u001b[37m\u001b[0m \u001b[1m3s\u001b[0m 56ms/step - adhd_output_accuracy: 0.8222 - adhd_output_loss: 0.3798 - loss: 2.0458 - sex_output_accuracy: 0.8360 - sex_output_loss: 0.3597 - val_adhd_output_accuracy: 0.6749 - val_adhd_output_loss: 0.7102 - val_loss: 2.7971 - val_sex_output_accuracy: 0.5350 - val_sex_output_loss: 0.8071\n",
            "Epoch 29/100\n",
            "\u001b[1m31/31\u001b[0m \u001b[32m━━━━━━━━━━━━━━━━━━━━\u001b[0m\u001b[37m\u001b[0m \u001b[1m2s\u001b[0m 62ms/step - adhd_output_accuracy: 0.8463 - adhd_output_loss: 0.3396 - loss: 1.9550 - sex_output_accuracy: 0.8636 - sex_output_loss: 0.3192 - val_adhd_output_accuracy: 0.6584 - val_adhd_output_loss: 0.7334 - val_loss: 2.8598 - val_sex_output_accuracy: 0.5021 - val_sex_output_loss: 0.8296\n",
            "Epoch 30/100\n",
            "\u001b[1m31/31\u001b[0m \u001b[32m━━━━━━━━━━━━━━━━━━━━\u001b[0m\u001b[37m\u001b[0m \u001b[1m2s\u001b[0m 57ms/step - adhd_output_accuracy: 0.8895 - adhd_output_loss: 0.2925 - loss: 1.8921 - sex_output_accuracy: 0.8768 - sex_output_loss: 0.3036 - val_adhd_output_accuracy: 0.6626 - val_adhd_output_loss: 0.7415 - val_loss: 2.8230 - val_sex_output_accuracy: 0.5185 - val_sex_output_loss: 0.8265\n",
            "Epoch 31/100\n",
            "\u001b[1m31/31\u001b[0m \u001b[32m━━━━━━━━━━━━━━━━━━━━\u001b[0m\u001b[37m\u001b[0m \u001b[1m2s\u001b[0m 46ms/step - adhd_output_accuracy: 0.8691 - adhd_output_loss: 0.2919 - loss: 1.8712 - sex_output_accuracy: 0.8833 - sex_output_loss: 0.3054 - val_adhd_output_accuracy: 0.6214 - val_adhd_output_loss: 0.7812 - val_loss: 2.9547 - val_sex_output_accuracy: 0.5103 - val_sex_output_loss: 0.8860\n",
            "Epoch 32/100\n",
            "\u001b[1m31/31\u001b[0m \u001b[32m━━━━━━━━━━━━━━━━━━━━\u001b[0m\u001b[37m\u001b[0m \u001b[1m1s\u001b[0m 44ms/step - adhd_output_accuracy: 0.8691 - adhd_output_loss: 0.3181 - loss: 2.0298 - sex_output_accuracy: 0.8317 - sex_output_loss: 0.3821 - val_adhd_output_accuracy: 0.6543 - val_adhd_output_loss: 0.7569 - val_loss: 2.9489 - val_sex_output_accuracy: 0.5885 - val_sex_output_loss: 0.8188\n",
            "Epoch 33/100\n",
            "\u001b[1m31/31\u001b[0m \u001b[32m━━━━━━━━━━━━━━━━━━━━\u001b[0m\u001b[37m\u001b[0m \u001b[1m1s\u001b[0m 44ms/step - adhd_output_accuracy: 0.8828 - adhd_output_loss: 0.2718 - loss: 1.9989 - sex_output_accuracy: 0.8639 - sex_output_loss: 0.3298 - val_adhd_output_accuracy: 0.6584 - val_adhd_output_loss: 0.7465 - val_loss: 2.9483 - val_sex_output_accuracy: 0.5597 - val_sex_output_loss: 0.8143\n",
            "\u001b[1m8/8\u001b[0m \u001b[32m━━━━━━━━━━━━━━━━━━━━\u001b[0m\u001b[37m\u001b[0m \u001b[1m0s\u001b[0m 14ms/step - adhd_output_accuracy: 0.6991 - adhd_output_loss: 0.6191 - loss: 2.6486 - sex_output_accuracy: 0.5433 - sex_output_loss: 0.7436\n",
            "Evaluation Results: [2.6615452766418457, 0.6460829377174377, 0.7270802855491638, 0.6790123581886292, 0.547325074672699]\n",
            "\u001b[1m8/8\u001b[0m \u001b[32m━━━━━━━━━━━━━━━━━━━━\u001b[0m\u001b[37m\u001b[0m \u001b[1m0s\u001b[0m 23ms/step\n",
            "ADHD F1 Score (weighted): 0.8253\n",
            "Sex_F F1 Score: 0.3529\n",
            "Final Weighted F1 Score: 0.5891\n"
          ]
        }
      ]
    },
    {
      "cell_type": "code",
      "source": [
        "# prompt: save probability predictions to csv\n",
        "\n",
        "# Make predictions on the test set\n",
        "test_predictions2 = model2.predict(scaler.transform(combined_test_metadata_imputed2))\n",
        "\n",
        "# Create a DataFrame for the predictions     # (304, 3)\n",
        "predictions_df2 = pd.DataFrame({\n",
        "    'participant_id': test_patient_ids,\n",
        "    'ADHD_Outcome_Probability': test_predictions2[0].flatten(),\n",
        "    'Sex_F_Probability': test_predictions2[1].flatten()\n",
        "})\n",
        "\n",
        "predictions_df2\n",
        "# Save the predictions to a CSV file\n",
        "predictions_df2.to_csv('/content/drive/My Drive/widsdatathon2025/Work/Prediction/nn_wo_missing_data.csv', index=False)"
      ],
      "metadata": {
        "collapsed": true,
        "id": "-8BVk3znzPKn",
        "outputId": "20957f4b-7ab5-414c-ab35-1968559d6c91",
        "colab": {
          "base_uri": "https://localhost:8080/"
        }
      },
      "execution_count": 117,
      "outputs": [
        {
          "output_type": "stream",
          "name": "stdout",
          "text": [
            "\u001b[1m10/10\u001b[0m \u001b[32m━━━━━━━━━━━━━━━━━━━━\u001b[0m\u001b[37m\u001b[0m \u001b[1m0s\u001b[0m 7ms/step \n"
          ]
        }
      ]
    },
    {
      "cell_type": "code",
      "source": [
        "combined_test_metadata_imputed2.shape"
      ],
      "metadata": {
        "id": "xxiCZklb84Q5",
        "outputId": "447abd70-c0f5-429d-a152-3a1c37c1b9a4",
        "colab": {
          "base_uri": "https://localhost:8080/"
        }
      },
      "execution_count": 118,
      "outputs": [
        {
          "output_type": "execute_result",
          "data": {
            "text/plain": [
              "(304, 19927)"
            ]
          },
          "metadata": {},
          "execution_count": 118
        }
      ]
    },
    {
      "cell_type": "code",
      "source": [
        "combined_test_metadata_imputed.shape"
      ],
      "metadata": {
        "id": "h0xkRp2j81Dp",
        "outputId": "bed703df-380d-4e10-f5a9-35deb29d1cb8",
        "colab": {
          "base_uri": "https://localhost:8080/"
        }
      },
      "execution_count": 119,
      "outputs": [
        {
          "output_type": "execute_result",
          "data": {
            "text/plain": [
              "(304, 19927)"
            ]
          },
          "metadata": {},
          "execution_count": 119
        }
      ]
    },
    {
      "cell_type": "markdown",
      "source": [
        "# Model Ensemble\n"
      ],
      "metadata": {
        "id": "SEygbk-45qg5"
      }
    },
    {
      "cell_type": "markdown",
      "source": [
        "# Threshold Tuning"
      ],
      "metadata": {
        "id": "CdvkLrxt8Cug"
      }
    },
    {
      "cell_type": "code",
      "source": [
        "# prompt: ensemble model and model 2 and combine prediction_df and prediction_df2\n",
        "\n",
        "\n",
        "# --- Define the function to compute weighted F1 score ---\n",
        "def compute_weighted_f1(y_true_adhd, y_pred_adhd, y_true_sex, y_pred_sex):\n",
        "    \"\"\"\n",
        "    Compute the final weighted F1 score for the competition.\n",
        "    Female ADHD cases (where ADHD_Outcome==1 and Sex_F==1) are given 2x weight.\n",
        "    The final score is the average of the weighted F1 for ADHD_Outcome and the F1 for Sex_F.\n",
        "    \"\"\"\n",
        "    # Create sample weights for ADHD_Outcome: weight=2 for female ADHD cases, else 1.\n",
        "    weights = np.ones_like(y_true_adhd, dtype=float)\n",
        "    weights[(y_true_adhd == 1) & (y_true_sex == 1)] = 2.0\n",
        "\n",
        "    # Calculate weighted F1 for ADHD_Outcome\n",
        "    f1_adhd = f1_score(y_true_adhd, y_pred_adhd, sample_weight=weights)\n",
        "    # Calculate standard F1 for Sex_F\n",
        "    f1_sex = f1_score(y_true_sex, y_pred_sex)\n",
        "\n",
        "    # Final leaderboard score: average of the two F1 scores\n",
        "    final_f1 = (f1_adhd + f1_sex) / 2.0\n",
        "    return final_f1, f1_adhd, f1_sex\n",
        "# Combine predictions from both models\n",
        "combined_predictions = pd.merge(predictions_df, predictions_df2, on='participant_id', suffixes=('_model1', '_model2'))\n",
        "\n",
        "# Calculate the average of the probabilities from both models\n",
        "combined_predictions['ADHD_Outcome_Probability'] = (combined_predictions['ADHD_Outcome_Probability_model1'] + combined_predictions['ADHD_Outcome_Probability_model2']) / 2\n",
        "combined_predictions['Sex_F_Probability'] = (combined_predictions['Sex_F_Probability_model1'] + combined_predictions['Sex_F_Probability_model2']) / 2\n",
        "\n",
        "# Keep only the necessary columns for submission\n",
        "combined_predictions = combined_predictions[['participant_id', 'ADHD_Outcome_Probability', 'Sex_F_Probability']]\n",
        "\n",
        "# --- Define a range of thresholds to test ---\n",
        "#thresholds = np.linspace(0, 1, 101)  # from 0.00 to 1.00 in steps of 0.01\n",
        "#thresholds = np.linspace(0.1, 0.99, 90)\n",
        "thresholds = np.linspace(0.05, 1, 96)\n",
        "\n",
        "y_val_adhd_prob = predictions[0].flatten()\n",
        "y_val_sex_prob  = predictions[1].flatten()\n",
        "\n",
        "best_final_f1 = 0.0\n",
        "best_thr_adhd = 0.0\n",
        "best_thr_sex  = 0.0\n",
        "best_f1_adhd = 0.0\n",
        "best_f1_sex  = 0.0\n",
        "\n",
        "# --- Perform a 2D threshold sweep ---\n",
        "for thr_a in thresholds:\n",
        "    for thr_s in thresholds:\n",
        "        y_pred_adhd = (y_val_adhd_prob > thr_a).astype(int)\n",
        "        y_pred_sex  = (y_val_sex_prob > thr_s).astype(int)\n",
        "        final_f1, f1_adhd, f1_sex = compute_weighted_f1(y_val_adhd_split, y_pred_adhd, y_val_sex_split, y_pred_sex)\n",
        "        if final_f1 > best_final_f1:\n",
        "            best_final_f1 = final_f1\n",
        "            best_thr_adhd = thr_a\n",
        "            best_thr_sex  = thr_s\n",
        "            best_f1_adhd = f1_adhd\n",
        "            best_f1_sex  = f1_sex\n",
        "\n",
        "# Apply the best thresholds\n",
        "combined_predictions['ADHD_Outcome'] = (combined_predictions['ADHD_Outcome_Probability'] > best_thr_adhd).astype(int)\n",
        "combined_predictions['Sex_F'] = (combined_predictions['Sex_F_Probability'] > best_thr_sex).astype(int)\n",
        "\n",
        "\n",
        "print(f\"Best ADHD Threshold: {best_thr_adhd:.2f} with F1: {best_f1_adhd:.4f}\")\n",
        "print(f\"Best Sex_F Threshold: {best_thr_sex:.2f} with F1: {best_f1_sex:.4f}\")\n",
        "print(f\"Best Final Weighted F1: {best_final_f1:.4f}\")\n",
        "\n",
        "\n",
        "# Best ADHD Threshold: 0.05 with F1: 0.8728\n",
        "# Best Sex_F Threshold: 0.08 with F1: 0.4595\n",
        "# Best Final Weighted F1: 0.6662\n",
        "# Leaderboard result: 0.71740\n"
      ],
      "metadata": {
        "collapsed": true,
        "id": "zdktbG_c06KP",
        "outputId": "a5ac2768-e003-40e0-c0fe-2f8f8204c06c",
        "colab": {
          "base_uri": "https://localhost:8080/"
        }
      },
      "execution_count": 142,
      "outputs": [
        {
          "output_type": "stream",
          "name": "stdout",
          "text": [
            "Best ADHD Threshold: 0.05 with F1: 0.8728\n",
            "Best Sex_F Threshold: 0.08 with F1: 0.4595\n",
            "Best Final Weighted F1: 0.6662\n"
          ]
        }
      ]
    },
    {
      "cell_type": "code",
      "source": [
        "# Final submission dataframe\n",
        "combined_predictions_df = combined_predictions[['participant_id', 'ADHD_Outcome_Probability', 'Sex_F_Probability']]\n",
        "\n",
        "combined_predictions_df.to_csv('/content/drive/My Drive/widsdatathon2025/Work/Prediction/ensembled_probabilities2.csv', index=False)\n",
        "\n",
        "ensembled_submission = combined_predictions[['participant_id', 'ADHD_Outcome', 'Sex_F']]\n",
        "\n",
        "ensembled_submission.to_csv('/content/drive/My Drive/widsdatathon2025/Work/Submission/two_model_ensembled2.csv', index=False)"
      ],
      "metadata": {
        "id": "OT9BkAlx-QYF"
      },
      "execution_count": 143,
      "outputs": []
    },
    {
      "cell_type": "code",
      "source": [
        "# prompt: save model2\n",
        "\n",
        "model2.save('/content/drive/My Drive/widsdatathon2025/Work/Models/two_model_ensembled_0.71740.keras')\n"
      ],
      "metadata": {
        "id": "1nBd05PgGPBb"
      },
      "execution_count": 144,
      "outputs": []
    },
    {
      "cell_type": "code",
      "source": [
        "# prompt: generate combined_prediction feature tuning graph\n",
        "\n",
        "import matplotlib.pyplot as plt\n",
        "import numpy as np\n",
        "# Assuming y_val_adhd_prob, y_val_sex_prob, y_val_adhd_split, and y_val_sex_split are defined as in your code.\n",
        "\n",
        "# Function to compute the weighted F1 score (same as before)\n",
        "def compute_weighted_f1(y_true_adhd, y_pred_adhd, y_true_sex, y_pred_sex):\n",
        "    weights = np.ones_like(y_true_adhd, dtype=float)\n",
        "    weights[(y_true_adhd == 1) & (y_true_sex == 1)] = 2.0\n",
        "    f1_adhd = f1_score(y_true_adhd, y_pred_adhd, sample_weight=weights)\n",
        "    f1_sex = f1_score(y_true_sex, y_pred_sex)\n",
        "    final_f1 = (f1_adhd + f1_sex) / 2.0\n",
        "    return final_f1, f1_adhd, f1_sex\n",
        "\n",
        "thresholds = np.linspace(0, 1, 101)\n",
        "thresholds = np.linspace(0.05, 1, 96)\n",
        "f1_scores_combined = []\n",
        "\n",
        "for threshold in thresholds:\n",
        "    y_pred_adhd = (y_val_adhd_prob > threshold).astype(int)\n",
        "    y_pred_sex = (y_val_sex_prob > threshold).astype(int)\n",
        "    final_f1, _, _ = compute_weighted_f1(y_val_adhd_split, y_pred_adhd, y_val_sex_split, y_pred_sex)\n",
        "    f1_scores_combined.append(final_f1)\n",
        "\n",
        "# Plotting the threshold tuning graph\n",
        "plt.figure(figsize=(10, 6))\n",
        "plt.plot(thresholds, f1_scores_combined, label='Combined F1 Score')\n",
        "plt.xlabel('Threshold')\n",
        "plt.ylabel('F1 Score')\n",
        "plt.title('Threshold Tuning Graph for Combined Prediction')\n",
        "plt.legend()\n",
        "plt.grid(True)\n",
        "plt.show()\n"
      ],
      "metadata": {
        "id": "5bk060hI_75e",
        "outputId": "1ddfc972-a199-4b14-ab31-59578bd8b847",
        "colab": {
          "base_uri": "https://localhost:8080/",
          "height": 564
        }
      },
      "execution_count": 141,
      "outputs": [
        {
          "output_type": "display_data",
          "data": {
            "text/plain": [
              "<Figure size 1000x600 with 1 Axes>"
            ],
            "image/png": "[encoded data removed]"
          },
          "metadata": {}
        }
      ]
    }
  ]
}