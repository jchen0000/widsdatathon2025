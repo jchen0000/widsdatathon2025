{
  "nbformat": 4,
  "nbformat_minor": 0,
  "metadata": {
    "colab": {
      "provenance": [],
      "gpuType": "T4",
      "authorship_tag": "ABX9TyNHN9OPu0uat0g/STOAYlNq",
      "include_colab_link": true
    },
    "kernelspec": {
      "name": "python3",
      "display_name": "Python 3"
    },
    "language_info": {
      "name": "python"
    },
    "accelerator": "GPU"
  },
  "cells": [
    {
      "cell_type": "markdown",
      "metadata": {
        "id": "view-in-github",
        "colab_type": "text"
      },
      "source": [
        "<a href=\"https://colab.research.google.com/github/jchen0000/widsdatathon2025/blob/main/python/Lasso_Neural_Network.ipynb\" target=\"_parent\"><img src=\"https://colab.research.google.com/assets/colab-badge.svg\" alt=\"Open In Colab\"/></a>"
      ]
    },
    {
      "cell_type": "markdown",
      "source": [
        "# Data Import"
      ],
      "metadata": {
        "id": "mY3xblER-9qb"
      }
    },
    {
      "cell_type": "code",
      "execution_count": null,
      "metadata": {
        "id": "8OgAF8gI-xyc",
        "collapsed": true,
        "colab": {
          "base_uri": "https://localhost:8080/"
        },
        "outputId": "579f0f17-abd9-4047-e26f-0bfd35974244"
      },
      "outputs": [
        {
          "output_type": "stream",
          "name": "stdout",
          "text": [
            "Drive already mounted at /content/drive; to attempt to forcibly remount, call drive.mount(\"/content/drive\", force_remount=True).\n",
            "--2025-04-26 01:48:17--  https://github.com/jchen0000/widsdatathon2025/blob/main/data/train/TRAIN_CATEGORICAL_METADATA_imputed_Jing.xlsx?raw=true\n",
            "Resolving github.com (github.com)... 20.27.177.113\n",
            "Connecting to github.com (github.com)|20.27.177.113|:443... connected.\n",
            "HTTP request sent, awaiting response... 302 Found\n",
            "Location: https://github.com/jchen0000/widsdatathon2025/raw/refs/heads/main/data/train/TRAIN_CATEGORICAL_METADATA_imputed_Jing.xlsx [following]\n",
            "--2025-04-26 01:48:17--  https://github.com/jchen0000/widsdatathon2025/raw/refs/heads/main/data/train/TRAIN_CATEGORICAL_METADATA_imputed_Jing.xlsx\n",
            "Reusing existing connection to github.com:443.\n",
            "HTTP request sent, awaiting response... 302 Found\n",
            "Location: https://raw.githubusercontent.com/jchen0000/widsdatathon2025/refs/heads/main/data/train/TRAIN_CATEGORICAL_METADATA_imputed_Jing.xlsx [following]\n",
            "--2025-04-26 01:48:17--  https://raw.githubusercontent.com/jchen0000/widsdatathon2025/refs/heads/main/data/train/TRAIN_CATEGORICAL_METADATA_imputed_Jing.xlsx\n",
            "Resolving raw.githubusercontent.com (raw.githubusercontent.com)... 185.199.110.133, 185.199.111.133, 185.199.108.133, ...\n",
            "Connecting to raw.githubusercontent.com (raw.githubusercontent.com)|185.199.110.133|:443... connected.\n",
            "HTTP request sent, awaiting response... 200 OK\n",
            "Length: 63570 (62K) [application/octet-stream]\n",
            "Saving to: ‘train_cat2.xlsx’\n",
            "\n",
            "train_cat2.xlsx     100%[===================>]  62.08K  --.-KB/s    in 0.08s   \n",
            "\n",
            "2025-04-26 01:48:18 (763 KB/s) - ‘train_cat2.xlsx’ saved [63570/63570]\n",
            "\n",
            "--2025-04-26 01:48:18--  https://github.com/jchen0000/widsdatathon2025/blob/main/data/train/TRAIN_QUANTITATIVE_METADATA_imputed_Jing.xlsx?raw=true\n",
            "Resolving github.com (github.com)... 20.27.177.113\n",
            "Connecting to github.com (github.com)|20.27.177.113|:443... connected.\n",
            "HTTP request sent, awaiting response... 302 Found\n",
            "Location: https://github.com/jchen0000/widsdatathon2025/raw/refs/heads/main/data/train/TRAIN_QUANTITATIVE_METADATA_imputed_Jing.xlsx [following]\n",
            "--2025-04-26 01:48:19--  https://github.com/jchen0000/widsdatathon2025/raw/refs/heads/main/data/train/TRAIN_QUANTITATIVE_METADATA_imputed_Jing.xlsx\n",
            "Reusing existing connection to github.com:443.\n",
            "HTTP request sent, awaiting response... 302 Found\n",
            "Location: https://raw.githubusercontent.com/jchen0000/widsdatathon2025/refs/heads/main/data/train/TRAIN_QUANTITATIVE_METADATA_imputed_Jing.xlsx [following]\n",
            "--2025-04-26 01:48:19--  https://raw.githubusercontent.com/jchen0000/widsdatathon2025/refs/heads/main/data/train/TRAIN_QUANTITATIVE_METADATA_imputed_Jing.xlsx\n",
            "Resolving raw.githubusercontent.com (raw.githubusercontent.com)... 185.199.108.133, 185.199.111.133, 185.199.110.133, ...\n",
            "Connecting to raw.githubusercontent.com (raw.githubusercontent.com)|185.199.108.133|:443... connected.\n",
            "HTTP request sent, awaiting response... 200 OK\n",
            "Length: 114112 (111K) [application/octet-stream]\n",
            "Saving to: ‘train_quant2.xlsx’\n",
            "\n",
            "train_quant2.xlsx   100%[===================>] 111.44K  --.-KB/s    in 0.1s    \n",
            "\n",
            "2025-04-26 01:48:21 (1.06 MB/s) - ‘train_quant2.xlsx’ saved [114112/114112]\n",
            "\n",
            "--2025-04-26 01:48:29--  https://github.com/jchen0000/widsdatathon2025/blob/main/data/train/TEST_CATEGORICAL_METADATA_imputed_Jing_new.xlsx?raw=true\n",
            "Resolving github.com (github.com)... 20.27.177.113\n",
            "Connecting to github.com (github.com)|20.27.177.113|:443... connected.\n",
            "HTTP request sent, awaiting response... 302 Found\n",
            "Location: https://github.com/jchen0000/widsdatathon2025/raw/refs/heads/main/data/train/TEST_CATEGORICAL_METADATA_imputed_Jing_new.xlsx [following]\n",
            "--2025-04-26 01:48:30--  https://github.com/jchen0000/widsdatathon2025/raw/refs/heads/main/data/train/TEST_CATEGORICAL_METADATA_imputed_Jing_new.xlsx\n",
            "Reusing existing connection to github.com:443.\n",
            "HTTP request sent, awaiting response... 302 Found\n",
            "Location: https://raw.githubusercontent.com/jchen0000/widsdatathon2025/refs/heads/main/data/train/TEST_CATEGORICAL_METADATA_imputed_Jing_new.xlsx [following]\n",
            "--2025-04-26 01:48:30--  https://raw.githubusercontent.com/jchen0000/widsdatathon2025/refs/heads/main/data/train/TEST_CATEGORICAL_METADATA_imputed_Jing_new.xlsx\n",
            "Resolving raw.githubusercontent.com (raw.githubusercontent.com)... 185.199.108.133, 185.199.109.133, 185.199.110.133, ...\n",
            "Connecting to raw.githubusercontent.com (raw.githubusercontent.com)|185.199.108.133|:443... connected.\n",
            "HTTP request sent, awaiting response... 200 OK\n",
            "Length: 19446 (19K) [application/octet-stream]\n",
            "Saving to: ‘test_cat2.xlsx’\n",
            "\n",
            "test_cat2.xlsx      100%[===================>]  18.99K  --.-KB/s    in 0.005s  \n",
            "\n",
            "2025-04-26 01:48:30 (3.98 MB/s) - ‘test_cat2.xlsx’ saved [19446/19446]\n",
            "\n",
            "--2025-04-26 01:48:30--  https://github.com/jchen0000/widsdatathon2025/blob/main/data/train/TEST_QUANTITATIVE_METADATA_imputed_Jing_new.xlsx?raw=true\n",
            "Resolving github.com (github.com)... 20.27.177.113\n",
            "Connecting to github.com (github.com)|20.27.177.113|:443... connected.\n",
            "HTTP request sent, awaiting response... 302 Found\n",
            "Location: https://github.com/jchen0000/widsdatathon2025/raw/refs/heads/main/data/train/TEST_QUANTITATIVE_METADATA_imputed_Jing_new.xlsx [following]\n",
            "--2025-04-26 01:48:31--  https://github.com/jchen0000/widsdatathon2025/raw/refs/heads/main/data/train/TEST_QUANTITATIVE_METADATA_imputed_Jing_new.xlsx\n",
            "Reusing existing connection to github.com:443.\n",
            "HTTP request sent, awaiting response... 302 Found\n",
            "Location: https://raw.githubusercontent.com/jchen0000/widsdatathon2025/refs/heads/main/data/train/TEST_QUANTITATIVE_METADATA_imputed_Jing_new.xlsx [following]\n",
            "--2025-04-26 01:48:31--  https://raw.githubusercontent.com/jchen0000/widsdatathon2025/refs/heads/main/data/train/TEST_QUANTITATIVE_METADATA_imputed_Jing_new.xlsx\n",
            "Resolving raw.githubusercontent.com (raw.githubusercontent.com)... 185.199.108.133, 185.199.109.133, 185.199.110.133, ...\n",
            "Connecting to raw.githubusercontent.com (raw.githubusercontent.com)|185.199.108.133|:443... connected.\n",
            "HTTP request sent, awaiting response... 200 OK\n",
            "Length: 32502 (32K) [application/octet-stream]\n",
            "Saving to: ‘test_quant2.xlsx’\n",
            "\n",
            "test_quant2.xlsx    100%[===================>]  31.74K  --.-KB/s    in 0.05s   \n",
            "\n",
            "2025-04-26 01:48:32 (699 KB/s) - ‘test_quant2.xlsx’ saved [32502/32502]\n",
            "\n"
          ]
        }
      ],
      "source": [
        "# prompt: Access data from google drive\n",
        "from google.colab import drive\n",
        "drive.mount('/content/drive')\n",
        "\n",
        "\n",
        "# Import solution w outcome data (1213, 3)\n",
        "train_sol = pd.read_excel(\"drive/My Drive/widsdatathon2025/TRAIN_NEW/TRAINING_SOLUTIONS.xlsx\")\n",
        "\n",
        "# Patient ID\n",
        "patient_id = train_sol.iloc[:, 0]\n",
        "\n",
        "# Import train MRI data (1213, 19901)\n",
        "train_mri_filepath = \"drive/My Drive/widsdatathon2025/TRAIN_NEW/TRAIN_FUNCTIONAL_CONNECTOME_MATRICES_new_36P_Pearson.csv\"\n",
        "train_mri = pd.read_csv(train_mri_filepath)\n",
        "\n",
        "# Remove first line, convert csv file to a functional connectome matrix\n",
        "train_matrix_data = train_mri.iloc[:, 1:].to_numpy(dtype=float)  # (1213, 19900)\n",
        "\n",
        "# Import Train Data\n",
        "!wget \"https://github.com/jchen0000/widsdatathon2025/blob/main/data/train/TRAIN_CATEGORICAL_METADATA_imputed_Jing.xlsx?raw=true\" -O train_cat2.xlsx\n",
        "train_cat2 = pd.read_excel(\"train_cat2.xlsx\")      # (1213, 10)\n",
        "\n",
        "!wget \"https://github.com/jchen0000/widsdatathon2025/blob/main/data/train/TRAIN_QUANTITATIVE_METADATA_imputed_Jing.xlsx?raw=true\" -O train_quant2.xlsx\n",
        "train_quant2 = pd.read_excel(\"train_quant2.xlsx\")  # (1213, 19)\n",
        "\n",
        "# Merge train datasets on the participant ID\n",
        "combined_train_data2 = pd.merge(train_cat2, train_quant2, on='participant_id')\n",
        "train_with_outcome2 = pd.merge(combined_train_data2, train_sol, on='participant_id')  # (1213, 30)\n",
        "\n",
        "# Combine metadata and fMRI into one feature matrix\n",
        "features2 = np.hstack([combined_train_data2, train_matrix_data])\n",
        "\n",
        "# Remove patient ID\n",
        "combined_metadata_imputed = features2[:, 1:]\n",
        "combined_metadata_imputed = combined_metadata_imputed.astype(float)  # (1213, 19927)\n",
        "\n",
        "\n",
        "\n",
        "# Import test MRI data\n",
        "test_mri_filepath = \"drive/My Drive/widsdatathon2025/TEST/TEST_FUNCTIONAL_CONNECTOME_MATRICES.csv\"\n",
        "test_mri = pd.read_csv(test_mri_filepath)\n",
        "\n",
        "# Remove first line, convert csv file to a functional connectome matrix\n",
        "test_matrix_data = test_mri.iloc[:, 1:].to_numpy(dtype=float)  # (304, 19900)\n",
        "\n",
        "# Import test Data\n",
        "!wget \"https://github.com/jchen0000/widsdatathon2025/blob/main/data/train/TEST_CATEGORICAL_METADATA_imputed_Jing_new.xlsx?raw=true\" -O test_cat2.xlsx\n",
        "test_cat2 = pd.read_excel(\"test_cat2.xlsx\")      # (304, 28)\n",
        "\n",
        "!wget \"https://github.com/jchen0000/widsdatathon2025/blob/main/data/train/TEST_QUANTITATIVE_METADATA_imputed_Jing_new.xlsx?raw=true\" -O test_quant2.xlsx\n",
        "test_quant2 = pd.read_excel(\"test_quant2.xlsx\")  # (304, 28)\n",
        "\n",
        "# Merge test datasets on the participant ID\n",
        "combined_test_data2 = pd.merge(test_cat2, test_quant2, on='participant_id')\n",
        "test_no_id2 = combined_test_data2.drop(columns=['participant_id'])\n",
        "\n",
        "test_patient_ids = combined_test_data2['participant_id'].values  # Extract patient IDs using column name\n",
        "\n",
        "# Combine metadata and fMRI into one feature matrix\n",
        "test_features2 = np.hstack([combined_test_data2, test_matrix_data])\n",
        "\n",
        "\n",
        "# Remove patient ID\n",
        "combined_test_metadata_imputed = test_features2[:, 1:]\n",
        "combined_test_metadata_imputed = combined_test_metadata_imputed.astype(float)  # (304, 19927)"
      ]
    },
    {
      "cell_type": "markdown",
      "source": [
        "# Jing's Lasso Data Import"
      ],
      "metadata": {
        "id": "AsgJgz9d0QdR"
      }
    },
    {
      "cell_type": "code",
      "source": [
        "import pandas as pd\n",
        "\n",
        "# prompt: Access data from google drive\n",
        "from google.colab import drive\n",
        "drive.mount('/content/drive')\n",
        "\n",
        "# Import solution w outcome data (1213, 3)\n",
        "train_sol = pd.read_excel(\"drive/My Drive/widsdatathon2025/TRAIN_NEW/TRAINING_SOLUTIONS.xlsx\")\n",
        "\n",
        "# Import test data\n",
        "!wget \"https://github.com/jchen0000/widsdatathon2025/blob/main/data/train/TEST_CATEGORICAL_METADATA_imputed_Jing_new.xlsx?raw=true\" -O test_cat2.xlsx\n",
        "test_cat2 = pd.read_excel(\"test_cat2.xlsx\")\n",
        "\n",
        "# Test patient id\n",
        "test_patient_ids = test_cat2['participant_id'].values  # Extract patient IDs using column name\n",
        "\n",
        "# Import standardized lasso data\n",
        "combined_metadata_imputed = pd.read_csv('/content/drive/My Drive/widsdatathon2025/Work/Processed Data/lasso_imputed_train.csv')  # (1213, 19927)\n",
        "combined_test_metadata_imputed = pd.read_csv('/content/drive/My Drive/widsdatathon2025/Work/Processed Data/lasso_imputed_test.csv')  # (304, 19927)"
      ],
      "metadata": {
        "collapsed": true,
        "colab": {
          "base_uri": "https://localhost:8080/"
        },
        "id": "6ktkvwmije4j",
        "outputId": "c2de592c-23e6-419b-a1a0-15ad34ff04f3"
      },
      "execution_count": 9,
      "outputs": [
        {
          "output_type": "stream",
          "name": "stdout",
          "text": [
            "Drive already mounted at /content/drive; to attempt to forcibly remount, call drive.mount(\"/content/drive\", force_remount=True).\n",
            "--2025-04-29 02:13:42--  https://github.com/jchen0000/widsdatathon2025/blob/main/data/train/TEST_CATEGORICAL_METADATA_imputed_Jing_new.xlsx?raw=true\n",
            "Resolving github.com (github.com)... 140.82.113.4\n",
            "Connecting to github.com (github.com)|140.82.113.4|:443... connected.\n",
            "HTTP request sent, awaiting response... 302 Found\n",
            "Location: https://github.com/jchen0000/widsdatathon2025/raw/refs/heads/main/data/train/TEST_CATEGORICAL_METADATA_imputed_Jing_new.xlsx [following]\n",
            "--2025-04-29 02:13:42--  https://github.com/jchen0000/widsdatathon2025/raw/refs/heads/main/data/train/TEST_CATEGORICAL_METADATA_imputed_Jing_new.xlsx\n",
            "Reusing existing connection to github.com:443.\n",
            "HTTP request sent, awaiting response... 302 Found\n",
            "Location: https://raw.githubusercontent.com/jchen0000/widsdatathon2025/refs/heads/main/data/train/TEST_CATEGORICAL_METADATA_imputed_Jing_new.xlsx [following]\n",
            "--2025-04-29 02:13:42--  https://raw.githubusercontent.com/jchen0000/widsdatathon2025/refs/heads/main/data/train/TEST_CATEGORICAL_METADATA_imputed_Jing_new.xlsx\n",
            "Resolving raw.githubusercontent.com (raw.githubusercontent.com)... 185.199.110.133, 185.199.108.133, 185.199.109.133, ...\n",
            "Connecting to raw.githubusercontent.com (raw.githubusercontent.com)|185.199.110.133|:443... connected.\n",
            "HTTP request sent, awaiting response... 200 OK\n",
            "Length: 19446 (19K) [application/octet-stream]\n",
            "Saving to: ‘test_cat2.xlsx’\n",
            "\n",
            "test_cat2.xlsx      100%[===================>]  18.99K  --.-KB/s    in 0.001s  \n",
            "\n",
            "2025-04-29 02:13:42 (22.8 MB/s) - ‘test_cat2.xlsx’ saved [19446/19446]\n",
            "\n"
          ]
        }
      ]
    },
    {
      "cell_type": "markdown",
      "source": [
        "# Neural Network"
      ],
      "metadata": {
        "id": "-9qQWFKh-6or"
      }
    },
    {
      "cell_type": "code",
      "source": [
        "import tensorflow as tf\n",
        "from tensorflow.keras.models import Model\n",
        "from tensorflow.keras.layers import Input, Dense, Dropout, BatchNormalization\n",
        "from tensorflow.keras.callbacks import EarlyStopping\n",
        "from tensorflow.keras.regularizers import l2\n",
        "from sklearn.model_selection import train_test_split\n",
        "from sklearn.preprocessing import StandardScaler\n",
        "from sklearn.metrics import f1_score\n",
        "import numpy as np\n",
        "\n",
        "# --- Define the function to compute weighted F1 score ---\n",
        "def compute_weighted_f1(y_true_adhd, y_pred_adhd, y_true_sex, y_pred_sex):\n",
        "    \"\"\"\n",
        "    Compute the final weighted F1 score for the competition.\n",
        "    Female ADHD cases (where ADHD_Outcome==1 and Sex_F==1) are given 2x weight.\n",
        "    The final score is the average of the weighted F1 for ADHD_Outcome and the F1 for Sex_F.\n",
        "    \"\"\"\n",
        "    # Create sample weights for ADHD_Outcome: weight=2 for female ADHD cases, else 1.\n",
        "    weights = np.ones_like(y_true_adhd, dtype=float)\n",
        "    weights[(y_true_adhd == 1) & (y_true_sex == 1)] = 2.0\n",
        "\n",
        "    # Calculate weighted F1 for ADHD_Outcome\n",
        "    f1_adhd = f1_score(y_true_adhd, y_pred_adhd, sample_weight=weights)\n",
        "    # Calculate standard F1 for Sex_F\n",
        "    f1_sex = f1_score(y_true_sex, y_pred_sex)\n",
        "\n",
        "    # Final leaderboard score: average of the two F1 scores\n",
        "    final_f1 = (f1_adhd + f1_sex) / 2.0\n",
        "    return final_f1, f1_adhd, f1_sex\n",
        "\n",
        "# --- Prepare the data ---\n",
        "# Use combined_metadata_imputed as input features.\n",
        "X = combined_metadata_imputed  # (1213, 19927)\n",
        "# Extract targets from train_sol:\n",
        "y_adhd = train_sol['ADHD_Outcome'].values  # Binary labels (0 or 1)\n",
        "y_sex  = train_sol['Sex_F'].values         # Binary labels (0 or 1)\n",
        "\n",
        "# Standardize features.\n",
        "scaler = StandardScaler()\n",
        "X_scaled = scaler.fit_transform(X)\n",
        "\n",
        "# Split into training and validation sets.\n",
        "# Note: We split the labels separately but the splits will be aligned because we use the same X_scaled.\n",
        "X_train_split, X_val_split, y_train_adhd_split, y_val_adhd_split = train_test_split(\n",
        "    X_scaled, y_adhd, test_size=0.2, random_state=45\n",
        ")\n",
        "_, _, y_train_sex_split, y_val_sex_split = train_test_split(\n",
        "    X_scaled, y_sex, test_size=0.2, random_state=45\n",
        ")\n",
        "\n",
        "# --- Build the multi-output neural network model ---\n",
        "input_layer = Input(shape=(X_train_split.shape[1],))\n",
        "x = Dense(128, activation='relu', kernel_regularizer=l2(0.01))(input_layer)\n",
        "x = Dropout(0.5)(x)\n",
        "x = BatchNormalization()(x)\n",
        "x = Dense(64, activation='relu', kernel_regularizer=l2(0.01))(x)\n",
        "x = Dropout(0.5)(x)\n",
        "x = BatchNormalization()(x)\n",
        "x = Dense(32, activation='relu', kernel_regularizer=l2(0.01))(x)\n",
        "\n",
        "# Two separate output layers:\n",
        "output_adhd = Dense(1, activation='sigmoid', name='adhd_output')(x)\n",
        "output_sex  = Dense(1, activation='sigmoid', name='sex_output')(x)\n",
        "\n",
        "model = Model(inputs=input_layer, outputs=[output_adhd, output_sex])\n",
        "\n",
        "# Compile the model.\n",
        "model.compile(optimizer=tf.keras.optimizers.Adam(learning_rate=0.0005),\n",
        "              loss='binary_crossentropy',\n",
        "              metrics={'adhd_output': 'accuracy', 'sex_output': 'accuracy'})\n",
        "\n",
        "\n",
        "# Set up early stopping.\n",
        "early_stopping = EarlyStopping(monitor='val_loss', patience=10, restore_best_weights=True)\n",
        "\n",
        "# --- Train the model ---\n",
        "history = model.fit(\n",
        "    X_train_split,\n",
        "    {'adhd_output': y_train_adhd_split, 'sex_output': y_train_sex_split},\n",
        "    epochs=100,\n",
        "    batch_size=32,\n",
        "    validation_data=(X_val_split, {'adhd_output': y_val_adhd_split, 'sex_output': y_val_sex_split}),\n",
        "    callbacks=[early_stopping]\n",
        ")\n",
        "\n",
        "# --- Evaluate the model ---\n",
        "results = model.evaluate(X_val_split, {'adhd_output': y_val_adhd_split, 'sex_output': y_val_sex_split})\n",
        "print(\"Evaluation Results:\", results)\n",
        "\n",
        "# --- Make predictions on the validation set ---\n",
        "predictions = model.predict(X_val_split)   # (243, 2)\n",
        "# predictions is a list: predictions[0] for ADHD_Outcome, predictions[1] for Sex_F.\n",
        "y_val_pred_adhd = (predictions[0] > 0.5).astype(int).flatten()\n",
        "y_val_pred_sex  = (predictions[1] > 0.5).astype(int).flatten()\n",
        "\n",
        "# --- Compute the weighted F1 score ---\n",
        "final_f1, f1_adhd, f1_sex = compute_weighted_f1(y_val_adhd_split, y_val_pred_adhd, y_val_sex_split, y_val_pred_sex)\n",
        "\n",
        "print(f\"ADHD F1 Score (weighted): {f1_adhd:.4f}\")\n",
        "print(f\"Sex_F F1 Score: {f1_sex:.4f}\")\n",
        "print(f\"Final Weighted F1 Score: {final_f1:.4f}\")\n",
        "\n",
        "# ADHD F1 Score (weighted): 0.8388\n",
        "# Sex_F F1 Score: 0.3077\n",
        "# Final Weighted F1 Score: 0.5733\n"
      ],
      "metadata": {
        "id": "aJiAMMR9-2E5",
        "collapsed": true,
        "colab": {
          "base_uri": "https://localhost:8080/"
        },
        "outputId": "5dde02a9-d8ce-454a-8803-34ed99eab267"
      },
      "execution_count": null,
      "outputs": [
        {
          "output_type": "stream",
          "name": "stdout",
          "text": [
            "Epoch 1/100\n",
            "\u001b[1m31/31\u001b[0m \u001b[32m━━━━━━━━━━━━━━━━━━━━\u001b[0m\u001b[37m\u001b[0m \u001b[1m9s\u001b[0m 116ms/step - adhd_output_accuracy: 0.4907 - adhd_output_loss: 0.8182 - loss: 5.4414 - sex_output_accuracy: 0.5216 - sex_output_loss: 0.7940 - val_adhd_output_accuracy: 0.4527 - val_adhd_output_loss: 0.9493 - val_loss: 5.6786 - val_sex_output_accuracy: 0.4198 - val_sex_output_loss: 0.9100\n",
            "Epoch 2/100\n",
            "\u001b[1m31/31\u001b[0m \u001b[32m━━━━━━━━━━━━━━━━━━━━\u001b[0m\u001b[37m\u001b[0m \u001b[1m5s\u001b[0m 9ms/step - adhd_output_accuracy: 0.6123 - adhd_output_loss: 0.6721 - loss: 5.1675 - sex_output_accuracy: 0.5453 - sex_output_loss: 0.7210 - val_adhd_output_accuracy: 0.5885 - val_adhd_output_loss: 0.7052 - val_loss: 5.0454 - val_sex_output_accuracy: 0.5391 - val_sex_output_loss: 0.7183\n",
            "Epoch 3/100\n",
            "\u001b[1m31/31\u001b[0m \u001b[32m━━━━━━━━━━━━━━━━━━━━\u001b[0m\u001b[37m\u001b[0m \u001b[1m0s\u001b[0m 8ms/step - adhd_output_accuracy: 0.6300 - adhd_output_loss: 0.6569 - loss: 4.9112 - sex_output_accuracy: 0.5820 - sex_output_loss: 0.6962 - val_adhd_output_accuracy: 0.6502 - val_adhd_output_loss: 0.6398 - val_loss: 4.6824 - val_sex_output_accuracy: 0.6132 - val_sex_output_loss: 0.6709\n",
            "Epoch 4/100\n",
            "\u001b[1m31/31\u001b[0m \u001b[32m━━━━━━━━━━━━━━━━━━━━\u001b[0m\u001b[37m\u001b[0m \u001b[1m0s\u001b[0m 7ms/step - adhd_output_accuracy: 0.6398 - adhd_output_loss: 0.6250 - loss: 4.5550 - sex_output_accuracy: 0.6766 - sex_output_loss: 0.6258 - val_adhd_output_accuracy: 0.7037 - val_adhd_output_loss: 0.6177 - val_loss: 4.4017 - val_sex_output_accuracy: 0.6255 - val_sex_output_loss: 0.6750\n",
            "Epoch 5/100\n",
            "\u001b[1m31/31\u001b[0m \u001b[32m━━━━━━━━━━━━━━━━━━━━\u001b[0m\u001b[37m\u001b[0m \u001b[1m0s\u001b[0m 8ms/step - adhd_output_accuracy: 0.7053 - adhd_output_loss: 0.5856 - loss: 4.2837 - sex_output_accuracy: 0.6465 - sex_output_loss: 0.6438 - val_adhd_output_accuracy: 0.7119 - val_adhd_output_loss: 0.6069 - val_loss: 4.1588 - val_sex_output_accuracy: 0.6543 - val_sex_output_loss: 0.6661\n",
            "Epoch 6/100\n",
            "\u001b[1m31/31\u001b[0m \u001b[32m━━━━━━━━━━━━━━━━━━━━\u001b[0m\u001b[37m\u001b[0m \u001b[1m0s\u001b[0m 8ms/step - adhd_output_accuracy: 0.6856 - adhd_output_loss: 0.6086 - loss: 4.0470 - sex_output_accuracy: 0.6703 - sex_output_loss: 0.6112 - val_adhd_output_accuracy: 0.7078 - val_adhd_output_loss: 0.6126 - val_loss: 3.9382 - val_sex_output_accuracy: 0.6461 - val_sex_output_loss: 0.6603\n",
            "Epoch 7/100\n",
            "\u001b[1m31/31\u001b[0m \u001b[32m━━━━━━━━━━━━━━━━━━━━\u001b[0m\u001b[37m\u001b[0m \u001b[1m0s\u001b[0m 7ms/step - adhd_output_accuracy: 0.7282 - adhd_output_loss: 0.5430 - loss: 3.7791 - sex_output_accuracy: 0.6511 - sex_output_loss: 0.6242 - val_adhd_output_accuracy: 0.7037 - val_adhd_output_loss: 0.6060 - val_loss: 3.7362 - val_sex_output_accuracy: 0.6296 - val_sex_output_loss: 0.6626\n",
            "Epoch 8/100\n",
            "\u001b[1m31/31\u001b[0m \u001b[32m━━━━━━━━━━━━━━━━━━━━\u001b[0m\u001b[37m\u001b[0m \u001b[1m0s\u001b[0m 8ms/step - adhd_output_accuracy: 0.7287 - adhd_output_loss: 0.5317 - loss: 3.5522 - sex_output_accuracy: 0.6743 - sex_output_loss: 0.6004 - val_adhd_output_accuracy: 0.6955 - val_adhd_output_loss: 0.6075 - val_loss: 3.5633 - val_sex_output_accuracy: 0.6337 - val_sex_output_loss: 0.6622\n",
            "Epoch 9/100\n",
            "\u001b[1m31/31\u001b[0m \u001b[32m━━━━━━━━━━━━━━━━━━━━\u001b[0m\u001b[37m\u001b[0m \u001b[1m0s\u001b[0m 9ms/step - adhd_output_accuracy: 0.7467 - adhd_output_loss: 0.5207 - loss: 3.3433 - sex_output_accuracy: 0.7149 - sex_output_loss: 0.5741 - val_adhd_output_accuracy: 0.6914 - val_adhd_output_loss: 0.6050 - val_loss: 3.3957 - val_sex_output_accuracy: 0.6255 - val_sex_output_loss: 0.6630\n",
            "Epoch 10/100\n",
            "\u001b[1m31/31\u001b[0m \u001b[32m━━━━━━━━━━━━━━━━━━━━\u001b[0m\u001b[37m\u001b[0m \u001b[1m0s\u001b[0m 7ms/step - adhd_output_accuracy: 0.7536 - adhd_output_loss: 0.5121 - loss: 3.1758 - sex_output_accuracy: 0.6845 - sex_output_loss: 0.5712 - val_adhd_output_accuracy: 0.6955 - val_adhd_output_loss: 0.5994 - val_loss: 3.2553 - val_sex_output_accuracy: 0.6379 - val_sex_output_loss: 0.6623\n",
            "Epoch 11/100\n",
            "\u001b[1m31/31\u001b[0m \u001b[32m━━━━━━━━━━━━━━━━━━━━\u001b[0m\u001b[37m\u001b[0m \u001b[1m0s\u001b[0m 8ms/step - adhd_output_accuracy: 0.7493 - adhd_output_loss: 0.5091 - loss: 3.0313 - sex_output_accuracy: 0.7050 - sex_output_loss: 0.5620 - val_adhd_output_accuracy: 0.7078 - val_adhd_output_loss: 0.6103 - val_loss: 3.1640 - val_sex_output_accuracy: 0.6214 - val_sex_output_loss: 0.6693\n",
            "Epoch 12/100\n",
            "\u001b[1m31/31\u001b[0m \u001b[32m━━━━━━━━━━━━━━━━━━━━\u001b[0m\u001b[37m\u001b[0m \u001b[1m0s\u001b[0m 8ms/step - adhd_output_accuracy: 0.7578 - adhd_output_loss: 0.4931 - loss: 2.9041 - sex_output_accuracy: 0.7119 - sex_output_loss: 0.5522 - val_adhd_output_accuracy: 0.6872 - val_adhd_output_loss: 0.6156 - val_loss: 3.0874 - val_sex_output_accuracy: 0.6008 - val_sex_output_loss: 0.6771\n",
            "Epoch 13/100\n",
            "\u001b[1m31/31\u001b[0m \u001b[32m━━━━━━━━━━━━━━━━━━━━\u001b[0m\u001b[37m\u001b[0m \u001b[1m0s\u001b[0m 8ms/step - adhd_output_accuracy: 0.7819 - adhd_output_loss: 0.4622 - loss: 2.7498 - sex_output_accuracy: 0.7626 - sex_output_loss: 0.5164 - val_adhd_output_accuracy: 0.6872 - val_adhd_output_loss: 0.6121 - val_loss: 3.0003 - val_sex_output_accuracy: 0.6091 - val_sex_output_loss: 0.6820\n",
            "Epoch 14/100\n",
            "\u001b[1m31/31\u001b[0m \u001b[32m━━━━━━━━━━━━━━━━━━━━\u001b[0m\u001b[37m\u001b[0m \u001b[1m0s\u001b[0m 8ms/step - adhd_output_accuracy: 0.8116 - adhd_output_loss: 0.4509 - loss: 2.6688 - sex_output_accuracy: 0.7366 - sex_output_loss: 0.5308 - val_adhd_output_accuracy: 0.6584 - val_adhd_output_loss: 0.6234 - val_loss: 2.9286 - val_sex_output_accuracy: 0.6091 - val_sex_output_loss: 0.6679\n",
            "Epoch 15/100\n",
            "\u001b[1m31/31\u001b[0m \u001b[32m━━━━━━━━━━━━━━━━━━━━\u001b[0m\u001b[37m\u001b[0m \u001b[1m0s\u001b[0m 7ms/step - adhd_output_accuracy: 0.7902 - adhd_output_loss: 0.4363 - loss: 2.5869 - sex_output_accuracy: 0.7206 - sex_output_loss: 0.5327 - val_adhd_output_accuracy: 0.6584 - val_adhd_output_loss: 0.6207 - val_loss: 2.8674 - val_sex_output_accuracy: 0.5926 - val_sex_output_loss: 0.6789\n",
            "Epoch 16/100\n",
            "\u001b[1m31/31\u001b[0m \u001b[32m━━━━━━━━━━━━━━━━━━━━\u001b[0m\u001b[37m\u001b[0m \u001b[1m0s\u001b[0m 8ms/step - adhd_output_accuracy: 0.8159 - adhd_output_loss: 0.4475 - loss: 2.4688 - sex_output_accuracy: 0.7827 - sex_output_loss: 0.4693 - val_adhd_output_accuracy: 0.6626 - val_adhd_output_loss: 0.6266 - val_loss: 2.8231 - val_sex_output_accuracy: 0.5967 - val_sex_output_loss: 0.6880\n",
            "Epoch 17/100\n",
            "\u001b[1m31/31\u001b[0m \u001b[32m━━━━━━━━━━━━━━━━━━━━\u001b[0m\u001b[37m\u001b[0m \u001b[1m0s\u001b[0m 8ms/step - adhd_output_accuracy: 0.8319 - adhd_output_loss: 0.3841 - loss: 2.3603 - sex_output_accuracy: 0.7850 - sex_output_loss: 0.4622 - val_adhd_output_accuracy: 0.6584 - val_adhd_output_loss: 0.6326 - val_loss: 2.8265 - val_sex_output_accuracy: 0.6173 - val_sex_output_loss: 0.6886\n",
            "Epoch 18/100\n",
            "\u001b[1m31/31\u001b[0m \u001b[32m━━━━━━━━━━━━━━━━━━━━\u001b[0m\u001b[37m\u001b[0m \u001b[1m0s\u001b[0m 7ms/step - adhd_output_accuracy: 0.8243 - adhd_output_loss: 0.4077 - loss: 2.3589 - sex_output_accuracy: 0.7742 - sex_output_loss: 0.4579 - val_adhd_output_accuracy: 0.6790 - val_adhd_output_loss: 0.6386 - val_loss: 2.7805 - val_sex_output_accuracy: 0.6255 - val_sex_output_loss: 0.6903\n",
            "Epoch 19/100\n",
            "\u001b[1m31/31\u001b[0m \u001b[32m━━━━━━━━━━━━━━━━━━━━\u001b[0m\u001b[37m\u001b[0m \u001b[1m0s\u001b[0m 8ms/step - adhd_output_accuracy: 0.8517 - adhd_output_loss: 0.3714 - loss: 2.2905 - sex_output_accuracy: 0.7760 - sex_output_loss: 0.4751 - val_adhd_output_accuracy: 0.6872 - val_adhd_output_loss: 0.6395 - val_loss: 2.7451 - val_sex_output_accuracy: 0.6255 - val_sex_output_loss: 0.6920\n",
            "Epoch 20/100\n",
            "\u001b[1m31/31\u001b[0m \u001b[32m━━━━━━━━━━━━━━━━━━━━\u001b[0m\u001b[37m\u001b[0m \u001b[1m0s\u001b[0m 8ms/step - adhd_output_accuracy: 0.8288 - adhd_output_loss: 0.3673 - loss: 2.2508 - sex_output_accuracy: 0.7872 - sex_output_loss: 0.4596 - val_adhd_output_accuracy: 0.6626 - val_adhd_output_loss: 0.6573 - val_loss: 2.7663 - val_sex_output_accuracy: 0.6214 - val_sex_output_loss: 0.6802\n",
            "Epoch 21/100\n",
            "\u001b[1m31/31\u001b[0m \u001b[32m━━━━━━━━━━━━━━━━━━━━\u001b[0m\u001b[37m\u001b[0m \u001b[1m0s\u001b[0m 7ms/step - adhd_output_accuracy: 0.8390 - adhd_output_loss: 0.3509 - loss: 2.1890 - sex_output_accuracy: 0.8207 - sex_output_loss: 0.4109 - val_adhd_output_accuracy: 0.6626 - val_adhd_output_loss: 0.6750 - val_loss: 2.7856 - val_sex_output_accuracy: 0.5967 - val_sex_output_loss: 0.7010\n",
            "Epoch 22/100\n",
            "\u001b[1m31/31\u001b[0m \u001b[32m━━━━━━━━━━━━━━━━━━━━\u001b[0m\u001b[37m\u001b[0m \u001b[1m0s\u001b[0m 8ms/step - adhd_output_accuracy: 0.8546 - adhd_output_loss: 0.3387 - loss: 2.1714 - sex_output_accuracy: 0.8183 - sex_output_loss: 0.4235 - val_adhd_output_accuracy: 0.6584 - val_adhd_output_loss: 0.6713 - val_loss: 2.7892 - val_sex_output_accuracy: 0.5885 - val_sex_output_loss: 0.7035\n",
            "Epoch 23/100\n",
            "\u001b[1m31/31\u001b[0m \u001b[32m━━━━━━━━━━━━━━━━━━━━\u001b[0m\u001b[37m\u001b[0m \u001b[1m0s\u001b[0m 7ms/step - adhd_output_accuracy: 0.8548 - adhd_output_loss: 0.3305 - loss: 2.1148 - sex_output_accuracy: 0.8439 - sex_output_loss: 0.3779 - val_adhd_output_accuracy: 0.6626 - val_adhd_output_loss: 0.6610 - val_loss: 2.7561 - val_sex_output_accuracy: 0.5844 - val_sex_output_loss: 0.7049\n",
            "Epoch 24/100\n",
            "\u001b[1m31/31\u001b[0m \u001b[32m━━━━━━━━━━━━━━━━━━━━\u001b[0m\u001b[37m\u001b[0m \u001b[1m0s\u001b[0m 7ms/step - adhd_output_accuracy: 0.8921 - adhd_output_loss: 0.2987 - loss: 2.0616 - sex_output_accuracy: 0.8438 - sex_output_loss: 0.3856 - val_adhd_output_accuracy: 0.6461 - val_adhd_output_loss: 0.6821 - val_loss: 2.7765 - val_sex_output_accuracy: 0.5473 - val_sex_output_loss: 0.7269\n",
            "Epoch 25/100\n",
            "\u001b[1m31/31\u001b[0m \u001b[32m━━━━━━━━━━━━━━━━━━━━\u001b[0m\u001b[37m\u001b[0m \u001b[1m0s\u001b[0m 7ms/step - adhd_output_accuracy: 0.8912 - adhd_output_loss: 0.2748 - loss: 1.9650 - sex_output_accuracy: 0.8559 - sex_output_loss: 0.3349 - val_adhd_output_accuracy: 0.6626 - val_adhd_output_loss: 0.7037 - val_loss: 2.7706 - val_sex_output_accuracy: 0.5761 - val_sex_output_loss: 0.7223\n",
            "Epoch 26/100\n",
            "\u001b[1m31/31\u001b[0m \u001b[32m━━━━━━━━━━━━━━━━━━━━\u001b[0m\u001b[37m\u001b[0m \u001b[1m0s\u001b[0m 7ms/step - adhd_output_accuracy: 0.8956 - adhd_output_loss: 0.2693 - loss: 1.9279 - sex_output_accuracy: 0.8862 - sex_output_loss: 0.3325 - val_adhd_output_accuracy: 0.6502 - val_adhd_output_loss: 0.6756 - val_loss: 2.7306 - val_sex_output_accuracy: 0.5473 - val_sex_output_loss: 0.7496\n",
            "Epoch 27/100\n",
            "\u001b[1m31/31\u001b[0m \u001b[32m━━━━━━━━━━━━━━━━━━━━\u001b[0m\u001b[37m\u001b[0m \u001b[1m0s\u001b[0m 8ms/step - adhd_output_accuracy: 0.8594 - adhd_output_loss: 0.3111 - loss: 1.9512 - sex_output_accuracy: 0.8691 - sex_output_loss: 0.3414 - val_adhd_output_accuracy: 0.6543 - val_adhd_output_loss: 0.6986 - val_loss: 2.7563 - val_sex_output_accuracy: 0.5761 - val_sex_output_loss: 0.7455\n",
            "Epoch 28/100\n",
            "\u001b[1m31/31\u001b[0m \u001b[32m━━━━━━━━━━━━━━━━━━━━\u001b[0m\u001b[37m\u001b[0m \u001b[1m0s\u001b[0m 7ms/step - adhd_output_accuracy: 0.8970 - adhd_output_loss: 0.2562 - loss: 1.8925 - sex_output_accuracy: 0.8512 - sex_output_loss: 0.3422 - val_adhd_output_accuracy: 0.6708 - val_adhd_output_loss: 0.6992 - val_loss: 2.7137 - val_sex_output_accuracy: 0.5885 - val_sex_output_loss: 0.7264\n",
            "Epoch 29/100\n",
            "\u001b[1m31/31\u001b[0m \u001b[32m━━━━━━━━━━━━━━━━━━━━\u001b[0m\u001b[37m\u001b[0m \u001b[1m0s\u001b[0m 8ms/step - adhd_output_accuracy: 0.9008 - adhd_output_loss: 0.2330 - loss: 1.8621 - sex_output_accuracy: 0.8490 - sex_output_loss: 0.3493 - val_adhd_output_accuracy: 0.6708 - val_adhd_output_loss: 0.7047 - val_loss: 2.7382 - val_sex_output_accuracy: 0.5761 - val_sex_output_loss: 0.7431\n",
            "Epoch 30/100\n",
            "\u001b[1m31/31\u001b[0m \u001b[32m━━━━━━━━━━━━━━━━━━━━\u001b[0m\u001b[37m\u001b[0m \u001b[1m0s\u001b[0m 8ms/step - adhd_output_accuracy: 0.8766 - adhd_output_loss: 0.2571 - loss: 1.8624 - sex_output_accuracy: 0.8628 - sex_output_loss: 0.3205 - val_adhd_output_accuracy: 0.6461 - val_adhd_output_loss: 0.6967 - val_loss: 2.8041 - val_sex_output_accuracy: 0.5473 - val_sex_output_loss: 0.7944\n",
            "Epoch 31/100\n",
            "\u001b[1m31/31\u001b[0m \u001b[32m━━━━━━━━━━━━━━━━━━━━\u001b[0m\u001b[37m\u001b[0m \u001b[1m0s\u001b[0m 7ms/step - adhd_output_accuracy: 0.8830 - adhd_output_loss: 0.2886 - loss: 1.8873 - sex_output_accuracy: 0.8671 - sex_output_loss: 0.3011 - val_adhd_output_accuracy: 0.6214 - val_adhd_output_loss: 0.7539 - val_loss: 2.8397 - val_sex_output_accuracy: 0.5679 - val_sex_output_loss: 0.7863\n",
            "Epoch 32/100\n",
            "\u001b[1m31/31\u001b[0m \u001b[32m━━━━━━━━━━━━━━━━━━━━\u001b[0m\u001b[37m\u001b[0m \u001b[1m0s\u001b[0m 7ms/step - adhd_output_accuracy: 0.9087 - adhd_output_loss: 0.2562 - loss: 1.8822 - sex_output_accuracy: 0.8589 - sex_output_loss: 0.3261 - val_adhd_output_accuracy: 0.6708 - val_adhd_output_loss: 0.7307 - val_loss: 2.8392 - val_sex_output_accuracy: 0.5802 - val_sex_output_loss: 0.7787\n",
            "Epoch 33/100\n",
            "\u001b[1m31/31\u001b[0m \u001b[32m━━━━━━━━━━━━━━━━━━━━\u001b[0m\u001b[37m\u001b[0m \u001b[1m0s\u001b[0m 7ms/step - adhd_output_accuracy: 0.9143 - adhd_output_loss: 0.2311 - loss: 1.8095 - sex_output_accuracy: 0.8973 - sex_output_loss: 0.2726 - val_adhd_output_accuracy: 0.6543 - val_adhd_output_loss: 0.7639 - val_loss: 2.7925 - val_sex_output_accuracy: 0.6132 - val_sex_output_loss: 0.7330\n",
            "Epoch 34/100\n",
            "\u001b[1m31/31\u001b[0m \u001b[32m━━━━━━━━━━━━━━━━━━━━\u001b[0m\u001b[37m\u001b[0m \u001b[1m0s\u001b[0m 8ms/step - adhd_output_accuracy: 0.8919 - adhd_output_loss: 0.2673 - loss: 1.8207 - sex_output_accuracy: 0.8967 - sex_output_loss: 0.2775 - val_adhd_output_accuracy: 0.6296 - val_adhd_output_loss: 0.7580 - val_loss: 2.7822 - val_sex_output_accuracy: 0.5679 - val_sex_output_loss: 0.7528\n",
            "Epoch 35/100\n",
            "\u001b[1m31/31\u001b[0m \u001b[32m━━━━━━━━━━━━━━━━━━━━\u001b[0m\u001b[37m\u001b[0m \u001b[1m0s\u001b[0m 12ms/step - adhd_output_accuracy: 0.8930 - adhd_output_loss: 0.2244 - loss: 1.7675 - sex_output_accuracy: 0.8825 - sex_output_loss: 0.2961 - val_adhd_output_accuracy: 0.6296 - val_adhd_output_loss: 0.7565 - val_loss: 2.7277 - val_sex_output_accuracy: 0.6049 - val_sex_output_loss: 0.7358\n",
            "Epoch 36/100\n",
            "\u001b[1m31/31\u001b[0m \u001b[32m━━━━━━━━━━━━━━━━━━━━\u001b[0m\u001b[37m\u001b[0m \u001b[1m1s\u001b[0m 10ms/step - adhd_output_accuracy: 0.9030 - adhd_output_loss: 0.2274 - loss: 1.7208 - sex_output_accuracy: 0.9000 - sex_output_loss: 0.2712 - val_adhd_output_accuracy: 0.6255 - val_adhd_output_loss: 0.7782 - val_loss: 2.8206 - val_sex_output_accuracy: 0.5720 - val_sex_output_loss: 0.8192\n",
            "Epoch 37/100\n",
            "\u001b[1m31/31\u001b[0m \u001b[32m━━━━━━━━━━━━━━━━━━━━\u001b[0m\u001b[37m\u001b[0m \u001b[1m1s\u001b[0m 10ms/step - adhd_output_accuracy: 0.8936 - adhd_output_loss: 0.2667 - loss: 1.7646 - sex_output_accuracy: 0.9032 - sex_output_loss: 0.2625 - val_adhd_output_accuracy: 0.6255 - val_adhd_output_loss: 0.7738 - val_loss: 2.8333 - val_sex_output_accuracy: 0.5761 - val_sex_output_loss: 0.7997\n",
            "Epoch 38/100\n",
            "\u001b[1m31/31\u001b[0m \u001b[32m━━━━━━━━━━━━━━━━━━━━\u001b[0m\u001b[37m\u001b[0m \u001b[1m0s\u001b[0m 12ms/step - adhd_output_accuracy: 0.8893 - adhd_output_loss: 0.2538 - loss: 1.8049 - sex_output_accuracy: 0.8887 - sex_output_loss: 0.2922 - val_adhd_output_accuracy: 0.6626 - val_adhd_output_loss: 0.7411 - val_loss: 2.8789 - val_sex_output_accuracy: 0.5720 - val_sex_output_loss: 0.8364\n",
            "\u001b[1m8/8\u001b[0m \u001b[32m━━━━━━━━━━━━━━━━━━━━\u001b[0m\u001b[37m\u001b[0m \u001b[1m0s\u001b[0m 9ms/step - adhd_output_accuracy: 0.6567 - adhd_output_loss: 0.7353 - loss: 2.7410 - sex_output_accuracy: 0.5899 - sex_output_loss: 0.7277 \n",
            "Evaluation Results: [2.713735580444336, 0.6991955637931824, 0.7264025211334229, 0.6707819104194641, 0.588477373123169]\n"
          ]
        },
        {
          "output_type": "stream",
          "name": "stderr",
          "text": [
            "WARNING:tensorflow:5 out of the last 17 calls to <function TensorFlowTrainer.make_predict_function.<locals>.one_step_on_data_distributed at 0x78ee8be5fec0> triggered tf.function retracing. Tracing is expensive and the excessive number of tracings could be due to (1) creating @tf.function repeatedly in a loop, (2) passing tensors with different shapes, (3) passing Python objects instead of tensors. For (1), please define your @tf.function outside of the loop. For (2), @tf.function has reduce_retracing=True option that can avoid unnecessary retracing. For (3), please refer to https://www.tensorflow.org/guide/function#controlling_retracing and https://www.tensorflow.org/api_docs/python/tf/function for  more details.\n"
          ]
        },
        {
          "output_type": "stream",
          "name": "stdout",
          "text": [
            "\u001b[1m8/8\u001b[0m \u001b[32m━━━━━━━━━━━━━━━━━━━━\u001b[0m\u001b[37m\u001b[0m \u001b[1m1s\u001b[0m 34ms/step\n",
            "ADHD F1 Score (weighted): 0.8134\n",
            "Sex_F F1 Score: 0.3243\n",
            "Final Weighted F1 Score: 0.5689\n"
          ]
        }
      ]
    },
    {
      "cell_type": "markdown",
      "source": [
        "# Threshold Tuning"
      ],
      "metadata": {
        "id": "rqyP44sK_Axz"
      }
    },
    {
      "cell_type": "code",
      "source": [
        "# For ADHD:\n",
        "#    y_val_adhd_prob: predicted probabilities from the model for ADHD_Outcome (shape: (n_samples,))\n",
        "#    y_val_adhd: true ADHD_Outcome labels (0 or 1)\n",
        "# For Sex_F:\n",
        "#    y_val_sex_prob: predicted probabilities from the model for Sex_F (shape: (n_samples,))\n",
        "#    y_val_sex: true Sex_F labels (0 or 1)\n",
        "\n",
        "y_val_adhd_prob = predictions[0].flatten()\n",
        "y_val_sex_prob  = predictions[1].flatten()\n",
        "\n",
        "# --- Define the function to compute weighted F1 score ---\n",
        "def compute_weighted_f1(y_true_adhd, y_pred_adhd, y_true_sex, y_pred_sex):\n",
        "    \"\"\"\n",
        "    Compute the final weighted F1 score.\n",
        "    Female ADHD cases (where ADHD_Outcome==1 and Sex_F==1) are given 2x weight.\n",
        "    Returns:\n",
        "       final_f1: the average of the weighted ADHD F1 and the Sex_F F1.\n",
        "       f1_adhd: F1 score for ADHD_Outcome using sample weights.\n",
        "       f1_sex:  F1 score for Sex_F (unweighted).\n",
        "    \"\"\"\n",
        "    weights = np.ones_like(y_true_adhd, dtype=float)\n",
        "    weights[(y_true_adhd == 1) & (y_true_sex == 1)] = 2.0\n",
        "    f1_adhd = f1_score(y_true_adhd, y_pred_adhd, sample_weight=weights)\n",
        "    f1_sex = f1_score(y_true_sex, y_pred_sex)\n",
        "    final_f1 = (f1_adhd + f1_sex) / 2.0\n",
        "    return final_f1, f1_adhd, f1_sex\n",
        "\n",
        "# --- Define a range of thresholds to test ---\n",
        "#thresholds = np.linspace(0.08, 1, 93)  # from 0.00 to 1.00 in steps of 0.01\n",
        "#thresholds = np.linspace(0.1, 0.99, 90)\n",
        "threshold1 = np.linspace(0, 1, 101)\n",
        "threshold2 = np.linspace(0.1, 1, 101)\n",
        "\n",
        "\n",
        "best_final_f1 = 0.0\n",
        "best_thr_adhd = 0.0\n",
        "best_thr_sex  = 0.0\n",
        "best_f1_adhd = 0.0\n",
        "best_f1_sex  = 0.0\n",
        "\n",
        "# --- Perform a 2D threshold sweep ---\n",
        "for thr_a in threshold1:\n",
        "    for thr_s in threshold2:\n",
        "        y_pred_adhd = (y_val_adhd_prob > thr_a).astype(int)\n",
        "        y_pred_sex  = (y_val_sex_prob > thr_s).astype(int)\n",
        "        final_f1, f1_adhd, f1_sex = compute_weighted_f1(y_val_adhd_split, y_pred_adhd, y_val_sex_split, y_pred_sex)\n",
        "        if final_f1 > best_final_f1:\n",
        "            best_final_f1 = final_f1\n",
        "            best_thr_adhd = thr_a\n",
        "            best_thr_sex  = thr_s\n",
        "            best_f1_adhd = f1_adhd\n",
        "            best_f1_sex  = f1_sex\n",
        "\n",
        "print(f\"Best ADHD Threshold: {best_thr_adhd:.2f} with F1: {best_f1_adhd:.4f}\")\n",
        "print(f\"Best Sex_F Threshold: {best_thr_sex:.2f} with F1: {best_f1_sex:.4f}\")\n",
        "print(f\"Best Final Weighted F1: {best_final_f1:.4f}\")\n",
        "\n",
        "\n",
        "\n",
        "# Best ADHD Threshold: 0.20 with F1: 0.8740\n",
        "# Best Sex_F Threshold: 0.10 with F1: 0.5307\n",
        "# Best Final Weighted F1: 0.7024"
      ],
      "metadata": {
        "id": "4StHMFS5_BM5",
        "colab": {
          "base_uri": "https://localhost:8080/"
        },
        "outputId": "499eabda-4723-4c90-e4c6-a0f87d44cd5d"
      },
      "execution_count": null,
      "outputs": [
        {
          "output_type": "stream",
          "name": "stdout",
          "text": [
            "Best ADHD Threshold: 0.20 with F1: 0.8740\n",
            "Best Sex_F Threshold: 0.10 with F1: 0.5307\n",
            "Best Final Weighted F1: 0.7024\n"
          ]
        }
      ]
    },
    {
      "cell_type": "code",
      "source": [
        "# Make predictions on the test set\n",
        "test_predictions = model.predict(scaler.transform(combined_test_metadata_imputed))\n",
        "\n",
        "# Create a DataFrame for the predictions     # (304, 3)\n",
        "predictions_df = pd.DataFrame({\n",
        "    'participant_id': test_patient_ids,\n",
        "    'ADHD_Outcome': test_predictions[0].flatten(),\n",
        "    'Sex_F': test_predictions[1].flatten()\n",
        "})\n",
        "\n",
        "final_test_features = scaler.transform(combined_test_metadata_imputed)  # Shape: (n_test_samples, n_features)\n",
        "test_predictions = model.predict(final_test_features)\n",
        "\n",
        "# Flatten the predictions (if needed) so they are 1D arrays:\n",
        "adhd_probs = test_predictions[0].flatten()\n",
        "sex_probs  = test_predictions[1].flatten()\n",
        "\n",
        "test_pred_adhd = (adhd_probs > best_thr_adhd).astype(int)\n",
        "test_pred_sex  = (sex_probs > best_thr_sex).astype(int)\n",
        "\n",
        "# Ensure that test_patient_ids is a 1D array containing the IDs.\n",
        "submission_df = pd.DataFrame({\n",
        "    'participant_id': test_patient_ids.flatten(),  # Use your test IDs\n",
        "    'ADHD_Outcome': test_pred_adhd,\n",
        "    'Sex_F': test_pred_sex\n",
        "})\n",
        "\n",
        "filename = f\"jiaqi_nn_full_data_{best_thr_adhd:.2f}_{best_thr_sex:.2f}_{best_final_f1:.4f}\"\n",
        "## training_pred_df\n",
        "predictions_df.to_csv(f'/content/drive/My Drive/widsdatathon2025/Work/Prediction/{filename}.csv', index=False)\n",
        "submission_df.to_csv(f'/content/drive/My Drive/widsdatathon2025/Work/Submission/{filename}.csv', index=False)\n",
        "model.save(f'/content/drive/My Drive/widsdatathon2025/Work/Models/{filename}.keras')"
      ],
      "metadata": {
        "id": "zE2Y_ZC6TkPm",
        "outputId": "72e4a446-e5cf-44bf-e480-57a961606a9f",
        "colab": {
          "base_uri": "https://localhost:8080/"
        }
      },
      "execution_count": null,
      "outputs": [
        {
          "output_type": "stream",
          "name": "stdout",
          "text": [
            "\u001b[1m10/10\u001b[0m \u001b[32m━━━━━━━━━━━━━━━━━━━━\u001b[0m\u001b[37m\u001b[0m \u001b[1m0s\u001b[0m 49ms/step\n",
            "\u001b[1m10/10\u001b[0m \u001b[32m━━━━━━━━━━━━━━━━━━━━\u001b[0m\u001b[37m\u001b[0m \u001b[1m0s\u001b[0m 18ms/step\n"
          ]
        }
      ]
    },
    {
      "cell_type": "markdown",
      "source": [
        "# Threshold Tuning Graph"
      ],
      "metadata": {
        "id": "k9vBUnn6_ICy"
      }
    },
    {
      "cell_type": "code",
      "source": [
        "# prompt: generate a threshold tuning graph for ADHD and Sex_F\n",
        "\n",
        "import numpy as np\n",
        "from sklearn.metrics import f1_score\n",
        "import matplotlib.pyplot as plt\n",
        "\n",
        "# Assuming y_val_adhd_prob, y_val_sex_prob, y_val_adhd_split, and y_val_sex_split are defined as in your code.\n",
        "\n",
        "# Function to compute the weighted F1 score (same as before)\n",
        "def compute_weighted_f1(y_true_adhd, y_pred_adhd, y_true_sex, y_pred_sex):\n",
        "    weights = np.ones_like(y_true_adhd, dtype=float)\n",
        "    weights[(y_true_adhd == 1) & (y_true_sex == 1)] = 2.0\n",
        "    f1_adhd = f1_score(y_true_adhd, y_pred_adhd, sample_weight=weights)\n",
        "    f1_sex = f1_score(y_true_sex, y_pred_sex)\n",
        "    final_f1 = (f1_adhd + f1_sex) / 2.0\n",
        "    return final_f1, f1_adhd, f1_sex\n",
        "\n",
        "\n",
        "thresholds = np.linspace(0, 1, 101)\n",
        "f1_scores_adhd = []\n",
        "f1_scores_sex = []\n",
        "\n",
        "for threshold in thresholds:\n",
        "    y_pred_adhd = (y_val_adhd_prob > threshold).astype(int)\n",
        "    y_pred_sex = (y_val_sex_prob > threshold).astype(int)\n",
        "    _, f1_adhd, f1_sex = compute_weighted_f1(y_val_adhd_split, y_pred_adhd, y_val_sex_split, y_pred_sex)\n",
        "    f1_scores_adhd.append(f1_adhd)\n",
        "    f1_scores_sex.append(f1_sex)\n",
        "\n",
        "# Plotting the threshold tuning graph\n",
        "plt.figure(figsize=(10, 6))\n",
        "plt.plot(thresholds, f1_scores_adhd, label='ADHD F1 Score')\n",
        "plt.plot(thresholds, f1_scores_sex, label='Sex_F F1 Score')\n",
        "plt.xlabel('Threshold')\n",
        "plt.ylabel('F1 Score')\n",
        "plt.title('Threshold Tuning Graph for ADHD and Sex_F')\n",
        "plt.legend()\n",
        "plt.grid(True)\n",
        "plt.show()\n"
      ],
      "metadata": {
        "id": "uANRbZqC_KHQ",
        "collapsed": true,
        "colab": {
          "base_uri": "https://localhost:8080/",
          "height": 564
        },
        "outputId": "690215c6-4f0b-499f-9f11-f5ed26fcb2c1"
      },
      "execution_count": null,
      "outputs": [
        {
          "output_type": "display_data",
          "data": {
            "text/plain": [
              "<Figure size 1000x600 with 1 Axes>"
            ],
            "image/png": "[encoded data removed]"
          },
          "metadata": {}
        }
      ]
    },
    {
      "cell_type": "markdown",
      "source": [
        "# Two Model Data Processing: Test metadata + fmri with no or few missing values"
      ],
      "metadata": {
        "id": "YYe6ynNZsi1Q"
      }
    },
    {
      "cell_type": "code",
      "source": [
        "# prompt: Access data from google drive\n",
        "from google.colab import drive\n",
        "drive.mount('/content/drive')\n",
        "\n",
        "# Import train categorical data (1213, 10)\n",
        "train_cat = pd.read_excel(\"drive/My Drive/widsdatathon2025/TRAIN_NEW/TRAIN_CATEGORICAL_METADATA_new.xlsx\")\n",
        "# train_cat.shape\n",
        "# train_cat.describe()\n",
        "\n",
        "# Import train quantitative data (1213, 19)\n",
        "train_quant = pd.read_excel(\"drive/My Drive/widsdatathon2025/TRAIN_NEW/TRAIN_QUANTITATIVE_METADATA_new.xlsx\")\n",
        "# train_quant.shape\n",
        "# train_quant.describe()\n",
        "\n",
        "# Import solution w outcome data (1213, 3)\n",
        "train_sol = pd.read_excel(\"drive/My Drive/widsdatathon2025/TRAIN_NEW/TRAINING_SOLUTIONS.xlsx\")\n",
        "# train_sol.shape\n",
        "# train_sol.describe()\n",
        "\n",
        "# Merge train datasets on the participant ID\n",
        "combined_train_data = pd.merge(train_cat, train_quant, on='participant_id')    # (1213, 28)\n",
        "train_with_outcome = pd.merge(combined_train_data, train_sol, on='participant_id')  # (1213, 30)\n",
        "\n",
        "# # Extract metadata from combined_train_data (skip the participant ID)\n",
        "# metadata = combined_train_data.iloc[:, 1:].to_numpy()  # shape: (1213, 27)\n",
        "\n",
        "# # Standardize metadata\n",
        "# scaler_meta = StandardScaler()\n",
        "# metadata_scaled = scaler_meta.fit_transform(metadata)\n",
        "\n",
        "# Import test categorical data (304, 10)\n",
        "test_cat = pd.read_excel(\"drive/My Drive/widsdatathon2025/TEST/TEST_CATEGORICAL.xlsx\")\n",
        "\n",
        "# Import test quantitative data (304, 19)\n",
        "test_quant = pd.read_excel(\"drive/My Drive/widsdatathon2025/TEST/TEST_QUANTITATIVE_METADATA.xlsx\")\n",
        "\n",
        "# Merge test datasets on the participant ID  (304, 28)\n",
        "combined_test_data = pd.merge(test_cat, test_quant, on='participant_id')\n",
        "test_no_id = combined_test_data.drop(columns=['participant_id'])\n",
        "\n",
        "# Import train MRI data (1213, 19901)\n",
        "train_mri_filepath = \"drive/My Drive/widsdatathon2025/TRAIN_NEW/TRAIN_FUNCTIONAL_CONNECTOME_MATRICES_new_36P_Pearson.csv\"\n",
        "train_mri = pd.read_csv(train_mri_filepath)\n",
        "\n",
        "# Import test MRI data\n",
        "test_mri_filepath = \"drive/My Drive/widsdatathon2025/TEST/TEST_FUNCTIONAL_CONNECTOME_MATRICES.csv\"\n",
        "test_mri = pd.read_csv(test_mri_filepath)\n",
        "\n",
        "# Remove first line, convert csv file to a functional connectome matrix\n",
        "test_matrix_data = test_mri.iloc[:, 1:].to_numpy(dtype=float)  # (304, 19900)\n",
        "\n",
        "# Remove first line, convert csv file to a functional connectome matrix\n",
        "train_matrix_data = train_mri.iloc[:, 1:].to_numpy(dtype=float)\n"
      ],
      "metadata": {
        "colab": {
          "base_uri": "https://localhost:8080/"
        },
        "id": "y70qnoy02Y3T",
        "outputId": "82d0f09b-756f-43f1-c6df-16d8345c95c6"
      },
      "execution_count": 10,
      "outputs": [
        {
          "output_type": "stream",
          "name": "stdout",
          "text": [
            "Drive already mounted at /content/drive; to attempt to forcibly remount, call drive.mount(\"/content/drive\", force_remount=True).\n"
          ]
        }
      ]
    },
    {
      "cell_type": "code",
      "source": [
        "from sklearn.impute import KNNImputer\n",
        "import numpy as np\n",
        "\n",
        "# Calculate the percentage of missing values in each column\n",
        "missing_percentage = combined_test_data.isnull().sum() / len(combined_test_data) * 100\n",
        "\n",
        "missing_percentage\n",
        "\n",
        "# Identify columns with more than a certain percentage threshold of missing values\n",
        "threshold = 10  # meaning 10%\n",
        "columns_to_remove = missing_percentage[missing_percentage > threshold].index\n",
        "\n",
        "# Extract columns with massive missing values\n",
        "test_extracted_columns = combined_test_data[columns_to_remove]         # (304, 2)\n",
        "\n",
        "# Extract columns with no or few missing values\n",
        "test_columns_few_missing = combined_test_data.drop(columns=columns_to_remove)     # (304,26)\n",
        "\n",
        "# Combine columns_few_missing with fmri\n",
        "test_features_few_missing = np.hstack([test_columns_few_missing, test_matrix_data])\n",
        "\n",
        "# Replace \"NA\" with np.nan\n",
        "test_features_few_missing[test_features_few_missing == \"NA\"] = np.nan\n",
        "\n",
        "# Remove Patient ID\n",
        "test_features_few_missing = test_features_few_missing[:, 1:]\n",
        "\n",
        "# Convert the features_few_missing to float\n",
        "test_features_few_missing = test_features_few_missing.astype(float)\n",
        "\n",
        "# Impute missing values with KNN imputation\n",
        "imputer_metadata = KNNImputer(n_neighbors=5)  # Using KNN for imputation instead of mean\n",
        "combined_test_metadata_imputed2 = imputer_metadata.fit_transform(test_features_few_missing)  # (304, 19925)\n"
      ],
      "metadata": {
        "id": "nYg0G-bqsiWQ"
      },
      "execution_count": 11,
      "outputs": []
    },
    {
      "cell_type": "code",
      "source": [
        "missing_percentage"
      ],
      "metadata": {
        "collapsed": true,
        "id": "ihmu5SojVwFR",
        "outputId": "0894a4c0-0388-4f09-f177-49b7e4ba27c7",
        "colab": {
          "base_uri": "https://localhost:8080/",
          "height": 962
        }
      },
      "execution_count": 12,
      "outputs": [
        {
          "output_type": "execute_result",
          "data": {
            "text/plain": [
              "participant_id                       0.000000\n",
              "Basic_Demos_Enroll_Year              0.000000\n",
              "Basic_Demos_Study_Site               0.000000\n",
              "PreInt_Demos_Fam_Child_Ethnicity     0.986842\n",
              "PreInt_Demos_Fam_Child_Race          1.973684\n",
              "MRI_Track_Scan_Location              0.000000\n",
              "Barratt_Barratt_P1_Edu               0.328947\n",
              "Barratt_Barratt_P1_Occ               0.328947\n",
              "Barratt_Barratt_P2_Edu              11.842105\n",
              "Barratt_Barratt_P2_Occ              13.815789\n",
              "EHQ_EHQ_Total                        0.328947\n",
              "ColorVision_CV_Score                 2.960526\n",
              "APQ_P_APQ_P_CP                       4.934211\n",
              "APQ_P_APQ_P_ID                       4.934211\n",
              "APQ_P_APQ_P_INV                      4.934211\n",
              "APQ_P_APQ_P_OPD                      4.934211\n",
              "APQ_P_APQ_P_PM                       4.934211\n",
              "APQ_P_APQ_P_PP                       4.934211\n",
              "SDQ_SDQ_Conduct_Problems             9.868421\n",
              "SDQ_SDQ_Difficulties_Total           9.868421\n",
              "SDQ_SDQ_Emotional_Problems           9.868421\n",
              "SDQ_SDQ_Externalizing                9.868421\n",
              "SDQ_SDQ_Generating_Impact            9.868421\n",
              "SDQ_SDQ_Hyperactivity                9.868421\n",
              "SDQ_SDQ_Internalizing                9.868421\n",
              "SDQ_SDQ_Peer_Problems                9.868421\n",
              "SDQ_SDQ_Prosocial                    9.868421\n",
              "MRI_Track_Age_at_Scan                0.000000\n",
              "dtype: float64"
            ],
            "text/html": [
              "<div>\n",
              "<style scoped>\n",
              "    .dataframe tbody tr th:only-of-type {\n",
              "        vertical-align: middle;\n",
              "    }\n",
              "\n",
              "    .dataframe tbody tr th {\n",
              "        vertical-align: top;\n",
              "    }\n",
              "\n",
              "    .dataframe thead th {\n",
              "        text-align: right;\n",
              "    }\n",
              "</style>\n",
              "<table border=\"1\" class=\"dataframe\">\n",
              "  <thead>\n",
              "    <tr style=\"text-align: right;\">\n",
              "      <th></th>\n",
              "      <th>0</th>\n",
              "    </tr>\n",
              "  </thead>\n",
              "  <tbody>\n",
              "    <tr>\n",
              "      <th>participant_id</th>\n",
              "      <td>0.000000</td>\n",
              "    </tr>\n",
              "    <tr>\n",
              "      <th>Basic_Demos_Enroll_Year</th>\n",
              "      <td>0.000000</td>\n",
              "    </tr>\n",
              "    <tr>\n",
              "      <th>Basic_Demos_Study_Site</th>\n",
              "      <td>0.000000</td>\n",
              "    </tr>\n",
              "    <tr>\n",
              "      <th>PreInt_Demos_Fam_Child_Ethnicity</th>\n",
              "      <td>0.986842</td>\n",
              "    </tr>\n",
              "    <tr>\n",
              "      <th>PreInt_Demos_Fam_Child_Race</th>\n",
              "      <td>1.973684</td>\n",
              "    </tr>\n",
              "    <tr>\n",
              "      <th>MRI_Track_Scan_Location</th>\n",
              "      <td>0.000000</td>\n",
              "    </tr>\n",
              "    <tr>\n",
              "      <th>Barratt_Barratt_P1_Edu</th>\n",
              "      <td>0.328947</td>\n",
              "    </tr>\n",
              "    <tr>\n",
              "      <th>Barratt_Barratt_P1_Occ</th>\n",
              "      <td>0.328947</td>\n",
              "    </tr>\n",
              "    <tr>\n",
              "      <th>Barratt_Barratt_P2_Edu</th>\n",
              "      <td>11.842105</td>\n",
              "    </tr>\n",
              "    <tr>\n",
              "      <th>Barratt_Barratt_P2_Occ</th>\n",
              "      <td>13.815789</td>\n",
              "    </tr>\n",
              "    <tr>\n",
              "      <th>EHQ_EHQ_Total</th>\n",
              "      <td>0.328947</td>\n",
              "    </tr>\n",
              "    <tr>\n",
              "      <th>ColorVision_CV_Score</th>\n",
              "      <td>2.960526</td>\n",
              "    </tr>\n",
              "    <tr>\n",
              "      <th>APQ_P_APQ_P_CP</th>\n",
              "      <td>4.934211</td>\n",
              "    </tr>\n",
              "    <tr>\n",
              "      <th>APQ_P_APQ_P_ID</th>\n",
              "      <td>4.934211</td>\n",
              "    </tr>\n",
              "    <tr>\n",
              "      <th>APQ_P_APQ_P_INV</th>\n",
              "      <td>4.934211</td>\n",
              "    </tr>\n",
              "    <tr>\n",
              "      <th>APQ_P_APQ_P_OPD</th>\n",
              "      <td>4.934211</td>\n",
              "    </tr>\n",
              "    <tr>\n",
              "      <th>APQ_P_APQ_P_PM</th>\n",
              "      <td>4.934211</td>\n",
              "    </tr>\n",
              "    <tr>\n",
              "      <th>APQ_P_APQ_P_PP</th>\n",
              "      <td>4.934211</td>\n",
              "    </tr>\n",
              "    <tr>\n",
              "      <th>SDQ_SDQ_Conduct_Problems</th>\n",
              "      <td>9.868421</td>\n",
              "    </tr>\n",
              "    <tr>\n",
              "      <th>SDQ_SDQ_Difficulties_Total</th>\n",
              "      <td>9.868421</td>\n",
              "    </tr>\n",
              "    <tr>\n",
              "      <th>SDQ_SDQ_Emotional_Problems</th>\n",
              "      <td>9.868421</td>\n",
              "    </tr>\n",
              "    <tr>\n",
              "      <th>SDQ_SDQ_Externalizing</th>\n",
              "      <td>9.868421</td>\n",
              "    </tr>\n",
              "    <tr>\n",
              "      <th>SDQ_SDQ_Generating_Impact</th>\n",
              "      <td>9.868421</td>\n",
              "    </tr>\n",
              "    <tr>\n",
              "      <th>SDQ_SDQ_Hyperactivity</th>\n",
              "      <td>9.868421</td>\n",
              "    </tr>\n",
              "    <tr>\n",
              "      <th>SDQ_SDQ_Internalizing</th>\n",
              "      <td>9.868421</td>\n",
              "    </tr>\n",
              "    <tr>\n",
              "      <th>SDQ_SDQ_Peer_Problems</th>\n",
              "      <td>9.868421</td>\n",
              "    </tr>\n",
              "    <tr>\n",
              "      <th>SDQ_SDQ_Prosocial</th>\n",
              "      <td>9.868421</td>\n",
              "    </tr>\n",
              "    <tr>\n",
              "      <th>MRI_Track_Age_at_Scan</th>\n",
              "      <td>0.000000</td>\n",
              "    </tr>\n",
              "  </tbody>\n",
              "</table>\n",
              "</div><br><label><b>dtype:</b> float64</label>"
            ]
          },
          "metadata": {},
          "execution_count": 12
        }
      ]
    },
    {
      "cell_type": "markdown",
      "source": [
        "# Two Model Data Processing: Train metadata + fmri with no or few missing values"
      ],
      "metadata": {
        "id": "tmnCAgwK6ZOF"
      }
    },
    {
      "cell_type": "code",
      "source": [
        "# Extract columns with massive missing values\n",
        "extracted_columns = combined_train_data[columns_to_remove]         # (1213, 2)\n",
        "\n",
        "# Extract columns with no or few missing values\n",
        "columns_few_missing = combined_train_data.drop(columns=columns_to_remove)     # (1213, 26)\n",
        "\n",
        "# Combine columns_few_missing with fmri\n",
        "features_few_missing = np.hstack([columns_few_missing, train_matrix_data])\n",
        "\n",
        "# Replace \"NA\" with np.nan\n",
        "features_few_missing[features_few_missing == \"NA\"] = np.nan\n",
        "\n",
        "# Remove Patient ID\n",
        "features_few_missing = features_few_missing[:, 1:]\n",
        "\n",
        "# Convert the features_few_missing to float\n",
        "features_few_missing = features_few_missing.astype(float)\n",
        "\n",
        "# Impute missing values with KNN imputation\n",
        "imputer_metadata = KNNImputer(n_neighbors=5)  # Using KNN for imputation instead of mean\n",
        "combined_metadata_imputed2 = imputer_metadata.fit_transform(features_few_missing)  # (1213, 19925)"
      ],
      "metadata": {
        "id": "_zloNlNQ6Yff"
      },
      "execution_count": 15,
      "outputs": []
    },
    {
      "cell_type": "code",
      "source": [
        "combined_metadata_imputed2.shape"
      ],
      "metadata": {
        "id": "H6_9LlOR_Avz",
        "outputId": "cbc4e1ba-232e-4f41-f053-736b820b0ced",
        "colab": {
          "base_uri": "https://localhost:8080/"
        }
      },
      "execution_count": null,
      "outputs": [
        {
          "output_type": "execute_result",
          "data": {
            "text/plain": [
              "(1213, 19925)"
            ]
          },
          "metadata": {},
          "execution_count": 137
        }
      ]
    },
    {
      "cell_type": "markdown",
      "source": [
        "# Neural Network Model"
      ],
      "metadata": {
        "id": "2OOqf0kd6iYp"
      }
    },
    {
      "cell_type": "code",
      "source": [
        "import tensorflow as tf\n",
        "from tensorflow.keras.models import Model\n",
        "from tensorflow.keras.layers import Input, Dense, Dropout, BatchNormalization\n",
        "from tensorflow.keras.callbacks import EarlyStopping\n",
        "from tensorflow.keras.regularizers import l2\n",
        "from sklearn.model_selection import train_test_split\n",
        "from sklearn.preprocessing import StandardScaler\n",
        "from sklearn.metrics import f1_score\n",
        "import numpy as np\n",
        "\n",
        "# --- Define the function to compute weighted F1 score ---\n",
        "def compute_weighted_f1(y_true_adhd, y_pred_adhd, y_true_sex, y_pred_sex):\n",
        "    \"\"\"\n",
        "    Compute the final weighted F1 score for the competition.\n",
        "    Female ADHD cases (where ADHD_Outcome==1 and Sex_F==1) are given 2x weight.\n",
        "    The final score is the average of the weighted F1 for ADHD_Outcome and the F1 for Sex_F.\n",
        "    \"\"\"\n",
        "    # Create sample weights for ADHD_Outcome: weight=2 for female ADHD cases, else 1.\n",
        "    weights = np.ones_like(y_true_adhd, dtype=float)\n",
        "    weights[(y_true_adhd == 1) & (y_true_sex == 1)] = 2.0\n",
        "\n",
        "    # Calculate weighted F1 for ADHD_Outcome\n",
        "    f1_adhd = f1_score(y_true_adhd, y_pred_adhd, sample_weight=weights)\n",
        "    # Calculate standard F1 for Sex_F\n",
        "    f1_sex = f1_score(y_true_sex, y_pred_sex)\n",
        "\n",
        "    # Final leaderboard score: average of the two F1 scores\n",
        "    final_f1 = (f1_adhd + f1_sex) / 2.0\n",
        "    return final_f1, f1_adhd, f1_sex\n",
        "\n",
        "# --- Prepare the data ---\n",
        "# Use combined_metadata_imputed as input features.\n",
        "X = combined_metadata_imputed2  # (1213, 19925)\n",
        "# Extract targets from train_sol:\n",
        "y_adhd = train_sol['ADHD_Outcome'].values  # Binary labels (0 or 1)\n",
        "y_sex  = train_sol['Sex_F'].values         # Binary labels (0 or 1)\n",
        "\n",
        "# Standardize features.\n",
        "scaler = StandardScaler()\n",
        "X_scaled = scaler.fit_transform(X)\n",
        "\n",
        "# Split into training and validation sets.\n",
        "# Note: We split the labels separately but the splits will be aligned because we use the same X_scaled.\n",
        "X_train_split, X_val_split, y_train_adhd_split, y_val_adhd_split = train_test_split(\n",
        "    X_scaled, y_adhd, test_size=0.2, random_state=42\n",
        ")\n",
        "_, _, y_train_sex_split, y_val_sex_split = train_test_split(\n",
        "    X_scaled, y_sex, test_size=0.2, random_state=42\n",
        ")\n",
        "\n",
        "# --- Build the multi-output neural network model ---\n",
        "input_layer = Input(shape=(X_train_split.shape[1],))\n",
        "x = Dense(128, activation='relu', kernel_regularizer=l2(0.01))(input_layer)\n",
        "x = Dropout(0.5)(x)\n",
        "x = BatchNormalization()(x)\n",
        "x = Dense(64, activation='relu', kernel_regularizer=l2(0.01))(x)\n",
        "x = Dropout(0.5)(x)\n",
        "x = BatchNormalization()(x)\n",
        "x = Dense(32, activation='relu', kernel_regularizer=l2(0.01))(x)\n",
        "\n",
        "# Two separate output layers:\n",
        "output_adhd = Dense(1, activation='sigmoid', name='adhd_output')(x)\n",
        "output_sex  = Dense(1, activation='sigmoid', name='sex_output')(x)\n",
        "\n",
        "model2 = Model(inputs=input_layer, outputs=[output_adhd, output_sex])\n",
        "\n",
        "# Compile the model.\n",
        "model2.compile(optimizer=tf.keras.optimizers.Adam(learning_rate=0.0005),\n",
        "              loss='binary_crossentropy',\n",
        "              metrics={'adhd_output': 'accuracy', 'sex_output': 'accuracy'})\n",
        "\n",
        "\n",
        "# Set up early stopping.\n",
        "early_stopping = EarlyStopping(monitor='val_loss', patience=10, restore_best_weights=True)\n",
        "\n",
        "# --- Train the model ---\n",
        "history = model2.fit(\n",
        "    X_train_split,\n",
        "    {'adhd_output': y_train_adhd_split, 'sex_output': y_train_sex_split},\n",
        "    epochs=100,\n",
        "    batch_size=32,\n",
        "    validation_data=(X_val_split, {'adhd_output': y_val_adhd_split, 'sex_output': y_val_sex_split}),\n",
        "    callbacks=[early_stopping]\n",
        ")\n",
        "\n",
        "# --- Evaluate the model ---\n",
        "results = model2.evaluate(X_val_split, {'adhd_output': y_val_adhd_split, 'sex_output': y_val_sex_split})\n",
        "print(\"Evaluation Results:\", results)\n",
        "\n",
        "# --- Make predictions on the validation set ---\n",
        "predictions2 = model2.predict(X_val_split)       # (243, 2)\n",
        "# predictions is a list: predictions[0] for ADHD_Outcome, predictions[1] for Sex_F.\n",
        "y_val_pred_adhd2 = (predictions2[0] > 0.5).astype(int).flatten()\n",
        "y_val_pred_sex2  = (predictions2[1] > 0.5).astype(int).flatten()\n",
        "\n",
        "# --- Compute the weighted F1 score ---\n",
        "final_f1, f1_adhd, f1_sex = compute_weighted_f1(y_val_adhd_split, y_val_pred_adhd2, y_val_sex_split, y_val_pred_sex2)\n",
        "\n",
        "print(f\"ADHD F1 Score (weighted): {f1_adhd:.4f}\")\n",
        "print(f\"Sex_F F1 Score: {f1_sex:.4f}\")\n",
        "print(f\"Final Weighted F1 Score: {final_f1:.4f}\")\n",
        "\n"
      ],
      "metadata": {
        "collapsed": true,
        "colab": {
          "base_uri": "https://localhost:8080/"
        },
        "id": "g-afr4Mg6h-I",
        "outputId": "6531543a-a994-4207-cf58-491c79f0d598"
      },
      "execution_count": 16,
      "outputs": [
        {
          "output_type": "stream",
          "name": "stdout",
          "text": [
            "Epoch 1/100\n",
            "\u001b[1m31/31\u001b[0m \u001b[32m━━━━━━━━━━━━━━━━━━━━\u001b[0m\u001b[37m\u001b[0m \u001b[1m9s\u001b[0m 130ms/step - adhd_output_accuracy: 0.6016 - adhd_output_loss: 0.6974 - loss: 5.5904 - sex_output_accuracy: 0.3776 - sex_output_loss: 1.0589 - val_adhd_output_accuracy: 0.6831 - val_adhd_output_loss: 0.6380 - val_loss: 5.2779 - val_sex_output_accuracy: 0.4815 - val_sex_output_loss: 0.8549\n",
            "Epoch 2/100\n",
            "\u001b[1m31/31\u001b[0m \u001b[32m━━━━━━━━━━━━━━━━━━━━\u001b[0m\u001b[37m\u001b[0m \u001b[1m0s\u001b[0m 7ms/step - adhd_output_accuracy: 0.6137 - adhd_output_loss: 0.6795 - loss: 5.2134 - sex_output_accuracy: 0.4668 - sex_output_loss: 0.8069 - val_adhd_output_accuracy: 0.6955 - val_adhd_output_loss: 0.6363 - val_loss: 4.8526 - val_sex_output_accuracy: 0.6132 - val_sex_output_loss: 0.6858\n",
            "Epoch 3/100\n",
            "\u001b[1m31/31\u001b[0m \u001b[32m━━━━━━━━━━━━━━━━━━━━\u001b[0m\u001b[37m\u001b[0m \u001b[1m0s\u001b[0m 7ms/step - adhd_output_accuracy: 0.6594 - adhd_output_loss: 0.6540 - loss: 4.8293 - sex_output_accuracy: 0.5302 - sex_output_loss: 0.7245 - val_adhd_output_accuracy: 0.6831 - val_adhd_output_loss: 0.6276 - val_loss: 4.5097 - val_sex_output_accuracy: 0.6214 - val_sex_output_loss: 0.6634\n",
            "Epoch 4/100\n",
            "\u001b[1m31/31\u001b[0m \u001b[32m━━━━━━━━━━━━━━━━━━━━\u001b[0m\u001b[37m\u001b[0m \u001b[1m0s\u001b[0m 7ms/step - adhd_output_accuracy: 0.6811 - adhd_output_loss: 0.6108 - loss: 4.4088 - sex_output_accuracy: 0.6501 - sex_output_loss: 0.6528 - val_adhd_output_accuracy: 0.6996 - val_adhd_output_loss: 0.6260 - val_loss: 4.2067 - val_sex_output_accuracy: 0.6420 - val_sex_output_loss: 0.6491\n",
            "Epoch 5/100\n",
            "\u001b[1m31/31\u001b[0m \u001b[32m━━━━━━━━━━━━━━━━━━━━\u001b[0m\u001b[37m\u001b[0m \u001b[1m0s\u001b[0m 8ms/step - adhd_output_accuracy: 0.6537 - adhd_output_loss: 0.6309 - loss: 4.1432 - sex_output_accuracy: 0.6151 - sex_output_loss: 0.6520 - val_adhd_output_accuracy: 0.7243 - val_adhd_output_loss: 0.6137 - val_loss: 3.8988 - val_sex_output_accuracy: 0.6831 - val_sex_output_loss: 0.6307\n",
            "Epoch 6/100\n",
            "\u001b[1m31/31\u001b[0m \u001b[32m━━━━━━━━━━━━━━━━━━━━\u001b[0m\u001b[37m\u001b[0m \u001b[1m0s\u001b[0m 7ms/step - adhd_output_accuracy: 0.6586 - adhd_output_loss: 0.6222 - loss: 3.8117 - sex_output_accuracy: 0.6907 - sex_output_loss: 0.6006 - val_adhd_output_accuracy: 0.7202 - val_adhd_output_loss: 0.6202 - val_loss: 3.6512 - val_sex_output_accuracy: 0.6831 - val_sex_output_loss: 0.6337\n",
            "Epoch 7/100\n",
            "\u001b[1m31/31\u001b[0m \u001b[32m━━━━━━━━━━━━━━━━━━━━\u001b[0m\u001b[37m\u001b[0m \u001b[1m0s\u001b[0m 11ms/step - adhd_output_accuracy: 0.6878 - adhd_output_loss: 0.5765 - loss: 3.4678 - sex_output_accuracy: 0.7305 - sex_output_loss: 0.5517 - val_adhd_output_accuracy: 0.7202 - val_adhd_output_loss: 0.6275 - val_loss: 3.4281 - val_sex_output_accuracy: 0.6831 - val_sex_output_loss: 0.6262\n",
            "Epoch 8/100\n",
            "\u001b[1m31/31\u001b[0m \u001b[32m━━━━━━━━━━━━━━━━━━━━\u001b[0m\u001b[37m\u001b[0m \u001b[1m0s\u001b[0m 13ms/step - adhd_output_accuracy: 0.7086 - adhd_output_loss: 0.5682 - loss: 3.2723 - sex_output_accuracy: 0.7170 - sex_output_loss: 0.5611 - val_adhd_output_accuracy: 0.7078 - val_adhd_output_loss: 0.6194 - val_loss: 3.2770 - val_sex_output_accuracy: 0.6955 - val_sex_output_loss: 0.6251\n",
            "Epoch 9/100\n",
            "\u001b[1m31/31\u001b[0m \u001b[32m━━━━━━━━━━━━━━━━━━━━\u001b[0m\u001b[37m\u001b[0m \u001b[1m1s\u001b[0m 11ms/step - adhd_output_accuracy: 0.6934 - adhd_output_loss: 0.5702 - loss: 3.1107 - sex_output_accuracy: 0.7205 - sex_output_loss: 0.5445 - val_adhd_output_accuracy: 0.6914 - val_adhd_output_loss: 0.6312 - val_loss: 3.1517 - val_sex_output_accuracy: 0.6749 - val_sex_output_loss: 0.6414\n",
            "Epoch 10/100\n",
            "\u001b[1m31/31\u001b[0m \u001b[32m━━━━━━━━━━━━━━━━━━━━\u001b[0m\u001b[37m\u001b[0m \u001b[1m0s\u001b[0m 10ms/step - adhd_output_accuracy: 0.6757 - adhd_output_loss: 0.5718 - loss: 2.9654 - sex_output_accuracy: 0.7180 - sex_output_loss: 0.5446 - val_adhd_output_accuracy: 0.6872 - val_adhd_output_loss: 0.6308 - val_loss: 3.0451 - val_sex_output_accuracy: 0.6667 - val_sex_output_loss: 0.6581\n",
            "Epoch 11/100\n",
            "\u001b[1m31/31\u001b[0m \u001b[32m━━━━━━━━━━━━━━━━━━━━\u001b[0m\u001b[37m\u001b[0m \u001b[1m1s\u001b[0m 13ms/step - adhd_output_accuracy: 0.6933 - adhd_output_loss: 0.5643 - loss: 2.8131 - sex_output_accuracy: 0.7537 - sex_output_loss: 0.5174 - val_adhd_output_accuracy: 0.6955 - val_adhd_output_loss: 0.6260 - val_loss: 2.9455 - val_sex_output_accuracy: 0.6708 - val_sex_output_loss: 0.6681\n",
            "Epoch 12/100\n",
            "\u001b[1m31/31\u001b[0m \u001b[32m━━━━━━━━━━━━━━━━━━━━\u001b[0m\u001b[37m\u001b[0m \u001b[1m0s\u001b[0m 11ms/step - adhd_output_accuracy: 0.7112 - adhd_output_loss: 0.5573 - loss: 2.6918 - sex_output_accuracy: 0.7832 - sex_output_loss: 0.5062 - val_adhd_output_accuracy: 0.6955 - val_adhd_output_loss: 0.6358 - val_loss: 2.8478 - val_sex_output_accuracy: 0.6667 - val_sex_output_loss: 0.6586\n",
            "Epoch 13/100\n",
            "\u001b[1m31/31\u001b[0m \u001b[32m━━━━━━━━━━━━━━━━━━━━\u001b[0m\u001b[37m\u001b[0m \u001b[1m0s\u001b[0m 7ms/step - adhd_output_accuracy: 0.7293 - adhd_output_loss: 0.5259 - loss: 2.4798 - sex_output_accuracy: 0.8231 - sex_output_loss: 0.4226 - val_adhd_output_accuracy: 0.6626 - val_adhd_output_loss: 0.6342 - val_loss: 2.7642 - val_sex_output_accuracy: 0.6461 - val_sex_output_loss: 0.6681\n",
            "Epoch 14/100\n",
            "\u001b[1m31/31\u001b[0m \u001b[32m━━━━━━━━━━━━━━━━━━━━\u001b[0m\u001b[37m\u001b[0m \u001b[1m0s\u001b[0m 8ms/step - adhd_output_accuracy: 0.7517 - adhd_output_loss: 0.4957 - loss: 2.4045 - sex_output_accuracy: 0.8076 - sex_output_loss: 0.4548 - val_adhd_output_accuracy: 0.6955 - val_adhd_output_loss: 0.6339 - val_loss: 2.7089 - val_sex_output_accuracy: 0.6667 - val_sex_output_loss: 0.6662\n",
            "Epoch 15/100\n",
            "\u001b[1m31/31\u001b[0m \u001b[32m━━━━━━━━━━━━━━━━━━━━\u001b[0m\u001b[37m\u001b[0m \u001b[1m0s\u001b[0m 8ms/step - adhd_output_accuracy: 0.7530 - adhd_output_loss: 0.4934 - loss: 2.3422 - sex_output_accuracy: 0.7905 - sex_output_loss: 0.4461 - val_adhd_output_accuracy: 0.6790 - val_adhd_output_loss: 0.6280 - val_loss: 2.6677 - val_sex_output_accuracy: 0.6708 - val_sex_output_loss: 0.6713\n",
            "Epoch 16/100\n",
            "\u001b[1m31/31\u001b[0m \u001b[32m━━━━━━━━━━━━━━━━━━━━\u001b[0m\u001b[37m\u001b[0m \u001b[1m0s\u001b[0m 8ms/step - adhd_output_accuracy: 0.7779 - adhd_output_loss: 0.4701 - loss: 2.2586 - sex_output_accuracy: 0.8222 - sex_output_loss: 0.4304 - val_adhd_output_accuracy: 0.6872 - val_adhd_output_loss: 0.6310 - val_loss: 2.6141 - val_sex_output_accuracy: 0.6461 - val_sex_output_loss: 0.6667\n",
            "Epoch 17/100\n",
            "\u001b[1m31/31\u001b[0m \u001b[32m━━━━━━━━━━━━━━━━━━━━\u001b[0m\u001b[37m\u001b[0m \u001b[1m0s\u001b[0m 8ms/step - adhd_output_accuracy: 0.8062 - adhd_output_loss: 0.4373 - loss: 2.1159 - sex_output_accuracy: 0.8437 - sex_output_loss: 0.3662 - val_adhd_output_accuracy: 0.6626 - val_adhd_output_loss: 0.6577 - val_loss: 2.6632 - val_sex_output_accuracy: 0.5844 - val_sex_output_loss: 0.7086\n",
            "Epoch 18/100\n",
            "\u001b[1m31/31\u001b[0m \u001b[32m━━━━━━━━━━━━━━━━━━━━\u001b[0m\u001b[37m\u001b[0m \u001b[1m0s\u001b[0m 7ms/step - adhd_output_accuracy: 0.8012 - adhd_output_loss: 0.4272 - loss: 2.0883 - sex_output_accuracy: 0.8552 - sex_output_loss: 0.3616 - val_adhd_output_accuracy: 0.6461 - val_adhd_output_loss: 0.6622 - val_loss: 2.6890 - val_sex_output_accuracy: 0.6049 - val_sex_output_loss: 0.7229\n",
            "Epoch 19/100\n",
            "\u001b[1m31/31\u001b[0m \u001b[32m━━━━━━━━━━━━━━━━━━━━\u001b[0m\u001b[37m\u001b[0m \u001b[1m0s\u001b[0m 8ms/step - adhd_output_accuracy: 0.7907 - adhd_output_loss: 0.4398 - loss: 2.1126 - sex_output_accuracy: 0.8597 - sex_output_loss: 0.3533 - val_adhd_output_accuracy: 0.6831 - val_adhd_output_loss: 0.6606 - val_loss: 2.7362 - val_sex_output_accuracy: 0.6173 - val_sex_output_loss: 0.7580\n",
            "Epoch 20/100\n",
            "\u001b[1m31/31\u001b[0m \u001b[32m━━━━━━━━━━━━━━━━━━━━\u001b[0m\u001b[37m\u001b[0m \u001b[1m0s\u001b[0m 8ms/step - adhd_output_accuracy: 0.7781 - adhd_output_loss: 0.4561 - loss: 2.1510 - sex_output_accuracy: 0.8435 - sex_output_loss: 0.3660 - val_adhd_output_accuracy: 0.6584 - val_adhd_output_loss: 0.6687 - val_loss: 2.7252 - val_sex_output_accuracy: 0.6296 - val_sex_output_loss: 0.7230\n",
            "Epoch 21/100\n",
            "\u001b[1m31/31\u001b[0m \u001b[32m━━━━━━━━━━━━━━━━━━━━\u001b[0m\u001b[37m\u001b[0m \u001b[1m0s\u001b[0m 8ms/step - adhd_output_accuracy: 0.8208 - adhd_output_loss: 0.4114 - loss: 2.1072 - sex_output_accuracy: 0.8531 - sex_output_loss: 0.3565 - val_adhd_output_accuracy: 0.6214 - val_adhd_output_loss: 0.6916 - val_loss: 2.7894 - val_sex_output_accuracy: 0.6173 - val_sex_output_loss: 0.7795\n",
            "Epoch 22/100\n",
            "\u001b[1m31/31\u001b[0m \u001b[32m━━━━━━━━━━━━━━━━━━━━\u001b[0m\u001b[37m\u001b[0m \u001b[1m0s\u001b[0m 7ms/step - adhd_output_accuracy: 0.8393 - adhd_output_loss: 0.3827 - loss: 2.0237 - sex_output_accuracy: 0.8568 - sex_output_loss: 0.3280 - val_adhd_output_accuracy: 0.6173 - val_adhd_output_loss: 0.6953 - val_loss: 2.7544 - val_sex_output_accuracy: 0.6255 - val_sex_output_loss: 0.7618\n",
            "Epoch 23/100\n",
            "\u001b[1m31/31\u001b[0m \u001b[32m━━━━━━━━━━━━━━━━━━━━\u001b[0m\u001b[37m\u001b[0m \u001b[1m0s\u001b[0m 7ms/step - adhd_output_accuracy: 0.8347 - adhd_output_loss: 0.3561 - loss: 1.9904 - sex_output_accuracy: 0.8661 - sex_output_loss: 0.3374 - val_adhd_output_accuracy: 0.6502 - val_adhd_output_loss: 0.7043 - val_loss: 2.7117 - val_sex_output_accuracy: 0.6337 - val_sex_output_loss: 0.7305\n",
            "Epoch 24/100\n",
            "\u001b[1m31/31\u001b[0m \u001b[32m━━━━━━━━━━━━━━━━━━━━\u001b[0m\u001b[37m\u001b[0m \u001b[1m0s\u001b[0m 7ms/step - adhd_output_accuracy: 0.8726 - adhd_output_loss: 0.3301 - loss: 1.9094 - sex_output_accuracy: 0.8694 - sex_output_loss: 0.3084 - val_adhd_output_accuracy: 0.6420 - val_adhd_output_loss: 0.7321 - val_loss: 2.7244 - val_sex_output_accuracy: 0.6049 - val_sex_output_loss: 0.7436\n",
            "Epoch 25/100\n",
            "\u001b[1m31/31\u001b[0m \u001b[32m━━━━━━━━━━━━━━━━━━━━\u001b[0m\u001b[37m\u001b[0m \u001b[1m0s\u001b[0m 8ms/step - adhd_output_accuracy: 0.8858 - adhd_output_loss: 0.3053 - loss: 1.8304 - sex_output_accuracy: 0.8844 - sex_output_loss: 0.2798 - val_adhd_output_accuracy: 0.6337 - val_adhd_output_loss: 0.7687 - val_loss: 2.7984 - val_sex_output_accuracy: 0.6337 - val_sex_output_loss: 0.7886\n",
            "Epoch 26/100\n",
            "\u001b[1m31/31\u001b[0m \u001b[32m━━━━━━━━━━━━━━━━━━━━\u001b[0m\u001b[37m\u001b[0m \u001b[1m0s\u001b[0m 8ms/step - adhd_output_accuracy: 0.8809 - adhd_output_loss: 0.2986 - loss: 1.8566 - sex_output_accuracy: 0.8853 - sex_output_loss: 0.3199 - val_adhd_output_accuracy: 0.6337 - val_adhd_output_loss: 0.7636 - val_loss: 2.7718 - val_sex_output_accuracy: 0.6173 - val_sex_output_loss: 0.7830\n",
            "\u001b[1m8/8\u001b[0m \u001b[32m━━━━━━━━━━━━━━━━━━━━\u001b[0m\u001b[37m\u001b[0m \u001b[1m0s\u001b[0m 6ms/step - adhd_output_accuracy: 0.7123 - adhd_output_loss: 0.6011 - loss: 2.5628 - sex_output_accuracy: 0.6666 - sex_output_loss: 0.6441 \n",
            "Evaluation Results: [2.6141419410705566, 0.6310386061668396, 0.6666871905326843, 0.6872428059577942, 0.6460905075073242]\n",
            "\u001b[1m8/8\u001b[0m \u001b[32m━━━━━━━━━━━━━━━━━━━━\u001b[0m\u001b[37m\u001b[0m \u001b[1m0s\u001b[0m 33ms/step\n",
            "ADHD F1 Score (weighted): 0.8238\n",
            "Sex_F F1 Score: 0.2037\n",
            "Final Weighted F1 Score: 0.5137\n"
          ]
        }
      ]
    },
    {
      "cell_type": "markdown",
      "source": [
        "# Threshold Tuning"
      ],
      "metadata": {
        "id": "kIo_Z-HaZeK_"
      }
    },
    {
      "cell_type": "code",
      "source": [
        "# Threshold Tuning for model2 and predictions2\n",
        "\n",
        "y_val_adhd_prob2 = predictions2[0].flatten()\n",
        "y_val_sex_prob2  = predictions2[1].flatten()\n",
        "\n",
        "threshold1 = np.linspace(0.3, 1, 71)\n",
        "threshold2 = np.linspace(0.1, 1, 101)\n",
        "\n",
        "best_final_f1_2 = 0.0\n",
        "best_thr_adhd_2 = 0.0\n",
        "best_thr_sex_2  = 0.0\n",
        "best_f1_adhd_2 = 0.0\n",
        "best_f1_sex_2  = 0.0\n",
        "\n",
        "for thr_a in threshold1:\n",
        "    for thr_s in threshold2:\n",
        "        y_pred_adhd2 = (y_val_adhd_prob2 > thr_a).astype(int)\n",
        "        y_pred_sex2  = (y_val_sex_prob2 > thr_s).astype(int)\n",
        "        final_f1, f1_adhd, f1_sex = compute_weighted_f1(y_val_adhd_split, y_pred_adhd2, y_val_sex_split, y_pred_sex2)\n",
        "        if final_f1 > best_final_f1_2:\n",
        "            best_final_f1_2 = final_f1\n",
        "            best_thr_adhd_2 = thr_a\n",
        "            best_thr_sex_2  = thr_s\n",
        "            best_f1_adhd_2 = f1_adhd\n",
        "            best_f1_sex_2  = f1_sex\n",
        "\n",
        "print(f\"Best ADHD Threshold (model2): {best_thr_adhd_2:.2f} with F1: {best_f1_adhd_2:.4f}\")\n",
        "print(f\"Best Sex_F Threshold (model2): {best_thr_sex_2:.2f} with F1: {best_f1_sex_2:.4f}\")\n",
        "print(f\"Best Final Weighted F1 (model2): {best_final_f1_2:.4f}\")\n",
        "\n"
      ],
      "metadata": {
        "id": "1K7vSdy1Zx8I",
        "outputId": "c298e208-a7c6-48e6-de5f-8b8e81071d6d",
        "colab": {
          "base_uri": "https://localhost:8080/"
        }
      },
      "execution_count": 21,
      "outputs": [
        {
          "output_type": "stream",
          "name": "stdout",
          "text": [
            "Best ADHD Threshold (model2): 0.30 with F1: 0.8728\n",
            "Best Sex_F Threshold (model2): 0.15 with F1: 0.4589\n",
            "Best Final Weighted F1 (model2): 0.6659\n"
          ]
        }
      ]
    },
    {
      "cell_type": "code",
      "source": [
        "\n",
        "thresholds = np.linspace(0, 1, 101)\n",
        "f1_scores_adhd2 = []\n",
        "f1_scores_sex2 = []\n",
        "\n",
        "for threshold in thresholds:\n",
        "    y_pred_adhd2 = (y_val_adhd_prob2 > threshold).astype(int)\n",
        "    y_pred_sex2 = (y_val_sex_prob2 > threshold).astype(int)\n",
        "    _, f1_adhd, f1_sex = compute_weighted_f1(y_val_adhd_split, y_pred_adhd2, y_val_sex_split, y_pred_sex2)\n",
        "    f1_scores_adhd2.append(f1_adhd)\n",
        "    f1_scores_sex2.append(f1_sex)\n",
        "\n",
        "# Plotting the threshold tuning graph for model2\n",
        "plt.figure(figsize=(10, 6))\n",
        "plt.plot(thresholds, f1_scores_adhd2, label='ADHD F1 Score (model2)')\n",
        "plt.plot(thresholds, f1_scores_sex2, label='Sex_F F1 Score (model2)')\n",
        "plt.xlabel('Threshold')\n",
        "plt.ylabel('F1 Score')\n",
        "plt.title('Threshold Tuning Graph for ADHD and Sex_F (model2)')\n",
        "plt.legend()\n",
        "plt.grid(True)\n",
        "plt.show()\n"
      ],
      "metadata": {
        "id": "wfHx_A2saNYY",
        "outputId": "c1826345-20d5-4daa-981c-c8d78a790e14",
        "colab": {
          "base_uri": "https://localhost:8080/",
          "height": 564
        }
      },
      "execution_count": 20,
      "outputs": [
        {
          "output_type": "display_data",
          "data": {
            "text/plain": [
              "<Figure size 1000x600 with 1 Axes>"
            ],
            "image/png": "[encoded data removed]"
          },
          "metadata": {}
        }
      ]
    },
    {
      "cell_type": "code",
      "source": [
        "# Make predictions on the test set\n",
        "test_predictions2 = model2.predict(scaler.transform(combined_test_metadata_imputed2))\n",
        "\n",
        "# Create a DataFrame for the predictions     # (304, 3)\n",
        "predictions_df2 = pd.DataFrame({\n",
        "    'participant_id': test_patient_ids,\n",
        "    'ADHD_Outcome': test_predictions2[0].flatten(),\n",
        "    'Sex_F': test_predictions2[1].flatten()\n",
        "})\n",
        "\n",
        "final_test_features = scaler.transform(combined_test_metadata_imputed2)  # Shape: (n_test_samples, n_features)\n",
        "test_predictions2 = model2.predict(final_test_features)\n",
        "\n",
        "# Flatten the predictions (if needed) so they are 1D arrays:\n",
        "adhd_probs2 = test_predictions2[0].flatten()\n",
        "sex_probs2  = test_predictions2[1].flatten()\n",
        "\n",
        "test_pred_adhd2 = (adhd_probs2 > best_thr_adhd).astype(int)\n",
        "test_pred_sex2  = (sex_probs2 > best_thr_sex).astype(int)\n",
        "\n",
        "# Ensure that test_patient_ids is a 1D array containing the IDs.\n",
        "submission_df2 = pd.DataFrame({\n",
        "    'participant_id': test_patient_ids.flatten(),  # Use your test IDs\n",
        "    'ADHD_Outcome': test_pred_adhd2,\n",
        "    'Sex_F': test_pred_sex2\n",
        "})\n",
        "\n",
        "filename2 = f\"jiaqi_nn_wo_missing(>0.1)_data_{best_thr_adhd_2:.2f}_{best_thr_sex_2:.2f}_{best_final_f1_2:.4f}\"\n",
        "## training_pred_df\n",
        "predictions_df2.to_csv(f'/content/drive/My Drive/widsdatathon2025/Work/Prediction/{filename2}.csv', index=False)\n",
        "submission_df2.to_csv(f'/content/drive/My Drive/widsdatathon2025/Work/Submission/{filename2}.csv', index=False)\n",
        "model2.save(f'/content/drive/My Drive/widsdatathon2025/Work/Models/{filename2}.keras')"
      ],
      "metadata": {
        "id": "5QRdJyAualsq",
        "outputId": "23e422b8-aaed-4c96-a7a8-daac0b9bdc19",
        "colab": {
          "base_uri": "https://localhost:8080/"
        }
      },
      "execution_count": 27,
      "outputs": [
        {
          "output_type": "stream",
          "name": "stdout",
          "text": [
            "\u001b[1m10/10\u001b[0m \u001b[32m━━━━━━━━━━━━━━━━━━━━\u001b[0m\u001b[37m\u001b[0m \u001b[1m0s\u001b[0m 5ms/step \n",
            "\u001b[1m10/10\u001b[0m \u001b[32m━━━━━━━━━━━━━━━━━━━━\u001b[0m\u001b[37m\u001b[0m \u001b[1m0s\u001b[0m 7ms/step \n"
          ]
        }
      ]
    },
    {
      "cell_type": "code",
      "source": [
        "combined_test_metadata_imputed2.shape"
      ],
      "metadata": {
        "id": "xxiCZklb84Q5",
        "outputId": "0732af11-8522-49cd-84f2-368e990dba48",
        "colab": {
          "base_uri": "https://localhost:8080/"
        }
      },
      "execution_count": 17,
      "outputs": [
        {
          "output_type": "execute_result",
          "data": {
            "text/plain": [
              "(304, 19925)"
            ]
          },
          "metadata": {},
          "execution_count": 17
        }
      ]
    },
    {
      "cell_type": "code",
      "source": [
        "combined_test_metadata_imputed.shape"
      ],
      "metadata": {
        "id": "h0xkRp2j81Dp",
        "outputId": "6d2f051e-6b4b-42e2-a7f4-e1297068ea34",
        "colab": {
          "base_uri": "https://localhost:8080/"
        }
      },
      "execution_count": 18,
      "outputs": [
        {
          "output_type": "execute_result",
          "data": {
            "text/plain": [
              "(304, 19927)"
            ]
          },
          "metadata": {},
          "execution_count": 18
        }
      ]
    },
    {
      "cell_type": "markdown",
      "source": [
        "# Model Ensemble\n"
      ],
      "metadata": {
        "id": "SEygbk-45qg5"
      }
    },
    {
      "cell_type": "markdown",
      "source": [
        "# Threshold Tuning"
      ],
      "metadata": {
        "id": "CdvkLrxt8Cug"
      }
    },
    {
      "cell_type": "code",
      "source": [
        "# prompt: ensemble model and model 2 and combine prediction_df and prediction_df2\n",
        "\n",
        "\n",
        "# --- Define the function to compute weighted F1 score ---\n",
        "def compute_weighted_f1(y_true_adhd, y_pred_adhd, y_true_sex, y_pred_sex):\n",
        "    \"\"\"\n",
        "    Compute the final weighted F1 score for the competition.\n",
        "    Female ADHD cases (where ADHD_Outcome==1 and Sex_F==1) are given 2x weight.\n",
        "    The final score is the average of the weighted F1 for ADHD_Outcome and the F1 for Sex_F.\n",
        "    \"\"\"\n",
        "    # Create sample weights for ADHD_Outcome: weight=2 for female ADHD cases, else 1.\n",
        "    weights = np.ones_like(y_true_adhd, dtype=float)\n",
        "    weights[(y_true_adhd == 1) & (y_true_sex == 1)] = 2.0\n",
        "\n",
        "    # Calculate weighted F1 for ADHD_Outcome\n",
        "    f1_adhd = f1_score(y_true_adhd, y_pred_adhd, sample_weight=weights)\n",
        "    # Calculate standard F1 for Sex_F\n",
        "    f1_sex = f1_score(y_true_sex, y_pred_sex)\n",
        "\n",
        "    # Final leaderboard score: average of the two F1 scores\n",
        "    final_f1 = (f1_adhd + f1_sex) / 2.0\n",
        "    return final_f1, f1_adhd, f1_sex\n",
        "# Combine predictions from both models\n",
        "combined_predictions = pd.merge(predictions_df, predictions_df2, on='participant_id', suffixes=('_model1', '_model2'))\n",
        "\n",
        "# Calculate the average of the probabilities from both models\n",
        "combined_predictions['ADHD_Outcome_Probability'] = (combined_predictions['ADHD_Outcome_Probability_model1'] + combined_predictions['ADHD_Outcome_Probability_model2']) / 2\n",
        "combined_predictions['Sex_F_Probability'] = (combined_predictions['Sex_F_Probability_model1'] + combined_predictions['Sex_F_Probability_model2']) / 2\n",
        "\n",
        "# Keep only the necessary columns for submission\n",
        "combined_predictions = combined_predictions[['participant_id', 'ADHD_Outcome_Probability', 'Sex_F_Probability']]\n",
        "\n",
        "# --- Define a range of thresholds to test ---\n",
        "#thresholds = np.linspace(0, 1, 101)  # from 0.00 to 1.00 in steps of 0.01\n",
        "#thresholds = np.linspace(0.1, 0.99, 90)\n",
        "thresholds = np.linspace(0.05, 1, 96)\n",
        "\n",
        "y_val_adhd_prob = predictions[0].flatten()\n",
        "y_val_sex_prob  = predictions[1].flatten()\n",
        "\n",
        "best_final_f1 = 0.0\n",
        "best_thr_adhd = 0.0\n",
        "best_thr_sex  = 0.0\n",
        "best_f1_adhd = 0.0\n",
        "best_f1_sex  = 0.0\n",
        "\n",
        "# --- Perform a 2D threshold sweep ---\n",
        "for thr_a in thresholds:\n",
        "    for thr_s in thresholds:\n",
        "        y_pred_adhd = (y_val_adhd_prob > thr_a).astype(int)\n",
        "        y_pred_sex  = (y_val_sex_prob > thr_s).astype(int)\n",
        "        final_f1, f1_adhd, f1_sex = compute_weighted_f1(y_val_adhd_split, y_pred_adhd, y_val_sex_split, y_pred_sex)\n",
        "        if final_f1 > best_final_f1:\n",
        "            best_final_f1 = final_f1\n",
        "            best_thr_adhd = thr_a\n",
        "            best_thr_sex  = thr_s\n",
        "            best_f1_adhd = f1_adhd\n",
        "            best_f1_sex  = f1_sex\n",
        "\n",
        "# Apply the best thresholds\n",
        "combined_predictions['ADHD_Outcome'] = (combined_predictions['ADHD_Outcome_Probability'] > best_thr_adhd).astype(int)\n",
        "combined_predictions['Sex_F'] = (combined_predictions['Sex_F_Probability'] > best_thr_sex).astype(int)\n",
        "\n",
        "\n",
        "print(f\"Best ADHD Threshold: {best_thr_adhd:.2f} with F1: {best_f1_adhd:.4f}\")\n",
        "print(f\"Best Sex_F Threshold: {best_thr_sex:.2f} with F1: {best_f1_sex:.4f}\")\n",
        "print(f\"Best Final Weighted F1: {best_final_f1:.4f}\")\n",
        "\n",
        "\n",
        "# Best ADHD Threshold: 0.05 with F1: 0.8728\n",
        "# Best Sex_F Threshold: 0.08 with F1: 0.4595\n",
        "# Best Final Weighted F1: 0.6662\n",
        "# Leaderboard result: 0.71740\n"
      ],
      "metadata": {
        "collapsed": true,
        "id": "zdktbG_c06KP",
        "outputId": "a5ac2768-e003-40e0-c0fe-2f8f8204c06c",
        "colab": {
          "base_uri": "https://localhost:8080/"
        }
      },
      "execution_count": null,
      "outputs": [
        {
          "output_type": "stream",
          "name": "stdout",
          "text": [
            "Best ADHD Threshold: 0.05 with F1: 0.8728\n",
            "Best Sex_F Threshold: 0.08 with F1: 0.4595\n",
            "Best Final Weighted F1: 0.6662\n"
          ]
        }
      ]
    },
    {
      "cell_type": "code",
      "source": [
        "# Final submission dataframe\n",
        "combined_predictions_df = combined_predictions[['participant_id', 'ADHD_Outcome_Probability', 'Sex_F_Probability']]\n",
        "\n",
        "combined_predictions_df.to_csv('/content/drive/My Drive/widsdatathon2025/Work/Prediction/ensembled_probabilities2.csv', index=False)\n",
        "\n",
        "ensembled_submission = combined_predictions[['participant_id', 'ADHD_Outcome', 'Sex_F']]\n",
        "\n",
        "ensembled_submission.to_csv('/content/drive/My Drive/widsdatathon2025/Work/Submission/two_model_ensembled2.csv', index=False)"
      ],
      "metadata": {
        "id": "OT9BkAlx-QYF"
      },
      "execution_count": null,
      "outputs": []
    },
    {
      "cell_type": "code",
      "source": [
        "# prompt: save model2\n",
        "\n",
        "model2.save('/content/drive/My Drive/widsdatathon2025/Work/Models/two_model_ensembled_0.71740.keras')\n"
      ],
      "metadata": {
        "id": "1nBd05PgGPBb"
      },
      "execution_count": null,
      "outputs": []
    },
    {
      "cell_type": "code",
      "source": [
        "# prompt: generate combined_prediction feature tuning graph\n",
        "\n",
        "import matplotlib.pyplot as plt\n",
        "import numpy as np\n",
        "# Assuming y_val_adhd_prob, y_val_sex_prob, y_val_adhd_split, and y_val_sex_split are defined as in your code.\n",
        "\n",
        "# Function to compute the weighted F1 score (same as before)\n",
        "def compute_weighted_f1(y_true_adhd, y_pred_adhd, y_true_sex, y_pred_sex):\n",
        "    weights = np.ones_like(y_true_adhd, dtype=float)\n",
        "    weights[(y_true_adhd == 1) & (y_true_sex == 1)] = 2.0\n",
        "    f1_adhd = f1_score(y_true_adhd, y_pred_adhd, sample_weight=weights)\n",
        "    f1_sex = f1_score(y_true_sex, y_pred_sex)\n",
        "    final_f1 = (f1_adhd + f1_sex) / 2.0\n",
        "    return final_f1, f1_adhd, f1_sex\n",
        "\n",
        "thresholds = np.linspace(0, 1, 101)\n",
        "thresholds = np.linspace(0.05, 1, 96)\n",
        "f1_scores_combined = []\n",
        "\n",
        "for threshold in thresholds:\n",
        "    y_pred_adhd = (y_val_adhd_prob > threshold).astype(int)\n",
        "    y_pred_sex = (y_val_sex_prob > threshold).astype(int)\n",
        "    final_f1, _, _ = compute_weighted_f1(y_val_adhd_split, y_pred_adhd, y_val_sex_split, y_pred_sex)\n",
        "    f1_scores_combined.append(final_f1)\n",
        "\n",
        "# Plotting the threshold tuning graph\n",
        "plt.figure(figsize=(10, 6))\n",
        "plt.plot(thresholds, f1_scores_combined, label='Combined F1 Score')\n",
        "plt.xlabel('Threshold')\n",
        "plt.ylabel('F1 Score')\n",
        "plt.title('Threshold Tuning Graph for Combined Prediction')\n",
        "plt.legend()\n",
        "plt.grid(True)\n",
        "plt.show()\n"
      ],
      "metadata": {
        "id": "5bk060hI_75e",
        "outputId": "1ddfc972-a199-4b14-ab31-59578bd8b847",
        "colab": {
          "base_uri": "https://localhost:8080/",
          "height": 564
        }
      },
      "execution_count": null,
      "outputs": [
        {
          "output_type": "display_data",
          "data": {
            "text/plain": [
              "<Figure size 1000x600 with 1 Axes>"
            ],
            "image/png": "[encoded data removed]"
          },
          "metadata": {}
        }
      ]
    }
  ]
}