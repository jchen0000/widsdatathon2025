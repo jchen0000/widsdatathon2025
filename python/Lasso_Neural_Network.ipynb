{
  "nbformat": 4,
  "nbformat_minor": 0,
  "metadata": {
    "colab": {
      "provenance": [],
      "authorship_tag": "ABX9TyOkITbs/n9m53VbKOqZG2es",
      "include_colab_link": true
    },
    "kernelspec": {
      "name": "python3",
      "display_name": "Python 3"
    },
    "language_info": {
      "name": "python"
    }
  },
  "cells": [
    {
      "cell_type": "markdown",
      "metadata": {
        "id": "view-in-github",
        "colab_type": "text"
      },
      "source": [
        "<a href=\"https://colab.research.google.com/github/jchen0000/widsdatathon2025/blob/main/python/Lasso_Neural_Network.ipynb\" target=\"_parent\"><img src=\"https://colab.research.google.com/assets/colab-badge.svg\" alt=\"Open In Colab\"/></a>"
      ]
    },
    {
      "cell_type": "markdown",
      "source": [
        "# Data Import"
      ],
      "metadata": {
        "id": "mY3xblER-9qb"
      }
    },
    {
      "cell_type": "code",
      "execution_count": 21,
      "metadata": {
        "id": "8OgAF8gI-xyc",
        "collapsed": true,
        "outputId": "d4e9cf7f-285d-4515-c601-2aed5b3732a5",
        "colab": {
          "base_uri": "https://localhost:8080/"
        }
      },
      "outputs": [
        {
          "output_type": "stream",
          "name": "stdout",
          "text": [
            "Drive already mounted at /content/drive; to attempt to forcibly remount, call drive.mount(\"/content/drive\", force_remount=True).\n",
            "--2025-04-19 15:48:26--  https://github.com/jchen0000/widsdatathon2025/blob/main/data/train/TRAIN_CATEGORICAL_METADATA_imputed_Jing.xlsx?raw=true\n",
            "Resolving github.com (github.com)... 140.82.116.4\n",
            "Connecting to github.com (github.com)|140.82.116.4|:443... connected.\n",
            "HTTP request sent, awaiting response... 302 Found\n",
            "Location: https://github.com/jchen0000/widsdatathon2025/raw/refs/heads/main/data/train/TRAIN_CATEGORICAL_METADATA_imputed_Jing.xlsx [following]\n",
            "--2025-04-19 15:48:26--  https://github.com/jchen0000/widsdatathon2025/raw/refs/heads/main/data/train/TRAIN_CATEGORICAL_METADATA_imputed_Jing.xlsx\n",
            "Reusing existing connection to github.com:443.\n",
            "HTTP request sent, awaiting response... 302 Found\n",
            "Location: https://raw.githubusercontent.com/jchen0000/widsdatathon2025/refs/heads/main/data/train/TRAIN_CATEGORICAL_METADATA_imputed_Jing.xlsx [following]\n",
            "--2025-04-19 15:48:27--  https://raw.githubusercontent.com/jchen0000/widsdatathon2025/refs/heads/main/data/train/TRAIN_CATEGORICAL_METADATA_imputed_Jing.xlsx\n",
            "Resolving raw.githubusercontent.com (raw.githubusercontent.com)... 185.199.109.133, 185.199.108.133, 185.199.110.133, ...\n",
            "Connecting to raw.githubusercontent.com (raw.githubusercontent.com)|185.199.109.133|:443... connected.\n",
            "HTTP request sent, awaiting response... 200 OK\n",
            "Length: 63570 (62K) [application/octet-stream]\n",
            "Saving to: ‘train_cat2.xlsx’\n",
            "\n",
            "train_cat2.xlsx     100%[===================>]  62.08K  --.-KB/s    in 0.01s   \n",
            "\n",
            "2025-04-19 15:48:27 (4.91 MB/s) - ‘train_cat2.xlsx’ saved [63570/63570]\n",
            "\n",
            "--2025-04-19 15:48:27--  https://github.com/jchen0000/widsdatathon2025/blob/main/data/train/TRAIN_QUANTITATIVE_METADATA_imputed_Jing.xlsx?raw=true\n",
            "Resolving github.com (github.com)... 140.82.116.3\n",
            "Connecting to github.com (github.com)|140.82.116.3|:443... connected.\n",
            "HTTP request sent, awaiting response... 302 Found\n",
            "Location: https://github.com/jchen0000/widsdatathon2025/raw/refs/heads/main/data/train/TRAIN_QUANTITATIVE_METADATA_imputed_Jing.xlsx [following]\n",
            "--2025-04-19 15:48:27--  https://github.com/jchen0000/widsdatathon2025/raw/refs/heads/main/data/train/TRAIN_QUANTITATIVE_METADATA_imputed_Jing.xlsx\n",
            "Reusing existing connection to github.com:443.\n",
            "HTTP request sent, awaiting response... 302 Found\n",
            "Location: https://raw.githubusercontent.com/jchen0000/widsdatathon2025/refs/heads/main/data/train/TRAIN_QUANTITATIVE_METADATA_imputed_Jing.xlsx [following]\n",
            "--2025-04-19 15:48:27--  https://raw.githubusercontent.com/jchen0000/widsdatathon2025/refs/heads/main/data/train/TRAIN_QUANTITATIVE_METADATA_imputed_Jing.xlsx\n",
            "Resolving raw.githubusercontent.com (raw.githubusercontent.com)... 185.199.108.133, 185.199.109.133, 185.199.110.133, ...\n",
            "Connecting to raw.githubusercontent.com (raw.githubusercontent.com)|185.199.108.133|:443... connected.\n",
            "HTTP request sent, awaiting response... 200 OK\n",
            "Length: 114112 (111K) [application/octet-stream]\n",
            "Saving to: ‘train_quant2.xlsx’\n",
            "\n",
            "train_quant2.xlsx   100%[===================>] 111.44K  --.-KB/s    in 0.02s   \n",
            "\n",
            "2025-04-19 15:48:28 (7.11 MB/s) - ‘train_quant2.xlsx’ saved [114112/114112]\n",
            "\n",
            "--2025-04-19 15:48:38--  https://github.com/jchen0000/widsdatathon2025/blob/main/data/train/TEST_CATEGORICAL_METADATA_imputed_Jing_new.xlsx?raw=true\n",
            "Resolving github.com (github.com)... 140.82.116.3\n",
            "Connecting to github.com (github.com)|140.82.116.3|:443... connected.\n",
            "HTTP request sent, awaiting response... 302 Found\n",
            "Location: https://github.com/jchen0000/widsdatathon2025/raw/refs/heads/main/data/train/TEST_CATEGORICAL_METADATA_imputed_Jing_new.xlsx [following]\n",
            "--2025-04-19 15:48:38--  https://github.com/jchen0000/widsdatathon2025/raw/refs/heads/main/data/train/TEST_CATEGORICAL_METADATA_imputed_Jing_new.xlsx\n",
            "Reusing existing connection to github.com:443.\n",
            "HTTP request sent, awaiting response... 302 Found\n",
            "Location: https://raw.githubusercontent.com/jchen0000/widsdatathon2025/refs/heads/main/data/train/TEST_CATEGORICAL_METADATA_imputed_Jing_new.xlsx [following]\n",
            "--2025-04-19 15:48:39--  https://raw.githubusercontent.com/jchen0000/widsdatathon2025/refs/heads/main/data/train/TEST_CATEGORICAL_METADATA_imputed_Jing_new.xlsx\n",
            "Resolving raw.githubusercontent.com (raw.githubusercontent.com)... 185.199.108.133, 185.199.109.133, 185.199.110.133, ...\n",
            "Connecting to raw.githubusercontent.com (raw.githubusercontent.com)|185.199.108.133|:443... connected.\n",
            "HTTP request sent, awaiting response... 200 OK\n",
            "Length: 19446 (19K) [application/octet-stream]\n",
            "Saving to: ‘test_cat2.xlsx’\n",
            "\n",
            "test_cat2.xlsx      100%[===================>]  18.99K  --.-KB/s    in 0s      \n",
            "\n",
            "2025-04-19 15:48:39 (47.9 MB/s) - ‘test_cat2.xlsx’ saved [19446/19446]\n",
            "\n",
            "--2025-04-19 15:48:39--  https://github.com/jchen0000/widsdatathon2025/blob/main/data/train/TEST_QUANTITATIVE_METADATA_imputed_Jing_new.xlsx?raw=true\n",
            "Resolving github.com (github.com)... 140.82.116.4\n",
            "Connecting to github.com (github.com)|140.82.116.4|:443... connected.\n",
            "HTTP request sent, awaiting response... 302 Found\n",
            "Location: https://github.com/jchen0000/widsdatathon2025/raw/refs/heads/main/data/train/TEST_QUANTITATIVE_METADATA_imputed_Jing_new.xlsx [following]\n",
            "--2025-04-19 15:48:39--  https://github.com/jchen0000/widsdatathon2025/raw/refs/heads/main/data/train/TEST_QUANTITATIVE_METADATA_imputed_Jing_new.xlsx\n",
            "Reusing existing connection to github.com:443.\n",
            "HTTP request sent, awaiting response... 302 Found\n",
            "Location: https://raw.githubusercontent.com/jchen0000/widsdatathon2025/refs/heads/main/data/train/TEST_QUANTITATIVE_METADATA_imputed_Jing_new.xlsx [following]\n",
            "--2025-04-19 15:48:39--  https://raw.githubusercontent.com/jchen0000/widsdatathon2025/refs/heads/main/data/train/TEST_QUANTITATIVE_METADATA_imputed_Jing_new.xlsx\n",
            "Resolving raw.githubusercontent.com (raw.githubusercontent.com)... 185.199.108.133, 185.199.109.133, 185.199.110.133, ...\n",
            "Connecting to raw.githubusercontent.com (raw.githubusercontent.com)|185.199.108.133|:443... connected.\n",
            "HTTP request sent, awaiting response... 200 OK\n",
            "Length: 32502 (32K) [application/octet-stream]\n",
            "Saving to: ‘test_quant2.xlsx’\n",
            "\n",
            "test_quant2.xlsx    100%[===================>]  31.74K  --.-KB/s    in 0.006s  \n",
            "\n",
            "2025-04-19 15:48:39 (5.52 MB/s) - ‘test_quant2.xlsx’ saved [32502/32502]\n",
            "\n"
          ]
        }
      ],
      "source": [
        "# prompt: Access data from google drive\n",
        "from google.colab import drive\n",
        "drive.mount('/content/drive')\n",
        "\n",
        "\n",
        "# Import solution w outcome data (1213, 3)\n",
        "train_sol = pd.read_excel(\"drive/My Drive/widsdatathon2025/TRAIN_NEW/TRAINING_SOLUTIONS.xlsx\")\n",
        "\n",
        "# Patient ID\n",
        "patient_id = train_sol.iloc[:, 0]\n",
        "\n",
        "# Import train MRI data (1213, 19901)\n",
        "train_mri_filepath = \"drive/My Drive/widsdatathon2025/TRAIN_NEW/TRAIN_FUNCTIONAL_CONNECTOME_MATRICES_new_36P_Pearson.csv\"\n",
        "train_mri = pd.read_csv(train_mri_filepath)\n",
        "\n",
        "# Remove first line, convert csv file to a functional connectome matrix\n",
        "train_matrix_data = train_mri.iloc[:, 1:].to_numpy(dtype=float)  # (1213, 19900)\n",
        "\n",
        "# Import Train Data\n",
        "!wget \"https://github.com/jchen0000/widsdatathon2025/blob/main/data/train/TRAIN_CATEGORICAL_METADATA_imputed_Jing.xlsx?raw=true\" -O train_cat2.xlsx\n",
        "train_cat2 = pd.read_excel(\"train_cat2.xlsx\")      # (1213, 10)\n",
        "\n",
        "!wget \"https://github.com/jchen0000/widsdatathon2025/blob/main/data/train/TRAIN_QUANTITATIVE_METADATA_imputed_Jing.xlsx?raw=true\" -O train_quant2.xlsx\n",
        "train_quant2 = pd.read_excel(\"train_quant2.xlsx\")  # (1213, 19)\n",
        "\n",
        "# Merge train datasets on the participant ID\n",
        "combined_train_data2 = pd.merge(train_cat2, train_quant2, on='participant_id')\n",
        "train_with_outcome2 = pd.merge(combined_train_data2, train_sol, on='participant_id')  # (1213, 30)\n",
        "\n",
        "# Combine metadata and fMRI into one feature matrix\n",
        "features2 = np.hstack([combined_train_data2, train_matrix_data])\n",
        "\n",
        "# Remove patient ID\n",
        "combined_metadata_imputed = features2[:, 1:]\n",
        "combined_metadata_imputed = combined_metadata_imputed.astype(float)  # (1213, 19927)\n",
        "\n",
        "\n",
        "\n",
        "# Import test MRI data\n",
        "test_mri_filepath = \"drive/My Drive/widsdatathon2025/TEST/TEST_FUNCTIONAL_CONNECTOME_MATRICES.csv\"\n",
        "test_mri = pd.read_csv(test_mri_filepath)\n",
        "\n",
        "# Remove first line, convert csv file to a functional connectome matrix\n",
        "test_matrix_data = test_mri.iloc[:, 1:].to_numpy(dtype=float)  # (304, 19900)\n",
        "\n",
        "# Import test Data\n",
        "!wget \"https://github.com/jchen0000/widsdatathon2025/blob/main/data/train/TEST_CATEGORICAL_METADATA_imputed_Jing_new.xlsx?raw=true\" -O test_cat2.xlsx\n",
        "test_cat2 = pd.read_excel(\"test_cat2.xlsx\")      # (304, 28)\n",
        "\n",
        "!wget \"https://github.com/jchen0000/widsdatathon2025/blob/main/data/train/TEST_QUANTITATIVE_METADATA_imputed_Jing_new.xlsx?raw=true\" -O test_quant2.xlsx\n",
        "test_quant2 = pd.read_excel(\"test_quant2.xlsx\")  # (304, 28)\n",
        "\n",
        "# Merge test datasets on the participant ID\n",
        "combined_test_data2 = pd.merge(test_cat2, test_quant2, on='participant_id')\n",
        "test_no_id2 = combined_test_data2.drop(columns=['participant_id'])\n",
        "\n",
        "test_patient_ids = combined_test_data2['participant_id'].values  # Extract patient IDs using column name\n",
        "\n",
        "# Combine metadata and fMRI into one feature matrix\n",
        "test_features2 = np.hstack([combined_test_data2, test_matrix_data])\n",
        "\n",
        "\n",
        "# Remove patient ID\n",
        "combined_test_metadata_imputed = test_features2[:, 1:]\n",
        "combined_test_metadata_imputed = combined_test_metadata_imputed.astype(float)  # (304, 19927)"
      ]
    },
    {
      "cell_type": "code",
      "source": [
        "import pandas as pd\n",
        "\n",
        "# prompt: Access data from google drive\n",
        "from google.colab import drive\n",
        "drive.mount('/content/drive')\n",
        "\n",
        "# Import solution w outcome data (1213, 3)\n",
        "train_sol = pd.read_excel(\"drive/My Drive/widsdatathon2025/TRAIN_NEW/TRAINING_SOLUTIONS.xlsx\")\n",
        "\n",
        "# Import test data\n",
        "!wget \"https://github.com/jchen0000/widsdatathon2025/blob/main/data/train/TEST_CATEGORICAL_METADATA_imputed_Jing_new.xlsx?raw=true\" -O test_cat2.xlsx\n",
        "test_cat2 = pd.read_excel(\"test_cat2.xlsx\")\n",
        "\n",
        "# Test patient id\n",
        "test_patient_ids = test_cat2['participant_id'].values  # Extract patient IDs using column name\n",
        "\n",
        "# Import standardized lasso data\n",
        "combined_metadata_imputed = pd.read_csv('/content/drive/My Drive/widsdatathon2025/Work/Processed Data/lasso_standardized_train.csv')\n",
        "combined_test_metadata_imputed = pd.read_csv('/content/drive/My Drive/widsdatathon2025/Work/Processed Data/lasso_standardized_test.csv')"
      ],
      "metadata": {
        "collapsed": true,
        "id": "6ktkvwmije4j",
        "outputId": "3263c267-65d0-459a-c86d-dc60de117d44",
        "colab": {
          "base_uri": "https://localhost:8080/"
        }
      },
      "execution_count": 30,
      "outputs": [
        {
          "output_type": "stream",
          "name": "stdout",
          "text": [
            "Drive already mounted at /content/drive; to attempt to forcibly remount, call drive.mount(\"/content/drive\", force_remount=True).\n",
            "--2025-04-19 16:02:12--  https://github.com/jchen0000/widsdatathon2025/blob/main/data/train/TEST_CATEGORICAL_METADATA_imputed_Jing_new.xlsx?raw=true\n",
            "Resolving github.com (github.com)... 140.82.116.3\n",
            "Connecting to github.com (github.com)|140.82.116.3|:443... connected.\n",
            "HTTP request sent, awaiting response... 302 Found\n",
            "Location: https://github.com/jchen0000/widsdatathon2025/raw/refs/heads/main/data/train/TEST_CATEGORICAL_METADATA_imputed_Jing_new.xlsx [following]\n",
            "--2025-04-19 16:02:13--  https://github.com/jchen0000/widsdatathon2025/raw/refs/heads/main/data/train/TEST_CATEGORICAL_METADATA_imputed_Jing_new.xlsx\n",
            "Reusing existing connection to github.com:443.\n",
            "HTTP request sent, awaiting response... 302 Found\n",
            "Location: https://raw.githubusercontent.com/jchen0000/widsdatathon2025/refs/heads/main/data/train/TEST_CATEGORICAL_METADATA_imputed_Jing_new.xlsx [following]\n",
            "--2025-04-19 16:02:13--  https://raw.githubusercontent.com/jchen0000/widsdatathon2025/refs/heads/main/data/train/TEST_CATEGORICAL_METADATA_imputed_Jing_new.xlsx\n",
            "Resolving raw.githubusercontent.com (raw.githubusercontent.com)... 185.199.109.133, 185.199.108.133, 185.199.111.133, ...\n",
            "Connecting to raw.githubusercontent.com (raw.githubusercontent.com)|185.199.109.133|:443... connected.\n",
            "HTTP request sent, awaiting response... 200 OK\n",
            "Length: 19446 (19K) [application/octet-stream]\n",
            "Saving to: ‘test_cat2.xlsx’\n",
            "\n",
            "test_cat2.xlsx      100%[===================>]  18.99K  --.-KB/s    in 0s      \n",
            "\n",
            "2025-04-19 16:02:13 (53.8 MB/s) - ‘test_cat2.xlsx’ saved [19446/19446]\n",
            "\n"
          ]
        }
      ]
    },
    {
      "cell_type": "markdown",
      "source": [
        "# Neural Network"
      ],
      "metadata": {
        "id": "-9qQWFKh-6or"
      }
    },
    {
      "cell_type": "code",
      "source": [
        "import tensorflow as tf\n",
        "from tensorflow.keras.models import Model\n",
        "from tensorflow.keras.layers import Input, Dense, Dropout, BatchNormalization\n",
        "from tensorflow.keras.callbacks import EarlyStopping\n",
        "from tensorflow.keras.regularizers import l2\n",
        "from sklearn.model_selection import train_test_split\n",
        "from sklearn.preprocessing import StandardScaler\n",
        "from sklearn.metrics import f1_score\n",
        "import numpy as np\n",
        "\n",
        "# --- Define the function to compute weighted F1 score ---\n",
        "def compute_weighted_f1(y_true_adhd, y_pred_adhd, y_true_sex, y_pred_sex):\n",
        "    \"\"\"\n",
        "    Compute the final weighted F1 score for the competition.\n",
        "    Female ADHD cases (where ADHD_Outcome==1 and Sex_F==1) are given 2x weight.\n",
        "    The final score is the average of the weighted F1 for ADHD_Outcome and the F1 for Sex_F.\n",
        "    \"\"\"\n",
        "    # Create sample weights for ADHD_Outcome: weight=2 for female ADHD cases, else 1.\n",
        "    weights = np.ones_like(y_true_adhd, dtype=float)\n",
        "    weights[(y_true_adhd == 1) & (y_true_sex == 1)] = 2.0\n",
        "\n",
        "    # Calculate weighted F1 for ADHD_Outcome\n",
        "    f1_adhd = f1_score(y_true_adhd, y_pred_adhd, sample_weight=weights)\n",
        "    # Calculate standard F1 for Sex_F\n",
        "    f1_sex = f1_score(y_true_sex, y_pred_sex)\n",
        "\n",
        "    # Final leaderboard score: average of the two F1 scores\n",
        "    final_f1 = (f1_adhd + f1_sex) / 2.0\n",
        "    return final_f1, f1_adhd, f1_sex\n",
        "\n",
        "# --- Prepare the data ---\n",
        "# Use combined_metadata_imputed as input features.\n",
        "X = combined_metadata_imputed  # (1213, 19927)\n",
        "# Extract targets from train_sol:\n",
        "y_adhd = train_sol['ADHD_Outcome'].values  # Binary labels (0 or 1)\n",
        "y_sex  = train_sol['Sex_F'].values         # Binary labels (0 or 1)\n",
        "\n",
        "# Standardize features.\n",
        "scaler = StandardScaler()\n",
        "X_scaled = scaler.fit_transform(X)\n",
        "\n",
        "# Split into training and validation sets.\n",
        "# Note: We split the labels separately but the splits will be aligned because we use the same X_scaled.\n",
        "X_train_split, X_val_split, y_train_adhd_split, y_val_adhd_split = train_test_split(\n",
        "    X_scaled, y_adhd, test_size=0.2, random_state=42\n",
        ")\n",
        "_, _, y_train_sex_split, y_val_sex_split = train_test_split(\n",
        "    X_scaled, y_sex, test_size=0.2, random_state=42\n",
        ")\n",
        "\n",
        "# --- Build the multi-output neural network model ---\n",
        "input_layer = Input(shape=(X_train_split.shape[1],))\n",
        "x = Dense(128, activation='relu', kernel_regularizer=l2(0.01))(input_layer)\n",
        "x = Dropout(0.5)(x)\n",
        "x = BatchNormalization()(x)\n",
        "x = Dense(64, activation='relu', kernel_regularizer=l2(0.01))(x)\n",
        "x = Dropout(0.5)(x)\n",
        "x = BatchNormalization()(x)\n",
        "x = Dense(32, activation='relu', kernel_regularizer=l2(0.01))(x)\n",
        "\n",
        "# Two separate output layers:\n",
        "output_adhd = Dense(1, activation='sigmoid', name='adhd_output')(x)\n",
        "output_sex  = Dense(1, activation='sigmoid', name='sex_output')(x)\n",
        "\n",
        "model = Model(inputs=input_layer, outputs=[output_adhd, output_sex])\n",
        "\n",
        "# Compile the model.\n",
        "model.compile(optimizer=tf.keras.optimizers.Adam(learning_rate=0.0005),\n",
        "              loss='binary_crossentropy',\n",
        "              metrics={'adhd_output': 'accuracy', 'sex_output': 'accuracy'})\n",
        "\n",
        "\n",
        "# Set up early stopping.\n",
        "early_stopping = EarlyStopping(monitor='val_loss', patience=10, restore_best_weights=True)\n",
        "\n",
        "# --- Train the model ---\n",
        "history = model.fit(\n",
        "    X_train_split,\n",
        "    {'adhd_output': y_train_adhd_split, 'sex_output': y_train_sex_split},\n",
        "    epochs=100,\n",
        "    batch_size=32,\n",
        "    validation_data=(X_val_split, {'adhd_output': y_val_adhd_split, 'sex_output': y_val_sex_split}),\n",
        "    callbacks=[early_stopping]\n",
        ")\n",
        "\n",
        "# --- Evaluate the model ---\n",
        "results = model.evaluate(X_val_split, {'adhd_output': y_val_adhd_split, 'sex_output': y_val_sex_split})\n",
        "print(\"Evaluation Results:\", results)\n",
        "\n",
        "# --- Make predictions on the validation set ---\n",
        "predictions = model.predict(X_val_split)\n",
        "# predictions is a list: predictions[0] for ADHD_Outcome, predictions[1] for Sex_F.\n",
        "y_val_pred_adhd = (predictions[0] > 0.5).astype(int).flatten()\n",
        "y_val_pred_sex  = (predictions[1] > 0.5).astype(int).flatten()\n",
        "\n",
        "# --- Compute the weighted F1 score ---\n",
        "final_f1, f1_adhd, f1_sex = compute_weighted_f1(y_val_adhd_split, y_val_pred_adhd, y_val_sex_split, y_val_pred_sex)\n",
        "\n",
        "print(f\"ADHD F1 Score (weighted): {f1_adhd:.4f}\")\n",
        "print(f\"Sex_F F1 Score: {f1_sex:.4f}\")\n",
        "print(f\"Final Weighted F1 Score: {final_f1:.4f}\")\n",
        "\n"
      ],
      "metadata": {
        "id": "aJiAMMR9-2E5",
        "collapsed": true,
        "outputId": "ad55c261-870b-482f-8be2-cbf2f3ca85c7",
        "colab": {
          "base_uri": "https://localhost:8080/"
        }
      },
      "execution_count": 11,
      "outputs": [
        {
          "output_type": "stream",
          "name": "stdout",
          "text": [
            "Epoch 1/100\n",
            "\u001b[1m31/31\u001b[0m \u001b[32m━━━━━━━━━━━━━━━━━━━━\u001b[0m\u001b[37m\u001b[0m \u001b[1m7s\u001b[0m 86ms/step - adhd_output_accuracy: 0.4904 - adhd_output_loss: 0.7960 - loss: 5.5081 - sex_output_accuracy: 0.4674 - sex_output_loss: 0.8731 - val_adhd_output_accuracy: 0.5103 - val_adhd_output_loss: 0.8350 - val_loss: 5.4751 - val_sex_output_accuracy: 0.5309 - val_sex_output_loss: 0.8097\n",
            "Epoch 2/100\n",
            "\u001b[1m31/31\u001b[0m \u001b[32m━━━━━━━━━━━━━━━━━━━━\u001b[0m\u001b[37m\u001b[0m \u001b[1m4s\u001b[0m 66ms/step - adhd_output_accuracy: 0.5632 - adhd_output_loss: 0.7128 - loss: 5.2485 - sex_output_accuracy: 0.5165 - sex_output_loss: 0.7581 - val_adhd_output_accuracy: 0.5679 - val_adhd_output_loss: 0.6764 - val_loss: 5.0149 - val_sex_output_accuracy: 0.6049 - val_sex_output_loss: 0.7175\n",
            "Epoch 3/100\n",
            "\u001b[1m31/31\u001b[0m \u001b[32m━━━━━━━━━━━━━━━━━━━━\u001b[0m\u001b[37m\u001b[0m \u001b[1m3s\u001b[0m 87ms/step - adhd_output_accuracy: 0.6290 - adhd_output_loss: 0.6532 - loss: 4.9308 - sex_output_accuracy: 0.5691 - sex_output_loss: 0.7174 - val_adhd_output_accuracy: 0.6831 - val_adhd_output_loss: 0.6398 - val_loss: 4.7004 - val_sex_output_accuracy: 0.6502 - val_sex_output_loss: 0.6751\n",
            "Epoch 4/100\n",
            "\u001b[1m31/31\u001b[0m \u001b[32m━━━━━━━━━━━━━━━━━━━━\u001b[0m\u001b[37m\u001b[0m \u001b[1m4s\u001b[0m 62ms/step - adhd_output_accuracy: 0.6420 - adhd_output_loss: 0.6338 - loss: 4.6196 - sex_output_accuracy: 0.6062 - sex_output_loss: 0.6700 - val_adhd_output_accuracy: 0.7119 - val_adhd_output_loss: 0.6206 - val_loss: 4.4095 - val_sex_output_accuracy: 0.6749 - val_sex_output_loss: 0.6585\n",
            "Epoch 5/100\n",
            "\u001b[1m31/31\u001b[0m \u001b[32m━━━━━━━━━━━━━━━━━━━━\u001b[0m\u001b[37m\u001b[0m \u001b[1m2s\u001b[0m 61ms/step - adhd_output_accuracy: 0.6857 - adhd_output_loss: 0.6123 - loss: 4.3098 - sex_output_accuracy: 0.6526 - sex_output_loss: 0.6328 - val_adhd_output_accuracy: 0.7078 - val_adhd_output_loss: 0.6141 - val_loss: 4.1395 - val_sex_output_accuracy: 0.6955 - val_sex_output_loss: 0.6460\n",
            "Epoch 6/100\n",
            "\u001b[1m31/31\u001b[0m \u001b[32m━━━━━━━━━━━━━━━━━━━━\u001b[0m\u001b[37m\u001b[0m \u001b[1m2s\u001b[0m 67ms/step - adhd_output_accuracy: 0.6697 - adhd_output_loss: 0.5962 - loss: 4.0424 - sex_output_accuracy: 0.6589 - sex_output_loss: 0.6247 - val_adhd_output_accuracy: 0.7284 - val_adhd_output_loss: 0.6137 - val_loss: 3.9124 - val_sex_output_accuracy: 0.6749 - val_sex_output_loss: 0.6435\n",
            "Epoch 7/100\n",
            "\u001b[1m31/31\u001b[0m \u001b[32m━━━━━━━━━━━━━━━━━━━━\u001b[0m\u001b[37m\u001b[0m \u001b[1m3s\u001b[0m 65ms/step - adhd_output_accuracy: 0.7215 - adhd_output_loss: 0.5800 - loss: 3.8191 - sex_output_accuracy: 0.6443 - sex_output_loss: 0.6203 - val_adhd_output_accuracy: 0.7078 - val_adhd_output_loss: 0.6102 - val_loss: 3.7567 - val_sex_output_accuracy: 0.6708 - val_sex_output_loss: 0.6481\n",
            "Epoch 8/100\n",
            "\u001b[1m31/31\u001b[0m \u001b[32m━━━━━━━━━━━━━━━━━━━━\u001b[0m\u001b[37m\u001b[0m \u001b[1m3s\u001b[0m 96ms/step - adhd_output_accuracy: 0.7112 - adhd_output_loss: 0.5717 - loss: 3.6596 - sex_output_accuracy: 0.6666 - sex_output_loss: 0.6255 - val_adhd_output_accuracy: 0.7078 - val_adhd_output_loss: 0.6030 - val_loss: 3.5928 - val_sex_output_accuracy: 0.6831 - val_sex_output_loss: 0.6423\n",
            "Epoch 9/100\n",
            "\u001b[1m31/31\u001b[0m \u001b[32m━━━━━━━━━━━━━━━━━━━━\u001b[0m\u001b[37m\u001b[0m \u001b[1m3s\u001b[0m 83ms/step - adhd_output_accuracy: 0.7179 - adhd_output_loss: 0.5448 - loss: 3.4123 - sex_output_accuracy: 0.7198 - sex_output_loss: 0.5610 - val_adhd_output_accuracy: 0.7119 - val_adhd_output_loss: 0.5953 - val_loss: 3.4158 - val_sex_output_accuracy: 0.6872 - val_sex_output_loss: 0.6405\n",
            "Epoch 10/100\n",
            "\u001b[1m31/31\u001b[0m \u001b[32m━━━━━━━━━━━━━━━━━━━━\u001b[0m\u001b[37m\u001b[0m \u001b[1m5s\u001b[0m 87ms/step - adhd_output_accuracy: 0.7285 - adhd_output_loss: 0.5534 - loss: 3.2711 - sex_output_accuracy: 0.6949 - sex_output_loss: 0.5720 - val_adhd_output_accuracy: 0.7202 - val_adhd_output_loss: 0.5839 - val_loss: 3.2519 - val_sex_output_accuracy: 0.7078 - val_sex_output_loss: 0.6329\n",
            "Epoch 11/100\n",
            "\u001b[1m31/31\u001b[0m \u001b[32m━━━━━━━━━━━━━━━━━━━━\u001b[0m\u001b[37m\u001b[0m \u001b[1m2s\u001b[0m 69ms/step - adhd_output_accuracy: 0.7172 - adhd_output_loss: 0.5357 - loss: 3.0878 - sex_output_accuracy: 0.7202 - sex_output_loss: 0.5442 - val_adhd_output_accuracy: 0.7078 - val_adhd_output_loss: 0.5953 - val_loss: 3.1493 - val_sex_output_accuracy: 0.7160 - val_sex_output_loss: 0.6373\n",
            "Epoch 12/100\n",
            "\u001b[1m31/31\u001b[0m \u001b[32m━━━━━━━━━━━━━━━━━━━━\u001b[0m\u001b[37m\u001b[0m \u001b[1m3s\u001b[0m 75ms/step - adhd_output_accuracy: 0.7400 - adhd_output_loss: 0.5112 - loss: 2.9240 - sex_output_accuracy: 0.7822 - sex_output_loss: 0.5203 - val_adhd_output_accuracy: 0.7037 - val_adhd_output_loss: 0.6006 - val_loss: 3.0691 - val_sex_output_accuracy: 0.6790 - val_sex_output_loss: 0.6446\n",
            "Epoch 13/100\n",
            "\u001b[1m31/31\u001b[0m \u001b[32m━━━━━━━━━━━━━━━━━━━━\u001b[0m\u001b[37m\u001b[0m \u001b[1m3s\u001b[0m 86ms/step - adhd_output_accuracy: 0.7516 - adhd_output_loss: 0.5090 - loss: 2.8174 - sex_output_accuracy: 0.7543 - sex_output_loss: 0.5125 - val_adhd_output_accuracy: 0.7037 - val_adhd_output_loss: 0.5954 - val_loss: 2.9675 - val_sex_output_accuracy: 0.6708 - val_sex_output_loss: 0.6480\n",
            "Epoch 14/100\n",
            "\u001b[1m31/31\u001b[0m \u001b[32m━━━━━━━━━━━━━━━━━━━━\u001b[0m\u001b[37m\u001b[0m \u001b[1m4s\u001b[0m 63ms/step - adhd_output_accuracy: 0.7844 - adhd_output_loss: 0.4552 - loss: 2.6106 - sex_output_accuracy: 0.7852 - sex_output_loss: 0.4539 - val_adhd_output_accuracy: 0.6996 - val_adhd_output_loss: 0.5929 - val_loss: 2.8852 - val_sex_output_accuracy: 0.6543 - val_sex_output_loss: 0.6542\n",
            "Epoch 15/100\n",
            "\u001b[1m31/31\u001b[0m \u001b[32m━━━━━━━━━━━━━━━━━━━━\u001b[0m\u001b[37m\u001b[0m \u001b[1m2s\u001b[0m 61ms/step - adhd_output_accuracy: 0.7951 - adhd_output_loss: 0.4610 - loss: 2.5340 - sex_output_accuracy: 0.8086 - sex_output_loss: 0.4489 - val_adhd_output_accuracy: 0.7243 - val_adhd_output_loss: 0.6052 - val_loss: 2.8579 - val_sex_output_accuracy: 0.6667 - val_sex_output_loss: 0.6742\n",
            "Epoch 16/100\n",
            "\u001b[1m31/31\u001b[0m \u001b[32m━━━━━━━━━━━━━━━━━━━━\u001b[0m\u001b[37m\u001b[0m \u001b[1m2s\u001b[0m 60ms/step - adhd_output_accuracy: 0.7967 - adhd_output_loss: 0.4384 - loss: 2.4638 - sex_output_accuracy: 0.7904 - sex_output_loss: 0.4457 - val_adhd_output_accuracy: 0.6955 - val_adhd_output_loss: 0.6231 - val_loss: 2.8670 - val_sex_output_accuracy: 0.6667 - val_sex_output_loss: 0.6864\n",
            "Epoch 17/100\n",
            "\u001b[1m31/31\u001b[0m \u001b[32m━━━━━━━━━━━━━━━━━━━━\u001b[0m\u001b[37m\u001b[0m \u001b[1m3s\u001b[0m 72ms/step - adhd_output_accuracy: 0.8251 - adhd_output_loss: 0.4159 - loss: 2.4080 - sex_output_accuracy: 0.7901 - sex_output_loss: 0.4448 - val_adhd_output_accuracy: 0.6914 - val_adhd_output_loss: 0.6243 - val_loss: 2.8458 - val_sex_output_accuracy: 0.6049 - val_sex_output_loss: 0.7196\n",
            "Epoch 18/100\n",
            "\u001b[1m31/31\u001b[0m \u001b[32m━━━━━━━━━━━━━━━━━━━━\u001b[0m\u001b[37m\u001b[0m \u001b[1m3s\u001b[0m 89ms/step - adhd_output_accuracy: 0.8115 - adhd_output_loss: 0.4190 - loss: 2.3618 - sex_output_accuracy: 0.7916 - sex_output_loss: 0.4466 - val_adhd_output_accuracy: 0.7037 - val_adhd_output_loss: 0.6190 - val_loss: 2.7792 - val_sex_output_accuracy: 0.6461 - val_sex_output_loss: 0.6860\n",
            "Epoch 19/100\n",
            "\u001b[1m31/31\u001b[0m \u001b[32m━━━━━━━━━━━━━━━━━━━━\u001b[0m\u001b[37m\u001b[0m \u001b[1m5s\u001b[0m 69ms/step - adhd_output_accuracy: 0.8242 - adhd_output_loss: 0.3834 - loss: 2.3010 - sex_output_accuracy: 0.7781 - sex_output_loss: 0.4528 - val_adhd_output_accuracy: 0.7078 - val_adhd_output_loss: 0.6270 - val_loss: 2.7957 - val_sex_output_accuracy: 0.6132 - val_sex_output_loss: 0.7294\n",
            "Epoch 20/100\n",
            "\u001b[1m31/31\u001b[0m \u001b[32m━━━━━━━━━━━━━━━━━━━━\u001b[0m\u001b[37m\u001b[0m \u001b[1m2s\u001b[0m 69ms/step - adhd_output_accuracy: 0.8601 - adhd_output_loss: 0.3667 - loss: 2.1921 - sex_output_accuracy: 0.8295 - sex_output_loss: 0.3936 - val_adhd_output_accuracy: 0.6872 - val_adhd_output_loss: 0.6350 - val_loss: 2.7221 - val_sex_output_accuracy: 0.6461 - val_sex_output_loss: 0.6909\n",
            "Epoch 21/100\n",
            "\u001b[1m31/31\u001b[0m \u001b[32m━━━━━━━━━━━━━━━━━━━━\u001b[0m\u001b[37m\u001b[0m \u001b[1m2s\u001b[0m 62ms/step - adhd_output_accuracy: 0.8312 - adhd_output_loss: 0.3880 - loss: 2.1588 - sex_output_accuracy: 0.8439 - sex_output_loss: 0.3751 - val_adhd_output_accuracy: 0.6955 - val_adhd_output_loss: 0.6442 - val_loss: 2.7128 - val_sex_output_accuracy: 0.6296 - val_sex_output_loss: 0.6947\n",
            "Epoch 22/100\n",
            "\u001b[1m31/31\u001b[0m \u001b[32m━━━━━━━━━━━━━━━━━━━━\u001b[0m\u001b[37m\u001b[0m \u001b[1m3s\u001b[0m 84ms/step - adhd_output_accuracy: 0.8366 - adhd_output_loss: 0.3715 - loss: 2.1364 - sex_output_accuracy: 0.8366 - sex_output_loss: 0.3860 - val_adhd_output_accuracy: 0.7243 - val_adhd_output_loss: 0.6340 - val_loss: 2.7327 - val_sex_output_accuracy: 0.6337 - val_sex_output_loss: 0.7282\n",
            "Epoch 23/100\n",
            "\u001b[1m31/31\u001b[0m \u001b[32m━━━━━━━━━━━━━━━━━━━━\u001b[0m\u001b[37m\u001b[0m \u001b[1m4s\u001b[0m 61ms/step - adhd_output_accuracy: 0.8476 - adhd_output_loss: 0.3549 - loss: 2.0487 - sex_output_accuracy: 0.8589 - sex_output_loss: 0.3269 - val_adhd_output_accuracy: 0.6872 - val_adhd_output_loss: 0.6773 - val_loss: 2.8130 - val_sex_output_accuracy: 0.5926 - val_sex_output_loss: 0.7795\n",
            "Epoch 24/100\n",
            "\u001b[1m31/31\u001b[0m \u001b[32m━━━━━━━━━━━━━━━━━━━━\u001b[0m\u001b[37m\u001b[0m \u001b[1m3s\u001b[0m 61ms/step - adhd_output_accuracy: 0.8425 - adhd_output_loss: 0.3398 - loss: 2.0607 - sex_output_accuracy: 0.8484 - sex_output_loss: 0.3555 - val_adhd_output_accuracy: 0.6708 - val_adhd_output_loss: 0.6770 - val_loss: 2.8350 - val_sex_output_accuracy: 0.5967 - val_sex_output_loss: 0.7910\n",
            "Epoch 25/100\n",
            "\u001b[1m31/31\u001b[0m \u001b[32m━━━━━━━━━━━━━━━━━━━━\u001b[0m\u001b[37m\u001b[0m \u001b[1m3s\u001b[0m 61ms/step - adhd_output_accuracy: 0.8478 - adhd_output_loss: 0.3545 - loss: 2.0781 - sex_output_accuracy: 0.8716 - sex_output_loss: 0.3141 - val_adhd_output_accuracy: 0.6708 - val_adhd_output_loss: 0.6723 - val_loss: 2.9167 - val_sex_output_accuracy: 0.6049 - val_sex_output_loss: 0.7866\n",
            "Epoch 26/100\n",
            "\u001b[1m31/31\u001b[0m \u001b[32m━━━━━━━━━━━━━━━━━━━━\u001b[0m\u001b[37m\u001b[0m \u001b[1m2s\u001b[0m 65ms/step - adhd_output_accuracy: 0.8387 - adhd_output_loss: 0.3501 - loss: 2.1449 - sex_output_accuracy: 0.8481 - sex_output_loss: 0.3411 - val_adhd_output_accuracy: 0.6996 - val_adhd_output_loss: 0.6683 - val_loss: 2.8877 - val_sex_output_accuracy: 0.6214 - val_sex_output_loss: 0.7850\n",
            "Epoch 27/100\n",
            "\u001b[1m31/31\u001b[0m \u001b[32m━━━━━━━━━━━━━━━━━━━━\u001b[0m\u001b[37m\u001b[0m \u001b[1m3s\u001b[0m 84ms/step - adhd_output_accuracy: 0.8872 - adhd_output_loss: 0.2849 - loss: 2.0110 - sex_output_accuracy: 0.8782 - sex_output_loss: 0.3043 - val_adhd_output_accuracy: 0.6996 - val_adhd_output_loss: 0.6966 - val_loss: 2.8804 - val_sex_output_accuracy: 0.6337 - val_sex_output_loss: 0.8049\n",
            "Epoch 28/100\n",
            "\u001b[1m31/31\u001b[0m \u001b[32m━━━━━━━━━━━━━━━━━━━━\u001b[0m\u001b[37m\u001b[0m \u001b[1m5s\u001b[0m 66ms/step - adhd_output_accuracy: 0.8703 - adhd_output_loss: 0.3178 - loss: 2.0145 - sex_output_accuracy: 0.8704 - sex_output_loss: 0.3145 - val_adhd_output_accuracy: 0.6872 - val_adhd_output_loss: 0.6915 - val_loss: 2.8267 - val_sex_output_accuracy: 0.6091 - val_sex_output_loss: 0.7893\n",
            "Epoch 29/100\n",
            "\u001b[1m31/31\u001b[0m \u001b[32m━━━━━━━━━━━━━━━━━━━━\u001b[0m\u001b[37m\u001b[0m \u001b[1m2s\u001b[0m 63ms/step - adhd_output_accuracy: 0.8834 - adhd_output_loss: 0.3066 - loss: 1.9841 - sex_output_accuracy: 0.8877 - sex_output_loss: 0.3008 - val_adhd_output_accuracy: 0.6872 - val_adhd_output_loss: 0.6938 - val_loss: 2.9219 - val_sex_output_accuracy: 0.5802 - val_sex_output_loss: 0.8424\n",
            "Epoch 30/100\n",
            "\u001b[1m31/31\u001b[0m \u001b[32m━━━━━━━━━━━━━━━━━━━━\u001b[0m\u001b[37m\u001b[0m \u001b[1m3s\u001b[0m 64ms/step - adhd_output_accuracy: 0.8807 - adhd_output_loss: 0.3085 - loss: 2.0271 - sex_output_accuracy: 0.8779 - sex_output_loss: 0.3115 - val_adhd_output_accuracy: 0.6872 - val_adhd_output_loss: 0.7110 - val_loss: 2.9447 - val_sex_output_accuracy: 0.5844 - val_sex_output_loss: 0.8264\n",
            "Epoch 31/100\n",
            "\u001b[1m31/31\u001b[0m \u001b[32m━━━━━━━━━━━━━━━━━━━━\u001b[0m\u001b[37m\u001b[0m \u001b[1m3s\u001b[0m 90ms/step - adhd_output_accuracy: 0.8839 - adhd_output_loss: 0.2801 - loss: 1.9665 - sex_output_accuracy: 0.8878 - sex_output_loss: 0.2837 - val_adhd_output_accuracy: 0.6708 - val_adhd_output_loss: 0.7283 - val_loss: 2.8973 - val_sex_output_accuracy: 0.6337 - val_sex_output_loss: 0.7970\n",
            "\u001b[1m8/8\u001b[0m \u001b[32m━━━━━━━━━━━━━━━━━━━━\u001b[0m\u001b[37m\u001b[0m \u001b[1m0s\u001b[0m 26ms/step - adhd_output_accuracy: 0.7436 - adhd_output_loss: 0.5948 - loss: 2.6663 - sex_output_accuracy: 0.6415 - sex_output_loss: 0.6966\n",
            "Evaluation Results: [2.7127788066864014, 0.644226610660553, 0.6947343945503235, 0.6954732537269592, 0.6296296119689941]\n"
          ]
        },
        {
          "output_type": "stream",
          "name": "stderr",
          "text": [
            "WARNING:tensorflow:5 out of the last 17 calls to <function TensorFlowTrainer.make_predict_function.<locals>.one_step_on_data_distributed at 0x7d01280c93a0> triggered tf.function retracing. Tracing is expensive and the excessive number of tracings could be due to (1) creating @tf.function repeatedly in a loop, (2) passing tensors with different shapes, (3) passing Python objects instead of tensors. For (1), please define your @tf.function outside of the loop. For (2), @tf.function has reduce_retracing=True option that can avoid unnecessary retracing. For (3), please refer to https://www.tensorflow.org/guide/function#controlling_retracing and https://www.tensorflow.org/api_docs/python/tf/function for  more details.\n"
          ]
        },
        {
          "output_type": "stream",
          "name": "stdout",
          "text": [
            "\u001b[1m8/8\u001b[0m \u001b[32m━━━━━━━━━━━━━━━━━━━━\u001b[0m\u001b[37m\u001b[0m \u001b[1m0s\u001b[0m 38ms/step\n",
            "ADHD F1 Score (weighted): 0.8312\n",
            "Sex_F F1 Score: 0.2623\n",
            "Final Weighted F1 Score: 0.5468\n"
          ]
        }
      ]
    },
    {
      "cell_type": "markdown",
      "source": [
        "# Threshold Tuning"
      ],
      "metadata": {
        "id": "rqyP44sK_Axz"
      }
    },
    {
      "cell_type": "code",
      "source": [
        "# For ADHD:\n",
        "#    y_val_adhd_prob: predicted probabilities from the model for ADHD_Outcome (shape: (n_samples,))\n",
        "#    y_val_adhd: true ADHD_Outcome labels (0 or 1)\n",
        "# For Sex_F:\n",
        "#    y_val_sex_prob: predicted probabilities from the model for Sex_F (shape: (n_samples,))\n",
        "#    y_val_sex: true Sex_F labels (0 or 1)\n",
        "\n",
        "y_val_adhd_prob = predictions[0].flatten()\n",
        "y_val_sex_prob  = predictions[1].flatten()\n",
        "\n",
        "# --- Define the function to compute weighted F1 score ---\n",
        "def compute_weighted_f1(y_true_adhd, y_pred_adhd, y_true_sex, y_pred_sex):\n",
        "    \"\"\"\n",
        "    Compute the final weighted F1 score.\n",
        "    Female ADHD cases (where ADHD_Outcome==1 and Sex_F==1) are given 2x weight.\n",
        "    Returns:\n",
        "       final_f1: the average of the weighted ADHD F1 and the Sex_F F1.\n",
        "       f1_adhd: F1 score for ADHD_Outcome using sample weights.\n",
        "       f1_sex:  F1 score for Sex_F (unweighted).\n",
        "    \"\"\"\n",
        "    weights = np.ones_like(y_true_adhd, dtype=float)\n",
        "    weights[(y_true_adhd == 1) & (y_true_sex == 1)] = 2.0\n",
        "    f1_adhd = f1_score(y_true_adhd, y_pred_adhd, sample_weight=weights)\n",
        "    f1_sex = f1_score(y_true_sex, y_pred_sex)\n",
        "    final_f1 = (f1_adhd + f1_sex) / 2.0\n",
        "    return final_f1, f1_adhd, f1_sex\n",
        "\n",
        "# --- Define a range of thresholds to test ---\n",
        "#thresholds = np.linspace(0, 1, 101)  # from 0.00 to 1.00 in steps of 0.01\n",
        "thresholds = np.linspace(0.1, 0.99, 90)\n",
        "\n",
        "best_final_f1 = 0.0\n",
        "best_thr_adhd = 0.0\n",
        "best_thr_sex  = 0.0\n",
        "best_f1_adhd = 0.0\n",
        "best_f1_sex  = 0.0\n",
        "\n",
        "# --- Perform a 2D threshold sweep ---\n",
        "for thr_a in thresholds:\n",
        "    for thr_s in thresholds:\n",
        "        y_pred_adhd = (y_val_adhd_prob > thr_a).astype(int)\n",
        "        y_pred_sex  = (y_val_sex_prob > thr_s).astype(int)\n",
        "        final_f1, f1_adhd, f1_sex = compute_weighted_f1(y_val_adhd_split, y_pred_adhd, y_val_sex_split, y_pred_sex)\n",
        "        if final_f1 > best_final_f1:\n",
        "            best_final_f1 = final_f1\n",
        "            best_thr_adhd = thr_a\n",
        "            best_thr_sex  = thr_s\n",
        "            best_f1_adhd = f1_adhd\n",
        "            best_f1_sex  = f1_sex\n",
        "\n",
        "print(f\"Best ADHD Threshold: {best_thr_adhd:.2f} with F1: {best_f1_adhd:.4f}\")\n",
        "print(f\"Best Sex_F Threshold: {best_thr_sex:.2f} with F1: {best_f1_sex:.4f}\")\n",
        "print(f\"Best Final Weighted F1: {best_final_f1:.4f}\")\n",
        "\n"
      ],
      "metadata": {
        "id": "4StHMFS5_BM5",
        "outputId": "9b0e7756-df94-4b53-cb9d-4202be6e913d",
        "colab": {
          "base_uri": "https://localhost:8080/"
        }
      },
      "execution_count": 18,
      "outputs": [
        {
          "output_type": "stream",
          "name": "stdout",
          "text": [
            "Best ADHD Threshold: 0.10 with F1: 0.8728\n",
            "Best Sex_F Threshold: 0.14 with F1: 0.4577\n",
            "Best Final Weighted F1: 0.6653\n"
          ]
        }
      ]
    },
    {
      "cell_type": "code",
      "source": [
        "\n",
        "# ----------------------------\n",
        "# 1. Prepare Test Features\n",
        "# ----------------------------\n",
        "# test_features was constructed as follows:\n",
        "# - combined_test_data and test_matrix_data were merged to form a matrix.\n",
        "# - \"NA\" values were replaced with np.nan.\n",
        "# - The first column (patient IDs) was separated.\n",
        "# - Missing values were imputed (e.g., using KNN imputation).\n",
        "#\n",
        "# In your code, you ended with:\n",
        "# combined_test_metadata_imputed = imputer_test_metadata.fit_transform(test_features_no_id)\n",
        "# and then:\n",
        "# test_features = np.hstack([test_patient_ids.reshape(-1, 1), test_features_no_id])\n",
        "#\n",
        "# For prediction, we want to use the imputed features that match the training data.\n",
        "# Apply the same StandardScaler (fitted on the training data) to the test features.\n",
        "final_test_features = scaler.transform(combined_test_metadata_imputed)  # Shape: (n_test_samples, n_features)\n",
        "\n",
        "# ----------------------------\n",
        "# 2. Make Predictions on Test Data\n",
        "# ----------------------------\n",
        "# Using the multi-output model, predictions will be a list of arrays:\n",
        "#   test_predictions[0] corresponds to ADHD_Outcome probabilities.\n",
        "#   test_predictions[1] corresponds to Sex_F probabilities.\n",
        "test_predictions = model.predict(final_test_features)\n",
        "\n",
        "# Flatten the predictions (if needed) so they are 1D arrays:\n",
        "adhd_probs = test_predictions[0].flatten()\n",
        "sex_probs  = test_predictions[1].flatten()\n",
        "\n",
        "# ----------------------------\n",
        "# 3. Apply Optimal Thresholds\n",
        "# ----------------------------\n",
        "# Use the optimal thresholds found from threshold tuning.\n",
        "# (For example, these variables should have been computed during your threshold tuning process.)\n",
        "test_pred_adhd = (adhd_probs > best_thr_adhd).astype(int)\n",
        "test_pred_sex  = (sex_probs > best_thr_sex).astype(int)\n",
        "\n",
        "# ----------------------------\n",
        "# 4. Create the Submission DataFrame\n",
        "# ----------------------------\n",
        "# Ensure that test_patient_ids is a 1D array containing the IDs.\n",
        "submission_df = pd.DataFrame({\n",
        "    'participant_id': test_patient_ids.flatten(),  # Use your test IDs\n",
        "    'ADHD_Outcome': test_pred_adhd,\n",
        "    'Sex_F': test_pred_sex\n",
        "})\n",
        "\n",
        "# ----------------------------\n",
        "# 5. Save to CSV\n",
        "# ----------------------------\n",
        "submission_df.to_csv('/content/drive/My Drive/widsdatathon2025/Work/Submission/submission.csv', index=False)\n",
        "print(\"Submission file saved as submission.csv\")\n"
      ],
      "metadata": {
        "id": "N2zn_aMmxpZQ",
        "outputId": "ab0ad1bb-e3d4-4d02-e00b-ecadaef28b5a",
        "colab": {
          "base_uri": "https://localhost:8080/"
        }
      },
      "execution_count": 31,
      "outputs": [
        {
          "output_type": "stream",
          "name": "stdout",
          "text": [
            "\u001b[1m10/10\u001b[0m \u001b[32m━━━━━━━━━━━━━━━━━━━━\u001b[0m\u001b[37m\u001b[0m \u001b[1m0s\u001b[0m 11ms/step\n",
            "Submission file saved as submission.csv\n"
          ]
        }
      ]
    },
    {
      "cell_type": "markdown",
      "source": [
        "# Threshold Tuning Graph"
      ],
      "metadata": {
        "id": "k9vBUnn6_ICy"
      }
    },
    {
      "cell_type": "code",
      "source": [
        "# prompt: generate a threshold tuning graph for ADHD and Sex_F\n",
        "\n",
        "import numpy as np\n",
        "from sklearn.metrics import f1_score\n",
        "import matplotlib.pyplot as plt\n",
        "\n",
        "# Assuming y_val_adhd_prob, y_val_sex_prob, y_val_adhd_split, and y_val_sex_split are defined as in your code.\n",
        "\n",
        "# Function to compute the weighted F1 score (same as before)\n",
        "def compute_weighted_f1(y_true_adhd, y_pred_adhd, y_true_sex, y_pred_sex):\n",
        "    weights = np.ones_like(y_true_adhd, dtype=float)\n",
        "    weights[(y_true_adhd == 1) & (y_true_sex == 1)] = 2.0\n",
        "    f1_adhd = f1_score(y_true_adhd, y_pred_adhd, sample_weight=weights)\n",
        "    f1_sex = f1_score(y_true_sex, y_pred_sex)\n",
        "    final_f1 = (f1_adhd + f1_sex) / 2.0\n",
        "    return final_f1, f1_adhd, f1_sex\n",
        "\n",
        "\n",
        "thresholds = np.linspace(0, 1, 101)\n",
        "f1_scores_adhd = []\n",
        "f1_scores_sex = []\n",
        "\n",
        "for threshold in thresholds:\n",
        "    y_pred_adhd = (y_val_adhd_prob > threshold).astype(int)\n",
        "    y_pred_sex = (y_val_sex_prob > threshold).astype(int)\n",
        "    _, f1_adhd, f1_sex = compute_weighted_f1(y_val_adhd_split, y_pred_adhd, y_val_sex_split, y_pred_sex)\n",
        "    f1_scores_adhd.append(f1_adhd)\n",
        "    f1_scores_sex.append(f1_sex)\n",
        "\n",
        "# Plotting the threshold tuning graph\n",
        "plt.figure(figsize=(10, 6))\n",
        "plt.plot(thresholds, f1_scores_adhd, label='ADHD F1 Score')\n",
        "plt.plot(thresholds, f1_scores_sex, label='Sex_F F1 Score')\n",
        "plt.xlabel('Threshold')\n",
        "plt.ylabel('F1 Score')\n",
        "plt.title('Threshold Tuning Graph for ADHD and Sex_F')\n",
        "plt.legend()\n",
        "plt.grid(True)\n",
        "plt.show()\n"
      ],
      "metadata": {
        "id": "uANRbZqC_KHQ",
        "collapsed": true,
        "outputId": "39dad3cf-1a25-4f11-ff7d-dff4a376cb08",
        "colab": {
          "base_uri": "https://localhost:8080/",
          "height": 564
        }
      },
      "execution_count": 13,
      "outputs": [
        {
          "output_type": "display_data",
          "data": {
            "text/plain": [
              "<Figure size 1000x600 with 1 Axes>"
            ],
            "image/png": "[encoded data removed]"
          },
          "metadata": {}
        }
      ]
    },
    {
      "cell_type": "markdown",
      "source": [
        "# Two Model Data Processing: Train metadata + fmri with no or few missing values"
      ],
      "metadata": {
        "id": "YYe6ynNZsi1Q"
      }
    },
    {
      "cell_type": "code",
      "source": [
        "# prompt: Access data from google drive\n",
        "from google.colab import drive\n",
        "drive.mount('/content/drive')\n",
        "\n",
        "# Import train categorical data (1213, 10)\n",
        "train_cat = pd.read_excel(\"drive/My Drive/widsdatathon2025/TRAIN_NEW/TRAIN_CATEGORICAL_METADATA_new.xlsx\")\n",
        "# train_cat.shape\n",
        "# train_cat.describe()\n",
        "\n",
        "# Import train quantitative data (1213, 19)\n",
        "train_quant = pd.read_excel(\"drive/My Drive/widsdatathon2025/TRAIN_NEW/TRAIN_QUANTITATIVE_METADATA_new.xlsx\")\n",
        "# train_quant.shape\n",
        "# train_quant.describe()\n",
        "\n",
        "# Import solution w outcome data (1213, 3)\n",
        "train_sol = pd.read_excel(\"drive/My Drive/widsdatathon2025/TRAIN_NEW/TRAINING_SOLUTIONS.xlsx\")\n",
        "# train_sol.shape\n",
        "# train_sol.describe()\n",
        "\n",
        "# Merge train datasets on the participant ID\n",
        "combined_train_data = pd.merge(train_cat, train_quant, on='participant_id')    # (1213, 28)\n",
        "train_with_outcome = pd.merge(combined_train_data, train_sol, on='participant_id')  # (1213, 30)\n",
        "\n",
        "# # Extract metadata from combined_train_data (skip the participant ID)\n",
        "# metadata = combined_train_data.iloc[:, 1:].to_numpy()  # shape: (1213, 27)\n",
        "\n",
        "# # Standardize metadata\n",
        "# scaler_meta = StandardScaler()\n",
        "# metadata_scaled = scaler_meta.fit_transform(metadata)\n",
        "\n",
        "# Import test categorical data (304, 10)\n",
        "test_cat = pd.read_excel(\"drive/My Drive/widsdatathon2025/TEST/TEST_CATEGORICAL.xlsx\")\n",
        "\n",
        "# Import test quantitative data (304, 19)\n",
        "test_quant = pd.read_excel(\"drive/My Drive/widsdatathon2025/TEST/TEST_QUANTITATIVE_METADATA.xlsx\")\n",
        "\n",
        "# Merge test datasets on the participant ID  (304, 28)\n",
        "combined_test_data = pd.merge(test_cat, test_quant, on='participant_id')\n",
        "test_no_id = combined_test_data.drop(columns=['participant_id'])\n",
        "\n",
        "# Import train MRI data (1213, 19901)\n",
        "train_mri_filepath = \"drive/My Drive/widsdatathon2025/TRAIN_NEW/TRAIN_FUNCTIONAL_CONNECTOME_MATRICES_new_36P_Pearson.csv\"\n",
        "train_mri = pd.read_csv(train_mri_filepath)\n",
        "\n",
        "# Import test MRI data\n",
        "test_mri_filepath = \"drive/My Drive/widsdatathon2025/TEST/TEST_FUNCTIONAL_CONNECTOME_MATRICES.csv\"\n",
        "test_mri = pd.read_csv(test_mri_filepath)\n",
        "\n"
      ],
      "metadata": {
        "id": "y70qnoy02Y3T",
        "outputId": "350a09f5-1aef-46b6-ba49-ae7e026fed4b",
        "colab": {
          "base_uri": "https://localhost:8080/"
        }
      },
      "execution_count": 41,
      "outputs": [
        {
          "output_type": "stream",
          "name": "stdout",
          "text": [
            "Drive already mounted at /content/drive; to attempt to forcibly remount, call drive.mount(\"/content/drive\", force_remount=True).\n"
          ]
        }
      ]
    },
    {
      "cell_type": "code",
      "source": [
        "from sklearn.impute import KNNImputer\n",
        "\n",
        "\n",
        "# Remove first line, convert csv file to a functional connectome matrix\n",
        "train_matrix_data = train_mri.iloc[:, 1:].to_numpy(dtype=float)\n",
        "\n",
        "# Calculate the percentage of missing values in each column\n",
        "missing_percentage = combined_train_data.isnull().sum() / len(combined_train_data) * 100\n",
        "\n",
        "missing_percentage\n",
        "\n",
        "# Identify columns with more than a certain percentage threshold of missing values\n",
        "threshold = 1  # meaning 1%\n",
        "columns_to_remove = missing_percentage[missing_percentage > threshold].index\n",
        "\n",
        "# Extract columns with massive missing values\n",
        "extracted_columns = combined_train_data[columns_to_remove]         # (1213, 9)\n",
        "\n",
        "# Extract columns with no or few missing values\n",
        "columns_few_missing = combined_train_data.drop(columns=columns_to_remove)     # (1213, 19)\n",
        "\n",
        "# Combine columns_few_missing with fmri\n",
        "features_few_missing = np.hstack([columns_few_missing, train_matrix_data])\n",
        "\n",
        "# Replace \"NA\" with np.nan\n",
        "features_few_missing[features_few_missing == \"NA\"] = np.nan\n",
        "\n",
        "# Remove Patient ID\n",
        "features_few_missing = features_few_missing[:, 1:]\n",
        "\n",
        "# Convert the features_few_missing to float\n",
        "features_few_missing = features_few_missing.astype(float)\n",
        "\n",
        "# Impute missing values with KNN imputation\n",
        "imputer_metadata = KNNImputer(n_neighbors=5)  # Using KNN for imputation instead of mean\n",
        "combined_metadata_imputed2 = imputer_metadata.fit_transform(features_few_missing)  # (1213, 19918)\n"
      ],
      "metadata": {
        "id": "nYg0G-bqsiWQ"
      },
      "execution_count": 38,
      "outputs": []
    },
    {
      "cell_type": "code",
      "source": [
        "combined_metadata_imputed2.shape"
      ],
      "metadata": {
        "id": "5ekMO5A-1zsu",
        "outputId": "f9a787b9-2124-48fb-f7a5-72d6c0b9494a",
        "colab": {
          "base_uri": "https://localhost:8080/"
        }
      },
      "execution_count": 39,
      "outputs": [
        {
          "output_type": "execute_result",
          "data": {
            "text/plain": [
              "(1213, 19927)"
            ]
          },
          "metadata": {},
          "execution_count": 39
        }
      ]
    }
  ]
}