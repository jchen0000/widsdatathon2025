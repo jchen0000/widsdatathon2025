{
  "nbformat": 4,
  "nbformat_minor": 0,
  "metadata": {
    "colab": {
      "provenance": [],
      "authorship_tag": "ABX9TyNyMdoh8y9NEj9fUaStWbuV",
      "include_colab_link": true
    },
    "kernelspec": {
      "name": "python3",
      "display_name": "Python 3"
    },
    "language_info": {
      "name": "python"
    }
  },
  "cells": [
    {
      "cell_type": "markdown",
      "metadata": {
        "id": "view-in-github",
        "colab_type": "text"
      },
      "source": [
        "<a href=\"https://colab.research.google.com/github/jchen0000/widsdatathon2025/blob/main/python/Lasso_Neural_Network.ipynb\" target=\"_parent\"><img src=\"https://colab.research.google.com/assets/colab-badge.svg\" alt=\"Open In Colab\"/></a>"
      ]
    },
    {
      "cell_type": "markdown",
      "source": [
        "# Data Import"
      ],
      "metadata": {
        "id": "mY3xblER-9qb"
      }
    },
    {
      "cell_type": "code",
      "execution_count": 88,
      "metadata": {
        "id": "8OgAF8gI-xyc",
        "collapsed": true,
        "colab": {
          "base_uri": "https://localhost:8080/"
        },
        "outputId": "579f0f17-abd9-4047-e26f-0bfd35974244"
      },
      "outputs": [
        {
          "output_type": "stream",
          "name": "stdout",
          "text": [
            "Drive already mounted at /content/drive; to attempt to forcibly remount, call drive.mount(\"/content/drive\", force_remount=True).\n",
            "--2025-04-26 01:48:17--  https://github.com/jchen0000/widsdatathon2025/blob/main/data/train/TRAIN_CATEGORICAL_METADATA_imputed_Jing.xlsx?raw=true\n",
            "Resolving github.com (github.com)... 20.27.177.113\n",
            "Connecting to github.com (github.com)|20.27.177.113|:443... connected.\n",
            "HTTP request sent, awaiting response... 302 Found\n",
            "Location: https://github.com/jchen0000/widsdatathon2025/raw/refs/heads/main/data/train/TRAIN_CATEGORICAL_METADATA_imputed_Jing.xlsx [following]\n",
            "--2025-04-26 01:48:17--  https://github.com/jchen0000/widsdatathon2025/raw/refs/heads/main/data/train/TRAIN_CATEGORICAL_METADATA_imputed_Jing.xlsx\n",
            "Reusing existing connection to github.com:443.\n",
            "HTTP request sent, awaiting response... 302 Found\n",
            "Location: https://raw.githubusercontent.com/jchen0000/widsdatathon2025/refs/heads/main/data/train/TRAIN_CATEGORICAL_METADATA_imputed_Jing.xlsx [following]\n",
            "--2025-04-26 01:48:17--  https://raw.githubusercontent.com/jchen0000/widsdatathon2025/refs/heads/main/data/train/TRAIN_CATEGORICAL_METADATA_imputed_Jing.xlsx\n",
            "Resolving raw.githubusercontent.com (raw.githubusercontent.com)... 185.199.110.133, 185.199.111.133, 185.199.108.133, ...\n",
            "Connecting to raw.githubusercontent.com (raw.githubusercontent.com)|185.199.110.133|:443... connected.\n",
            "HTTP request sent, awaiting response... 200 OK\n",
            "Length: 63570 (62K) [application/octet-stream]\n",
            "Saving to: ‘train_cat2.xlsx’\n",
            "\n",
            "train_cat2.xlsx     100%[===================>]  62.08K  --.-KB/s    in 0.08s   \n",
            "\n",
            "2025-04-26 01:48:18 (763 KB/s) - ‘train_cat2.xlsx’ saved [63570/63570]\n",
            "\n",
            "--2025-04-26 01:48:18--  https://github.com/jchen0000/widsdatathon2025/blob/main/data/train/TRAIN_QUANTITATIVE_METADATA_imputed_Jing.xlsx?raw=true\n",
            "Resolving github.com (github.com)... 20.27.177.113\n",
            "Connecting to github.com (github.com)|20.27.177.113|:443... connected.\n",
            "HTTP request sent, awaiting response... 302 Found\n",
            "Location: https://github.com/jchen0000/widsdatathon2025/raw/refs/heads/main/data/train/TRAIN_QUANTITATIVE_METADATA_imputed_Jing.xlsx [following]\n",
            "--2025-04-26 01:48:19--  https://github.com/jchen0000/widsdatathon2025/raw/refs/heads/main/data/train/TRAIN_QUANTITATIVE_METADATA_imputed_Jing.xlsx\n",
            "Reusing existing connection to github.com:443.\n",
            "HTTP request sent, awaiting response... 302 Found\n",
            "Location: https://raw.githubusercontent.com/jchen0000/widsdatathon2025/refs/heads/main/data/train/TRAIN_QUANTITATIVE_METADATA_imputed_Jing.xlsx [following]\n",
            "--2025-04-26 01:48:19--  https://raw.githubusercontent.com/jchen0000/widsdatathon2025/refs/heads/main/data/train/TRAIN_QUANTITATIVE_METADATA_imputed_Jing.xlsx\n",
            "Resolving raw.githubusercontent.com (raw.githubusercontent.com)... 185.199.108.133, 185.199.111.133, 185.199.110.133, ...\n",
            "Connecting to raw.githubusercontent.com (raw.githubusercontent.com)|185.199.108.133|:443... connected.\n",
            "HTTP request sent, awaiting response... 200 OK\n",
            "Length: 114112 (111K) [application/octet-stream]\n",
            "Saving to: ‘train_quant2.xlsx’\n",
            "\n",
            "train_quant2.xlsx   100%[===================>] 111.44K  --.-KB/s    in 0.1s    \n",
            "\n",
            "2025-04-26 01:48:21 (1.06 MB/s) - ‘train_quant2.xlsx’ saved [114112/114112]\n",
            "\n",
            "--2025-04-26 01:48:29--  https://github.com/jchen0000/widsdatathon2025/blob/main/data/train/TEST_CATEGORICAL_METADATA_imputed_Jing_new.xlsx?raw=true\n",
            "Resolving github.com (github.com)... 20.27.177.113\n",
            "Connecting to github.com (github.com)|20.27.177.113|:443... connected.\n",
            "HTTP request sent, awaiting response... 302 Found\n",
            "Location: https://github.com/jchen0000/widsdatathon2025/raw/refs/heads/main/data/train/TEST_CATEGORICAL_METADATA_imputed_Jing_new.xlsx [following]\n",
            "--2025-04-26 01:48:30--  https://github.com/jchen0000/widsdatathon2025/raw/refs/heads/main/data/train/TEST_CATEGORICAL_METADATA_imputed_Jing_new.xlsx\n",
            "Reusing existing connection to github.com:443.\n",
            "HTTP request sent, awaiting response... 302 Found\n",
            "Location: https://raw.githubusercontent.com/jchen0000/widsdatathon2025/refs/heads/main/data/train/TEST_CATEGORICAL_METADATA_imputed_Jing_new.xlsx [following]\n",
            "--2025-04-26 01:48:30--  https://raw.githubusercontent.com/jchen0000/widsdatathon2025/refs/heads/main/data/train/TEST_CATEGORICAL_METADATA_imputed_Jing_new.xlsx\n",
            "Resolving raw.githubusercontent.com (raw.githubusercontent.com)... 185.199.108.133, 185.199.109.133, 185.199.110.133, ...\n",
            "Connecting to raw.githubusercontent.com (raw.githubusercontent.com)|185.199.108.133|:443... connected.\n",
            "HTTP request sent, awaiting response... 200 OK\n",
            "Length: 19446 (19K) [application/octet-stream]\n",
            "Saving to: ‘test_cat2.xlsx’\n",
            "\n",
            "test_cat2.xlsx      100%[===================>]  18.99K  --.-KB/s    in 0.005s  \n",
            "\n",
            "2025-04-26 01:48:30 (3.98 MB/s) - ‘test_cat2.xlsx’ saved [19446/19446]\n",
            "\n",
            "--2025-04-26 01:48:30--  https://github.com/jchen0000/widsdatathon2025/blob/main/data/train/TEST_QUANTITATIVE_METADATA_imputed_Jing_new.xlsx?raw=true\n",
            "Resolving github.com (github.com)... 20.27.177.113\n",
            "Connecting to github.com (github.com)|20.27.177.113|:443... connected.\n",
            "HTTP request sent, awaiting response... 302 Found\n",
            "Location: https://github.com/jchen0000/widsdatathon2025/raw/refs/heads/main/data/train/TEST_QUANTITATIVE_METADATA_imputed_Jing_new.xlsx [following]\n",
            "--2025-04-26 01:48:31--  https://github.com/jchen0000/widsdatathon2025/raw/refs/heads/main/data/train/TEST_QUANTITATIVE_METADATA_imputed_Jing_new.xlsx\n",
            "Reusing existing connection to github.com:443.\n",
            "HTTP request sent, awaiting response... 302 Found\n",
            "Location: https://raw.githubusercontent.com/jchen0000/widsdatathon2025/refs/heads/main/data/train/TEST_QUANTITATIVE_METADATA_imputed_Jing_new.xlsx [following]\n",
            "--2025-04-26 01:48:31--  https://raw.githubusercontent.com/jchen0000/widsdatathon2025/refs/heads/main/data/train/TEST_QUANTITATIVE_METADATA_imputed_Jing_new.xlsx\n",
            "Resolving raw.githubusercontent.com (raw.githubusercontent.com)... 185.199.108.133, 185.199.109.133, 185.199.110.133, ...\n",
            "Connecting to raw.githubusercontent.com (raw.githubusercontent.com)|185.199.108.133|:443... connected.\n",
            "HTTP request sent, awaiting response... 200 OK\n",
            "Length: 32502 (32K) [application/octet-stream]\n",
            "Saving to: ‘test_quant2.xlsx’\n",
            "\n",
            "test_quant2.xlsx    100%[===================>]  31.74K  --.-KB/s    in 0.05s   \n",
            "\n",
            "2025-04-26 01:48:32 (699 KB/s) - ‘test_quant2.xlsx’ saved [32502/32502]\n",
            "\n"
          ]
        }
      ],
      "source": [
        "# prompt: Access data from google drive\n",
        "from google.colab import drive\n",
        "drive.mount('/content/drive')\n",
        "\n",
        "\n",
        "# Import solution w outcome data (1213, 3)\n",
        "train_sol = pd.read_excel(\"drive/My Drive/widsdatathon2025/TRAIN_NEW/TRAINING_SOLUTIONS.xlsx\")\n",
        "\n",
        "# Patient ID\n",
        "patient_id = train_sol.iloc[:, 0]\n",
        "\n",
        "# Import train MRI data (1213, 19901)\n",
        "train_mri_filepath = \"drive/My Drive/widsdatathon2025/TRAIN_NEW/TRAIN_FUNCTIONAL_CONNECTOME_MATRICES_new_36P_Pearson.csv\"\n",
        "train_mri = pd.read_csv(train_mri_filepath)\n",
        "\n",
        "# Remove first line, convert csv file to a functional connectome matrix\n",
        "train_matrix_data = train_mri.iloc[:, 1:].to_numpy(dtype=float)  # (1213, 19900)\n",
        "\n",
        "# Import Train Data\n",
        "!wget \"https://github.com/jchen0000/widsdatathon2025/blob/main/data/train/TRAIN_CATEGORICAL_METADATA_imputed_Jing.xlsx?raw=true\" -O train_cat2.xlsx\n",
        "train_cat2 = pd.read_excel(\"train_cat2.xlsx\")      # (1213, 10)\n",
        "\n",
        "!wget \"https://github.com/jchen0000/widsdatathon2025/blob/main/data/train/TRAIN_QUANTITATIVE_METADATA_imputed_Jing.xlsx?raw=true\" -O train_quant2.xlsx\n",
        "train_quant2 = pd.read_excel(\"train_quant2.xlsx\")  # (1213, 19)\n",
        "\n",
        "# Merge train datasets on the participant ID\n",
        "combined_train_data2 = pd.merge(train_cat2, train_quant2, on='participant_id')\n",
        "train_with_outcome2 = pd.merge(combined_train_data2, train_sol, on='participant_id')  # (1213, 30)\n",
        "\n",
        "# Combine metadata and fMRI into one feature matrix\n",
        "features2 = np.hstack([combined_train_data2, train_matrix_data])\n",
        "\n",
        "# Remove patient ID\n",
        "combined_metadata_imputed = features2[:, 1:]\n",
        "combined_metadata_imputed = combined_metadata_imputed.astype(float)  # (1213, 19927)\n",
        "\n",
        "\n",
        "\n",
        "# Import test MRI data\n",
        "test_mri_filepath = \"drive/My Drive/widsdatathon2025/TEST/TEST_FUNCTIONAL_CONNECTOME_MATRICES.csv\"\n",
        "test_mri = pd.read_csv(test_mri_filepath)\n",
        "\n",
        "# Remove first line, convert csv file to a functional connectome matrix\n",
        "test_matrix_data = test_mri.iloc[:, 1:].to_numpy(dtype=float)  # (304, 19900)\n",
        "\n",
        "# Import test Data\n",
        "!wget \"https://github.com/jchen0000/widsdatathon2025/blob/main/data/train/TEST_CATEGORICAL_METADATA_imputed_Jing_new.xlsx?raw=true\" -O test_cat2.xlsx\n",
        "test_cat2 = pd.read_excel(\"test_cat2.xlsx\")      # (304, 28)\n",
        "\n",
        "!wget \"https://github.com/jchen0000/widsdatathon2025/blob/main/data/train/TEST_QUANTITATIVE_METADATA_imputed_Jing_new.xlsx?raw=true\" -O test_quant2.xlsx\n",
        "test_quant2 = pd.read_excel(\"test_quant2.xlsx\")  # (304, 28)\n",
        "\n",
        "# Merge test datasets on the participant ID\n",
        "combined_test_data2 = pd.merge(test_cat2, test_quant2, on='participant_id')\n",
        "test_no_id2 = combined_test_data2.drop(columns=['participant_id'])\n",
        "\n",
        "test_patient_ids = combined_test_data2['participant_id'].values  # Extract patient IDs using column name\n",
        "\n",
        "# Combine metadata and fMRI into one feature matrix\n",
        "test_features2 = np.hstack([combined_test_data2, test_matrix_data])\n",
        "\n",
        "\n",
        "# Remove patient ID\n",
        "combined_test_metadata_imputed = test_features2[:, 1:]\n",
        "combined_test_metadata_imputed = combined_test_metadata_imputed.astype(float)  # (304, 19927)"
      ]
    },
    {
      "cell_type": "markdown",
      "source": [
        "# Jing's Lasso Data Import"
      ],
      "metadata": {
        "id": "AsgJgz9d0QdR"
      }
    },
    {
      "cell_type": "code",
      "source": [
        "import pandas as pd\n",
        "\n",
        "# prompt: Access data from google drive\n",
        "from google.colab import drive\n",
        "drive.mount('/content/drive')\n",
        "\n",
        "# Import solution w outcome data (1213, 3)\n",
        "train_sol = pd.read_excel(\"drive/My Drive/widsdatathon2025/TRAIN_NEW/TRAINING_SOLUTIONS.xlsx\")\n",
        "\n",
        "# Import test data\n",
        "!wget \"https://github.com/jchen0000/widsdatathon2025/blob/main/data/train/TEST_CATEGORICAL_METADATA_imputed_Jing_new.xlsx?raw=true\" -O test_cat2.xlsx\n",
        "test_cat2 = pd.read_excel(\"test_cat2.xlsx\")\n",
        "\n",
        "# Test patient id\n",
        "test_patient_ids = test_cat2['participant_id'].values  # Extract patient IDs using column name\n",
        "\n",
        "# Import standardized lasso data\n",
        "combined_metadata_imputed = pd.read_csv('/content/drive/My Drive/widsdatathon2025/Work/Processed Data/lasso_imputed_train.csv')  # (1213, 19927)\n",
        "combined_test_metadata_imputed = pd.read_csv('/content/drive/My Drive/widsdatathon2025/Work/Processed Data/lasso_imputed_test.csv')  # (304, 19927)"
      ],
      "metadata": {
        "collapsed": true,
        "colab": {
          "base_uri": "https://localhost:8080/"
        },
        "id": "6ktkvwmije4j",
        "outputId": "01fa67e3-8522-42dd-f1d2-8cb47ec9e516"
      },
      "execution_count": 97,
      "outputs": [
        {
          "output_type": "stream",
          "name": "stdout",
          "text": [
            "Drive already mounted at /content/drive; to attempt to forcibly remount, call drive.mount(\"/content/drive\", force_remount=True).\n",
            "--2025-04-26 01:58:31--  https://github.com/jchen0000/widsdatathon2025/blob/main/data/train/TEST_CATEGORICAL_METADATA_imputed_Jing_new.xlsx?raw=true\n",
            "Resolving github.com (github.com)... 20.27.177.113\n",
            "Connecting to github.com (github.com)|20.27.177.113|:443... connected.\n",
            "HTTP request sent, awaiting response... 302 Found\n",
            "Location: https://github.com/jchen0000/widsdatathon2025/raw/refs/heads/main/data/train/TEST_CATEGORICAL_METADATA_imputed_Jing_new.xlsx [following]\n",
            "--2025-04-26 01:58:31--  https://github.com/jchen0000/widsdatathon2025/raw/refs/heads/main/data/train/TEST_CATEGORICAL_METADATA_imputed_Jing_new.xlsx\n",
            "Reusing existing connection to github.com:443.\n",
            "HTTP request sent, awaiting response... 302 Found\n",
            "Location: https://raw.githubusercontent.com/jchen0000/widsdatathon2025/refs/heads/main/data/train/TEST_CATEGORICAL_METADATA_imputed_Jing_new.xlsx [following]\n",
            "--2025-04-26 01:58:31--  https://raw.githubusercontent.com/jchen0000/widsdatathon2025/refs/heads/main/data/train/TEST_CATEGORICAL_METADATA_imputed_Jing_new.xlsx\n",
            "Resolving raw.githubusercontent.com (raw.githubusercontent.com)... 185.199.108.133, 185.199.109.133, 185.199.110.133, ...\n",
            "Connecting to raw.githubusercontent.com (raw.githubusercontent.com)|185.199.108.133|:443... connected.\n",
            "HTTP request sent, awaiting response... 200 OK\n",
            "Length: 19446 (19K) [application/octet-stream]\n",
            "Saving to: ‘test_cat2.xlsx’\n",
            "\n",
            "test_cat2.xlsx      100%[===================>]  18.99K  --.-KB/s    in 0.007s  \n",
            "\n",
            "2025-04-26 01:58:32 (2.62 MB/s) - ‘test_cat2.xlsx’ saved [19446/19446]\n",
            "\n"
          ]
        }
      ]
    },
    {
      "cell_type": "markdown",
      "source": [
        "# Neural Network"
      ],
      "metadata": {
        "id": "-9qQWFKh-6or"
      }
    },
    {
      "cell_type": "code",
      "source": [
        "import tensorflow as tf\n",
        "from tensorflow.keras.models import Model\n",
        "from tensorflow.keras.layers import Input, Dense, Dropout, BatchNormalization\n",
        "from tensorflow.keras.callbacks import EarlyStopping\n",
        "from tensorflow.keras.regularizers import l2\n",
        "from sklearn.model_selection import train_test_split\n",
        "from sklearn.preprocessing import StandardScaler\n",
        "from sklearn.metrics import f1_score\n",
        "import numpy as np\n",
        "\n",
        "# --- Define the function to compute weighted F1 score ---\n",
        "def compute_weighted_f1(y_true_adhd, y_pred_adhd, y_true_sex, y_pred_sex):\n",
        "    \"\"\"\n",
        "    Compute the final weighted F1 score for the competition.\n",
        "    Female ADHD cases (where ADHD_Outcome==1 and Sex_F==1) are given 2x weight.\n",
        "    The final score is the average of the weighted F1 for ADHD_Outcome and the F1 for Sex_F.\n",
        "    \"\"\"\n",
        "    # Create sample weights for ADHD_Outcome: weight=2 for female ADHD cases, else 1.\n",
        "    weights = np.ones_like(y_true_adhd, dtype=float)\n",
        "    weights[(y_true_adhd == 1) & (y_true_sex == 1)] = 2.0\n",
        "\n",
        "    # Calculate weighted F1 for ADHD_Outcome\n",
        "    f1_adhd = f1_score(y_true_adhd, y_pred_adhd, sample_weight=weights)\n",
        "    # Calculate standard F1 for Sex_F\n",
        "    f1_sex = f1_score(y_true_sex, y_pred_sex)\n",
        "\n",
        "    # Final leaderboard score: average of the two F1 scores\n",
        "    final_f1 = (f1_adhd + f1_sex) / 2.0\n",
        "    return final_f1, f1_adhd, f1_sex\n",
        "\n",
        "# --- Prepare the data ---\n",
        "# Use combined_metadata_imputed as input features.\n",
        "X = combined_metadata_imputed  # (1213, 19927)\n",
        "# Extract targets from train_sol:\n",
        "y_adhd = train_sol['ADHD_Outcome'].values  # Binary labels (0 or 1)\n",
        "y_sex  = train_sol['Sex_F'].values         # Binary labels (0 or 1)\n",
        "\n",
        "# Standardize features.\n",
        "scaler = StandardScaler()\n",
        "X_scaled = scaler.fit_transform(X)\n",
        "\n",
        "# Split into training and validation sets.\n",
        "# Note: We split the labels separately but the splits will be aligned because we use the same X_scaled.\n",
        "X_train_split, X_val_split, y_train_adhd_split, y_val_adhd_split = train_test_split(\n",
        "    X_scaled, y_adhd, test_size=0.2, random_state=42\n",
        ")\n",
        "_, _, y_train_sex_split, y_val_sex_split = train_test_split(\n",
        "    X_scaled, y_sex, test_size=0.2, random_state=42\n",
        ")\n",
        "\n",
        "# --- Build the multi-output neural network model ---\n",
        "input_layer = Input(shape=(X_train_split.shape[1],))\n",
        "x = Dense(128, activation='relu', kernel_regularizer=l2(0.01))(input_layer)\n",
        "x = Dropout(0.5)(x)\n",
        "x = BatchNormalization()(x)\n",
        "x = Dense(64, activation='relu', kernel_regularizer=l2(0.01))(x)\n",
        "x = Dropout(0.5)(x)\n",
        "x = BatchNormalization()(x)\n",
        "x = Dense(32, activation='relu', kernel_regularizer=l2(0.01))(x)\n",
        "\n",
        "# Two separate output layers:\n",
        "output_adhd = Dense(1, activation='sigmoid', name='adhd_output')(x)\n",
        "output_sex  = Dense(1, activation='sigmoid', name='sex_output')(x)\n",
        "\n",
        "model = Model(inputs=input_layer, outputs=[output_adhd, output_sex])\n",
        "\n",
        "# Compile the model.\n",
        "model.compile(optimizer=tf.keras.optimizers.Adam(learning_rate=0.0005),\n",
        "              loss='binary_crossentropy',\n",
        "              metrics={'adhd_output': 'accuracy', 'sex_output': 'accuracy'})\n",
        "\n",
        "\n",
        "# Set up early stopping.\n",
        "early_stopping = EarlyStopping(monitor='val_loss', patience=10, restore_best_weights=True)\n",
        "\n",
        "# --- Train the model ---\n",
        "history = model.fit(\n",
        "    X_train_split,\n",
        "    {'adhd_output': y_train_adhd_split, 'sex_output': y_train_sex_split},\n",
        "    epochs=100,\n",
        "    batch_size=32,\n",
        "    validation_data=(X_val_split, {'adhd_output': y_val_adhd_split, 'sex_output': y_val_sex_split}),\n",
        "    callbacks=[early_stopping]\n",
        ")\n",
        "\n",
        "# --- Evaluate the model ---\n",
        "results = model.evaluate(X_val_split, {'adhd_output': y_val_adhd_split, 'sex_output': y_val_sex_split})\n",
        "print(\"Evaluation Results:\", results)\n",
        "\n",
        "# --- Make predictions on the validation set ---\n",
        "predictions = model.predict(X_val_split)   # (243, 2)\n",
        "# predictions is a list: predictions[0] for ADHD_Outcome, predictions[1] for Sex_F.\n",
        "y_val_pred_adhd = (predictions[0] > 0.5).astype(int).flatten()\n",
        "y_val_pred_sex  = (predictions[1] > 0.5).astype(int).flatten()\n",
        "\n",
        "# --- Compute the weighted F1 score ---\n",
        "final_f1, f1_adhd, f1_sex = compute_weighted_f1(y_val_adhd_split, y_val_pred_adhd, y_val_sex_split, y_val_pred_sex)\n",
        "\n",
        "print(f\"ADHD F1 Score (weighted): {f1_adhd:.4f}\")\n",
        "print(f\"Sex_F F1 Score: {f1_sex:.4f}\")\n",
        "print(f\"Final Weighted F1 Score: {final_f1:.4f}\")\n",
        "\n"
      ],
      "metadata": {
        "id": "aJiAMMR9-2E5",
        "collapsed": true,
        "colab": {
          "base_uri": "https://localhost:8080/"
        },
        "outputId": "7512fd1e-fc17-4d6f-bfc1-36bba41161a3"
      },
      "execution_count": 103,
      "outputs": [
        {
          "output_type": "stream",
          "name": "stdout",
          "text": [
            "Epoch 1/100\n",
            "\u001b[1m31/31\u001b[0m \u001b[32m━━━━━━━━━━━━━━━━━━━━\u001b[0m\u001b[37m\u001b[0m \u001b[1m6s\u001b[0m 58ms/step - adhd_output_accuracy: 0.5184 - adhd_output_loss: 0.8033 - loss: 5.3989 - sex_output_accuracy: 0.5542 - sex_output_loss: 0.7599 - val_adhd_output_accuracy: 0.5185 - val_adhd_output_loss: 0.8187 - val_loss: 5.3238 - val_sex_output_accuracy: 0.5597 - val_sex_output_loss: 0.6812\n",
            "Epoch 2/100\n",
            "\u001b[1m31/31\u001b[0m \u001b[32m━━━━━━━━━━━━━━━━━━━━\u001b[0m\u001b[37m\u001b[0m \u001b[1m1s\u001b[0m 44ms/step - adhd_output_accuracy: 0.5888 - adhd_output_loss: 0.6764 - loss: 5.1399 - sex_output_accuracy: 0.6064 - sex_output_loss: 0.6916 - val_adhd_output_accuracy: 0.5802 - val_adhd_output_loss: 0.6725 - val_loss: 4.9448 - val_sex_output_accuracy: 0.5761 - val_sex_output_loss: 0.6708\n",
            "Epoch 3/100\n",
            "\u001b[1m31/31\u001b[0m \u001b[32m━━━━━━━━━━━━━━━━━━━━\u001b[0m\u001b[37m\u001b[0m \u001b[1m3s\u001b[0m 44ms/step - adhd_output_accuracy: 0.6069 - adhd_output_loss: 0.6659 - loss: 4.8704 - sex_output_accuracy: 0.6212 - sex_output_loss: 0.6676 - val_adhd_output_accuracy: 0.6337 - val_adhd_output_loss: 0.6460 - val_loss: 4.6345 - val_sex_output_accuracy: 0.6461 - val_sex_output_loss: 0.6514\n",
            "Epoch 4/100\n",
            "\u001b[1m31/31\u001b[0m \u001b[32m━━━━━━━━━━━━━━━━━━━━\u001b[0m\u001b[37m\u001b[0m \u001b[1m3s\u001b[0m 44ms/step - adhd_output_accuracy: 0.6541 - adhd_output_loss: 0.6205 - loss: 4.5606 - sex_output_accuracy: 0.6207 - sex_output_loss: 0.6634 - val_adhd_output_accuracy: 0.6955 - val_adhd_output_loss: 0.6240 - val_loss: 4.3612 - val_sex_output_accuracy: 0.6255 - val_sex_output_loss: 0.6462\n",
            "Epoch 5/100\n",
            "\u001b[1m31/31\u001b[0m \u001b[32m━━━━━━━━━━━━━━━━━━━━\u001b[0m\u001b[37m\u001b[0m \u001b[1m2s\u001b[0m 64ms/step - adhd_output_accuracy: 0.6873 - adhd_output_loss: 0.6056 - loss: 4.2959 - sex_output_accuracy: 0.6416 - sex_output_loss: 0.6639 - val_adhd_output_accuracy: 0.7243 - val_adhd_output_loss: 0.6076 - val_loss: 4.0988 - val_sex_output_accuracy: 0.6708 - val_sex_output_loss: 0.6449\n",
            "Epoch 6/100\n",
            "\u001b[1m31/31\u001b[0m \u001b[32m━━━━━━━━━━━━━━━━━━━━\u001b[0m\u001b[37m\u001b[0m \u001b[1m2s\u001b[0m 67ms/step - adhd_output_accuracy: 0.6607 - adhd_output_loss: 0.6237 - loss: 4.0302 - sex_output_accuracy: 0.6704 - sex_output_loss: 0.6187 - val_adhd_output_accuracy: 0.7202 - val_adhd_output_loss: 0.6107 - val_loss: 3.8704 - val_sex_output_accuracy: 0.6543 - val_sex_output_loss: 0.6409\n",
            "Epoch 7/100\n",
            "\u001b[1m31/31\u001b[0m \u001b[32m━━━━━━━━━━━━━━━━━━━━\u001b[0m\u001b[37m\u001b[0m \u001b[1m2s\u001b[0m 43ms/step - adhd_output_accuracy: 0.6920 - adhd_output_loss: 0.6034 - loss: 3.7802 - sex_output_accuracy: 0.6613 - sex_output_loss: 0.6111 - val_adhd_output_accuracy: 0.7119 - val_adhd_output_loss: 0.6052 - val_loss: 3.6581 - val_sex_output_accuracy: 0.6296 - val_sex_output_loss: 0.6403\n",
            "Epoch 8/100\n",
            "\u001b[1m31/31\u001b[0m \u001b[32m━━━━━━━━━━━━━━━━━━━━\u001b[0m\u001b[37m\u001b[0m \u001b[1m2s\u001b[0m 41ms/step - adhd_output_accuracy: 0.7062 - adhd_output_loss: 0.5751 - loss: 3.5428 - sex_output_accuracy: 0.6817 - sex_output_loss: 0.6024 - val_adhd_output_accuracy: 0.7078 - val_adhd_output_loss: 0.6016 - val_loss: 3.4798 - val_sex_output_accuracy: 0.6337 - val_sex_output_loss: 0.6469\n",
            "Epoch 9/100\n",
            "\u001b[1m31/31\u001b[0m \u001b[32m━━━━━━━━━━━━━━━━━━━━\u001b[0m\u001b[37m\u001b[0m \u001b[1m1s\u001b[0m 42ms/step - adhd_output_accuracy: 0.6872 - adhd_output_loss: 0.5665 - loss: 3.3450 - sex_output_accuracy: 0.6731 - sex_output_loss: 0.5902 - val_adhd_output_accuracy: 0.7037 - val_adhd_output_loss: 0.6052 - val_loss: 3.3276 - val_sex_output_accuracy: 0.6337 - val_sex_output_loss: 0.6487\n",
            "Epoch 10/100\n",
            "\u001b[1m31/31\u001b[0m \u001b[32m━━━━━━━━━━━━━━━━━━━━\u001b[0m\u001b[37m\u001b[0m \u001b[1m3s\u001b[0m 45ms/step - adhd_output_accuracy: 0.7391 - adhd_output_loss: 0.5425 - loss: 3.1706 - sex_output_accuracy: 0.6924 - sex_output_loss: 0.5917 - val_adhd_output_accuracy: 0.7037 - val_adhd_output_loss: 0.6058 - val_loss: 3.1827 - val_sex_output_accuracy: 0.6502 - val_sex_output_loss: 0.6440\n",
            "Epoch 11/100\n",
            "\u001b[1m31/31\u001b[0m \u001b[32m━━━━━━━━━━━━━━━━━━━━\u001b[0m\u001b[37m\u001b[0m \u001b[1m1s\u001b[0m 41ms/step - adhd_output_accuracy: 0.7496 - adhd_output_loss: 0.5165 - loss: 2.9834 - sex_output_accuracy: 0.7203 - sex_output_loss: 0.5564 - val_adhd_output_accuracy: 0.7037 - val_adhd_output_loss: 0.6087 - val_loss: 3.1066 - val_sex_output_accuracy: 0.6420 - val_sex_output_loss: 0.6587\n",
            "Epoch 12/100\n",
            "\u001b[1m31/31\u001b[0m \u001b[32m━━━━━━━━━━━━━━━━━━━━\u001b[0m\u001b[37m\u001b[0m \u001b[1m3s\u001b[0m 63ms/step - adhd_output_accuracy: 0.7494 - adhd_output_loss: 0.5152 - loss: 2.8932 - sex_output_accuracy: 0.7057 - sex_output_loss: 0.5691 - val_adhd_output_accuracy: 0.6955 - val_adhd_output_loss: 0.6140 - val_loss: 2.9996 - val_sex_output_accuracy: 0.6749 - val_sex_output_loss: 0.6537\n",
            "Epoch 13/100\n",
            "\u001b[1m31/31\u001b[0m \u001b[32m━━━━━━━━━━━━━━━━━━━━\u001b[0m\u001b[37m\u001b[0m \u001b[1m2s\u001b[0m 53ms/step - adhd_output_accuracy: 0.7698 - adhd_output_loss: 0.4747 - loss: 2.7362 - sex_output_accuracy: 0.7207 - sex_output_loss: 0.5546 - val_adhd_output_accuracy: 0.7160 - val_adhd_output_loss: 0.6131 - val_loss: 2.9047 - val_sex_output_accuracy: 0.6626 - val_sex_output_loss: 0.6574\n",
            "Epoch 14/100\n",
            "\u001b[1m31/31\u001b[0m \u001b[32m━━━━━━━━━━━━━━━━━━━━\u001b[0m\u001b[37m\u001b[0m \u001b[1m2s\u001b[0m 43ms/step - adhd_output_accuracy: 0.7873 - adhd_output_loss: 0.4725 - loss: 2.5957 - sex_output_accuracy: 0.7578 - sex_output_loss: 0.5118 - val_adhd_output_accuracy: 0.7078 - val_adhd_output_loss: 0.6192 - val_loss: 2.8639 - val_sex_output_accuracy: 0.6461 - val_sex_output_loss: 0.6847\n",
            "Epoch 15/100\n",
            "\u001b[1m31/31\u001b[0m \u001b[32m━━━━━━━━━━━━━━━━━━━━\u001b[0m\u001b[37m\u001b[0m \u001b[1m3s\u001b[0m 42ms/step - adhd_output_accuracy: 0.7945 - adhd_output_loss: 0.4534 - loss: 2.5264 - sex_output_accuracy: 0.7660 - sex_output_loss: 0.5032 - val_adhd_output_accuracy: 0.7037 - val_adhd_output_loss: 0.6330 - val_loss: 2.8918 - val_sex_output_accuracy: 0.6502 - val_sex_output_loss: 0.6844\n",
            "Epoch 16/100\n",
            "\u001b[1m31/31\u001b[0m \u001b[32m━━━━━━━━━━━━━━━━━━━━\u001b[0m\u001b[37m\u001b[0m \u001b[1m1s\u001b[0m 43ms/step - adhd_output_accuracy: 0.7955 - adhd_output_loss: 0.4515 - loss: 2.4965 - sex_output_accuracy: 0.7726 - sex_output_loss: 0.4822 - val_adhd_output_accuracy: 0.7160 - val_adhd_output_loss: 0.6227 - val_loss: 2.8228 - val_sex_output_accuracy: 0.6296 - val_sex_output_loss: 0.6867\n",
            "Epoch 17/100\n",
            "\u001b[1m31/31\u001b[0m \u001b[32m━━━━━━━━━━━━━━━━━━━━\u001b[0m\u001b[37m\u001b[0m \u001b[1m2s\u001b[0m 42ms/step - adhd_output_accuracy: 0.7996 - adhd_output_loss: 0.4362 - loss: 2.4197 - sex_output_accuracy: 0.7689 - sex_output_loss: 0.4785 - val_adhd_output_accuracy: 0.6955 - val_adhd_output_loss: 0.6369 - val_loss: 2.7955 - val_sex_output_accuracy: 0.6461 - val_sex_output_loss: 0.6854\n",
            "Epoch 18/100\n",
            "\u001b[1m31/31\u001b[0m \u001b[32m━━━━━━━━━━━━━━━━━━━━\u001b[0m\u001b[37m\u001b[0m \u001b[1m3s\u001b[0m 62ms/step - adhd_output_accuracy: 0.8113 - adhd_output_loss: 0.4164 - loss: 2.3236 - sex_output_accuracy: 0.8023 - sex_output_loss: 0.4447 - val_adhd_output_accuracy: 0.6996 - val_adhd_output_loss: 0.6569 - val_loss: 2.7560 - val_sex_output_accuracy: 0.6502 - val_sex_output_loss: 0.6721\n",
            "Epoch 19/100\n",
            "\u001b[1m31/31\u001b[0m \u001b[32m━━━━━━━━━━━━━━━━━━━━\u001b[0m\u001b[37m\u001b[0m \u001b[1m2s\u001b[0m 44ms/step - adhd_output_accuracy: 0.8252 - adhd_output_loss: 0.3955 - loss: 2.2657 - sex_output_accuracy: 0.7792 - sex_output_loss: 0.4434 - val_adhd_output_accuracy: 0.6996 - val_adhd_output_loss: 0.6374 - val_loss: 2.7384 - val_sex_output_accuracy: 0.6461 - val_sex_output_loss: 0.6974\n",
            "Epoch 20/100\n",
            "\u001b[1m31/31\u001b[0m \u001b[32m━━━━━━━━━━━━━━━━━━━━\u001b[0m\u001b[37m\u001b[0m \u001b[1m3s\u001b[0m 44ms/step - adhd_output_accuracy: 0.8442 - adhd_output_loss: 0.3696 - loss: 2.1793 - sex_output_accuracy: 0.8227 - sex_output_loss: 0.4122 - val_adhd_output_accuracy: 0.6914 - val_adhd_output_loss: 0.6164 - val_loss: 2.6612 - val_sex_output_accuracy: 0.6667 - val_sex_output_loss: 0.6783\n",
            "Epoch 21/100\n",
            "\u001b[1m31/31\u001b[0m \u001b[32m━━━━━━━━━━━━━━━━━━━━\u001b[0m\u001b[37m\u001b[0m \u001b[1m3s\u001b[0m 44ms/step - adhd_output_accuracy: 0.8586 - adhd_output_loss: 0.3385 - loss: 2.0822 - sex_output_accuracy: 0.8409 - sex_output_loss: 0.3790 - val_adhd_output_accuracy: 0.7037 - val_adhd_output_loss: 0.6469 - val_loss: 2.7125 - val_sex_output_accuracy: 0.6296 - val_sex_output_loss: 0.7201\n",
            "Epoch 22/100\n",
            "\u001b[1m31/31\u001b[0m \u001b[32m━━━━━━━━━━━━━━━━━━━━\u001b[0m\u001b[37m\u001b[0m \u001b[1m1s\u001b[0m 41ms/step - adhd_output_accuracy: 0.8665 - adhd_output_loss: 0.3321 - loss: 2.0440 - sex_output_accuracy: 0.8507 - sex_output_loss: 0.3588 - val_adhd_output_accuracy: 0.6996 - val_adhd_output_loss: 0.6528 - val_loss: 2.7565 - val_sex_output_accuracy: 0.5885 - val_sex_output_loss: 0.7371\n",
            "Epoch 23/100\n",
            "\u001b[1m31/31\u001b[0m \u001b[32m━━━━━━━━━━━━━━━━━━━━\u001b[0m\u001b[37m\u001b[0m \u001b[1m1s\u001b[0m 42ms/step - adhd_output_accuracy: 0.8496 - adhd_output_loss: 0.3470 - loss: 2.1519 - sex_output_accuracy: 0.8233 - sex_output_loss: 0.3987 - val_adhd_output_accuracy: 0.6996 - val_adhd_output_loss: 0.6661 - val_loss: 2.8645 - val_sex_output_accuracy: 0.6255 - val_sex_output_loss: 0.7240\n",
            "Epoch 24/100\n",
            "\u001b[1m31/31\u001b[0m \u001b[32m━━━━━━━━━━━━━━━━━━━━\u001b[0m\u001b[37m\u001b[0m \u001b[1m2s\u001b[0m 51ms/step - adhd_output_accuracy: 0.8723 - adhd_output_loss: 0.3050 - loss: 2.1478 - sex_output_accuracy: 0.8523 - sex_output_loss: 0.3688 - val_adhd_output_accuracy: 0.6831 - val_adhd_output_loss: 0.6981 - val_loss: 2.8873 - val_sex_output_accuracy: 0.6461 - val_sex_output_loss: 0.7260\n",
            "Epoch 25/100\n",
            "\u001b[1m31/31\u001b[0m \u001b[32m━━━━━━━━━━━━━━━━━━━━\u001b[0m\u001b[37m\u001b[0m \u001b[1m2s\u001b[0m 61ms/step - adhd_output_accuracy: 0.8522 - adhd_output_loss: 0.3432 - loss: 2.1807 - sex_output_accuracy: 0.8643 - sex_output_loss: 0.3350 - val_adhd_output_accuracy: 0.6914 - val_adhd_output_loss: 0.6914 - val_loss: 3.0462 - val_sex_output_accuracy: 0.5885 - val_sex_output_loss: 0.7937\n",
            "Epoch 26/100\n",
            "\u001b[1m31/31\u001b[0m \u001b[32m━━━━━━━━━━━━━━━━━━━━\u001b[0m\u001b[37m\u001b[0m \u001b[1m2s\u001b[0m 46ms/step - adhd_output_accuracy: 0.8606 - adhd_output_loss: 0.3456 - loss: 2.3197 - sex_output_accuracy: 0.8014 - sex_output_loss: 0.4120 - val_adhd_output_accuracy: 0.6831 - val_adhd_output_loss: 0.7396 - val_loss: 3.0406 - val_sex_output_accuracy: 0.5967 - val_sex_output_loss: 0.7533\n",
            "Epoch 27/100\n",
            "\u001b[1m31/31\u001b[0m \u001b[32m━━━━━━━━━━━━━━━━━━━━\u001b[0m\u001b[37m\u001b[0m \u001b[1m2s\u001b[0m 44ms/step - adhd_output_accuracy: 0.8720 - adhd_output_loss: 0.3188 - loss: 2.1837 - sex_output_accuracy: 0.8618 - sex_output_loss: 0.3341 - val_adhd_output_accuracy: 0.6790 - val_adhd_output_loss: 0.6962 - val_loss: 2.9411 - val_sex_output_accuracy: 0.6132 - val_sex_output_loss: 0.7538\n",
            "Epoch 28/100\n",
            "\u001b[1m31/31\u001b[0m \u001b[32m━━━━━━━━━━━━━━━━━━━━\u001b[0m\u001b[37m\u001b[0m \u001b[1m1s\u001b[0m 42ms/step - adhd_output_accuracy: 0.8985 - adhd_output_loss: 0.2667 - loss: 2.0650 - sex_output_accuracy: 0.8617 - sex_output_loss: 0.3316 - val_adhd_output_accuracy: 0.6955 - val_adhd_output_loss: 0.7260 - val_loss: 2.9368 - val_sex_output_accuracy: 0.6379 - val_sex_output_loss: 0.7837\n",
            "Epoch 29/100\n",
            "\u001b[1m31/31\u001b[0m \u001b[32m━━━━━━━━━━━━━━━━━━━━\u001b[0m\u001b[37m\u001b[0m \u001b[1m1s\u001b[0m 42ms/step - adhd_output_accuracy: 0.8608 - adhd_output_loss: 0.3161 - loss: 2.0380 - sex_output_accuracy: 0.8949 - sex_output_loss: 0.3019 - val_adhd_output_accuracy: 0.7202 - val_adhd_output_loss: 0.7278 - val_loss: 2.8896 - val_sex_output_accuracy: 0.6255 - val_sex_output_loss: 0.7629\n",
            "Epoch 30/100\n",
            "\u001b[1m31/31\u001b[0m \u001b[32m━━━━━━━━━━━━━━━━━━━━\u001b[0m\u001b[37m\u001b[0m \u001b[1m1s\u001b[0m 44ms/step - adhd_output_accuracy: 0.9051 - adhd_output_loss: 0.2487 - loss: 1.9698 - sex_output_accuracy: 0.8575 - sex_output_loss: 0.3180 - val_adhd_output_accuracy: 0.7078 - val_adhd_output_loss: 0.7220 - val_loss: 2.9592 - val_sex_output_accuracy: 0.6091 - val_sex_output_loss: 0.8390\n",
            "\u001b[1m8/8\u001b[0m \u001b[32m━━━━━━━━━━━━━━━━━━━━\u001b[0m\u001b[37m\u001b[0m \u001b[1m0s\u001b[0m 13ms/step - adhd_output_accuracy: 0.7264 - adhd_output_loss: 0.5735 - loss: 2.6008 - sex_output_accuracy: 0.6809 - sex_output_loss: 0.6590\n",
            "Evaluation Results: [2.6611924171447754, 0.6164149045944214, 0.6783443689346313, 0.6913580298423767, 0.6666666865348816]\n"
          ]
        },
        {
          "output_type": "stream",
          "name": "stderr",
          "text": [
            "WARNING:tensorflow:5 out of the last 17 calls to <function TensorFlowTrainer.make_predict_function.<locals>.one_step_on_data_distributed at 0x791433cd3a60> triggered tf.function retracing. Tracing is expensive and the excessive number of tracings could be due to (1) creating @tf.function repeatedly in a loop, (2) passing tensors with different shapes, (3) passing Python objects instead of tensors. For (1), please define your @tf.function outside of the loop. For (2), @tf.function has reduce_retracing=True option that can avoid unnecessary retracing. For (3), please refer to https://www.tensorflow.org/guide/function#controlling_retracing and https://www.tensorflow.org/api_docs/python/tf/function for  more details.\n"
          ]
        },
        {
          "output_type": "stream",
          "name": "stdout",
          "text": [
            "\u001b[1m8/8\u001b[0m \u001b[32m━━━━━━━━━━━━━━━━━━━━\u001b[0m\u001b[37m\u001b[0m \u001b[1m0s\u001b[0m 21ms/step\n",
            "ADHD F1 Score (weighted): 0.8388\n",
            "Sex_F F1 Score: 0.3077\n",
            "Final Weighted F1 Score: 0.5733\n"
          ]
        }
      ]
    },
    {
      "cell_type": "code",
      "source": [
        "# prompt: save model\n",
        "\n",
        "model.save('/content/drive/My Drive/widsdatathon2025/Work/Models/neural_network_full_data.keras')\n"
      ],
      "metadata": {
        "id": "aWmbMpn6n-b7"
      },
      "execution_count": 104,
      "outputs": []
    },
    {
      "cell_type": "code",
      "source": [
        "# prompt: save probability predictions to csv\n",
        "\n",
        "import pandas as pd\n",
        "# Make predictions on the test set\n",
        "test_predictions = model.predict(scaler.transform(combined_test_metadata_imputed))\n",
        "\n",
        "# Create a DataFrame for the predictions     # (304, 3)\n",
        "predictions_df = pd.DataFrame({\n",
        "    'participant_id': test_patient_ids,\n",
        "    'ADHD_Outcome_Probability': test_predictions[0].flatten(),\n",
        "    'Sex_F_Probability': test_predictions[1].flatten()\n",
        "})\n",
        "\n",
        "predictions_df\n",
        "# Save the predictions to a CSV file\n",
        "predictions_df.to_csv('/content/drive/My Drive/widsdatathon2025/Work/Prediction/nn_orig_data.csv', index=False)\n"
      ],
      "metadata": {
        "id": "v4itjDO-s3mI",
        "outputId": "e48ae0f9-c132-40e2-aeb1-b82b1bf21e9c",
        "colab": {
          "base_uri": "https://localhost:8080/"
        }
      },
      "execution_count": 105,
      "outputs": [
        {
          "output_type": "stream",
          "name": "stdout",
          "text": [
            "\u001b[1m10/10\u001b[0m \u001b[32m━━━━━━━━━━━━━━━━━━━━\u001b[0m\u001b[37m\u001b[0m \u001b[1m0s\u001b[0m 7ms/step \n"
          ]
        }
      ]
    },
    {
      "cell_type": "markdown",
      "source": [
        "# Threshold Tuning"
      ],
      "metadata": {
        "id": "rqyP44sK_Axz"
      }
    },
    {
      "cell_type": "code",
      "source": [
        "# For ADHD:\n",
        "#    y_val_adhd_prob: predicted probabilities from the model for ADHD_Outcome (shape: (n_samples,))\n",
        "#    y_val_adhd: true ADHD_Outcome labels (0 or 1)\n",
        "# For Sex_F:\n",
        "#    y_val_sex_prob: predicted probabilities from the model for Sex_F (shape: (n_samples,))\n",
        "#    y_val_sex: true Sex_F labels (0 or 1)\n",
        "\n",
        "y_val_adhd_prob = predictions[0].flatten()\n",
        "y_val_sex_prob  = predictions[1].flatten()\n",
        "\n",
        "# --- Define the function to compute weighted F1 score ---\n",
        "def compute_weighted_f1(y_true_adhd, y_pred_adhd, y_true_sex, y_pred_sex):\n",
        "    \"\"\"\n",
        "    Compute the final weighted F1 score.\n",
        "    Female ADHD cases (where ADHD_Outcome==1 and Sex_F==1) are given 2x weight.\n",
        "    Returns:\n",
        "       final_f1: the average of the weighted ADHD F1 and the Sex_F F1.\n",
        "       f1_adhd: F1 score for ADHD_Outcome using sample weights.\n",
        "       f1_sex:  F1 score for Sex_F (unweighted).\n",
        "    \"\"\"\n",
        "    weights = np.ones_like(y_true_adhd, dtype=float)\n",
        "    weights[(y_true_adhd == 1) & (y_true_sex == 1)] = 2.0\n",
        "    f1_adhd = f1_score(y_true_adhd, y_pred_adhd, sample_weight=weights)\n",
        "    f1_sex = f1_score(y_true_sex, y_pred_sex)\n",
        "    final_f1 = (f1_adhd + f1_sex) / 2.0\n",
        "    return final_f1, f1_adhd, f1_sex\n",
        "\n",
        "# --- Define a range of thresholds to test ---\n",
        "thresholds = np.linspace(0.08, 1, 93)  # from 0.00 to 1.00 in steps of 0.01\n",
        "#thresholds = np.linspace(0.1, 0.99, 90)\n",
        "\n",
        "best_final_f1 = 0.0\n",
        "best_thr_adhd = 0.0\n",
        "best_thr_sex  = 0.0\n",
        "best_f1_adhd = 0.0\n",
        "best_f1_sex  = 0.0\n",
        "\n",
        "# --- Perform a 2D threshold sweep ---\n",
        "for thr_a in thresholds:\n",
        "    for thr_s in thresholds:\n",
        "        y_pred_adhd = (y_val_adhd_prob > thr_a).astype(int)\n",
        "        y_pred_sex  = (y_val_sex_prob > thr_s).astype(int)\n",
        "        final_f1, f1_adhd, f1_sex = compute_weighted_f1(y_val_adhd_split, y_pred_adhd, y_val_sex_split, y_pred_sex)\n",
        "        if final_f1 > best_final_f1:\n",
        "            best_final_f1 = final_f1\n",
        "            best_thr_adhd = thr_a\n",
        "            best_thr_sex  = thr_s\n",
        "            best_f1_adhd = f1_adhd\n",
        "            best_f1_sex  = f1_sex\n",
        "\n",
        "print(f\"Best ADHD Threshold: {best_thr_adhd:.2f} with F1: {best_f1_adhd:.4f}\")\n",
        "print(f\"Best Sex_F Threshold: {best_thr_sex:.2f} with F1: {best_f1_sex:.4f}\")\n",
        "print(f\"Best Final Weighted F1: {best_final_f1:.4f}\")\n",
        "\n",
        "\n",
        "\n",
        "# Best ADHD Threshold: 0.08 with F1: 0.8728\n",
        "# Best Sex_F Threshold: 0.08 with F1: 0.4595\n",
        "# Best Final Weighted F1: 0.6662"
      ],
      "metadata": {
        "id": "4StHMFS5_BM5",
        "colab": {
          "base_uri": "https://localhost:8080/"
        },
        "outputId": "b27f1ae3-6edd-46da-e6aa-41a2dfeff0db"
      },
      "execution_count": 111,
      "outputs": [
        {
          "output_type": "stream",
          "name": "stdout",
          "text": [
            "Best ADHD Threshold: 0.08 with F1: 0.8728\n",
            "Best Sex_F Threshold: 0.08 with F1: 0.4595\n",
            "Best Final Weighted F1: 0.6662\n"
          ]
        }
      ]
    },
    {
      "cell_type": "code",
      "source": [
        "\n",
        "# ----------------------------\n",
        "# 1. Prepare Test Features\n",
        "# ----------------------------\n",
        "# test_features was constructed as follows:\n",
        "# - combined_test_data and test_matrix_data were merged to form a matrix.\n",
        "# - \"NA\" values were replaced with np.nan.\n",
        "# - The first column (patient IDs) was separated.\n",
        "# - Missing values were imputed (e.g., using KNN imputation).\n",
        "#\n",
        "# In your code, you ended with:\n",
        "# combined_test_metadata_imputed = imputer_test_metadata.fit_transform(test_features_no_id)\n",
        "# and then:\n",
        "# test_features = np.hstack([test_patient_ids.reshape(-1, 1), test_features_no_id])\n",
        "#\n",
        "# For prediction, we want to use the imputed features that match the training data.\n",
        "# Apply the same StandardScaler (fitted on the training data) to the test features.\n",
        "final_test_features = scaler.transform(combined_test_metadata_imputed)  # Shape: (n_test_samples, n_features)\n",
        "\n",
        "# ----------------------------\n",
        "# 2. Make Predictions on Test Data\n",
        "# ----------------------------\n",
        "# Using the multi-output model, predictions will be a list of arrays:\n",
        "#   test_predictions[0] corresponds to ADHD_Outcome probabilities.\n",
        "#   test_predictions[1] corresponds to Sex_F probabilities.\n",
        "test_predictions = model.predict(final_test_features)\n",
        "\n",
        "# Flatten the predictions (if needed) so they are 1D arrays:\n",
        "adhd_probs = test_predictions[0].flatten()\n",
        "sex_probs  = test_predictions[1].flatten()\n",
        "\n",
        "# ----------------------------\n",
        "# 3. Apply Optimal Thresholds\n",
        "# ----------------------------\n",
        "# Use the optimal thresholds found from threshold tuning.\n",
        "# (For example, these variables should have been computed during your threshold tuning process.)\n",
        "test_pred_adhd = (adhd_probs > best_thr_adhd).astype(int)\n",
        "test_pred_sex  = (sex_probs > best_thr_sex).astype(int)\n",
        "\n",
        "# ----------------------------\n",
        "# 4. Create the Submission DataFrame\n",
        "# ----------------------------\n",
        "# Ensure that test_patient_ids is a 1D array containing the IDs.\n",
        "submission_df = pd.DataFrame({\n",
        "    'participant_id': test_patient_ids.flatten(),  # Use your test IDs\n",
        "    'ADHD_Outcome': test_pred_adhd,\n",
        "    'Sex_F': test_pred_sex\n",
        "})\n",
        "\n",
        "# ----------------------------\n",
        "# 5. Save to CSV\n",
        "# ----------------------------\n",
        "submission_df.to_csv('/content/drive/My Drive/widsdatathon2025/Work/Submission/submission_orig_data.csv', index=False)\n",
        "print(\"Submission file saved as submission.csv\")\n"
      ],
      "metadata": {
        "colab": {
          "base_uri": "https://localhost:8080/"
        },
        "id": "N2zn_aMmxpZQ",
        "outputId": "75bbd42c-ee3e-44ec-c23c-4300d3598142"
      },
      "execution_count": 112,
      "outputs": [
        {
          "output_type": "stream",
          "name": "stdout",
          "text": [
            "\u001b[1m10/10\u001b[0m \u001b[32m━━━━━━━━━━━━━━━━━━━━\u001b[0m\u001b[37m\u001b[0m \u001b[1m0s\u001b[0m 11ms/step\n",
            "Submission file saved as submission.csv\n"
          ]
        }
      ]
    },
    {
      "cell_type": "markdown",
      "source": [
        "# Threshold Tuning Graph"
      ],
      "metadata": {
        "id": "k9vBUnn6_ICy"
      }
    },
    {
      "cell_type": "code",
      "source": [
        "# prompt: generate a threshold tuning graph for ADHD and Sex_F\n",
        "\n",
        "import numpy as np\n",
        "from sklearn.metrics import f1_score\n",
        "import matplotlib.pyplot as plt\n",
        "\n",
        "# Assuming y_val_adhd_prob, y_val_sex_prob, y_val_adhd_split, and y_val_sex_split are defined as in your code.\n",
        "\n",
        "# Function to compute the weighted F1 score (same as before)\n",
        "def compute_weighted_f1(y_true_adhd, y_pred_adhd, y_true_sex, y_pred_sex):\n",
        "    weights = np.ones_like(y_true_adhd, dtype=float)\n",
        "    weights[(y_true_adhd == 1) & (y_true_sex == 1)] = 2.0\n",
        "    f1_adhd = f1_score(y_true_adhd, y_pred_adhd, sample_weight=weights)\n",
        "    f1_sex = f1_score(y_true_sex, y_pred_sex)\n",
        "    final_f1 = (f1_adhd + f1_sex) / 2.0\n",
        "    return final_f1, f1_adhd, f1_sex\n",
        "\n",
        "\n",
        "thresholds = np.linspace(0, 1, 101)\n",
        "f1_scores_adhd = []\n",
        "f1_scores_sex = []\n",
        "\n",
        "for threshold in thresholds:\n",
        "    y_pred_adhd = (y_val_adhd_prob > threshold).astype(int)\n",
        "    y_pred_sex = (y_val_sex_prob > threshold).astype(int)\n",
        "    _, f1_adhd, f1_sex = compute_weighted_f1(y_val_adhd_split, y_pred_adhd, y_val_sex_split, y_pred_sex)\n",
        "    f1_scores_adhd.append(f1_adhd)\n",
        "    f1_scores_sex.append(f1_sex)\n",
        "\n",
        "# Plotting the threshold tuning graph\n",
        "plt.figure(figsize=(10, 6))\n",
        "plt.plot(thresholds, f1_scores_adhd, label='ADHD F1 Score')\n",
        "plt.plot(thresholds, f1_scores_sex, label='Sex_F F1 Score')\n",
        "plt.xlabel('Threshold')\n",
        "plt.ylabel('F1 Score')\n",
        "plt.title('Threshold Tuning Graph for ADHD and Sex_F')\n",
        "plt.legend()\n",
        "plt.grid(True)\n",
        "plt.show()\n"
      ],
      "metadata": {
        "id": "uANRbZqC_KHQ",
        "collapsed": true,
        "colab": {
          "base_uri": "https://localhost:8080/",
          "height": 564
        },
        "outputId": "b1331e64-1172-454d-b676-a3cad23108ec"
      },
      "execution_count": 107,
      "outputs": [
        {
          "output_type": "display_data",
          "data": {
            "text/plain": [
              "<Figure size 1000x600 with 1 Axes>"
            ],
            "image/png": "[encoded data removed]"
          },
          "metadata": {}
        }
      ]
    },
    {
      "cell_type": "markdown",
      "source": [
        "# Two Model Data Processing: Test metadata + fmri with no or few missing values"
      ],
      "metadata": {
        "id": "YYe6ynNZsi1Q"
      }
    },
    {
      "cell_type": "code",
      "source": [
        "# prompt: Access data from google drive\n",
        "from google.colab import drive\n",
        "drive.mount('/content/drive')\n",
        "\n",
        "# Import train categorical data (1213, 10)\n",
        "train_cat = pd.read_excel(\"drive/My Drive/widsdatathon2025/TRAIN_NEW/TRAIN_CATEGORICAL_METADATA_new.xlsx\")\n",
        "# train_cat.shape\n",
        "# train_cat.describe()\n",
        "\n",
        "# Import train quantitative data (1213, 19)\n",
        "train_quant = pd.read_excel(\"drive/My Drive/widsdatathon2025/TRAIN_NEW/TRAIN_QUANTITATIVE_METADATA_new.xlsx\")\n",
        "# train_quant.shape\n",
        "# train_quant.describe()\n",
        "\n",
        "# Import solution w outcome data (1213, 3)\n",
        "train_sol = pd.read_excel(\"drive/My Drive/widsdatathon2025/TRAIN_NEW/TRAINING_SOLUTIONS.xlsx\")\n",
        "# train_sol.shape\n",
        "# train_sol.describe()\n",
        "\n",
        "# Merge train datasets on the participant ID\n",
        "combined_train_data = pd.merge(train_cat, train_quant, on='participant_id')    # (1213, 28)\n",
        "train_with_outcome = pd.merge(combined_train_data, train_sol, on='participant_id')  # (1213, 30)\n",
        "\n",
        "# # Extract metadata from combined_train_data (skip the participant ID)\n",
        "# metadata = combined_train_data.iloc[:, 1:].to_numpy()  # shape: (1213, 27)\n",
        "\n",
        "# # Standardize metadata\n",
        "# scaler_meta = StandardScaler()\n",
        "# metadata_scaled = scaler_meta.fit_transform(metadata)\n",
        "\n",
        "# Import test categorical data (304, 10)\n",
        "test_cat = pd.read_excel(\"drive/My Drive/widsdatathon2025/TEST/TEST_CATEGORICAL.xlsx\")\n",
        "\n",
        "# Import test quantitative data (304, 19)\n",
        "test_quant = pd.read_excel(\"drive/My Drive/widsdatathon2025/TEST/TEST_QUANTITATIVE_METADATA.xlsx\")\n",
        "\n",
        "# Merge test datasets on the participant ID  (304, 28)\n",
        "combined_test_data = pd.merge(test_cat, test_quant, on='participant_id')\n",
        "test_no_id = combined_test_data.drop(columns=['participant_id'])\n",
        "\n",
        "# Import train MRI data (1213, 19901)\n",
        "train_mri_filepath = \"drive/My Drive/widsdatathon2025/TRAIN_NEW/TRAIN_FUNCTIONAL_CONNECTOME_MATRICES_new_36P_Pearson.csv\"\n",
        "train_mri = pd.read_csv(train_mri_filepath)\n",
        "\n",
        "# Import test MRI data\n",
        "test_mri_filepath = \"drive/My Drive/widsdatathon2025/TEST/TEST_FUNCTIONAL_CONNECTOME_MATRICES.csv\"\n",
        "test_mri = pd.read_csv(test_mri_filepath)\n",
        "\n",
        "# Remove first line, convert csv file to a functional connectome matrix\n",
        "test_matrix_data = test_mri.iloc[:, 1:].to_numpy(dtype=float)  # (304, 19900)\n",
        "\n",
        "# Remove first line, convert csv file to a functional connectome matrix\n",
        "train_matrix_data = train_mri.iloc[:, 1:].to_numpy(dtype=float)\n"
      ],
      "metadata": {
        "colab": {
          "base_uri": "https://localhost:8080/"
        },
        "id": "y70qnoy02Y3T",
        "outputId": "05053944-6d2e-449a-f7aa-9a8a59c5a032"
      },
      "execution_count": 33,
      "outputs": [
        {
          "output_type": "stream",
          "name": "stdout",
          "text": [
            "Drive already mounted at /content/drive; to attempt to forcibly remount, call drive.mount(\"/content/drive\", force_remount=True).\n"
          ]
        }
      ]
    },
    {
      "cell_type": "code",
      "source": [
        "combined_test_data.shape #1st column patient id"
      ],
      "metadata": {
        "collapsed": true,
        "id": "1oYhFij3qnZL",
        "outputId": "42963b28-03d2-4d4b-b08f-9071eaff167e",
        "colab": {
          "base_uri": "https://localhost:8080/"
        }
      },
      "execution_count": 57,
      "outputs": [
        {
          "output_type": "execute_result",
          "data": {
            "text/plain": [
              "(304, 28)"
            ]
          },
          "metadata": {},
          "execution_count": 57
        }
      ]
    },
    {
      "cell_type": "code",
      "source": [
        "combined_test_metadata_imputed.shape"
      ],
      "metadata": {
        "collapsed": true,
        "id": "REzI7ne_qtZW",
        "outputId": "b60140b8-6457-4cd0-ca15-b743a54f53c4",
        "colab": {
          "base_uri": "https://localhost:8080/"
        }
      },
      "execution_count": 58,
      "outputs": [
        {
          "output_type": "execute_result",
          "data": {
            "text/plain": [
              "(304, 19926)"
            ]
          },
          "metadata": {},
          "execution_count": 58
        }
      ]
    },
    {
      "cell_type": "code",
      "source": [
        "test_mri.shape  #1st column patient id"
      ],
      "metadata": {
        "collapsed": true,
        "id": "vH87lOoWrUIX",
        "outputId": "e00dd2dc-7d44-4949-d7a3-a0b923b33ce5",
        "colab": {
          "base_uri": "https://localhost:8080/"
        }
      },
      "execution_count": 59,
      "outputs": [
        {
          "output_type": "execute_result",
          "data": {
            "text/plain": [
              "(304, 19901)"
            ]
          },
          "metadata": {},
          "execution_count": 59
        }
      ]
    },
    {
      "cell_type": "code",
      "source": [
        "all_test = pd.merge(combined_test_data, test_mri, on='participant_id')\n",
        "all_test = all_test.drop(columns=['participant_id'])"
      ],
      "metadata": {
        "id": "YB-TT8yUs1rf"
      },
      "execution_count": 68,
      "outputs": []
    },
    {
      "cell_type": "code",
      "source": [
        "all_test.shape"
      ],
      "metadata": {
        "id": "nj2oF37LtCWK",
        "outputId": "8be895ed-71f5-4dd4-8709-d0c9a0a3cc5c",
        "colab": {
          "base_uri": "https://localhost:8080/"
        }
      },
      "execution_count": 70,
      "outputs": [
        {
          "output_type": "execute_result",
          "data": {
            "text/plain": [
              "(304, 19927)"
            ]
          },
          "metadata": {},
          "execution_count": 70
        }
      ]
    },
    {
      "cell_type": "code",
      "source": [
        "from sklearn.impute import KNNImputer\n",
        "import numpy as np\n",
        "\n",
        "# Calculate the percentage of missing values in each column\n",
        "missing_percentage = combined_test_metadata_imputed.isnull().sum() / len(combined_test_data) * 100\n",
        "\n",
        "missing_percentage\n",
        "\n",
        "# Identify columns with more than a certain percentage threshold of missing values\n",
        "threshold = 10  # meaning 1%\n",
        "columns_to_remove = missing_percentage[missing_percentage > threshold].index\n",
        "\n",
        "# Extract columns with massive missing values\n",
        "test_extracted_columns = combined_test_data[columns_to_remove]         # (304, 2)\n",
        "\n",
        "# Extract columns with no or few missing values\n",
        "test_columns_few_missing = combined_test_data.drop(columns=columns_to_remove)     # (304,26)\n",
        "\n",
        "# Combine columns_few_missing with fmri\n",
        "test_features_few_missing = np.hstack([test_columns_few_missing, test_matrix_data])\n",
        "\n",
        "# Replace \"NA\" with np.nan\n",
        "test_features_few_missing[test_features_few_missing == \"NA\"] = np.nan\n",
        "\n",
        "# Remove Patient ID\n",
        "test_features_few_missing = test_features_few_missing[:, 1:]\n",
        "\n",
        "# Convert the features_few_missing to float\n",
        "test_features_few_missing = test_features_few_missing.astype(float)\n",
        "\n",
        "# Impute missing values with KNN imputation\n",
        "imputer_metadata = KNNImputer(n_neighbors=5)  # Using KNN for imputation instead of mean\n",
        "combined_test_metadata_imputed2 = imputer_metadata.fit_transform(test_features_few_missing)  # (304, 19925)\n"
      ],
      "metadata": {
        "id": "nYg0G-bqsiWQ"
      },
      "execution_count": 85,
      "outputs": []
    },
    {
      "cell_type": "code",
      "source": [
        "# prompt: check if there is patient id column in combined_test_metadata_imputed2\n",
        "\n",
        "if 'participant_id' in test_features_few_missing.columns:\n",
        "  print(\"Column 'participant_id' exists in combined_test_metadata_imputed2.\")\n",
        "else:\n",
        "  print(\"Column 'participant_id' does not exist in combined_test_metadata_imputed2.\")\n"
      ],
      "metadata": {
        "id": "jY0eVfQewrL6",
        "outputId": "63b3a6b2-92a7-42b9-e11b-6fdd2057273c",
        "colab": {
          "base_uri": "https://localhost:8080/",
          "height": 216
        }
      },
      "execution_count": 87,
      "outputs": [
        {
          "output_type": "error",
          "ename": "AttributeError",
          "evalue": "'numpy.ndarray' object has no attribute 'columns'",
          "traceback": [
            "\u001b[0;31m---------------------------------------------------------------------------\u001b[0m",
            "\u001b[0;31mAttributeError\u001b[0m                            Traceback (most recent call last)",
            "\u001b[0;32m<ipython-input-87-99d745b24383>\u001b[0m in \u001b[0;36m<cell line: 0>\u001b[0;34m()\u001b[0m\n\u001b[1;32m      1\u001b[0m \u001b[0;31m# prompt: check if there is patient id column in combined_test_metadata_imputed2\u001b[0m\u001b[0;34m\u001b[0m\u001b[0;34m\u001b[0m\u001b[0m\n\u001b[1;32m      2\u001b[0m \u001b[0;34m\u001b[0m\u001b[0m\n\u001b[0;32m----> 3\u001b[0;31m \u001b[0;32mif\u001b[0m \u001b[0;34m'participant_id'\u001b[0m \u001b[0;32min\u001b[0m \u001b[0mtest_features_few_missing\u001b[0m\u001b[0;34m.\u001b[0m\u001b[0mcolumns\u001b[0m\u001b[0;34m:\u001b[0m\u001b[0;34m\u001b[0m\u001b[0;34m\u001b[0m\u001b[0m\n\u001b[0m\u001b[1;32m      4\u001b[0m   \u001b[0mprint\u001b[0m\u001b[0;34m(\u001b[0m\u001b[0;34m\"Column 'participant_id' exists in combined_test_metadata_imputed2.\"\u001b[0m\u001b[0;34m)\u001b[0m\u001b[0;34m\u001b[0m\u001b[0;34m\u001b[0m\u001b[0m\n\u001b[1;32m      5\u001b[0m \u001b[0;32melse\u001b[0m\u001b[0;34m:\u001b[0m\u001b[0;34m\u001b[0m\u001b[0;34m\u001b[0m\u001b[0m\n",
            "\u001b[0;31mAttributeError\u001b[0m: 'numpy.ndarray' object has no attribute 'columns'"
          ]
        }
      ]
    },
    {
      "cell_type": "code",
      "source": [
        "import pandas as pd\n",
        "import numpy as np\n",
        "\n",
        "# Assuming combined_test_metadata_imputed is a pandas DataFrame\n",
        "combined_test_metadata_imputed_cols = set(combined_test_metadata_imputed.columns)\n",
        "\n",
        "# Get column names for combined_test_metadata_imputed2\n",
        "# Since combined_test_metadata_imputed2 is a NumPy array,\n",
        "# we need to get the columns from the original DataFrame before imputation\n",
        "# This is assuming test_columns_few_missing is the DataFrame before dropping columns with high percentage missing values\n",
        "combined_test_metadata_imputed2_cols = set(test_columns_few_missing.columns[1:]) #Skip the 1st column as it was removed later\n",
        "\n",
        "\n",
        "# Find columns in combined_test_metadata_imputed that are not in combined_test_metadata_imputed2\n",
        "diff_cols = combined_test_metadata_imputed_cols - combined_test_metadata_imputed2_cols\n",
        "\n",
        "# Print the result\n",
        "print(f\"Columns in combined_test_metadata_imputed but not in combined_test_metadata_imputed2:\\n{diff_cols}\")"
      ],
      "metadata": {
        "id": "a9iKl3dSvhgq",
        "outputId": "504fd35d-8658-4b59-d59a-f15a48409f21",
        "colab": {
          "base_uri": "https://localhost:8080/",
          "height": 216
        }
      },
      "execution_count": 77,
      "outputs": [
        {
          "output_type": "error",
          "ename": "AttributeError",
          "evalue": "'numpy.ndarray' object has no attribute 'columns'",
          "traceback": [
            "\u001b[0;31m---------------------------------------------------------------------------\u001b[0m",
            "\u001b[0;31mAttributeError\u001b[0m                            Traceback (most recent call last)",
            "\u001b[0;32m<ipython-input-77-5af1408958bf>\u001b[0m in \u001b[0;36m<cell line: 0>\u001b[0;34m()\u001b[0m\n\u001b[1;32m      3\u001b[0m \u001b[0;34m\u001b[0m\u001b[0m\n\u001b[1;32m      4\u001b[0m \u001b[0;31m# List columns\u001b[0m\u001b[0;34m\u001b[0m\u001b[0;34m\u001b[0m\u001b[0m\n\u001b[0;32m----> 5\u001b[0;31m \u001b[0mall_test_cols\u001b[0m \u001b[0;34m=\u001b[0m \u001b[0mset\u001b[0m\u001b[0;34m(\u001b[0m\u001b[0mcombined_test_metadata_imputed2\u001b[0m\u001b[0;34m.\u001b[0m\u001b[0mcolumns\u001b[0m\u001b[0;34m)\u001b[0m\u001b[0;34m\u001b[0m\u001b[0;34m\u001b[0m\u001b[0m\n\u001b[0m\u001b[1;32m      6\u001b[0m \u001b[0mcombined_cols\u001b[0m \u001b[0;34m=\u001b[0m \u001b[0mset\u001b[0m\u001b[0;34m(\u001b[0m\u001b[0mcombined_test_metadata_imputed\u001b[0m\u001b[0;34m.\u001b[0m\u001b[0mcolumns\u001b[0m\u001b[0;34m)\u001b[0m\u001b[0;34m\u001b[0m\u001b[0;34m\u001b[0m\u001b[0m\n\u001b[1;32m      7\u001b[0m \u001b[0;34m\u001b[0m\u001b[0m\n",
            "\u001b[0;31mAttributeError\u001b[0m: 'numpy.ndarray' object has no attribute 'columns'"
          ]
        }
      ]
    },
    {
      "cell_type": "code",
      "source": [
        "combined_test_metadata_imputed2.shape"
      ],
      "metadata": {
        "id": "DMPhmzY1swur",
        "outputId": "0ec7325a-83e1-40c5-aab6-b06f18c0feca",
        "colab": {
          "base_uri": "https://localhost:8080/"
        }
      },
      "execution_count": 63,
      "outputs": [
        {
          "output_type": "execute_result",
          "data": {
            "text/plain": [
              "(304, 19925)"
            ]
          },
          "metadata": {},
          "execution_count": 63
        }
      ]
    },
    {
      "cell_type": "code",
      "source": [
        "columns_to_remove.shape"
      ],
      "metadata": {
        "id": "cdy8QLeNo9Ls",
        "outputId": "42eab341-9725-43a5-dca1-157d3875cd3d",
        "colab": {
          "base_uri": "https://localhost:8080/"
        }
      },
      "execution_count": 43,
      "outputs": [
        {
          "output_type": "execute_result",
          "data": {
            "text/plain": [
              "(2,)"
            ]
          },
          "metadata": {},
          "execution_count": 43
        }
      ]
    },
    {
      "cell_type": "markdown",
      "source": [
        "# Two Model Data Processing: Train metadata + fmri with no or few missing values"
      ],
      "metadata": {
        "id": "tmnCAgwK6ZOF"
      }
    },
    {
      "cell_type": "code",
      "source": [
        "# Extract columns with massive missing values\n",
        "extracted_columns = combined_train_data[columns_to_remove]         # (1213, 2)\n",
        "\n",
        "# Extract columns with no or few missing values\n",
        "columns_few_missing = combined_train_data.drop(columns=columns_to_remove)     # (1213, 26)\n",
        "\n",
        "# Combine columns_few_missing with fmri\n",
        "features_few_missing = np.hstack([columns_few_missing, train_matrix_data])\n",
        "\n",
        "# Replace \"NA\" with np.nan\n",
        "features_few_missing[features_few_missing == \"NA\"] = np.nan\n",
        "\n",
        "# Remove Patient ID\n",
        "features_few_missing = features_few_missing[:, 1:]\n",
        "\n",
        "# Convert the features_few_missing to float\n",
        "features_few_missing = features_few_missing.astype(float)\n",
        "\n",
        "# Impute missing values with KNN imputation\n",
        "imputer_metadata = KNNImputer(n_neighbors=5)  # Using KNN for imputation instead of mean\n",
        "combined_metadata_imputed2 = imputer_metadata.fit_transform(features_few_missing)  # (1213, 19925)"
      ],
      "metadata": {
        "id": "_zloNlNQ6Yff"
      },
      "execution_count": 15,
      "outputs": []
    },
    {
      "cell_type": "markdown",
      "source": [
        "# Neural Network Model"
      ],
      "metadata": {
        "id": "2OOqf0kd6iYp"
      }
    },
    {
      "cell_type": "code",
      "source": [
        "import tensorflow as tf\n",
        "from tensorflow.keras.models import Model\n",
        "from tensorflow.keras.layers import Input, Dense, Dropout, BatchNormalization\n",
        "from tensorflow.keras.callbacks import EarlyStopping\n",
        "from tensorflow.keras.regularizers import l2\n",
        "from sklearn.model_selection import train_test_split\n",
        "from sklearn.preprocessing import StandardScaler\n",
        "from sklearn.metrics import f1_score\n",
        "import numpy as np\n",
        "\n",
        "# --- Define the function to compute weighted F1 score ---\n",
        "def compute_weighted_f1(y_true_adhd, y_pred_adhd, y_true_sex, y_pred_sex):\n",
        "    \"\"\"\n",
        "    Compute the final weighted F1 score for the competition.\n",
        "    Female ADHD cases (where ADHD_Outcome==1 and Sex_F==1) are given 2x weight.\n",
        "    The final score is the average of the weighted F1 for ADHD_Outcome and the F1 for Sex_F.\n",
        "    \"\"\"\n",
        "    # Create sample weights for ADHD_Outcome: weight=2 for female ADHD cases, else 1.\n",
        "    weights = np.ones_like(y_true_adhd, dtype=float)\n",
        "    weights[(y_true_adhd == 1) & (y_true_sex == 1)] = 2.0\n",
        "\n",
        "    # Calculate weighted F1 for ADHD_Outcome\n",
        "    f1_adhd = f1_score(y_true_adhd, y_pred_adhd, sample_weight=weights)\n",
        "    # Calculate standard F1 for Sex_F\n",
        "    f1_sex = f1_score(y_true_sex, y_pred_sex)\n",
        "\n",
        "    # Final leaderboard score: average of the two F1 scores\n",
        "    final_f1 = (f1_adhd + f1_sex) / 2.0\n",
        "    return final_f1, f1_adhd, f1_sex\n",
        "\n",
        "# --- Prepare the data ---\n",
        "# Use combined_metadata_imputed as input features.\n",
        "X = combined_metadata_imputed2  # (1213, 19925)\n",
        "# Extract targets from train_sol:\n",
        "y_adhd = train_sol['ADHD_Outcome'].values  # Binary labels (0 or 1)\n",
        "y_sex  = train_sol['Sex_F'].values         # Binary labels (0 or 1)\n",
        "\n",
        "# Standardize features.\n",
        "scaler = StandardScaler()\n",
        "X_scaled = scaler.fit_transform(X)\n",
        "\n",
        "# Split into training and validation sets.\n",
        "# Note: We split the labels separately but the splits will be aligned because we use the same X_scaled.\n",
        "X_train_split, X_val_split, y_train_adhd_split, y_val_adhd_split = train_test_split(\n",
        "    X_scaled, y_adhd, test_size=0.2, random_state=42\n",
        ")\n",
        "_, _, y_train_sex_split, y_val_sex_split = train_test_split(\n",
        "    X_scaled, y_sex, test_size=0.2, random_state=42\n",
        ")\n",
        "\n",
        "# --- Build the multi-output neural network model ---\n",
        "input_layer = Input(shape=(X_train_split.shape[1],))\n",
        "x = Dense(128, activation='relu', kernel_regularizer=l2(0.01))(input_layer)\n",
        "x = Dropout(0.5)(x)\n",
        "x = BatchNormalization()(x)\n",
        "x = Dense(64, activation='relu', kernel_regularizer=l2(0.01))(x)\n",
        "x = Dropout(0.5)(x)\n",
        "x = BatchNormalization()(x)\n",
        "x = Dense(32, activation='relu', kernel_regularizer=l2(0.01))(x)\n",
        "\n",
        "# Two separate output layers:\n",
        "output_adhd = Dense(1, activation='sigmoid', name='adhd_output')(x)\n",
        "output_sex  = Dense(1, activation='sigmoid', name='sex_output')(x)\n",
        "\n",
        "model2 = Model(inputs=input_layer, outputs=[output_adhd, output_sex])\n",
        "\n",
        "# Compile the model.\n",
        "model2.compile(optimizer=tf.keras.optimizers.Adam(learning_rate=0.0005),\n",
        "              loss='binary_crossentropy',\n",
        "              metrics={'adhd_output': 'accuracy', 'sex_output': 'accuracy'})\n",
        "\n",
        "\n",
        "# Set up early stopping.\n",
        "early_stopping = EarlyStopping(monitor='val_loss', patience=10, restore_best_weights=True)\n",
        "\n",
        "# --- Train the model ---\n",
        "history = model2.fit(\n",
        "    X_train_split,\n",
        "    {'adhd_output': y_train_adhd_split, 'sex_output': y_train_sex_split},\n",
        "    epochs=100,\n",
        "    batch_size=32,\n",
        "    validation_data=(X_val_split, {'adhd_output': y_val_adhd_split, 'sex_output': y_val_sex_split}),\n",
        "    callbacks=[early_stopping]\n",
        ")\n",
        "\n",
        "# --- Evaluate the model ---\n",
        "results = model2.evaluate(X_val_split, {'adhd_output': y_val_adhd_split, 'sex_output': y_val_sex_split})\n",
        "print(\"Evaluation Results:\", results)\n",
        "\n",
        "# --- Make predictions on the validation set ---\n",
        "predictions2 = model2.predict(X_val_split)       # (243, 2)\n",
        "# predictions is a list: predictions[0] for ADHD_Outcome, predictions[1] for Sex_F.\n",
        "y_val_pred_adhd2 = (predictions2[0] > 0.5).astype(int).flatten()\n",
        "y_val_pred_sex2  = (predictions2[1] > 0.5).astype(int).flatten()\n",
        "\n",
        "# --- Compute the weighted F1 score ---\n",
        "final_f1, f1_adhd, f1_sex = compute_weighted_f1(y_val_adhd_split, y_val_pred_adhd2, y_val_sex_split, y_val_pred_sex2)\n",
        "\n",
        "print(f\"ADHD F1 Score (weighted): {f1_adhd:.4f}\")\n",
        "print(f\"Sex_F F1 Score: {f1_sex:.4f}\")\n",
        "print(f\"Final Weighted F1 Score: {final_f1:.4f}\")\n",
        "\n"
      ],
      "metadata": {
        "collapsed": true,
        "colab": {
          "base_uri": "https://localhost:8080/"
        },
        "id": "g-afr4Mg6h-I",
        "outputId": "a2b5833d-cb07-4ab0-caed-4d9f3604715d"
      },
      "execution_count": 20,
      "outputs": [
        {
          "output_type": "stream",
          "name": "stdout",
          "text": [
            "Epoch 1/100\n",
            "\u001b[1m31/31\u001b[0m \u001b[32m━━━━━━━━━━━━━━━━━━━━\u001b[0m\u001b[37m\u001b[0m \u001b[1m6s\u001b[0m 83ms/step - adhd_output_accuracy: 0.3716 - adhd_output_loss: 0.9709 - loss: 5.5581 - sex_output_accuracy: 0.5737 - sex_output_loss: 0.7472 - val_adhd_output_accuracy: 0.4486 - val_adhd_output_loss: 0.8484 - val_loss: 5.3761 - val_sex_output_accuracy: 0.6049 - val_sex_output_loss: 0.7103\n",
            "Epoch 2/100\n",
            "\u001b[1m31/31\u001b[0m \u001b[32m━━━━━━━━━━━━━━━━━━━━\u001b[0m\u001b[37m\u001b[0m \u001b[1m4s\u001b[0m 44ms/step - adhd_output_accuracy: 0.4943 - adhd_output_loss: 0.7687 - loss: 5.2310 - sex_output_accuracy: 0.6120 - sex_output_loss: 0.6909 - val_adhd_output_accuracy: 0.5514 - val_adhd_output_loss: 0.6848 - val_loss: 4.9647 - val_sex_output_accuracy: 0.6214 - val_sex_output_loss: 0.6756\n",
            "Epoch 3/100\n",
            "\u001b[1m31/31\u001b[0m \u001b[32m━━━━━━━━━━━━━━━━━━━━\u001b[0m\u001b[37m\u001b[0m \u001b[1m3s\u001b[0m 45ms/step - adhd_output_accuracy: 0.5902 - adhd_output_loss: 0.6899 - loss: 4.9067 - sex_output_accuracy: 0.6204 - sex_output_loss: 0.6811 - val_adhd_output_accuracy: 0.6831 - val_adhd_output_loss: 0.6317 - val_loss: 4.6446 - val_sex_output_accuracy: 0.6132 - val_sex_output_loss: 0.6831\n",
            "Epoch 4/100\n",
            "\u001b[1m31/31\u001b[0m \u001b[32m━━━━━━━━━━━━━━━━━━━━\u001b[0m\u001b[37m\u001b[0m \u001b[1m2s\u001b[0m 43ms/step - adhd_output_accuracy: 0.5963 - adhd_output_loss: 0.6989 - loss: 4.6204 - sex_output_accuracy: 0.6353 - sex_output_loss: 0.6584 - val_adhd_output_accuracy: 0.6790 - val_adhd_output_loss: 0.6355 - val_loss: 4.3664 - val_sex_output_accuracy: 0.6379 - val_sex_output_loss: 0.6677\n",
            "Epoch 5/100\n",
            "\u001b[1m31/31\u001b[0m \u001b[32m━━━━━━━━━━━━━━━━━━━━\u001b[0m\u001b[37m\u001b[0m \u001b[1m2s\u001b[0m 55ms/step - adhd_output_accuracy: 0.6337 - adhd_output_loss: 0.6478 - loss: 4.3080 - sex_output_accuracy: 0.6347 - sex_output_loss: 0.6599 - val_adhd_output_accuracy: 0.6996 - val_adhd_output_loss: 0.6268 - val_loss: 4.1059 - val_sex_output_accuracy: 0.6379 - val_sex_output_loss: 0.6704\n",
            "Epoch 6/100\n",
            "\u001b[1m31/31\u001b[0m \u001b[32m━━━━━━━━━━━━━━━━━━━━\u001b[0m\u001b[37m\u001b[0m \u001b[1m2s\u001b[0m 66ms/step - adhd_output_accuracy: 0.7099 - adhd_output_loss: 0.5708 - loss: 3.9675 - sex_output_accuracy: 0.6490 - sex_output_loss: 0.6457 - val_adhd_output_accuracy: 0.7037 - val_adhd_output_loss: 0.6210 - val_loss: 3.8537 - val_sex_output_accuracy: 0.6667 - val_sex_output_loss: 0.6612\n",
            "Epoch 7/100\n",
            "\u001b[1m31/31\u001b[0m \u001b[32m━━━━━━━━━━━━━━━━━━━━\u001b[0m\u001b[37m\u001b[0m \u001b[1m2s\u001b[0m 60ms/step - adhd_output_accuracy: 0.6553 - adhd_output_loss: 0.6210 - loss: 3.7740 - sex_output_accuracy: 0.6639 - sex_output_loss: 0.6276 - val_adhd_output_accuracy: 0.7284 - val_adhd_output_loss: 0.6222 - val_loss: 3.6660 - val_sex_output_accuracy: 0.6502 - val_sex_output_loss: 0.6644\n",
            "Epoch 8/100\n",
            "\u001b[1m31/31\u001b[0m \u001b[32m━━━━━━━━━━━━━━━━━━━━\u001b[0m\u001b[37m\u001b[0m \u001b[1m3s\u001b[0m 67ms/step - adhd_output_accuracy: 0.6841 - adhd_output_loss: 0.5867 - loss: 3.5334 - sex_output_accuracy: 0.6566 - sex_output_loss: 0.6147 - val_adhd_output_accuracy: 0.7119 - val_adhd_output_loss: 0.6197 - val_loss: 3.4832 - val_sex_output_accuracy: 0.6502 - val_sex_output_loss: 0.6756\n",
            "Epoch 9/100\n",
            "\u001b[1m31/31\u001b[0m \u001b[32m━━━━━━━━━━━━━━━━━━━━\u001b[0m\u001b[37m\u001b[0m \u001b[1m2s\u001b[0m 44ms/step - adhd_output_accuracy: 0.7106 - adhd_output_loss: 0.5576 - loss: 3.2963 - sex_output_accuracy: 0.6833 - sex_output_loss: 0.5931 - val_adhd_output_accuracy: 0.7078 - val_adhd_output_loss: 0.6177 - val_loss: 3.3111 - val_sex_output_accuracy: 0.6296 - val_sex_output_loss: 0.6737\n",
            "Epoch 10/100\n",
            "\u001b[1m31/31\u001b[0m \u001b[32m━━━━━━━━━━━━━━━━━━━━\u001b[0m\u001b[37m\u001b[0m \u001b[1m1s\u001b[0m 42ms/step - adhd_output_accuracy: 0.7417 - adhd_output_loss: 0.5203 - loss: 3.0845 - sex_output_accuracy: 0.7026 - sex_output_loss: 0.5774 - val_adhd_output_accuracy: 0.7160 - val_adhd_output_loss: 0.6225 - val_loss: 3.1636 - val_sex_output_accuracy: 0.6461 - val_sex_output_loss: 0.6641\n",
            "Epoch 11/100\n",
            "\u001b[1m31/31\u001b[0m \u001b[32m━━━━━━━━━━━━━━━━━━━━\u001b[0m\u001b[37m\u001b[0m \u001b[1m1s\u001b[0m 44ms/step - adhd_output_accuracy: 0.7611 - adhd_output_loss: 0.5032 - loss: 2.9211 - sex_output_accuracy: 0.6949 - sex_output_loss: 0.5666 - val_adhd_output_accuracy: 0.7160 - val_adhd_output_loss: 0.6204 - val_loss: 3.0481 - val_sex_output_accuracy: 0.6214 - val_sex_output_loss: 0.6651\n",
            "Epoch 12/100\n",
            "\u001b[1m31/31\u001b[0m \u001b[32m━━━━━━━━━━━━━━━━━━━━\u001b[0m\u001b[37m\u001b[0m \u001b[1m2s\u001b[0m 49ms/step - adhd_output_accuracy: 0.7545 - adhd_output_loss: 0.4967 - loss: 2.7982 - sex_output_accuracy: 0.7092 - sex_output_loss: 0.5638 - val_adhd_output_accuracy: 0.7284 - val_adhd_output_loss: 0.6266 - val_loss: 2.9493 - val_sex_output_accuracy: 0.5967 - val_sex_output_loss: 0.6719\n",
            "Epoch 13/100\n",
            "\u001b[1m31/31\u001b[0m \u001b[32m━━━━━━━━━━━━━━━━━━━━\u001b[0m\u001b[37m\u001b[0m \u001b[1m2s\u001b[0m 70ms/step - adhd_output_accuracy: 0.7460 - adhd_output_loss: 0.5148 - loss: 2.7330 - sex_output_accuracy: 0.7062 - sex_output_loss: 0.5808 - val_adhd_output_accuracy: 0.7366 - val_adhd_output_loss: 0.6261 - val_loss: 2.8741 - val_sex_output_accuracy: 0.5926 - val_sex_output_loss: 0.6763\n",
            "Epoch 14/100\n",
            "\u001b[1m31/31\u001b[0m \u001b[32m━━━━━━━━━━━━━━━━━━━━\u001b[0m\u001b[37m\u001b[0m \u001b[1m2s\u001b[0m 58ms/step - adhd_output_accuracy: 0.7507 - adhd_output_loss: 0.4938 - loss: 2.6069 - sex_output_accuracy: 0.7101 - sex_output_loss: 0.5541 - val_adhd_output_accuracy: 0.7202 - val_adhd_output_loss: 0.6209 - val_loss: 2.8090 - val_sex_output_accuracy: 0.6214 - val_sex_output_loss: 0.6726\n",
            "Epoch 15/100\n",
            "\u001b[1m31/31\u001b[0m \u001b[32m━━━━━━━━━━━━━━━━━━━━\u001b[0m\u001b[37m\u001b[0m \u001b[1m1s\u001b[0m 43ms/step - adhd_output_accuracy: 0.8190 - adhd_output_loss: 0.4367 - loss: 2.4532 - sex_output_accuracy: 0.7428 - sex_output_loss: 0.5152 - val_adhd_output_accuracy: 0.7202 - val_adhd_output_loss: 0.6312 - val_loss: 2.7662 - val_sex_output_accuracy: 0.5926 - val_sex_output_loss: 0.6788\n",
            "Epoch 16/100\n",
            "\u001b[1m31/31\u001b[0m \u001b[32m━━━━━━━━━━━━━━━━━━━━\u001b[0m\u001b[37m\u001b[0m \u001b[1m3s\u001b[0m 47ms/step - adhd_output_accuracy: 0.7892 - adhd_output_loss: 0.4437 - loss: 2.3910 - sex_output_accuracy: 0.7586 - sex_output_loss: 0.4982 - val_adhd_output_accuracy: 0.6996 - val_adhd_output_loss: 0.6355 - val_loss: 2.7203 - val_sex_output_accuracy: 0.5844 - val_sex_output_loss: 0.6694\n",
            "Epoch 17/100\n",
            "\u001b[1m31/31\u001b[0m \u001b[32m━━━━━━━━━━━━━━━━━━━━\u001b[0m\u001b[37m\u001b[0m \u001b[1m1s\u001b[0m 46ms/step - adhd_output_accuracy: 0.7810 - adhd_output_loss: 0.4382 - loss: 2.3290 - sex_output_accuracy: 0.7612 - sex_output_loss: 0.4819 - val_adhd_output_accuracy: 0.6996 - val_adhd_output_loss: 0.6524 - val_loss: 2.7284 - val_sex_output_accuracy: 0.5967 - val_sex_output_loss: 0.6975\n",
            "Epoch 18/100\n",
            "\u001b[1m31/31\u001b[0m \u001b[32m━━━━━━━━━━━━━━━━━━━━\u001b[0m\u001b[37m\u001b[0m \u001b[1m1s\u001b[0m 43ms/step - adhd_output_accuracy: 0.7966 - adhd_output_loss: 0.4284 - loss: 2.2825 - sex_output_accuracy: 0.7769 - sex_output_loss: 0.4781 - val_adhd_output_accuracy: 0.6790 - val_adhd_output_loss: 0.6427 - val_loss: 2.6891 - val_sex_output_accuracy: 0.5638 - val_sex_output_loss: 0.7019\n",
            "Epoch 19/100\n",
            "\u001b[1m31/31\u001b[0m \u001b[32m━━━━━━━━━━━━━━━━━━━━\u001b[0m\u001b[37m\u001b[0m \u001b[1m3s\u001b[0m 42ms/step - adhd_output_accuracy: 0.8500 - adhd_output_loss: 0.3844 - loss: 2.2280 - sex_output_accuracy: 0.7590 - sex_output_loss: 0.4957 - val_adhd_output_accuracy: 0.6831 - val_adhd_output_loss: 0.6688 - val_loss: 2.7117 - val_sex_output_accuracy: 0.5720 - val_sex_output_loss: 0.7223\n",
            "Epoch 20/100\n",
            "\u001b[1m31/31\u001b[0m \u001b[32m━━━━━━━━━━━━━━━━━━━━\u001b[0m\u001b[37m\u001b[0m \u001b[1m3s\u001b[0m 68ms/step - adhd_output_accuracy: 0.8236 - adhd_output_loss: 0.3755 - loss: 2.1613 - sex_output_accuracy: 0.7624 - sex_output_loss: 0.4742 - val_adhd_output_accuracy: 0.6749 - val_adhd_output_loss: 0.6815 - val_loss: 2.6993 - val_sex_output_accuracy: 0.5885 - val_sex_output_loss: 0.7260\n",
            "Epoch 21/100\n",
            "\u001b[1m31/31\u001b[0m \u001b[32m━━━━━━━━━━━━━━━━━━━━\u001b[0m\u001b[37m\u001b[0m \u001b[1m1s\u001b[0m 43ms/step - adhd_output_accuracy: 0.8449 - adhd_output_loss: 0.3647 - loss: 2.0896 - sex_output_accuracy: 0.8141 - sex_output_loss: 0.4271 - val_adhd_output_accuracy: 0.6626 - val_adhd_output_loss: 0.7036 - val_loss: 2.7065 - val_sex_output_accuracy: 0.5926 - val_sex_output_loss: 0.7116\n",
            "Epoch 22/100\n",
            "\u001b[1m31/31\u001b[0m \u001b[32m━━━━━━━━━━━━━━━━━━━━\u001b[0m\u001b[37m\u001b[0m \u001b[1m3s\u001b[0m 43ms/step - adhd_output_accuracy: 0.8397 - adhd_output_loss: 0.3600 - loss: 2.0722 - sex_output_accuracy: 0.8094 - sex_output_loss: 0.4187 - val_adhd_output_accuracy: 0.6708 - val_adhd_output_loss: 0.7332 - val_loss: 2.7577 - val_sex_output_accuracy: 0.5597 - val_sex_output_loss: 0.7587\n",
            "Epoch 23/100\n",
            "\u001b[1m31/31\u001b[0m \u001b[32m━━━━━━━━━━━━━━━━━━━━\u001b[0m\u001b[37m\u001b[0m \u001b[1m3s\u001b[0m 42ms/step - adhd_output_accuracy: 0.8537 - adhd_output_loss: 0.3481 - loss: 2.0469 - sex_output_accuracy: 0.7873 - sex_output_loss: 0.4259 - val_adhd_output_accuracy: 0.6667 - val_adhd_output_loss: 0.7075 - val_loss: 2.7299 - val_sex_output_accuracy: 0.5432 - val_sex_output_loss: 0.7621\n",
            "Epoch 24/100\n",
            "\u001b[1m31/31\u001b[0m \u001b[32m━━━━━━━━━━━━━━━━━━━━\u001b[0m\u001b[37m\u001b[0m \u001b[1m3s\u001b[0m 42ms/step - adhd_output_accuracy: 0.8491 - adhd_output_loss: 0.3458 - loss: 2.0076 - sex_output_accuracy: 0.8192 - sex_output_loss: 0.3876 - val_adhd_output_accuracy: 0.6667 - val_adhd_output_loss: 0.7165 - val_loss: 2.7155 - val_sex_output_accuracy: 0.5802 - val_sex_output_loss: 0.7305\n",
            "Epoch 25/100\n",
            "\u001b[1m31/31\u001b[0m \u001b[32m━━━━━━━━━━━━━━━━━━━━\u001b[0m\u001b[37m\u001b[0m \u001b[1m3s\u001b[0m 65ms/step - adhd_output_accuracy: 0.8698 - adhd_output_loss: 0.3306 - loss: 1.9911 - sex_output_accuracy: 0.8336 - sex_output_loss: 0.3937 - val_adhd_output_accuracy: 0.6584 - val_adhd_output_loss: 0.7354 - val_loss: 2.7641 - val_sex_output_accuracy: 0.5473 - val_sex_output_loss: 0.7845\n",
            "Epoch 26/100\n",
            "\u001b[1m31/31\u001b[0m \u001b[32m━━━━━━━━━━━━━━━━━━━━\u001b[0m\u001b[37m\u001b[0m \u001b[1m2s\u001b[0m 60ms/step - adhd_output_accuracy: 0.8497 - adhd_output_loss: 0.3439 - loss: 1.9715 - sex_output_accuracy: 0.8479 - sex_output_loss: 0.3727 - val_adhd_output_accuracy: 0.6914 - val_adhd_output_loss: 0.7337 - val_loss: 2.8028 - val_sex_output_accuracy: 0.5597 - val_sex_output_loss: 0.8183\n",
            "Epoch 27/100\n",
            "\u001b[1m31/31\u001b[0m \u001b[32m━━━━━━━━━━━━━━━━━━━━\u001b[0m\u001b[37m\u001b[0m \u001b[1m2s\u001b[0m 45ms/step - adhd_output_accuracy: 0.8553 - adhd_output_loss: 0.3297 - loss: 1.9478 - sex_output_accuracy: 0.8333 - sex_output_loss: 0.3573 - val_adhd_output_accuracy: 0.6626 - val_adhd_output_loss: 0.7383 - val_loss: 2.8021 - val_sex_output_accuracy: 0.5309 - val_sex_output_loss: 0.8291\n",
            "Epoch 28/100\n",
            "\u001b[1m31/31\u001b[0m \u001b[32m━━━━━━━━━━━━━━━━━━━━\u001b[0m\u001b[37m\u001b[0m \u001b[1m3s\u001b[0m 45ms/step - adhd_output_accuracy: 0.8693 - adhd_output_loss: 0.3141 - loss: 1.8938 - sex_output_accuracy: 0.8576 - sex_output_loss: 0.3345 - val_adhd_output_accuracy: 0.6626 - val_adhd_output_loss: 0.7600 - val_loss: 2.8199 - val_sex_output_accuracy: 0.5185 - val_sex_output_loss: 0.8520\n",
            "\u001b[1m8/8\u001b[0m \u001b[32m━━━━━━━━━━━━━━━━━━━━\u001b[0m\u001b[37m\u001b[0m \u001b[1m0s\u001b[0m 12ms/step - adhd_output_accuracy: 0.6908 - adhd_output_loss: 0.6106 - loss: 2.6594 - sex_output_accuracy: 0.5484 - sex_output_loss: 0.6972\n",
            "Evaluation Results: [2.689089059829712, 0.6427498459815979, 0.701884388923645, 0.6790123581886292, 0.5637860298156738]\n",
            "\u001b[1m8/8\u001b[0m \u001b[32m━━━━━━━━━━━━━━━━━━━━\u001b[0m\u001b[37m\u001b[0m \u001b[1m0s\u001b[0m 22ms/step\n",
            "ADHD F1 Score (weighted): 0.8225\n",
            "Sex_F F1 Score: 0.3117\n",
            "Final Weighted F1 Score: 0.5671\n"
          ]
        }
      ]
    },
    {
      "cell_type": "code",
      "source": [
        "# prompt: save probability predictions to csv\n",
        "\n",
        "# Make predictions on the test set\n",
        "test_predictions2 = model2.predict(scaler.transform(combined_test_metadata_imputed2))\n",
        "\n",
        "# Create a DataFrame for the predictions     # (304, 3)\n",
        "predictions_df2 = pd.DataFrame({\n",
        "    'participant_id': test_patient_ids,\n",
        "    'ADHD_Outcome_Probability': test_predictions2[0].flatten(),\n",
        "    'Sex_F_Probability': test_predictions2[1].flatten()\n",
        "})\n",
        "\n",
        "predictions_df2\n",
        "# Save the predictions to a CSV file\n",
        "predictions_df2.to_csv('/content/drive/My Drive/widsdatathon2025/Work/Prediction/nn_wo_missing_data.csv', index=False)"
      ],
      "metadata": {
        "collapsed": true,
        "id": "-8BVk3znzPKn",
        "outputId": "4e6421b4-5fd0-4dc6-d732-f732738be4d7",
        "colab": {
          "base_uri": "https://localhost:8080/"
        }
      },
      "execution_count": 21,
      "outputs": [
        {
          "output_type": "stream",
          "name": "stdout",
          "text": [
            "\u001b[1m10/10\u001b[0m \u001b[32m━━━━━━━━━━━━━━━━━━━━\u001b[0m\u001b[37m\u001b[0m \u001b[1m0s\u001b[0m 7ms/step \n"
          ]
        }
      ]
    },
    {
      "cell_type": "code",
      "source": [
        "combined_test_metadata_imputed2.shape"
      ],
      "metadata": {
        "id": "xxiCZklb84Q5",
        "outputId": "6acd6f3e-8936-43d0-9e74-1bd0afbc54a0",
        "colab": {
          "base_uri": "https://localhost:8080/"
        }
      },
      "execution_count": 22,
      "outputs": [
        {
          "output_type": "execute_result",
          "data": {
            "text/plain": [
              "(304, 19925)"
            ]
          },
          "metadata": {},
          "execution_count": 22
        }
      ]
    },
    {
      "cell_type": "code",
      "source": [
        "combined_test_metadata_imputed.shape"
      ],
      "metadata": {
        "id": "h0xkRp2j81Dp",
        "outputId": "f6653332-d686-4ec8-a2e2-f4d14ed14eed",
        "colab": {
          "base_uri": "https://localhost:8080/"
        }
      },
      "execution_count": 23,
      "outputs": [
        {
          "output_type": "execute_result",
          "data": {
            "text/plain": [
              "(304, 19926)"
            ]
          },
          "metadata": {},
          "execution_count": 23
        }
      ]
    },
    {
      "cell_type": "markdown",
      "source": [
        "# Model Ensemble\n"
      ],
      "metadata": {
        "id": "SEygbk-45qg5"
      }
    },
    {
      "cell_type": "markdown",
      "source": [
        "# Threshold Tuning"
      ],
      "metadata": {
        "id": "CdvkLrxt8Cug"
      }
    },
    {
      "cell_type": "code",
      "source": [
        "# prompt: ensemble model and model 2 and combine prediction_df and prediction_df2\n",
        "\n",
        "\n",
        "# --- Define the function to compute weighted F1 score ---\n",
        "def compute_weighted_f1(y_true_adhd, y_pred_adhd, y_true_sex, y_pred_sex):\n",
        "    \"\"\"\n",
        "    Compute the final weighted F1 score for the competition.\n",
        "    Female ADHD cases (where ADHD_Outcome==1 and Sex_F==1) are given 2x weight.\n",
        "    The final score is the average of the weighted F1 for ADHD_Outcome and the F1 for Sex_F.\n",
        "    \"\"\"\n",
        "    # Create sample weights for ADHD_Outcome: weight=2 for female ADHD cases, else 1.\n",
        "    weights = np.ones_like(y_true_adhd, dtype=float)\n",
        "    weights[(y_true_adhd == 1) & (y_true_sex == 1)] = 2.0\n",
        "\n",
        "    # Calculate weighted F1 for ADHD_Outcome\n",
        "    f1_adhd = f1_score(y_true_adhd, y_pred_adhd, sample_weight=weights)\n",
        "    # Calculate standard F1 for Sex_F\n",
        "    f1_sex = f1_score(y_true_sex, y_pred_sex)\n",
        "\n",
        "    # Final leaderboard score: average of the two F1 scores\n",
        "    final_f1 = (f1_adhd + f1_sex) / 2.0\n",
        "    return final_f1, f1_adhd, f1_sex\n",
        "# Combine predictions from both models\n",
        "combined_predictions = pd.merge(predictions_df, predictions_df2, on='participant_id', suffixes=('_model1', '_model2'))\n",
        "\n",
        "# Calculate the average of the probabilities from both models\n",
        "combined_predictions['ADHD_Outcome_Probability'] = (combined_predictions['ADHD_Outcome_Probability_model1'] + combined_predictions['ADHD_Outcome_Probability_model2']) / 2\n",
        "combined_predictions['Sex_F_Probability'] = (combined_predictions['Sex_F_Probability_model1'] + combined_predictions['Sex_F_Probability_model2']) / 2\n",
        "\n",
        "# Keep only the necessary columns for submission\n",
        "combined_predictions = combined_predictions[['participant_id', 'ADHD_Outcome_Probability', 'Sex_F_Probability']]\n",
        "\n",
        "# --- Define a range of thresholds to test ---\n",
        "#thresholds = np.linspace(0, 1, 101)  # from 0.00 to 1.00 in steps of 0.01\n",
        "thresholds = np.linspace(0.1, 0.99, 90)\n",
        "\n",
        "y_val_adhd_prob = predictions[0].flatten()\n",
        "y_val_sex_prob  = predictions[1].flatten()\n",
        "\n",
        "best_final_f1 = 0.0\n",
        "best_thr_adhd = 0.0\n",
        "best_thr_sex  = 0.0\n",
        "best_f1_adhd = 0.0\n",
        "best_f1_sex  = 0.0\n",
        "\n",
        "# --- Perform a 2D threshold sweep ---\n",
        "for thr_a in thresholds:\n",
        "    for thr_s in thresholds:\n",
        "        y_pred_adhd = (y_val_adhd_prob > thr_a).astype(int)\n",
        "        y_pred_sex  = (y_val_sex_prob > thr_s).astype(int)\n",
        "        final_f1, f1_adhd, f1_sex = compute_weighted_f1(y_val_adhd_split, y_pred_adhd, y_val_sex_split, y_pred_sex)\n",
        "        if final_f1 > best_final_f1:\n",
        "            best_final_f1 = final_f1\n",
        "            best_thr_adhd = thr_a\n",
        "            best_thr_sex  = thr_s\n",
        "            best_f1_adhd = f1_adhd\n",
        "            best_f1_sex  = f1_sex\n",
        "\n",
        "# Apply the best thresholds\n",
        "combined_predictions['ADHD_Outcome'] = (combined_predictions['ADHD_Outcome_Probability'] > best_thr_adhd).astype(int)\n",
        "combined_predictions['Sex_F'] = (combined_predictions['Sex_F_Probability'] > best_thr_sex).astype(int)\n",
        "\n",
        "\n",
        "print(f\"Best ADHD Threshold: {best_thr_adhd:.2f} with F1: {best_f1_adhd:.4f}\")\n",
        "print(f\"Best Sex_F Threshold: {best_thr_sex:.2f} with F1: {best_f1_sex:.4f}\")\n",
        "print(f\"Best Final Weighted F1: {best_final_f1:.4f}\")\n",
        "\n",
        "\n",
        "# Best ADHD Threshold: 0.10 with F1: 0.8728\n",
        "# Best Sex_F Threshold: 0.14 with F1: 0.4599\n",
        "# Best Final Weighted F1: 0.6663\n",
        "# Leaderboard Submitted score: 0.69607\n"
      ],
      "metadata": {
        "collapsed": true,
        "id": "zdktbG_c06KP",
        "outputId": "f35f42c3-9d54-4316-d2fd-8c2c72b21f50",
        "colab": {
          "base_uri": "https://localhost:8080/"
        }
      },
      "execution_count": null,
      "outputs": [
        {
          "output_type": "stream",
          "name": "stdout",
          "text": [
            "Best ADHD Threshold: 0.10 with F1: 0.8728\n",
            "Best Sex_F Threshold: 0.14 with F1: 0.4599\n",
            "Best Final Weighted F1: 0.6663\n"
          ]
        }
      ]
    },
    {
      "cell_type": "code",
      "source": [
        "# Final submission dataframe\n",
        "combined_predictions_df = combined_predictions[['participant_id', 'ADHD_Outcome_Probability', 'Sex_F_Probability']]\n",
        "\n",
        "combined_predictions_df.to_csv('/content/drive/My Drive/widsdatathon2025/Work/Prediction/ensembled_probabilities.csv', index=False)\n",
        "\n",
        "ensembled_submission = combined_predictions[['participant_id', 'ADHD_Outcome', 'Sex_F']]\n",
        "\n",
        "ensembled_submission.to_csv('/content/drive/My Drive/widsdatathon2025/Work/Submission/two_model_ensembled.csv', index=False)"
      ],
      "metadata": {
        "id": "OT9BkAlx-QYF"
      },
      "execution_count": null,
      "outputs": []
    },
    {
      "cell_type": "code",
      "source": [
        "# prompt: generate combined_prediction feature tuning graph\n",
        "\n",
        "import matplotlib.pyplot as plt\n",
        "import numpy as np\n",
        "# Assuming y_val_adhd_prob, y_val_sex_prob, y_val_adhd_split, and y_val_sex_split are defined as in your code.\n",
        "\n",
        "# Function to compute the weighted F1 score (same as before)\n",
        "def compute_weighted_f1(y_true_adhd, y_pred_adhd, y_true_sex, y_pred_sex):\n",
        "    weights = np.ones_like(y_true_adhd, dtype=float)\n",
        "    weights[(y_true_adhd == 1) & (y_true_sex == 1)] = 2.0\n",
        "    f1_adhd = f1_score(y_true_adhd, y_pred_adhd, sample_weight=weights)\n",
        "    f1_sex = f1_score(y_true_sex, y_pred_sex)\n",
        "    final_f1 = (f1_adhd + f1_sex) / 2.0\n",
        "    return final_f1, f1_adhd, f1_sex\n",
        "\n",
        "thresholds = np.linspace(0, 1, 101)\n",
        "f1_scores_combined = []\n",
        "\n",
        "for threshold in thresholds:\n",
        "    y_pred_adhd = (y_val_adhd_prob > threshold).astype(int)\n",
        "    y_pred_sex = (y_val_sex_prob > threshold).astype(int)\n",
        "    final_f1, _, _ = compute_weighted_f1(y_val_adhd_split, y_pred_adhd, y_val_sex_split, y_pred_sex)\n",
        "    f1_scores_combined.append(final_f1)\n",
        "\n",
        "# Plotting the threshold tuning graph\n",
        "plt.figure(figsize=(10, 6))\n",
        "plt.plot(thresholds, f1_scores_combined, label='Combined F1 Score')\n",
        "plt.xlabel('Threshold')\n",
        "plt.ylabel('F1 Score')\n",
        "plt.title('Threshold Tuning Graph for Combined Prediction')\n",
        "plt.legend()\n",
        "plt.grid(True)\n",
        "plt.show()\n"
      ],
      "metadata": {
        "id": "5bk060hI_75e",
        "outputId": "073ae9ca-375c-4b0e-b65c-35118530fe8e",
        "colab": {
          "base_uri": "https://localhost:8080/",
          "height": 564
        }
      },
      "execution_count": null,
      "outputs": [
        {
          "output_type": "display_data",
          "data": {
            "text/plain": [
              "<Figure size 1000x600 with 1 Axes>"
            ],
            "image/png": "[encoded data removed]"
          },
          "metadata": {}
        }
      ]
    }
  ]
}