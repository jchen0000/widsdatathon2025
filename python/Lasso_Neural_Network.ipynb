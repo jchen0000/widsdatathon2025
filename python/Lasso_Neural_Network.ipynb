{
  "nbformat": 4,
  "nbformat_minor": 0,
  "metadata": {
    "colab": {
      "provenance": [],
      "authorship_tag": "ABX9TyP5OBWAvtr2CjYAL76iS9uN",
      "include_colab_link": true
    },
    "kernelspec": {
      "name": "python3",
      "display_name": "Python 3"
    },
    "language_info": {
      "name": "python"
    }
  },
  "cells": [
    {
      "cell_type": "markdown",
      "metadata": {
        "id": "view-in-github",
        "colab_type": "text"
      },
      "source": [
        "<a href=\"https://colab.research.google.com/github/jchen0000/widsdatathon2025/blob/main/python/Lasso_Neural_Network.ipynb\" target=\"_parent\"><img src=\"https://colab.research.google.com/assets/colab-badge.svg\" alt=\"Open In Colab\"/></a>"
      ]
    },
    {
      "cell_type": "markdown",
      "source": [
        "# Data Import"
      ],
      "metadata": {
        "id": "mY3xblER-9qb"
      }
    },
    {
      "cell_type": "code",
      "execution_count": 21,
      "metadata": {
        "id": "8OgAF8gI-xyc",
        "collapsed": true,
        "colab": {
          "base_uri": "https://localhost:8080/"
        },
        "outputId": "d4e9cf7f-285d-4515-c601-2aed5b3732a5"
      },
      "outputs": [
        {
          "output_type": "stream",
          "name": "stdout",
          "text": [
            "Drive already mounted at /content/drive; to attempt to forcibly remount, call drive.mount(\"/content/drive\", force_remount=True).\n",
            "--2025-04-19 15:48:26--  https://github.com/jchen0000/widsdatathon2025/blob/main/data/train/TRAIN_CATEGORICAL_METADATA_imputed_Jing.xlsx?raw=true\n",
            "Resolving github.com (github.com)... 140.82.116.4\n",
            "Connecting to github.com (github.com)|140.82.116.4|:443... connected.\n",
            "HTTP request sent, awaiting response... 302 Found\n",
            "Location: https://github.com/jchen0000/widsdatathon2025/raw/refs/heads/main/data/train/TRAIN_CATEGORICAL_METADATA_imputed_Jing.xlsx [following]\n",
            "--2025-04-19 15:48:26--  https://github.com/jchen0000/widsdatathon2025/raw/refs/heads/main/data/train/TRAIN_CATEGORICAL_METADATA_imputed_Jing.xlsx\n",
            "Reusing existing connection to github.com:443.\n",
            "HTTP request sent, awaiting response... 302 Found\n",
            "Location: https://raw.githubusercontent.com/jchen0000/widsdatathon2025/refs/heads/main/data/train/TRAIN_CATEGORICAL_METADATA_imputed_Jing.xlsx [following]\n",
            "--2025-04-19 15:48:27--  https://raw.githubusercontent.com/jchen0000/widsdatathon2025/refs/heads/main/data/train/TRAIN_CATEGORICAL_METADATA_imputed_Jing.xlsx\n",
            "Resolving raw.githubusercontent.com (raw.githubusercontent.com)... 185.199.109.133, 185.199.108.133, 185.199.110.133, ...\n",
            "Connecting to raw.githubusercontent.com (raw.githubusercontent.com)|185.199.109.133|:443... connected.\n",
            "HTTP request sent, awaiting response... 200 OK\n",
            "Length: 63570 (62K) [application/octet-stream]\n",
            "Saving to: ‘train_cat2.xlsx’\n",
            "\n",
            "train_cat2.xlsx     100%[===================>]  62.08K  --.-KB/s    in 0.01s   \n",
            "\n",
            "2025-04-19 15:48:27 (4.91 MB/s) - ‘train_cat2.xlsx’ saved [63570/63570]\n",
            "\n",
            "--2025-04-19 15:48:27--  https://github.com/jchen0000/widsdatathon2025/blob/main/data/train/TRAIN_QUANTITATIVE_METADATA_imputed_Jing.xlsx?raw=true\n",
            "Resolving github.com (github.com)... 140.82.116.3\n",
            "Connecting to github.com (github.com)|140.82.116.3|:443... connected.\n",
            "HTTP request sent, awaiting response... 302 Found\n",
            "Location: https://github.com/jchen0000/widsdatathon2025/raw/refs/heads/main/data/train/TRAIN_QUANTITATIVE_METADATA_imputed_Jing.xlsx [following]\n",
            "--2025-04-19 15:48:27--  https://github.com/jchen0000/widsdatathon2025/raw/refs/heads/main/data/train/TRAIN_QUANTITATIVE_METADATA_imputed_Jing.xlsx\n",
            "Reusing existing connection to github.com:443.\n",
            "HTTP request sent, awaiting response... 302 Found\n",
            "Location: https://raw.githubusercontent.com/jchen0000/widsdatathon2025/refs/heads/main/data/train/TRAIN_QUANTITATIVE_METADATA_imputed_Jing.xlsx [following]\n",
            "--2025-04-19 15:48:27--  https://raw.githubusercontent.com/jchen0000/widsdatathon2025/refs/heads/main/data/train/TRAIN_QUANTITATIVE_METADATA_imputed_Jing.xlsx\n",
            "Resolving raw.githubusercontent.com (raw.githubusercontent.com)... 185.199.108.133, 185.199.109.133, 185.199.110.133, ...\n",
            "Connecting to raw.githubusercontent.com (raw.githubusercontent.com)|185.199.108.133|:443... connected.\n",
            "HTTP request sent, awaiting response... 200 OK\n",
            "Length: 114112 (111K) [application/octet-stream]\n",
            "Saving to: ‘train_quant2.xlsx’\n",
            "\n",
            "train_quant2.xlsx   100%[===================>] 111.44K  --.-KB/s    in 0.02s   \n",
            "\n",
            "2025-04-19 15:48:28 (7.11 MB/s) - ‘train_quant2.xlsx’ saved [114112/114112]\n",
            "\n",
            "--2025-04-19 15:48:38--  https://github.com/jchen0000/widsdatathon2025/blob/main/data/train/TEST_CATEGORICAL_METADATA_imputed_Jing_new.xlsx?raw=true\n",
            "Resolving github.com (github.com)... 140.82.116.3\n",
            "Connecting to github.com (github.com)|140.82.116.3|:443... connected.\n",
            "HTTP request sent, awaiting response... 302 Found\n",
            "Location: https://github.com/jchen0000/widsdatathon2025/raw/refs/heads/main/data/train/TEST_CATEGORICAL_METADATA_imputed_Jing_new.xlsx [following]\n",
            "--2025-04-19 15:48:38--  https://github.com/jchen0000/widsdatathon2025/raw/refs/heads/main/data/train/TEST_CATEGORICAL_METADATA_imputed_Jing_new.xlsx\n",
            "Reusing existing connection to github.com:443.\n",
            "HTTP request sent, awaiting response... 302 Found\n",
            "Location: https://raw.githubusercontent.com/jchen0000/widsdatathon2025/refs/heads/main/data/train/TEST_CATEGORICAL_METADATA_imputed_Jing_new.xlsx [following]\n",
            "--2025-04-19 15:48:39--  https://raw.githubusercontent.com/jchen0000/widsdatathon2025/refs/heads/main/data/train/TEST_CATEGORICAL_METADATA_imputed_Jing_new.xlsx\n",
            "Resolving raw.githubusercontent.com (raw.githubusercontent.com)... 185.199.108.133, 185.199.109.133, 185.199.110.133, ...\n",
            "Connecting to raw.githubusercontent.com (raw.githubusercontent.com)|185.199.108.133|:443... connected.\n",
            "HTTP request sent, awaiting response... 200 OK\n",
            "Length: 19446 (19K) [application/octet-stream]\n",
            "Saving to: ‘test_cat2.xlsx’\n",
            "\n",
            "test_cat2.xlsx      100%[===================>]  18.99K  --.-KB/s    in 0s      \n",
            "\n",
            "2025-04-19 15:48:39 (47.9 MB/s) - ‘test_cat2.xlsx’ saved [19446/19446]\n",
            "\n",
            "--2025-04-19 15:48:39--  https://github.com/jchen0000/widsdatathon2025/blob/main/data/train/TEST_QUANTITATIVE_METADATA_imputed_Jing_new.xlsx?raw=true\n",
            "Resolving github.com (github.com)... 140.82.116.4\n",
            "Connecting to github.com (github.com)|140.82.116.4|:443... connected.\n",
            "HTTP request sent, awaiting response... 302 Found\n",
            "Location: https://github.com/jchen0000/widsdatathon2025/raw/refs/heads/main/data/train/TEST_QUANTITATIVE_METADATA_imputed_Jing_new.xlsx [following]\n",
            "--2025-04-19 15:48:39--  https://github.com/jchen0000/widsdatathon2025/raw/refs/heads/main/data/train/TEST_QUANTITATIVE_METADATA_imputed_Jing_new.xlsx\n",
            "Reusing existing connection to github.com:443.\n",
            "HTTP request sent, awaiting response... 302 Found\n",
            "Location: https://raw.githubusercontent.com/jchen0000/widsdatathon2025/refs/heads/main/data/train/TEST_QUANTITATIVE_METADATA_imputed_Jing_new.xlsx [following]\n",
            "--2025-04-19 15:48:39--  https://raw.githubusercontent.com/jchen0000/widsdatathon2025/refs/heads/main/data/train/TEST_QUANTITATIVE_METADATA_imputed_Jing_new.xlsx\n",
            "Resolving raw.githubusercontent.com (raw.githubusercontent.com)... 185.199.108.133, 185.199.109.133, 185.199.110.133, ...\n",
            "Connecting to raw.githubusercontent.com (raw.githubusercontent.com)|185.199.108.133|:443... connected.\n",
            "HTTP request sent, awaiting response... 200 OK\n",
            "Length: 32502 (32K) [application/octet-stream]\n",
            "Saving to: ‘test_quant2.xlsx’\n",
            "\n",
            "test_quant2.xlsx    100%[===================>]  31.74K  --.-KB/s    in 0.006s  \n",
            "\n",
            "2025-04-19 15:48:39 (5.52 MB/s) - ‘test_quant2.xlsx’ saved [32502/32502]\n",
            "\n"
          ]
        }
      ],
      "source": [
        "# prompt: Access data from google drive\n",
        "from google.colab import drive\n",
        "drive.mount('/content/drive')\n",
        "\n",
        "\n",
        "# Import solution w outcome data (1213, 3)\n",
        "train_sol = pd.read_excel(\"drive/My Drive/widsdatathon2025/TRAIN_NEW/TRAINING_SOLUTIONS.xlsx\")\n",
        "\n",
        "# Patient ID\n",
        "patient_id = train_sol.iloc[:, 0]\n",
        "\n",
        "# Import train MRI data (1213, 19901)\n",
        "train_mri_filepath = \"drive/My Drive/widsdatathon2025/TRAIN_NEW/TRAIN_FUNCTIONAL_CONNECTOME_MATRICES_new_36P_Pearson.csv\"\n",
        "train_mri = pd.read_csv(train_mri_filepath)\n",
        "\n",
        "# Remove first line, convert csv file to a functional connectome matrix\n",
        "train_matrix_data = train_mri.iloc[:, 1:].to_numpy(dtype=float)  # (1213, 19900)\n",
        "\n",
        "# Import Train Data\n",
        "!wget \"https://github.com/jchen0000/widsdatathon2025/blob/main/data/train/TRAIN_CATEGORICAL_METADATA_imputed_Jing.xlsx?raw=true\" -O train_cat2.xlsx\n",
        "train_cat2 = pd.read_excel(\"train_cat2.xlsx\")      # (1213, 10)\n",
        "\n",
        "!wget \"https://github.com/jchen0000/widsdatathon2025/blob/main/data/train/TRAIN_QUANTITATIVE_METADATA_imputed_Jing.xlsx?raw=true\" -O train_quant2.xlsx\n",
        "train_quant2 = pd.read_excel(\"train_quant2.xlsx\")  # (1213, 19)\n",
        "\n",
        "# Merge train datasets on the participant ID\n",
        "combined_train_data2 = pd.merge(train_cat2, train_quant2, on='participant_id')\n",
        "train_with_outcome2 = pd.merge(combined_train_data2, train_sol, on='participant_id')  # (1213, 30)\n",
        "\n",
        "# Combine metadata and fMRI into one feature matrix\n",
        "features2 = np.hstack([combined_train_data2, train_matrix_data])\n",
        "\n",
        "# Remove patient ID\n",
        "combined_metadata_imputed = features2[:, 1:]\n",
        "combined_metadata_imputed = combined_metadata_imputed.astype(float)  # (1213, 19927)\n",
        "\n",
        "\n",
        "\n",
        "# Import test MRI data\n",
        "test_mri_filepath = \"drive/My Drive/widsdatathon2025/TEST/TEST_FUNCTIONAL_CONNECTOME_MATRICES.csv\"\n",
        "test_mri = pd.read_csv(test_mri_filepath)\n",
        "\n",
        "# Remove first line, convert csv file to a functional connectome matrix\n",
        "test_matrix_data = test_mri.iloc[:, 1:].to_numpy(dtype=float)  # (304, 19900)\n",
        "\n",
        "# Import test Data\n",
        "!wget \"https://github.com/jchen0000/widsdatathon2025/blob/main/data/train/TEST_CATEGORICAL_METADATA_imputed_Jing_new.xlsx?raw=true\" -O test_cat2.xlsx\n",
        "test_cat2 = pd.read_excel(\"test_cat2.xlsx\")      # (304, 28)\n",
        "\n",
        "!wget \"https://github.com/jchen0000/widsdatathon2025/blob/main/data/train/TEST_QUANTITATIVE_METADATA_imputed_Jing_new.xlsx?raw=true\" -O test_quant2.xlsx\n",
        "test_quant2 = pd.read_excel(\"test_quant2.xlsx\")  # (304, 28)\n",
        "\n",
        "# Merge test datasets on the participant ID\n",
        "combined_test_data2 = pd.merge(test_cat2, test_quant2, on='participant_id')\n",
        "test_no_id2 = combined_test_data2.drop(columns=['participant_id'])\n",
        "\n",
        "test_patient_ids = combined_test_data2['participant_id'].values  # Extract patient IDs using column name\n",
        "\n",
        "# Combine metadata and fMRI into one feature matrix\n",
        "test_features2 = np.hstack([combined_test_data2, test_matrix_data])\n",
        "\n",
        "\n",
        "# Remove patient ID\n",
        "combined_test_metadata_imputed = test_features2[:, 1:]\n",
        "combined_test_metadata_imputed = combined_test_metadata_imputed.astype(float)  # (304, 19927)"
      ]
    },
    {
      "cell_type": "code",
      "source": [
        "import pandas as pd\n",
        "\n",
        "# prompt: Access data from google drive\n",
        "from google.colab import drive\n",
        "drive.mount('/content/drive')\n",
        "\n",
        "# Import solution w outcome data (1213, 3)\n",
        "train_sol = pd.read_excel(\"drive/My Drive/widsdatathon2025/TRAIN_NEW/TRAINING_SOLUTIONS.xlsx\")\n",
        "\n",
        "# Import test data\n",
        "!wget \"https://github.com/jchen0000/widsdatathon2025/blob/main/data/train/TEST_CATEGORICAL_METADATA_imputed_Jing_new.xlsx?raw=true\" -O test_cat2.xlsx\n",
        "test_cat2 = pd.read_excel(\"test_cat2.xlsx\")\n",
        "\n",
        "# Test patient id\n",
        "test_patient_ids = test_cat2['participant_id'].values  # Extract patient IDs using column name\n",
        "\n",
        "# Import standardized lasso data\n",
        "combined_metadata_imputed = pd.read_csv('/content/drive/My Drive/widsdatathon2025/Work/Processed Data/lasso_standardized_train.csv')\n",
        "combined_test_metadata_imputed = pd.read_csv('/content/drive/My Drive/widsdatathon2025/Work/Processed Data/lasso_standardized_test.csv')"
      ],
      "metadata": {
        "collapsed": true,
        "colab": {
          "base_uri": "https://localhost:8080/"
        },
        "id": "6ktkvwmije4j",
        "outputId": "5f6fa355-bf8c-42d0-a0b9-03a8f8860624"
      },
      "execution_count": 1,
      "outputs": [
        {
          "output_type": "stream",
          "name": "stdout",
          "text": [
            "Mounted at /content/drive\n",
            "--2025-04-20 14:54:23--  https://github.com/jchen0000/widsdatathon2025/blob/main/data/train/TEST_CATEGORICAL_METADATA_imputed_Jing_new.xlsx?raw=true\n",
            "Resolving github.com (github.com)... 140.82.116.3\n",
            "Connecting to github.com (github.com)|140.82.116.3|:443... connected.\n",
            "HTTP request sent, awaiting response... 302 Found\n",
            "Location: https://github.com/jchen0000/widsdatathon2025/raw/refs/heads/main/data/train/TEST_CATEGORICAL_METADATA_imputed_Jing_new.xlsx [following]\n",
            "--2025-04-20 14:54:23--  https://github.com/jchen0000/widsdatathon2025/raw/refs/heads/main/data/train/TEST_CATEGORICAL_METADATA_imputed_Jing_new.xlsx\n",
            "Reusing existing connection to github.com:443.\n",
            "HTTP request sent, awaiting response... 302 Found\n",
            "Location: https://raw.githubusercontent.com/jchen0000/widsdatathon2025/refs/heads/main/data/train/TEST_CATEGORICAL_METADATA_imputed_Jing_new.xlsx [following]\n",
            "--2025-04-20 14:54:23--  https://raw.githubusercontent.com/jchen0000/widsdatathon2025/refs/heads/main/data/train/TEST_CATEGORICAL_METADATA_imputed_Jing_new.xlsx\n",
            "Resolving raw.githubusercontent.com (raw.githubusercontent.com)... 185.199.110.133, 185.199.108.133, 185.199.111.133, ...\n",
            "Connecting to raw.githubusercontent.com (raw.githubusercontent.com)|185.199.110.133|:443... connected.\n",
            "HTTP request sent, awaiting response... 200 OK\n",
            "Length: 19446 (19K) [application/octet-stream]\n",
            "Saving to: ‘test_cat2.xlsx’\n",
            "\n",
            "test_cat2.xlsx      100%[===================>]  18.99K  --.-KB/s    in 0.001s  \n",
            "\n",
            "2025-04-20 14:54:23 (34.9 MB/s) - ‘test_cat2.xlsx’ saved [19446/19446]\n",
            "\n"
          ]
        }
      ]
    },
    {
      "cell_type": "markdown",
      "source": [
        "# Neural Network"
      ],
      "metadata": {
        "id": "-9qQWFKh-6or"
      }
    },
    {
      "cell_type": "code",
      "source": [
        "import tensorflow as tf\n",
        "from tensorflow.keras.models import Model\n",
        "from tensorflow.keras.layers import Input, Dense, Dropout, BatchNormalization\n",
        "from tensorflow.keras.callbacks import EarlyStopping\n",
        "from tensorflow.keras.regularizers import l2\n",
        "from sklearn.model_selection import train_test_split\n",
        "from sklearn.preprocessing import StandardScaler\n",
        "from sklearn.metrics import f1_score\n",
        "import numpy as np\n",
        "\n",
        "# --- Define the function to compute weighted F1 score ---\n",
        "def compute_weighted_f1(y_true_adhd, y_pred_adhd, y_true_sex, y_pred_sex):\n",
        "    \"\"\"\n",
        "    Compute the final weighted F1 score for the competition.\n",
        "    Female ADHD cases (where ADHD_Outcome==1 and Sex_F==1) are given 2x weight.\n",
        "    The final score is the average of the weighted F1 for ADHD_Outcome and the F1 for Sex_F.\n",
        "    \"\"\"\n",
        "    # Create sample weights for ADHD_Outcome: weight=2 for female ADHD cases, else 1.\n",
        "    weights = np.ones_like(y_true_adhd, dtype=float)\n",
        "    weights[(y_true_adhd == 1) & (y_true_sex == 1)] = 2.0\n",
        "\n",
        "    # Calculate weighted F1 for ADHD_Outcome\n",
        "    f1_adhd = f1_score(y_true_adhd, y_pred_adhd, sample_weight=weights)\n",
        "    # Calculate standard F1 for Sex_F\n",
        "    f1_sex = f1_score(y_true_sex, y_pred_sex)\n",
        "\n",
        "    # Final leaderboard score: average of the two F1 scores\n",
        "    final_f1 = (f1_adhd + f1_sex) / 2.0\n",
        "    return final_f1, f1_adhd, f1_sex\n",
        "\n",
        "# --- Prepare the data ---\n",
        "# Use combined_metadata_imputed as input features.\n",
        "X = combined_metadata_imputed  # (1213, 19927)\n",
        "# Extract targets from train_sol:\n",
        "y_adhd = train_sol['ADHD_Outcome'].values  # Binary labels (0 or 1)\n",
        "y_sex  = train_sol['Sex_F'].values         # Binary labels (0 or 1)\n",
        "\n",
        "# Standardize features.\n",
        "scaler = StandardScaler()\n",
        "X_scaled = scaler.fit_transform(X)\n",
        "\n",
        "# Split into training and validation sets.\n",
        "# Note: We split the labels separately but the splits will be aligned because we use the same X_scaled.\n",
        "X_train_split, X_val_split, y_train_adhd_split, y_val_adhd_split = train_test_split(\n",
        "    X_scaled, y_adhd, test_size=0.2, random_state=42\n",
        ")\n",
        "_, _, y_train_sex_split, y_val_sex_split = train_test_split(\n",
        "    X_scaled, y_sex, test_size=0.2, random_state=42\n",
        ")\n",
        "\n",
        "# --- Build the multi-output neural network model ---\n",
        "input_layer = Input(shape=(X_train_split.shape[1],))\n",
        "x = Dense(128, activation='relu', kernel_regularizer=l2(0.01))(input_layer)\n",
        "x = Dropout(0.5)(x)\n",
        "x = BatchNormalization()(x)\n",
        "x = Dense(64, activation='relu', kernel_regularizer=l2(0.01))(x)\n",
        "x = Dropout(0.5)(x)\n",
        "x = BatchNormalization()(x)\n",
        "x = Dense(32, activation='relu', kernel_regularizer=l2(0.01))(x)\n",
        "\n",
        "# Two separate output layers:\n",
        "output_adhd = Dense(1, activation='sigmoid', name='adhd_output')(x)\n",
        "output_sex  = Dense(1, activation='sigmoid', name='sex_output')(x)\n",
        "\n",
        "model = Model(inputs=input_layer, outputs=[output_adhd, output_sex])\n",
        "\n",
        "# Compile the model.\n",
        "model.compile(optimizer=tf.keras.optimizers.Adam(learning_rate=0.0005),\n",
        "              loss='binary_crossentropy',\n",
        "              metrics={'adhd_output': 'accuracy', 'sex_output': 'accuracy'})\n",
        "\n",
        "\n",
        "# Set up early stopping.\n",
        "early_stopping = EarlyStopping(monitor='val_loss', patience=10, restore_best_weights=True)\n",
        "\n",
        "# --- Train the model ---\n",
        "history = model.fit(\n",
        "    X_train_split,\n",
        "    {'adhd_output': y_train_adhd_split, 'sex_output': y_train_sex_split},\n",
        "    epochs=100,\n",
        "    batch_size=32,\n",
        "    validation_data=(X_val_split, {'adhd_output': y_val_adhd_split, 'sex_output': y_val_sex_split}),\n",
        "    callbacks=[early_stopping]\n",
        ")\n",
        "\n",
        "# --- Evaluate the model ---\n",
        "results = model.evaluate(X_val_split, {'adhd_output': y_val_adhd_split, 'sex_output': y_val_sex_split})\n",
        "print(\"Evaluation Results:\", results)\n",
        "\n",
        "# --- Make predictions on the validation set ---\n",
        "predictions = model.predict(X_val_split)   # (243, 2)\n",
        "# predictions is a list: predictions[0] for ADHD_Outcome, predictions[1] for Sex_F.\n",
        "y_val_pred_adhd = (predictions[0] > 0.5).astype(int).flatten()\n",
        "y_val_pred_sex  = (predictions[1] > 0.5).astype(int).flatten()\n",
        "\n",
        "# --- Compute the weighted F1 score ---\n",
        "final_f1, f1_adhd, f1_sex = compute_weighted_f1(y_val_adhd_split, y_val_pred_adhd, y_val_sex_split, y_val_pred_sex)\n",
        "\n",
        "print(f\"ADHD F1 Score (weighted): {f1_adhd:.4f}\")\n",
        "print(f\"Sex_F F1 Score: {f1_sex:.4f}\")\n",
        "print(f\"Final Weighted F1 Score: {final_f1:.4f}\")\n",
        "\n"
      ],
      "metadata": {
        "id": "aJiAMMR9-2E5",
        "collapsed": true,
        "colab": {
          "base_uri": "https://localhost:8080/"
        },
        "outputId": "d2774ef8-eb3e-471a-b39d-9a114ab00884"
      },
      "execution_count": 2,
      "outputs": [
        {
          "output_type": "stream",
          "name": "stdout",
          "text": [
            "Epoch 1/100\n",
            "\u001b[1m31/31\u001b[0m \u001b[32m━━━━━━━━━━━━━━━━━━━━\u001b[0m\u001b[37m\u001b[0m \u001b[1m7s\u001b[0m 64ms/step - adhd_output_accuracy: 0.5688 - adhd_output_loss: 0.7487 - loss: 5.4017 - sex_output_accuracy: 0.4717 - sex_output_loss: 0.8179 - val_adhd_output_accuracy: 0.4444 - val_adhd_output_loss: 0.8778 - val_loss: 5.4255 - val_sex_output_accuracy: 0.5638 - val_sex_output_loss: 0.7404\n",
            "Epoch 2/100\n",
            "\u001b[1m31/31\u001b[0m \u001b[32m━━━━━━━━━━━━━━━━━━━━\u001b[0m\u001b[37m\u001b[0m \u001b[1m2s\u001b[0m 47ms/step - adhd_output_accuracy: 0.6317 - adhd_output_loss: 0.6775 - loss: 5.1635 - sex_output_accuracy: 0.5387 - sex_output_loss: 0.7385 - val_adhd_output_accuracy: 0.5432 - val_adhd_output_loss: 0.7168 - val_loss: 4.9342 - val_sex_output_accuracy: 0.6461 - val_sex_output_loss: 0.6493\n",
            "Epoch 3/100\n",
            "\u001b[1m31/31\u001b[0m \u001b[32m━━━━━━━━━━━━━━━━━━━━\u001b[0m\u001b[37m\u001b[0m \u001b[1m2s\u001b[0m 45ms/step - adhd_output_accuracy: 0.6339 - adhd_output_loss: 0.6671 - loss: 4.8701 - sex_output_accuracy: 0.5664 - sex_output_loss: 0.7045 - val_adhd_output_accuracy: 0.6049 - val_adhd_output_loss: 0.6665 - val_loss: 4.6184 - val_sex_output_accuracy: 0.6584 - val_sex_output_loss: 0.6540\n",
            "Epoch 4/100\n",
            "\u001b[1m31/31\u001b[0m \u001b[32m━━━━━━━━━━━━━━━━━━━━\u001b[0m\u001b[37m\u001b[0m \u001b[1m2s\u001b[0m 49ms/step - adhd_output_accuracy: 0.6388 - adhd_output_loss: 0.6372 - loss: 4.5165 - sex_output_accuracy: 0.6182 - sex_output_loss: 0.6541 - val_adhd_output_accuracy: 0.6214 - val_adhd_output_loss: 0.6505 - val_loss: 4.3257 - val_sex_output_accuracy: 0.6667 - val_sex_output_loss: 0.6470\n",
            "Epoch 5/100\n",
            "\u001b[1m31/31\u001b[0m \u001b[32m━━━━━━━━━━━━━━━━━━━━\u001b[0m\u001b[37m\u001b[0m \u001b[1m3s\u001b[0m 66ms/step - adhd_output_accuracy: 0.6885 - adhd_output_loss: 0.6044 - loss: 4.2113 - sex_output_accuracy: 0.6186 - sex_output_loss: 0.6481 - val_adhd_output_accuracy: 0.6584 - val_adhd_output_loss: 0.6347 - val_loss: 4.0415 - val_sex_output_accuracy: 0.6749 - val_sex_output_loss: 0.6352\n",
            "Epoch 6/100\n",
            "\u001b[1m31/31\u001b[0m \u001b[32m━━━━━━━━━━━━━━━━━━━━\u001b[0m\u001b[37m\u001b[0m \u001b[1m1s\u001b[0m 46ms/step - adhd_output_accuracy: 0.6889 - adhd_output_loss: 0.5804 - loss: 3.8862 - sex_output_accuracy: 0.6839 - sex_output_loss: 0.5950 - val_adhd_output_accuracy: 0.6955 - val_adhd_output_loss: 0.6336 - val_loss: 3.8184 - val_sex_output_accuracy: 0.6626 - val_sex_output_loss: 0.6456\n",
            "Epoch 7/100\n",
            "\u001b[1m31/31\u001b[0m \u001b[32m━━━━━━━━━━━━━━━━━━━━\u001b[0m\u001b[37m\u001b[0m \u001b[1m1s\u001b[0m 45ms/step - adhd_output_accuracy: 0.7092 - adhd_output_loss: 0.5741 - loss: 3.7116 - sex_output_accuracy: 0.6365 - sex_output_loss: 0.6406 - val_adhd_output_accuracy: 0.6914 - val_adhd_output_loss: 0.6247 - val_loss: 3.6391 - val_sex_output_accuracy: 0.6420 - val_sex_output_loss: 0.6532\n",
            "Epoch 8/100\n",
            "\u001b[1m31/31\u001b[0m \u001b[32m━━━━━━━━━━━━━━━━━━━━\u001b[0m\u001b[37m\u001b[0m \u001b[1m3s\u001b[0m 47ms/step - adhd_output_accuracy: 0.7324 - adhd_output_loss: 0.5561 - loss: 3.4591 - sex_output_accuracy: 0.6738 - sex_output_loss: 0.5899 - val_adhd_output_accuracy: 0.7284 - val_adhd_output_loss: 0.6099 - val_loss: 3.4378 - val_sex_output_accuracy: 0.6543 - val_sex_output_loss: 0.6498\n",
            "Epoch 9/100\n",
            "\u001b[1m31/31\u001b[0m \u001b[32m━━━━━━━━━━━━━━━━━━━━\u001b[0m\u001b[37m\u001b[0m \u001b[1m3s\u001b[0m 47ms/step - adhd_output_accuracy: 0.7055 - adhd_output_loss: 0.5508 - loss: 3.2893 - sex_output_accuracy: 0.6738 - sex_output_loss: 0.5944 - val_adhd_output_accuracy: 0.7160 - val_adhd_output_loss: 0.6065 - val_loss: 3.2952 - val_sex_output_accuracy: 0.6626 - val_sex_output_loss: 0.6452\n",
            "Epoch 10/100\n",
            "\u001b[1m31/31\u001b[0m \u001b[32m━━━━━━━━━━━━━━━━━━━━\u001b[0m\u001b[37m\u001b[0m \u001b[1m1s\u001b[0m 45ms/step - adhd_output_accuracy: 0.7072 - adhd_output_loss: 0.5435 - loss: 3.1429 - sex_output_accuracy: 0.6873 - sex_output_loss: 0.5807 - val_adhd_output_accuracy: 0.7160 - val_adhd_output_loss: 0.6023 - val_loss: 3.1797 - val_sex_output_accuracy: 0.6790 - val_sex_output_loss: 0.6439\n",
            "Epoch 11/100\n",
            "\u001b[1m31/31\u001b[0m \u001b[32m━━━━━━━━━━━━━━━━━━━━\u001b[0m\u001b[37m\u001b[0m \u001b[1m2s\u001b[0m 57ms/step - adhd_output_accuracy: 0.7269 - adhd_output_loss: 0.5300 - loss: 3.0226 - sex_output_accuracy: 0.6840 - sex_output_loss: 0.5755 - val_adhd_output_accuracy: 0.7202 - val_adhd_output_loss: 0.6044 - val_loss: 3.1078 - val_sex_output_accuracy: 0.6502 - val_sex_output_loss: 0.6521\n",
            "Epoch 12/100\n",
            "\u001b[1m31/31\u001b[0m \u001b[32m━━━━━━━━━━━━━━━━━━━━\u001b[0m\u001b[37m\u001b[0m \u001b[1m2s\u001b[0m 62ms/step - adhd_output_accuracy: 0.7682 - adhd_output_loss: 0.5045 - loss: 2.8822 - sex_output_accuracy: 0.7069 - sex_output_loss: 0.5577 - val_adhd_output_accuracy: 0.7284 - val_adhd_output_loss: 0.6006 - val_loss: 2.9882 - val_sex_output_accuracy: 0.6461 - val_sex_output_loss: 0.6512\n",
            "Epoch 13/100\n",
            "\u001b[1m31/31\u001b[0m \u001b[32m━━━━━━━━━━━━━━━━━━━━\u001b[0m\u001b[37m\u001b[0m \u001b[1m2s\u001b[0m 44ms/step - adhd_output_accuracy: 0.7553 - adhd_output_loss: 0.5047 - loss: 2.8187 - sex_output_accuracy: 0.7095 - sex_output_loss: 0.5673 - val_adhd_output_accuracy: 0.7325 - val_adhd_output_loss: 0.5954 - val_loss: 2.9826 - val_sex_output_accuracy: 0.6708 - val_sex_output_loss: 0.6435\n",
            "Epoch 14/100\n",
            "\u001b[1m31/31\u001b[0m \u001b[32m━━━━━━━━━━━━━━━━━━━━\u001b[0m\u001b[37m\u001b[0m \u001b[1m1s\u001b[0m 46ms/step - adhd_output_accuracy: 0.7735 - adhd_output_loss: 0.4644 - loss: 2.7607 - sex_output_accuracy: 0.6752 - sex_output_loss: 0.5613 - val_adhd_output_accuracy: 0.7284 - val_adhd_output_loss: 0.5981 - val_loss: 2.9350 - val_sex_output_accuracy: 0.6667 - val_sex_output_loss: 0.6523\n",
            "Epoch 15/100\n",
            "\u001b[1m31/31\u001b[0m \u001b[32m━━━━━━━━━━━━━━━━━━━━\u001b[0m\u001b[37m\u001b[0m \u001b[1m1s\u001b[0m 44ms/step - adhd_output_accuracy: 0.7887 - adhd_output_loss: 0.4369 - loss: 2.6314 - sex_output_accuracy: 0.7315 - sex_output_loss: 0.5310 - val_adhd_output_accuracy: 0.7160 - val_adhd_output_loss: 0.6018 - val_loss: 2.8258 - val_sex_output_accuracy: 0.6914 - val_sex_output_loss: 0.6214\n",
            "Epoch 16/100\n",
            "\u001b[1m31/31\u001b[0m \u001b[32m━━━━━━━━━━━━━━━━━━━━\u001b[0m\u001b[37m\u001b[0m \u001b[1m1s\u001b[0m 44ms/step - adhd_output_accuracy: 0.7699 - adhd_output_loss: 0.4551 - loss: 2.5721 - sex_output_accuracy: 0.7300 - sex_output_loss: 0.5309 - val_adhd_output_accuracy: 0.7037 - val_adhd_output_loss: 0.6266 - val_loss: 2.8247 - val_sex_output_accuracy: 0.6379 - val_sex_output_loss: 0.6479\n",
            "Epoch 17/100\n",
            "\u001b[1m31/31\u001b[0m \u001b[32m━━━━━━━━━━━━━━━━━━━━\u001b[0m\u001b[37m\u001b[0m \u001b[1m3s\u001b[0m 44ms/step - adhd_output_accuracy: 0.7953 - adhd_output_loss: 0.4351 - loss: 2.5209 - sex_output_accuracy: 0.7302 - sex_output_loss: 0.5212 - val_adhd_output_accuracy: 0.7366 - val_adhd_output_loss: 0.6053 - val_loss: 2.8538 - val_sex_output_accuracy: 0.6255 - val_sex_output_loss: 0.6772\n",
            "Epoch 18/100\n",
            "\u001b[1m31/31\u001b[0m \u001b[32m━━━━━━━━━━━━━━━━━━━━\u001b[0m\u001b[37m\u001b[0m \u001b[1m3s\u001b[0m 58ms/step - adhd_output_accuracy: 0.8242 - adhd_output_loss: 0.4082 - loss: 2.4727 - sex_output_accuracy: 0.7625 - sex_output_loss: 0.4965 - val_adhd_output_accuracy: 0.7160 - val_adhd_output_loss: 0.5943 - val_loss: 2.8121 - val_sex_output_accuracy: 0.6379 - val_sex_output_loss: 0.6758\n",
            "Epoch 19/100\n",
            "\u001b[1m31/31\u001b[0m \u001b[32m━━━━━━━━━━━━━━━━━━━━\u001b[0m\u001b[37m\u001b[0m \u001b[1m3s\u001b[0m 66ms/step - adhd_output_accuracy: 0.8209 - adhd_output_loss: 0.4024 - loss: 2.3850 - sex_output_accuracy: 0.7855 - sex_output_loss: 0.4602 - val_adhd_output_accuracy: 0.7078 - val_adhd_output_loss: 0.6048 - val_loss: 2.7490 - val_sex_output_accuracy: 0.6296 - val_sex_output_loss: 0.6711\n",
            "Epoch 20/100\n",
            "\u001b[1m31/31\u001b[0m \u001b[32m━━━━━━━━━━━━━━━━━━━━\u001b[0m\u001b[37m\u001b[0m \u001b[1m2s\u001b[0m 45ms/step - adhd_output_accuracy: 0.8788 - adhd_output_loss: 0.3477 - loss: 2.2877 - sex_output_accuracy: 0.7791 - sex_output_loss: 0.4760 - val_adhd_output_accuracy: 0.7284 - val_adhd_output_loss: 0.6066 - val_loss: 2.7314 - val_sex_output_accuracy: 0.6049 - val_sex_output_loss: 0.6945\n",
            "Epoch 21/100\n",
            "\u001b[1m31/31\u001b[0m \u001b[32m━━━━━━━━━━━━━━━━━━━━\u001b[0m\u001b[37m\u001b[0m \u001b[1m1s\u001b[0m 44ms/step - adhd_output_accuracy: 0.8397 - adhd_output_loss: 0.3466 - loss: 2.1907 - sex_output_accuracy: 0.8100 - sex_output_loss: 0.4196 - val_adhd_output_accuracy: 0.7202 - val_adhd_output_loss: 0.6268 - val_loss: 2.7105 - val_sex_output_accuracy: 0.6255 - val_sex_output_loss: 0.6864\n",
            "Epoch 22/100\n",
            "\u001b[1m31/31\u001b[0m \u001b[32m━━━━━━━━━━━━━━━━━━━━\u001b[0m\u001b[37m\u001b[0m \u001b[1m1s\u001b[0m 45ms/step - adhd_output_accuracy: 0.8728 - adhd_output_loss: 0.3314 - loss: 2.1438 - sex_output_accuracy: 0.7952 - sex_output_loss: 0.4166 - val_adhd_output_accuracy: 0.7202 - val_adhd_output_loss: 0.6386 - val_loss: 2.6791 - val_sex_output_accuracy: 0.6420 - val_sex_output_loss: 0.6802\n",
            "Epoch 23/100\n",
            "\u001b[1m31/31\u001b[0m \u001b[32m━━━━━━━━━━━━━━━━━━━━\u001b[0m\u001b[37m\u001b[0m \u001b[1m3s\u001b[0m 51ms/step - adhd_output_accuracy: 0.8670 - adhd_output_loss: 0.3333 - loss: 2.1549 - sex_output_accuracy: 0.7966 - sex_output_loss: 0.4319 - val_adhd_output_accuracy: 0.7160 - val_adhd_output_loss: 0.6594 - val_loss: 2.7949 - val_sex_output_accuracy: 0.5926 - val_sex_output_loss: 0.7162\n",
            "Epoch 24/100\n",
            "\u001b[1m31/31\u001b[0m \u001b[32m━━━━━━━━━━━━━━━━━━━━\u001b[0m\u001b[37m\u001b[0m \u001b[1m2s\u001b[0m 48ms/step - adhd_output_accuracy: 0.8805 - adhd_output_loss: 0.3137 - loss: 2.1415 - sex_output_accuracy: 0.8210 - sex_output_loss: 0.4083 - val_adhd_output_accuracy: 0.7202 - val_adhd_output_loss: 0.6464 - val_loss: 2.7724 - val_sex_output_accuracy: 0.5679 - val_sex_output_loss: 0.7235\n",
            "Epoch 25/100\n",
            "\u001b[1m31/31\u001b[0m \u001b[32m━━━━━━━━━━━━━━━━━━━━\u001b[0m\u001b[37m\u001b[0m \u001b[1m3s\u001b[0m 71ms/step - adhd_output_accuracy: 0.8613 - adhd_output_loss: 0.3174 - loss: 2.1198 - sex_output_accuracy: 0.8084 - sex_output_loss: 0.4031 - val_adhd_output_accuracy: 0.7243 - val_adhd_output_loss: 0.6688 - val_loss: 2.8114 - val_sex_output_accuracy: 0.5802 - val_sex_output_loss: 0.7698\n",
            "Epoch 26/100\n",
            "\u001b[1m31/31\u001b[0m \u001b[32m━━━━━━━━━━━━━━━━━━━━\u001b[0m\u001b[37m\u001b[0m \u001b[1m1s\u001b[0m 46ms/step - adhd_output_accuracy: 0.8616 - adhd_output_loss: 0.3409 - loss: 2.0993 - sex_output_accuracy: 0.8269 - sex_output_loss: 0.3696 - val_adhd_output_accuracy: 0.7160 - val_adhd_output_loss: 0.6453 - val_loss: 2.8107 - val_sex_output_accuracy: 0.5720 - val_sex_output_loss: 0.7698\n",
            "Epoch 27/100\n",
            "\u001b[1m31/31\u001b[0m \u001b[32m━━━━━━━━━━━━━━━━━━━━\u001b[0m\u001b[37m\u001b[0m \u001b[1m3s\u001b[0m 48ms/step - adhd_output_accuracy: 0.8902 - adhd_output_loss: 0.2744 - loss: 2.0364 - sex_output_accuracy: 0.8476 - sex_output_loss: 0.3653 - val_adhd_output_accuracy: 0.6831 - val_adhd_output_loss: 0.6873 - val_loss: 2.8346 - val_sex_output_accuracy: 0.5844 - val_sex_output_loss: 0.7772\n",
            "Epoch 28/100\n",
            "\u001b[1m31/31\u001b[0m \u001b[32m━━━━━━━━━━━━━━━━━━━━\u001b[0m\u001b[37m\u001b[0m \u001b[1m3s\u001b[0m 53ms/step - adhd_output_accuracy: 0.8748 - adhd_output_loss: 0.2984 - loss: 2.0464 - sex_output_accuracy: 0.8385 - sex_output_loss: 0.3712 - val_adhd_output_accuracy: 0.6708 - val_adhd_output_loss: 0.7072 - val_loss: 2.8870 - val_sex_output_accuracy: 0.5679 - val_sex_output_loss: 0.8106\n",
            "Epoch 29/100\n",
            "\u001b[1m31/31\u001b[0m \u001b[32m━━━━━━━━━━━━━━━━━━━━\u001b[0m\u001b[37m\u001b[0m \u001b[1m2s\u001b[0m 45ms/step - adhd_output_accuracy: 0.8953 - adhd_output_loss: 0.2492 - loss: 1.9861 - sex_output_accuracy: 0.8625 - sex_output_loss: 0.3584 - val_adhd_output_accuracy: 0.6708 - val_adhd_output_loss: 0.7203 - val_loss: 2.8989 - val_sex_output_accuracy: 0.5597 - val_sex_output_loss: 0.8067\n",
            "Epoch 30/100\n",
            "\u001b[1m31/31\u001b[0m \u001b[32m━━━━━━━━━━━━━━━━━━━━\u001b[0m\u001b[37m\u001b[0m \u001b[1m2s\u001b[0m 52ms/step - adhd_output_accuracy: 0.8826 - adhd_output_loss: 0.2669 - loss: 1.9780 - sex_output_accuracy: 0.8578 - sex_output_loss: 0.3270 - val_adhd_output_accuracy: 0.6790 - val_adhd_output_loss: 0.7301 - val_loss: 2.8771 - val_sex_output_accuracy: 0.5514 - val_sex_output_loss: 0.7717\n",
            "Epoch 31/100\n",
            "\u001b[1m31/31\u001b[0m \u001b[32m━━━━━━━━━━━━━━━━━━━━\u001b[0m\u001b[37m\u001b[0m \u001b[1m2s\u001b[0m 61ms/step - adhd_output_accuracy: 0.9081 - adhd_output_loss: 0.2534 - loss: 1.9273 - sex_output_accuracy: 0.8646 - sex_output_loss: 0.3072 - val_adhd_output_accuracy: 0.6914 - val_adhd_output_loss: 0.7296 - val_loss: 2.8670 - val_sex_output_accuracy: 0.5638 - val_sex_output_loss: 0.8063\n",
            "Epoch 32/100\n",
            "\u001b[1m31/31\u001b[0m \u001b[32m━━━━━━━━━━━━━━━━━━━━\u001b[0m\u001b[37m\u001b[0m \u001b[1m2s\u001b[0m 48ms/step - adhd_output_accuracy: 0.9003 - adhd_output_loss: 0.2481 - loss: 1.8905 - sex_output_accuracy: 0.8718 - sex_output_loss: 0.3164 - val_adhd_output_accuracy: 0.6626 - val_adhd_output_loss: 0.7755 - val_loss: 2.8673 - val_sex_output_accuracy: 0.5679 - val_sex_output_loss: 0.7865\n",
            "\u001b[1m8/8\u001b[0m \u001b[32m━━━━━━━━━━━━━━━━━━━━\u001b[0m\u001b[37m\u001b[0m \u001b[1m0s\u001b[0m 16ms/step - adhd_output_accuracy: 0.7435 - adhd_output_loss: 0.5875 - loss: 2.6171 - sex_output_accuracy: 0.6447 - sex_output_loss: 0.6635\n",
            "Evaluation Results: [2.679105043411255, 0.6385713219642639, 0.680243968963623, 0.7201645970344543, 0.6419752836227417]\n",
            "\u001b[1m8/8\u001b[0m \u001b[32m━━━━━━━━━━━━━━━━━━━━\u001b[0m\u001b[37m\u001b[0m \u001b[1m0s\u001b[0m 20ms/step\n",
            "ADHD F1 Score (weighted): 0.8554\n",
            "Sex_F F1 Score: 0.3150\n",
            "Final Weighted F1 Score: 0.5852\n"
          ]
        }
      ]
    },
    {
      "cell_type": "code",
      "source": [
        "# prompt: save probability predictions to csv\n",
        "\n",
        "import pandas as pd\n",
        "# Make predictions on the test set\n",
        "test_predictions = model.predict(scaler.transform(combined_test_metadata_imputed))\n",
        "\n",
        "# Create a DataFrame for the predictions     # (304, 3)\n",
        "predictions_df = pd.DataFrame({\n",
        "    'participant_id': test_patient_ids,\n",
        "    'ADHD_Outcome_Probability': test_predictions[0].flatten(),\n",
        "    'Sex_F_Probability': test_predictions[1].flatten()\n",
        "})\n",
        "\n",
        "predictions_df\n",
        "# Save the predictions to a CSV file\n",
        "predictions_df.to_csv('/content/drive/My Drive/widsdatathon2025/Work/Prediction/nn_orig_data.csv', index=False)\n"
      ],
      "metadata": {
        "id": "v4itjDO-s3mI",
        "outputId": "58d8acce-9531-4bd1-bb9b-3dfe9f56c30c",
        "colab": {
          "base_uri": "https://localhost:8080/"
        }
      },
      "execution_count": 6,
      "outputs": [
        {
          "output_type": "stream",
          "name": "stdout",
          "text": [
            "\u001b[1m10/10\u001b[0m \u001b[32m━━━━━━━━━━━━━━━━━━━━\u001b[0m\u001b[37m\u001b[0m \u001b[1m0s\u001b[0m 8ms/step\n"
          ]
        }
      ]
    },
    {
      "cell_type": "markdown",
      "source": [
        "# Threshold Tuning"
      ],
      "metadata": {
        "id": "rqyP44sK_Axz"
      }
    },
    {
      "cell_type": "code",
      "source": [
        "# For ADHD:\n",
        "#    y_val_adhd_prob: predicted probabilities from the model for ADHD_Outcome (shape: (n_samples,))\n",
        "#    y_val_adhd: true ADHD_Outcome labels (0 or 1)\n",
        "# For Sex_F:\n",
        "#    y_val_sex_prob: predicted probabilities from the model for Sex_F (shape: (n_samples,))\n",
        "#    y_val_sex: true Sex_F labels (0 or 1)\n",
        "\n",
        "y_val_adhd_prob = predictions[0].flatten()\n",
        "y_val_sex_prob  = predictions[1].flatten()\n",
        "\n",
        "# --- Define the function to compute weighted F1 score ---\n",
        "def compute_weighted_f1(y_true_adhd, y_pred_adhd, y_true_sex, y_pred_sex):\n",
        "    \"\"\"\n",
        "    Compute the final weighted F1 score.\n",
        "    Female ADHD cases (where ADHD_Outcome==1 and Sex_F==1) are given 2x weight.\n",
        "    Returns:\n",
        "       final_f1: the average of the weighted ADHD F1 and the Sex_F F1.\n",
        "       f1_adhd: F1 score for ADHD_Outcome using sample weights.\n",
        "       f1_sex:  F1 score for Sex_F (unweighted).\n",
        "    \"\"\"\n",
        "    weights = np.ones_like(y_true_adhd, dtype=float)\n",
        "    weights[(y_true_adhd == 1) & (y_true_sex == 1)] = 2.0\n",
        "    f1_adhd = f1_score(y_true_adhd, y_pred_adhd, sample_weight=weights)\n",
        "    f1_sex = f1_score(y_true_sex, y_pred_sex)\n",
        "    final_f1 = (f1_adhd + f1_sex) / 2.0\n",
        "    return final_f1, f1_adhd, f1_sex\n",
        "\n",
        "# --- Define a range of thresholds to test ---\n",
        "#thresholds = np.linspace(0, 1, 101)  # from 0.00 to 1.00 in steps of 0.01\n",
        "thresholds = np.linspace(0.1, 0.99, 90)\n",
        "\n",
        "best_final_f1 = 0.0\n",
        "best_thr_adhd = 0.0\n",
        "best_thr_sex  = 0.0\n",
        "best_f1_adhd = 0.0\n",
        "best_f1_sex  = 0.0\n",
        "\n",
        "# --- Perform a 2D threshold sweep ---\n",
        "for thr_a in thresholds:\n",
        "    for thr_s in thresholds:\n",
        "        y_pred_adhd = (y_val_adhd_prob > thr_a).astype(int)\n",
        "        y_pred_sex  = (y_val_sex_prob > thr_s).astype(int)\n",
        "        final_f1, f1_adhd, f1_sex = compute_weighted_f1(y_val_adhd_split, y_pred_adhd, y_val_sex_split, y_pred_sex)\n",
        "        if final_f1 > best_final_f1:\n",
        "            best_final_f1 = final_f1\n",
        "            best_thr_adhd = thr_a\n",
        "            best_thr_sex  = thr_s\n",
        "            best_f1_adhd = f1_adhd\n",
        "            best_f1_sex  = f1_sex\n",
        "\n",
        "print(f\"Best ADHD Threshold: {best_thr_adhd:.2f} with F1: {best_f1_adhd:.4f}\")\n",
        "print(f\"Best Sex_F Threshold: {best_thr_sex:.2f} with F1: {best_f1_sex:.4f}\")\n",
        "print(f\"Best Final Weighted F1: {best_final_f1:.4f}\")\n",
        "\n"
      ],
      "metadata": {
        "id": "4StHMFS5_BM5",
        "colab": {
          "base_uri": "https://localhost:8080/"
        },
        "outputId": "9b0e7756-df94-4b53-cb9d-4202be6e913d"
      },
      "execution_count": 18,
      "outputs": [
        {
          "output_type": "stream",
          "name": "stdout",
          "text": [
            "Best ADHD Threshold: 0.10 with F1: 0.8728\n",
            "Best Sex_F Threshold: 0.14 with F1: 0.4577\n",
            "Best Final Weighted F1: 0.6653\n"
          ]
        }
      ]
    },
    {
      "cell_type": "code",
      "source": [
        "\n",
        "# ----------------------------\n",
        "# 1. Prepare Test Features\n",
        "# ----------------------------\n",
        "# test_features was constructed as follows:\n",
        "# - combined_test_data and test_matrix_data were merged to form a matrix.\n",
        "# - \"NA\" values were replaced with np.nan.\n",
        "# - The first column (patient IDs) was separated.\n",
        "# - Missing values were imputed (e.g., using KNN imputation).\n",
        "#\n",
        "# In your code, you ended with:\n",
        "# combined_test_metadata_imputed = imputer_test_metadata.fit_transform(test_features_no_id)\n",
        "# and then:\n",
        "# test_features = np.hstack([test_patient_ids.reshape(-1, 1), test_features_no_id])\n",
        "#\n",
        "# For prediction, we want to use the imputed features that match the training data.\n",
        "# Apply the same StandardScaler (fitted on the training data) to the test features.\n",
        "final_test_features = scaler.transform(combined_test_metadata_imputed)  # Shape: (n_test_samples, n_features)\n",
        "\n",
        "# ----------------------------\n",
        "# 2. Make Predictions on Test Data\n",
        "# ----------------------------\n",
        "# Using the multi-output model, predictions will be a list of arrays:\n",
        "#   test_predictions[0] corresponds to ADHD_Outcome probabilities.\n",
        "#   test_predictions[1] corresponds to Sex_F probabilities.\n",
        "test_predictions = model.predict(final_test_features)\n",
        "\n",
        "# Flatten the predictions (if needed) so they are 1D arrays:\n",
        "adhd_probs = test_predictions[0].flatten()\n",
        "sex_probs  = test_predictions[1].flatten()\n",
        "\n",
        "# ----------------------------\n",
        "# 3. Apply Optimal Thresholds\n",
        "# ----------------------------\n",
        "# Use the optimal thresholds found from threshold tuning.\n",
        "# (For example, these variables should have been computed during your threshold tuning process.)\n",
        "test_pred_adhd = (adhd_probs > best_thr_adhd).astype(int)\n",
        "test_pred_sex  = (sex_probs > best_thr_sex).astype(int)\n",
        "\n",
        "# ----------------------------\n",
        "# 4. Create the Submission DataFrame\n",
        "# ----------------------------\n",
        "# Ensure that test_patient_ids is a 1D array containing the IDs.\n",
        "submission_df = pd.DataFrame({\n",
        "    'participant_id': test_patient_ids.flatten(),  # Use your test IDs\n",
        "    'ADHD_Outcome': test_pred_adhd,\n",
        "    'Sex_F': test_pred_sex\n",
        "})\n",
        "\n",
        "# ----------------------------\n",
        "# 5. Save to CSV\n",
        "# ----------------------------\n",
        "submission_df.to_csv('/content/drive/My Drive/widsdatathon2025/Work/Submission/submission.csv', index=False)\n",
        "print(\"Submission file saved as submission.csv\")\n"
      ],
      "metadata": {
        "colab": {
          "base_uri": "https://localhost:8080/"
        },
        "id": "N2zn_aMmxpZQ",
        "outputId": "ab0ad1bb-e3d4-4d02-e00b-ecadaef28b5a"
      },
      "execution_count": 31,
      "outputs": [
        {
          "output_type": "stream",
          "name": "stdout",
          "text": [
            "\u001b[1m10/10\u001b[0m \u001b[32m━━━━━━━━━━━━━━━━━━━━\u001b[0m\u001b[37m\u001b[0m \u001b[1m0s\u001b[0m 11ms/step\n",
            "Submission file saved as submission.csv\n"
          ]
        }
      ]
    },
    {
      "cell_type": "markdown",
      "source": [
        "# Threshold Tuning Graph"
      ],
      "metadata": {
        "id": "k9vBUnn6_ICy"
      }
    },
    {
      "cell_type": "code",
      "source": [
        "# prompt: generate a threshold tuning graph for ADHD and Sex_F\n",
        "\n",
        "import numpy as np\n",
        "from sklearn.metrics import f1_score\n",
        "import matplotlib.pyplot as plt\n",
        "\n",
        "# Assuming y_val_adhd_prob, y_val_sex_prob, y_val_adhd_split, and y_val_sex_split are defined as in your code.\n",
        "\n",
        "# Function to compute the weighted F1 score (same as before)\n",
        "def compute_weighted_f1(y_true_adhd, y_pred_adhd, y_true_sex, y_pred_sex):\n",
        "    weights = np.ones_like(y_true_adhd, dtype=float)\n",
        "    weights[(y_true_adhd == 1) & (y_true_sex == 1)] = 2.0\n",
        "    f1_adhd = f1_score(y_true_adhd, y_pred_adhd, sample_weight=weights)\n",
        "    f1_sex = f1_score(y_true_sex, y_pred_sex)\n",
        "    final_f1 = (f1_adhd + f1_sex) / 2.0\n",
        "    return final_f1, f1_adhd, f1_sex\n",
        "\n",
        "\n",
        "thresholds = np.linspace(0, 1, 101)\n",
        "f1_scores_adhd = []\n",
        "f1_scores_sex = []\n",
        "\n",
        "for threshold in thresholds:\n",
        "    y_pred_adhd = (y_val_adhd_prob > threshold).astype(int)\n",
        "    y_pred_sex = (y_val_sex_prob > threshold).astype(int)\n",
        "    _, f1_adhd, f1_sex = compute_weighted_f1(y_val_adhd_split, y_pred_adhd, y_val_sex_split, y_pred_sex)\n",
        "    f1_scores_adhd.append(f1_adhd)\n",
        "    f1_scores_sex.append(f1_sex)\n",
        "\n",
        "# Plotting the threshold tuning graph\n",
        "plt.figure(figsize=(10, 6))\n",
        "plt.plot(thresholds, f1_scores_adhd, label='ADHD F1 Score')\n",
        "plt.plot(thresholds, f1_scores_sex, label='Sex_F F1 Score')\n",
        "plt.xlabel('Threshold')\n",
        "plt.ylabel('F1 Score')\n",
        "plt.title('Threshold Tuning Graph for ADHD and Sex_F')\n",
        "plt.legend()\n",
        "plt.grid(True)\n",
        "plt.show()\n"
      ],
      "metadata": {
        "id": "uANRbZqC_KHQ",
        "collapsed": true,
        "colab": {
          "base_uri": "https://localhost:8080/",
          "height": 564
        },
        "outputId": "39dad3cf-1a25-4f11-ff7d-dff4a376cb08"
      },
      "execution_count": 13,
      "outputs": [
        {
          "output_type": "display_data",
          "data": {
            "text/plain": [
              "<Figure size 1000x600 with 1 Axes>"
            ],
            "image/png": "[encoded data removed]"
          },
          "metadata": {}
        }
      ]
    },
    {
      "cell_type": "markdown",
      "source": [
        "# Two Model Data Processing: Train metadata + fmri with no or few missing values"
      ],
      "metadata": {
        "id": "YYe6ynNZsi1Q"
      }
    },
    {
      "cell_type": "code",
      "source": [
        "# prompt: Access data from google drive\n",
        "from google.colab import drive\n",
        "drive.mount('/content/drive')\n",
        "\n",
        "# Import train categorical data (1213, 10)\n",
        "train_cat = pd.read_excel(\"drive/My Drive/widsdatathon2025/TRAIN_NEW/TRAIN_CATEGORICAL_METADATA_new.xlsx\")\n",
        "# train_cat.shape\n",
        "# train_cat.describe()\n",
        "\n",
        "# Import train quantitative data (1213, 19)\n",
        "train_quant = pd.read_excel(\"drive/My Drive/widsdatathon2025/TRAIN_NEW/TRAIN_QUANTITATIVE_METADATA_new.xlsx\")\n",
        "# train_quant.shape\n",
        "# train_quant.describe()\n",
        "\n",
        "# Import solution w outcome data (1213, 3)\n",
        "train_sol = pd.read_excel(\"drive/My Drive/widsdatathon2025/TRAIN_NEW/TRAINING_SOLUTIONS.xlsx\")\n",
        "# train_sol.shape\n",
        "# train_sol.describe()\n",
        "\n",
        "# Merge train datasets on the participant ID\n",
        "combined_train_data = pd.merge(train_cat, train_quant, on='participant_id')    # (1213, 28)\n",
        "train_with_outcome = pd.merge(combined_train_data, train_sol, on='participant_id')  # (1213, 30)\n",
        "\n",
        "# # Extract metadata from combined_train_data (skip the participant ID)\n",
        "# metadata = combined_train_data.iloc[:, 1:].to_numpy()  # shape: (1213, 27)\n",
        "\n",
        "# # Standardize metadata\n",
        "# scaler_meta = StandardScaler()\n",
        "# metadata_scaled = scaler_meta.fit_transform(metadata)\n",
        "\n",
        "# Import test categorical data (304, 10)\n",
        "test_cat = pd.read_excel(\"drive/My Drive/widsdatathon2025/TEST/TEST_CATEGORICAL.xlsx\")\n",
        "\n",
        "# Import test quantitative data (304, 19)\n",
        "test_quant = pd.read_excel(\"drive/My Drive/widsdatathon2025/TEST/TEST_QUANTITATIVE_METADATA.xlsx\")\n",
        "\n",
        "# Merge test datasets on the participant ID  (304, 28)\n",
        "combined_test_data = pd.merge(test_cat, test_quant, on='participant_id')\n",
        "test_no_id = combined_test_data.drop(columns=['participant_id'])\n",
        "\n",
        "# Import train MRI data (1213, 19901)\n",
        "train_mri_filepath = \"drive/My Drive/widsdatathon2025/TRAIN_NEW/TRAIN_FUNCTIONAL_CONNECTOME_MATRICES_new_36P_Pearson.csv\"\n",
        "train_mri = pd.read_csv(train_mri_filepath)\n",
        "\n",
        "# Import test MRI data\n",
        "test_mri_filepath = \"drive/My Drive/widsdatathon2025/TEST/TEST_FUNCTIONAL_CONNECTOME_MATRICES.csv\"\n",
        "test_mri = pd.read_csv(test_mri_filepath)\n",
        "\n",
        "# Remove first line, convert csv file to a functional connectome matrix\n",
        "test_matrix_data = test_mri.iloc[:, 1:].to_numpy(dtype=float)  # (304, 19900)\n"
      ],
      "metadata": {
        "colab": {
          "base_uri": "https://localhost:8080/"
        },
        "id": "y70qnoy02Y3T",
        "outputId": "87c70db4-5b15-4ece-e909-d68bc40326b1"
      },
      "execution_count": 10,
      "outputs": [
        {
          "output_type": "stream",
          "name": "stdout",
          "text": [
            "Drive already mounted at /content/drive; to attempt to forcibly remount, call drive.mount(\"/content/drive\", force_remount=True).\n"
          ]
        }
      ]
    },
    {
      "cell_type": "code",
      "source": [
        "from sklearn.impute import KNNImputer\n",
        "\n",
        "\n",
        "# Remove first line, convert csv file to a functional connectome matrix\n",
        "train_matrix_data = train_mri.iloc[:, 1:].to_numpy(dtype=float)\n",
        "\n",
        "# Calculate the percentage of missing values in each column\n",
        "missing_percentage = combined_train_data.isnull().sum() / len(combined_train_data) * 100\n",
        "\n",
        "missing_percentage\n",
        "\n",
        "# Identify columns with more than a certain percentage threshold of missing values\n",
        "threshold = 1  # meaning 1%\n",
        "columns_to_remove = missing_percentage[missing_percentage > threshold].index\n",
        "\n",
        "# Extract columns with massive missing values\n",
        "extracted_columns = combined_train_data[columns_to_remove]         # (1213, 9)\n",
        "\n",
        "# Extract columns with no or few missing values\n",
        "columns_few_missing = combined_train_data.drop(columns=columns_to_remove)     # (1213, 19)\n",
        "\n",
        "# Combine columns_few_missing with fmri\n",
        "features_few_missing = np.hstack([columns_few_missing, train_matrix_data])\n",
        "\n",
        "# Replace \"NA\" with np.nan\n",
        "features_few_missing[features_few_missing == \"NA\"] = np.nan\n",
        "\n",
        "# Remove Patient ID\n",
        "features_few_missing = features_few_missing[:, 1:]\n",
        "\n",
        "# Convert the features_few_missing to float\n",
        "features_few_missing = features_few_missing.astype(float)\n",
        "\n",
        "# Impute missing values with KNN imputation\n",
        "imputer_metadata = KNNImputer(n_neighbors=5)  # Using KNN for imputation instead of mean\n",
        "combined_metadata_imputed2 = imputer_metadata.fit_transform(features_few_missing)  # (1213, 19918)\n"
      ],
      "metadata": {
        "id": "nYg0G-bqsiWQ"
      },
      "execution_count": 8,
      "outputs": []
    },
    {
      "cell_type": "markdown",
      "source": [
        "# Two Model Data Processing: Test metadata + fmri with no or few missing values"
      ],
      "metadata": {
        "id": "tmnCAgwK6ZOF"
      }
    },
    {
      "cell_type": "code",
      "source": [
        "# Extract columns with massive missing values\n",
        "test_extracted_columns = combined_test_data[columns_to_remove]         # (304, 9)\n",
        "\n",
        "# Extract columns with no or few missing values\n",
        "test_columns_few_missing = combined_test_data.drop(columns=columns_to_remove)     # (304, 19)\n",
        "\n",
        "# Combine columns_few_missing with fmri\n",
        "test_features_few_missing = np.hstack([test_columns_few_missing, test_matrix_data])\n",
        "\n",
        "# Replace \"NA\" with np.nan\n",
        "test_features_few_missing[test_features_few_missing == \"NA\"] = np.nan\n",
        "\n",
        "# Remove Patient ID\n",
        "test_features_few_missing = test_features_few_missing[:, 1:]\n",
        "\n",
        "# Convert the features_few_missing to float\n",
        "test_features_few_missing = test_features_few_missing.astype(float)\n",
        "\n",
        "# Impute missing values with KNN imputation\n",
        "imputer_metadata = KNNImputer(n_neighbors=5)  # Using KNN for imputation instead of mean\n",
        "combined_test_metadata_imputed2 = imputer_metadata.fit_transform(test_features_few_missing)  # (304, 19918)"
      ],
      "metadata": {
        "id": "_zloNlNQ6Yff"
      },
      "execution_count": 11,
      "outputs": []
    },
    {
      "cell_type": "markdown",
      "source": [
        "# Neural Network Model"
      ],
      "metadata": {
        "id": "2OOqf0kd6iYp"
      }
    },
    {
      "cell_type": "code",
      "source": [
        "import tensorflow as tf\n",
        "from tensorflow.keras.models import Model\n",
        "from tensorflow.keras.layers import Input, Dense, Dropout, BatchNormalization\n",
        "from tensorflow.keras.callbacks import EarlyStopping\n",
        "from tensorflow.keras.regularizers import l2\n",
        "from sklearn.model_selection import train_test_split\n",
        "from sklearn.preprocessing import StandardScaler\n",
        "from sklearn.metrics import f1_score\n",
        "import numpy as np\n",
        "\n",
        "# --- Define the function to compute weighted F1 score ---\n",
        "def compute_weighted_f1(y_true_adhd, y_pred_adhd, y_true_sex, y_pred_sex):\n",
        "    \"\"\"\n",
        "    Compute the final weighted F1 score for the competition.\n",
        "    Female ADHD cases (where ADHD_Outcome==1 and Sex_F==1) are given 2x weight.\n",
        "    The final score is the average of the weighted F1 for ADHD_Outcome and the F1 for Sex_F.\n",
        "    \"\"\"\n",
        "    # Create sample weights for ADHD_Outcome: weight=2 for female ADHD cases, else 1.\n",
        "    weights = np.ones_like(y_true_adhd, dtype=float)\n",
        "    weights[(y_true_adhd == 1) & (y_true_sex == 1)] = 2.0\n",
        "\n",
        "    # Calculate weighted F1 for ADHD_Outcome\n",
        "    f1_adhd = f1_score(y_true_adhd, y_pred_adhd, sample_weight=weights)\n",
        "    # Calculate standard F1 for Sex_F\n",
        "    f1_sex = f1_score(y_true_sex, y_pred_sex)\n",
        "\n",
        "    # Final leaderboard score: average of the two F1 scores\n",
        "    final_f1 = (f1_adhd + f1_sex) / 2.0\n",
        "    return final_f1, f1_adhd, f1_sex\n",
        "\n",
        "# --- Prepare the data ---\n",
        "# Use combined_metadata_imputed as input features.\n",
        "X = combined_metadata_imputed2  # (1213, 19927)\n",
        "# Extract targets from train_sol:\n",
        "y_adhd = train_sol['ADHD_Outcome'].values  # Binary labels (0 or 1)\n",
        "y_sex  = train_sol['Sex_F'].values         # Binary labels (0 or 1)\n",
        "\n",
        "# Standardize features.\n",
        "scaler = StandardScaler()\n",
        "X_scaled = scaler.fit_transform(X)\n",
        "\n",
        "# Split into training and validation sets.\n",
        "# Note: We split the labels separately but the splits will be aligned because we use the same X_scaled.\n",
        "X_train_split, X_val_split, y_train_adhd_split, y_val_adhd_split = train_test_split(\n",
        "    X_scaled, y_adhd, test_size=0.2, random_state=42\n",
        ")\n",
        "_, _, y_train_sex_split, y_val_sex_split = train_test_split(\n",
        "    X_scaled, y_sex, test_size=0.2, random_state=42\n",
        ")\n",
        "\n",
        "# --- Build the multi-output neural network model ---\n",
        "input_layer = Input(shape=(X_train_split.shape[1],))\n",
        "x = Dense(128, activation='relu', kernel_regularizer=l2(0.01))(input_layer)\n",
        "x = Dropout(0.5)(x)\n",
        "x = BatchNormalization()(x)\n",
        "x = Dense(64, activation='relu', kernel_regularizer=l2(0.01))(x)\n",
        "x = Dropout(0.5)(x)\n",
        "x = BatchNormalization()(x)\n",
        "x = Dense(32, activation='relu', kernel_regularizer=l2(0.01))(x)\n",
        "\n",
        "# Two separate output layers:\n",
        "output_adhd = Dense(1, activation='sigmoid', name='adhd_output')(x)\n",
        "output_sex  = Dense(1, activation='sigmoid', name='sex_output')(x)\n",
        "\n",
        "model2 = Model(inputs=input_layer, outputs=[output_adhd, output_sex])\n",
        "\n",
        "# Compile the model.\n",
        "model2.compile(optimizer=tf.keras.optimizers.Adam(learning_rate=0.0005),\n",
        "              loss='binary_crossentropy',\n",
        "              metrics={'adhd_output': 'accuracy', 'sex_output': 'accuracy'})\n",
        "\n",
        "\n",
        "# Set up early stopping.\n",
        "early_stopping = EarlyStopping(monitor='val_loss', patience=10, restore_best_weights=True)\n",
        "\n",
        "# --- Train the model ---\n",
        "history = model2.fit(\n",
        "    X_train_split,\n",
        "    {'adhd_output': y_train_adhd_split, 'sex_output': y_train_sex_split},\n",
        "    epochs=100,\n",
        "    batch_size=32,\n",
        "    validation_data=(X_val_split, {'adhd_output': y_val_adhd_split, 'sex_output': y_val_sex_split}),\n",
        "    callbacks=[early_stopping]\n",
        ")\n",
        "\n",
        "# --- Evaluate the model ---\n",
        "results = model2.evaluate(X_val_split, {'adhd_output': y_val_adhd_split, 'sex_output': y_val_sex_split})\n",
        "print(\"Evaluation Results:\", results)\n",
        "\n",
        "# --- Make predictions on the validation set ---\n",
        "predictions2 = model2.predict(X_val_split)       # (243, 2)\n",
        "# predictions is a list: predictions[0] for ADHD_Outcome, predictions[1] for Sex_F.\n",
        "y_val_pred_adhd2 = (predictions2[0] > 0.5).astype(int).flatten()\n",
        "y_val_pred_sex2  = (predictions2[1] > 0.5).astype(int).flatten()\n",
        "\n",
        "# --- Compute the weighted F1 score ---\n",
        "final_f1, f1_adhd, f1_sex = compute_weighted_f1(y_val_adhd_split, y_val_pred_adhd, y_val_sex_split, y_val_pred_sex)\n",
        "\n",
        "print(f\"ADHD F1 Score (weighted): {f1_adhd:.4f}\")\n",
        "print(f\"Sex_F F1 Score: {f1_sex:.4f}\")\n",
        "print(f\"Final Weighted F1 Score: {final_f1:.4f}\")\n",
        "\n"
      ],
      "metadata": {
        "collapsed": true,
        "colab": {
          "base_uri": "https://localhost:8080/"
        },
        "id": "g-afr4Mg6h-I",
        "outputId": "26889035-88d8-4455-fbad-ef0b150f94e2"
      },
      "execution_count": 12,
      "outputs": [
        {
          "output_type": "stream",
          "name": "stdout",
          "text": [
            "Epoch 1/100\n",
            "\u001b[1m31/31\u001b[0m \u001b[32m━━━━━━━━━━━━━━━━━━━━\u001b[0m\u001b[37m\u001b[0m \u001b[1m6s\u001b[0m 60ms/step - adhd_output_accuracy: 0.6097 - adhd_output_loss: 0.7190 - loss: 5.3085 - sex_output_accuracy: 0.5603 - sex_output_loss: 0.7528 - val_adhd_output_accuracy: 0.5926 - val_adhd_output_loss: 0.6706 - val_loss: 5.2242 - val_sex_output_accuracy: 0.5597 - val_sex_output_loss: 0.7533\n",
            "Epoch 2/100\n",
            "\u001b[1m31/31\u001b[0m \u001b[32m━━━━━━━━━━━━━━━━━━━━\u001b[0m\u001b[37m\u001b[0m \u001b[1m2s\u001b[0m 48ms/step - adhd_output_accuracy: 0.6516 - adhd_output_loss: 0.6589 - loss: 5.0869 - sex_output_accuracy: 0.6075 - sex_output_loss: 0.6798 - val_adhd_output_accuracy: 0.6008 - val_adhd_output_loss: 0.6502 - val_loss: 4.8843 - val_sex_output_accuracy: 0.6008 - val_sex_output_loss: 0.6776\n",
            "Epoch 3/100\n",
            "\u001b[1m31/31\u001b[0m \u001b[32m━━━━━━━━━━━━━━━━━━━━\u001b[0m\u001b[37m\u001b[0m \u001b[1m1s\u001b[0m 46ms/step - adhd_output_accuracy: 0.6645 - adhd_output_loss: 0.6408 - loss: 4.7697 - sex_output_accuracy: 0.6478 - sex_output_loss: 0.6386 - val_adhd_output_accuracy: 0.6337 - val_adhd_output_loss: 0.6503 - val_loss: 4.6007 - val_sex_output_accuracy: 0.6008 - val_sex_output_loss: 0.6735\n",
            "Epoch 4/100\n",
            "\u001b[1m31/31\u001b[0m \u001b[32m━━━━━━━━━━━━━━━━━━━━\u001b[0m\u001b[37m\u001b[0m \u001b[1m1s\u001b[0m 47ms/step - adhd_output_accuracy: 0.6589 - adhd_output_loss: 0.6319 - loss: 4.4987 - sex_output_accuracy: 0.6335 - sex_output_loss: 0.6532 - val_adhd_output_accuracy: 0.6708 - val_adhd_output_loss: 0.6400 - val_loss: 4.3259 - val_sex_output_accuracy: 0.6173 - val_sex_output_loss: 0.6805\n",
            "Epoch 5/100\n",
            "\u001b[1m31/31\u001b[0m \u001b[32m━━━━━━━━━━━━━━━━━━━━\u001b[0m\u001b[37m\u001b[0m \u001b[1m3s\u001b[0m 59ms/step - adhd_output_accuracy: 0.6592 - adhd_output_loss: 0.6087 - loss: 4.1778 - sex_output_accuracy: 0.6603 - sex_output_loss: 0.6255 - val_adhd_output_accuracy: 0.6955 - val_adhd_output_loss: 0.6277 - val_loss: 4.0349 - val_sex_output_accuracy: 0.6296 - val_sex_output_loss: 0.6625\n",
            "Epoch 6/100\n",
            "\u001b[1m31/31\u001b[0m \u001b[32m━━━━━━━━━━━━━━━━━━━━\u001b[0m\u001b[37m\u001b[0m \u001b[1m3s\u001b[0m 63ms/step - adhd_output_accuracy: 0.6952 - adhd_output_loss: 0.5908 - loss: 3.9137 - sex_output_accuracy: 0.6671 - sex_output_loss: 0.6342 - val_adhd_output_accuracy: 0.7078 - val_adhd_output_loss: 0.6188 - val_loss: 3.7909 - val_sex_output_accuracy: 0.6502 - val_sex_output_loss: 0.6598\n",
            "Epoch 7/100\n",
            "\u001b[1m31/31\u001b[0m \u001b[32m━━━━━━━━━━━━━━━━━━━━\u001b[0m\u001b[37m\u001b[0m \u001b[1m2s\u001b[0m 46ms/step - adhd_output_accuracy: 0.7091 - adhd_output_loss: 0.5833 - loss: 3.6321 - sex_output_accuracy: 0.6697 - sex_output_loss: 0.5887 - val_adhd_output_accuracy: 0.7202 - val_adhd_output_loss: 0.6144 - val_loss: 3.5818 - val_sex_output_accuracy: 0.6091 - val_sex_output_loss: 0.6586\n",
            "Epoch 8/100\n",
            "\u001b[1m31/31\u001b[0m \u001b[32m━━━━━━━━━━━━━━━━━━━━\u001b[0m\u001b[37m\u001b[0m \u001b[1m2s\u001b[0m 45ms/step - adhd_output_accuracy: 0.6934 - adhd_output_loss: 0.5767 - loss: 3.4111 - sex_output_accuracy: 0.6930 - sex_output_loss: 0.5682 - val_adhd_output_accuracy: 0.7160 - val_adhd_output_loss: 0.6171 - val_loss: 3.4196 - val_sex_output_accuracy: 0.6132 - val_sex_output_loss: 0.6631\n",
            "Epoch 9/100\n",
            "\u001b[1m31/31\u001b[0m \u001b[32m━━━━━━━━━━━━━━━━━━━━\u001b[0m\u001b[37m\u001b[0m \u001b[1m3s\u001b[0m 47ms/step - adhd_output_accuracy: 0.7100 - adhd_output_loss: 0.5647 - loss: 3.2416 - sex_output_accuracy: 0.6902 - sex_output_loss: 0.5738 - val_adhd_output_accuracy: 0.6914 - val_adhd_output_loss: 0.6293 - val_loss: 3.2725 - val_sex_output_accuracy: 0.6379 - val_sex_output_loss: 0.6516\n",
            "Epoch 10/100\n",
            "\u001b[1m31/31\u001b[0m \u001b[32m━━━━━━━━━━━━━━━━━━━━\u001b[0m\u001b[37m\u001b[0m \u001b[1m3s\u001b[0m 47ms/step - adhd_output_accuracy: 0.7374 - adhd_output_loss: 0.5307 - loss: 3.0668 - sex_output_accuracy: 0.6822 - sex_output_loss: 0.5790 - val_adhd_output_accuracy: 0.7160 - val_adhd_output_loss: 0.6178 - val_loss: 3.1185 - val_sex_output_accuracy: 0.6379 - val_sex_output_loss: 0.6483\n",
            "Epoch 11/100\n",
            "\u001b[1m31/31\u001b[0m \u001b[32m━━━━━━━━━━━━━━━━━━━━\u001b[0m\u001b[37m\u001b[0m \u001b[1m3s\u001b[0m 72ms/step - adhd_output_accuracy: 0.7634 - adhd_output_loss: 0.5030 - loss: 2.8907 - sex_output_accuracy: 0.7247 - sex_output_loss: 0.5626 - val_adhd_output_accuracy: 0.6955 - val_adhd_output_loss: 0.6088 - val_loss: 2.9992 - val_sex_output_accuracy: 0.6379 - val_sex_output_loss: 0.6497\n",
            "Epoch 12/100\n",
            "\u001b[1m31/31\u001b[0m \u001b[32m━━━━━━━━━━━━━━━━━━━━\u001b[0m\u001b[37m\u001b[0m \u001b[1m1s\u001b[0m 45ms/step - adhd_output_accuracy: 0.7623 - adhd_output_loss: 0.4985 - loss: 2.7293 - sex_output_accuracy: 0.7414 - sex_output_loss: 0.5135 - val_adhd_output_accuracy: 0.7202 - val_adhd_output_loss: 0.6134 - val_loss: 2.9110 - val_sex_output_accuracy: 0.6543 - val_sex_output_loss: 0.6502\n",
            "Epoch 13/100\n",
            "\u001b[1m31/31\u001b[0m \u001b[32m━━━━━━━━━━━━━━━━━━━━\u001b[0m\u001b[37m\u001b[0m \u001b[1m3s\u001b[0m 47ms/step - adhd_output_accuracy: 0.7772 - adhd_output_loss: 0.4845 - loss: 2.6438 - sex_output_accuracy: 0.7491 - sex_output_loss: 0.5300 - val_adhd_output_accuracy: 0.7119 - val_adhd_output_loss: 0.6200 - val_loss: 2.8743 - val_sex_output_accuracy: 0.6420 - val_sex_output_loss: 0.6757\n",
            "Epoch 14/100\n",
            "\u001b[1m31/31\u001b[0m \u001b[32m━━━━━━━━━━━━━━━━━━━━\u001b[0m\u001b[37m\u001b[0m \u001b[1m2s\u001b[0m 46ms/step - adhd_output_accuracy: 0.7578 - adhd_output_loss: 0.4845 - loss: 2.5584 - sex_output_accuracy: 0.7441 - sex_output_loss: 0.5061 - val_adhd_output_accuracy: 0.6955 - val_adhd_output_loss: 0.6275 - val_loss: 2.8355 - val_sex_output_accuracy: 0.6091 - val_sex_output_loss: 0.6816\n",
            "Epoch 15/100\n",
            "\u001b[1m31/31\u001b[0m \u001b[32m━━━━━━━━━━━━━━━━━━━━\u001b[0m\u001b[37m\u001b[0m \u001b[1m1s\u001b[0m 46ms/step - adhd_output_accuracy: 0.7601 - adhd_output_loss: 0.4828 - loss: 2.4605 - sex_output_accuracy: 0.7739 - sex_output_loss: 0.4684 - val_adhd_output_accuracy: 0.6831 - val_adhd_output_loss: 0.6197 - val_loss: 2.7959 - val_sex_output_accuracy: 0.5885 - val_sex_output_loss: 0.7068\n",
            "Epoch 16/100\n",
            "\u001b[1m31/31\u001b[0m \u001b[32m━━━━━━━━━━━━━━━━━━━━\u001b[0m\u001b[37m\u001b[0m \u001b[1m3s\u001b[0m 66ms/step - adhd_output_accuracy: 0.7716 - adhd_output_loss: 0.4731 - loss: 2.3958 - sex_output_accuracy: 0.7999 - sex_output_loss: 0.4427 - val_adhd_output_accuracy: 0.6667 - val_adhd_output_loss: 0.6308 - val_loss: 2.8190 - val_sex_output_accuracy: 0.6008 - val_sex_output_loss: 0.7163\n",
            "Epoch 17/100\n",
            "\u001b[1m31/31\u001b[0m \u001b[32m━━━━━━━━━━━━━━━━━━━━\u001b[0m\u001b[37m\u001b[0m \u001b[1m2s\u001b[0m 72ms/step - adhd_output_accuracy: 0.7919 - adhd_output_loss: 0.4575 - loss: 2.4125 - sex_output_accuracy: 0.7554 - sex_output_loss: 0.4932 - val_adhd_output_accuracy: 0.6626 - val_adhd_output_loss: 0.6421 - val_loss: 2.7896 - val_sex_output_accuracy: 0.6008 - val_sex_output_loss: 0.7207\n",
            "Epoch 18/100\n",
            "\u001b[1m31/31\u001b[0m \u001b[32m━━━━━━━━━━━━━━━━━━━━\u001b[0m\u001b[37m\u001b[0m \u001b[1m2s\u001b[0m 51ms/step - adhd_output_accuracy: 0.8125 - adhd_output_loss: 0.4172 - loss: 2.2659 - sex_output_accuracy: 0.8058 - sex_output_loss: 0.4296 - val_adhd_output_accuracy: 0.6255 - val_adhd_output_loss: 0.6597 - val_loss: 2.7419 - val_sex_output_accuracy: 0.6296 - val_sex_output_loss: 0.7024\n",
            "Epoch 19/100\n",
            "\u001b[1m31/31\u001b[0m \u001b[32m━━━━━━━━━━━━━━━━━━━━\u001b[0m\u001b[37m\u001b[0m \u001b[1m1s\u001b[0m 45ms/step - adhd_output_accuracy: 0.8291 - adhd_output_loss: 0.3991 - loss: 2.1739 - sex_output_accuracy: 0.8250 - sex_output_loss: 0.3962 - val_adhd_output_accuracy: 0.6461 - val_adhd_output_loss: 0.6575 - val_loss: 2.7094 - val_sex_output_accuracy: 0.6337 - val_sex_output_loss: 0.7084\n",
            "Epoch 20/100\n",
            "\u001b[1m31/31\u001b[0m \u001b[32m━━━━━━━━━━━━━━━━━━━━\u001b[0m\u001b[37m\u001b[0m \u001b[1m3s\u001b[0m 44ms/step - adhd_output_accuracy: 0.8014 - adhd_output_loss: 0.4298 - loss: 2.1953 - sex_output_accuracy: 0.8386 - sex_output_loss: 0.3931 - val_adhd_output_accuracy: 0.6461 - val_adhd_output_loss: 0.6580 - val_loss: 2.7700 - val_sex_output_accuracy: 0.6255 - val_sex_output_loss: 0.7039\n",
            "Epoch 21/100\n",
            "\u001b[1m31/31\u001b[0m \u001b[32m━━━━━━━━━━━━━━━━━━━━\u001b[0m\u001b[37m\u001b[0m \u001b[1m1s\u001b[0m 47ms/step - adhd_output_accuracy: 0.8051 - adhd_output_loss: 0.4210 - loss: 2.2037 - sex_output_accuracy: 0.8368 - sex_output_loss: 0.3863 - val_adhd_output_accuracy: 0.6584 - val_adhd_output_loss: 0.6707 - val_loss: 2.7791 - val_sex_output_accuracy: 0.6132 - val_sex_output_loss: 0.7394\n",
            "Epoch 22/100\n",
            "\u001b[1m31/31\u001b[0m \u001b[32m━━━━━━━━━━━━━━━━━━━━\u001b[0m\u001b[37m\u001b[0m \u001b[1m3s\u001b[0m 46ms/step - adhd_output_accuracy: 0.8292 - adhd_output_loss: 0.3695 - loss: 2.0890 - sex_output_accuracy: 0.8444 - sex_output_loss: 0.3576 - val_adhd_output_accuracy: 0.6296 - val_adhd_output_loss: 0.6966 - val_loss: 2.7978 - val_sex_output_accuracy: 0.5967 - val_sex_output_loss: 0.7663\n",
            "Epoch 23/100\n",
            "\u001b[1m31/31\u001b[0m \u001b[32m━━━━━━━━━━━━━━━━━━━━\u001b[0m\u001b[37m\u001b[0m \u001b[1m3s\u001b[0m 64ms/step - adhd_output_accuracy: 0.8604 - adhd_output_loss: 0.3338 - loss: 2.0326 - sex_output_accuracy: 0.8387 - sex_output_loss: 0.3662 - val_adhd_output_accuracy: 0.6337 - val_adhd_output_loss: 0.7031 - val_loss: 2.7862 - val_sex_output_accuracy: 0.6173 - val_sex_output_loss: 0.7783\n",
            "Epoch 24/100\n",
            "\u001b[1m31/31\u001b[0m \u001b[32m━━━━━━━━━━━━━━━━━━━━\u001b[0m\u001b[37m\u001b[0m \u001b[1m2s\u001b[0m 55ms/step - adhd_output_accuracy: 0.8431 - adhd_output_loss: 0.3506 - loss: 2.0119 - sex_output_accuracy: 0.8468 - sex_output_loss: 0.3585 - val_adhd_output_accuracy: 0.6584 - val_adhd_output_loss: 0.7080 - val_loss: 2.7837 - val_sex_output_accuracy: 0.6173 - val_sex_output_loss: 0.7948\n",
            "Epoch 25/100\n",
            "\u001b[1m31/31\u001b[0m \u001b[32m━━━━━━━━━━━━━━━━━━━━\u001b[0m\u001b[37m\u001b[0m \u001b[1m1s\u001b[0m 47ms/step - adhd_output_accuracy: 0.8744 - adhd_output_loss: 0.3227 - loss: 1.9329 - sex_output_accuracy: 0.8567 - sex_output_loss: 0.3308 - val_adhd_output_accuracy: 0.6420 - val_adhd_output_loss: 0.7253 - val_loss: 2.7840 - val_sex_output_accuracy: 0.6214 - val_sex_output_loss: 0.7893\n",
            "Epoch 26/100\n",
            "\u001b[1m31/31\u001b[0m \u001b[32m━━━━━━━━━━━━━━━━━━━━\u001b[0m\u001b[37m\u001b[0m \u001b[1m1s\u001b[0m 45ms/step - adhd_output_accuracy: 0.8797 - adhd_output_loss: 0.3131 - loss: 1.9184 - sex_output_accuracy: 0.8684 - sex_output_loss: 0.3266 - val_adhd_output_accuracy: 0.6584 - val_adhd_output_loss: 0.7440 - val_loss: 2.8605 - val_sex_output_accuracy: 0.5967 - val_sex_output_loss: 0.8191\n",
            "Epoch 27/100\n",
            "\u001b[1m31/31\u001b[0m \u001b[32m━━━━━━━━━━━━━━━━━━━━\u001b[0m\u001b[37m\u001b[0m \u001b[1m3s\u001b[0m 56ms/step - adhd_output_accuracy: 0.8727 - adhd_output_loss: 0.3203 - loss: 1.9330 - sex_output_accuracy: 0.8850 - sex_output_loss: 0.3060 - val_adhd_output_accuracy: 0.6543 - val_adhd_output_loss: 0.7216 - val_loss: 2.8730 - val_sex_output_accuracy: 0.5967 - val_sex_output_loss: 0.8186\n",
            "Epoch 28/100\n",
            "\u001b[1m31/31\u001b[0m \u001b[32m━━━━━━━━━━━━━━━━━━━━\u001b[0m\u001b[37m\u001b[0m \u001b[1m1s\u001b[0m 45ms/step - adhd_output_accuracy: 0.8584 - adhd_output_loss: 0.3596 - loss: 2.0268 - sex_output_accuracy: 0.8588 - sex_output_loss: 0.3345 - val_adhd_output_accuracy: 0.6296 - val_adhd_output_loss: 0.7438 - val_loss: 2.8870 - val_sex_output_accuracy: 0.6255 - val_sex_output_loss: 0.8024\n",
            "Epoch 29/100\n",
            "\u001b[1m31/31\u001b[0m \u001b[32m━━━━━━━━━━━━━━━━━━━━\u001b[0m\u001b[37m\u001b[0m \u001b[1m1s\u001b[0m 45ms/step - adhd_output_accuracy: 0.8778 - adhd_output_loss: 0.2973 - loss: 1.9756 - sex_output_accuracy: 0.8508 - sex_output_loss: 0.3316 - val_adhd_output_accuracy: 0.6543 - val_adhd_output_loss: 0.7745 - val_loss: 2.9895 - val_sex_output_accuracy: 0.5967 - val_sex_output_loss: 0.8662\n",
            "\u001b[1m8/8\u001b[0m \u001b[32m━━━━━━━━━━━━━━━━━━━━\u001b[0m\u001b[37m\u001b[0m \u001b[1m0s\u001b[0m 13ms/step - adhd_output_accuracy: 0.6831 - adhd_output_loss: 0.6263 - loss: 2.6640 - sex_output_accuracy: 0.6583 - sex_output_loss: 0.6928\n",
            "Evaluation Results: [2.7094433307647705, 0.6575300693511963, 0.708385705947876, 0.6460905075073242, 0.6337448358535767]\n",
            "\u001b[1m8/8\u001b[0m \u001b[32m━━━━━━━━━━━━━━━━━━━━\u001b[0m\u001b[37m\u001b[0m \u001b[1m0s\u001b[0m 21ms/step\n",
            "ADHD F1 Score (weighted): 0.8554\n",
            "Sex_F F1 Score: 0.3150\n",
            "Final Weighted F1 Score: 0.5852\n"
          ]
        }
      ]
    },
    {
      "cell_type": "code",
      "source": [
        "# prompt: save probability predictions to csv\n",
        "\n",
        "# Make predictions on the test set\n",
        "test_predictions2 = model2.predict(scaler.transform(combined_test_metadata_imputed2))\n",
        "\n",
        "# Create a DataFrame for the predictions     # (304, 3)\n",
        "predictions_df2 = pd.DataFrame({\n",
        "    'participant_id': test_patient_ids,\n",
        "    'ADHD_Outcome_Probability': test_predictions2[0].flatten(),\n",
        "    'Sex_F_Probability': test_predictions2[1].flatten()\n",
        "})\n",
        "\n",
        "predictions_df2\n",
        "# Save the predictions to a CSV file\n",
        "predictions_df2.to_csv('/content/drive/My Drive/widsdatathon2025/Work/Prediction/nn_wo_missing_data.csv', index=False)"
      ],
      "metadata": {
        "collapsed": true,
        "id": "-8BVk3znzPKn",
        "outputId": "9a495e32-869b-41b3-da2a-4ce49e52554c",
        "colab": {
          "base_uri": "https://localhost:8080/"
        }
      },
      "execution_count": 29,
      "outputs": [
        {
          "output_type": "stream",
          "name": "stdout",
          "text": [
            "\u001b[1m10/10\u001b[0m \u001b[32m━━━━━━━━━━━━━━━━━━━━\u001b[0m\u001b[37m\u001b[0m \u001b[1m0s\u001b[0m 17ms/step\n"
          ]
        }
      ]
    },
    {
      "cell_type": "code",
      "source": [
        "combined_test_metadata_imputed2.shape"
      ],
      "metadata": {
        "id": "xxiCZklb84Q5",
        "outputId": "88a888f3-2dec-49ea-9c1d-4054f6894485",
        "colab": {
          "base_uri": "https://localhost:8080/"
        }
      },
      "execution_count": 36,
      "outputs": [
        {
          "output_type": "execute_result",
          "data": {
            "text/plain": [
              "(304, 19918)"
            ]
          },
          "metadata": {},
          "execution_count": 36
        }
      ]
    },
    {
      "cell_type": "code",
      "source": [
        "combined_test_metadata_imputed.shape"
      ],
      "metadata": {
        "id": "h0xkRp2j81Dp",
        "outputId": "253f2837-bdfd-4e4a-dabb-8ccadccc5731",
        "colab": {
          "base_uri": "https://localhost:8080/"
        }
      },
      "execution_count": 35,
      "outputs": [
        {
          "output_type": "execute_result",
          "data": {
            "text/plain": [
              "(304, 19926)"
            ]
          },
          "metadata": {},
          "execution_count": 35
        }
      ]
    },
    {
      "cell_type": "markdown",
      "source": [
        "# Model Ensemble\n"
      ],
      "metadata": {
        "id": "SEygbk-45qg5"
      }
    },
    {
      "cell_type": "markdown",
      "source": [
        "# Threshold Tuning"
      ],
      "metadata": {
        "id": "CdvkLrxt8Cug"
      }
    },
    {
      "cell_type": "code",
      "source": [
        "# prompt: ensemble model and model 2 and combine prediction_df and prediction_df2\n",
        "\n",
        "\n",
        "# --- Define the function to compute weighted F1 score ---\n",
        "def compute_weighted_f1(y_true_adhd, y_pred_adhd, y_true_sex, y_pred_sex):\n",
        "    \"\"\"\n",
        "    Compute the final weighted F1 score for the competition.\n",
        "    Female ADHD cases (where ADHD_Outcome==1 and Sex_F==1) are given 2x weight.\n",
        "    The final score is the average of the weighted F1 for ADHD_Outcome and the F1 for Sex_F.\n",
        "    \"\"\"\n",
        "    # Create sample weights for ADHD_Outcome: weight=2 for female ADHD cases, else 1.\n",
        "    weights = np.ones_like(y_true_adhd, dtype=float)\n",
        "    weights[(y_true_adhd == 1) & (y_true_sex == 1)] = 2.0\n",
        "\n",
        "    # Calculate weighted F1 for ADHD_Outcome\n",
        "    f1_adhd = f1_score(y_true_adhd, y_pred_adhd, sample_weight=weights)\n",
        "    # Calculate standard F1 for Sex_F\n",
        "    f1_sex = f1_score(y_true_sex, y_pred_sex)\n",
        "\n",
        "    # Final leaderboard score: average of the two F1 scores\n",
        "    final_f1 = (f1_adhd + f1_sex) / 2.0\n",
        "    return final_f1, f1_adhd, f1_sex\n",
        "# Combine predictions from both models\n",
        "combined_predictions = pd.merge(predictions_df, predictions_df2, on='participant_id', suffixes=('_model1', '_model2'))\n",
        "\n",
        "# Calculate the average of the probabilities from both models\n",
        "combined_predictions['ADHD_Outcome_Probability'] = (combined_predictions['ADHD_Outcome_Probability_model1'] + combined_predictions['ADHD_Outcome_Probability_model2']) / 2\n",
        "combined_predictions['Sex_F_Probability'] = (combined_predictions['Sex_F_Probability_model1'] + combined_predictions['Sex_F_Probability_model2']) / 2\n",
        "\n",
        "# Keep only the necessary columns for submission\n",
        "combined_predictions = combined_predictions[['participant_id', 'ADHD_Outcome_Probability', 'Sex_F_Probability']]\n",
        "\n",
        "# --- Define a range of thresholds to test ---\n",
        "#thresholds = np.linspace(0, 1, 101)  # from 0.00 to 1.00 in steps of 0.01\n",
        "thresholds = np.linspace(0.1, 0.99, 90)\n",
        "\n",
        "y_val_adhd_prob = predictions[0].flatten()\n",
        "y_val_sex_prob  = predictions[1].flatten()\n",
        "\n",
        "best_final_f1 = 0.0\n",
        "best_thr_adhd = 0.0\n",
        "best_thr_sex  = 0.0\n",
        "best_f1_adhd = 0.0\n",
        "best_f1_sex  = 0.0\n",
        "\n",
        "# --- Perform a 2D threshold sweep ---\n",
        "for thr_a in thresholds:\n",
        "    for thr_s in thresholds:\n",
        "        y_pred_adhd = (y_val_adhd_prob > thr_a).astype(int)\n",
        "        y_pred_sex  = (y_val_sex_prob > thr_s).astype(int)\n",
        "        final_f1, f1_adhd, f1_sex = compute_weighted_f1(y_val_adhd_split, y_pred_adhd, y_val_sex_split, y_pred_sex)\n",
        "        if final_f1 > best_final_f1:\n",
        "            best_final_f1 = final_f1\n",
        "            best_thr_adhd = thr_a\n",
        "            best_thr_sex  = thr_s\n",
        "            best_f1_adhd = f1_adhd\n",
        "            best_f1_sex  = f1_sex\n",
        "\n",
        "# Apply the best thresholds\n",
        "combined_predictions['ADHD_Outcome'] = (combined_predictions['ADHD_Outcome_Probability'] > best_thr_adhd).astype(int)\n",
        "combined_predictions['Sex_F'] = (combined_predictions['Sex_F_Probability'] > best_thr_sex).astype(int)\n",
        "\n",
        "\n",
        "print(f\"Best ADHD Threshold: {best_thr_adhd:.2f} with F1: {best_f1_adhd:.4f}\")\n",
        "print(f\"Best Sex_F Threshold: {best_thr_sex:.2f} with F1: {best_f1_sex:.4f}\")\n",
        "print(f\"Best Final Weighted F1: {best_final_f1:.4f}\")\n",
        "\n",
        "\n",
        "# Best ADHD Threshold: 0.10 with F1: 0.8728\n",
        "# Best Sex_F Threshold: 0.14 with F1: 0.4599\n",
        "# Best Final Weighted F1: 0.6663\n",
        "# Leaderboard Submitted score: 0.69607\n"
      ],
      "metadata": {
        "collapsed": true,
        "id": "zdktbG_c06KP",
        "outputId": "f35f42c3-9d54-4316-d2fd-8c2c72b21f50",
        "colab": {
          "base_uri": "https://localhost:8080/"
        }
      },
      "execution_count": 52,
      "outputs": [
        {
          "output_type": "stream",
          "name": "stdout",
          "text": [
            "Best ADHD Threshold: 0.10 with F1: 0.8728\n",
            "Best Sex_F Threshold: 0.14 with F1: 0.4599\n",
            "Best Final Weighted F1: 0.6663\n"
          ]
        }
      ]
    },
    {
      "cell_type": "code",
      "source": [
        "# Final submission dataframe\n",
        "combined_predictions_df = combined_predictions[['participant_id', 'ADHD_Outcome_Probability', 'Sex_F_Probability']]\n",
        "\n",
        "combined_predictions_df.to_csv('/content/drive/My Drive/widsdatathon2025/Work/Prediction/ensembled_probabilities.csv', index=False)\n",
        "\n",
        "ensembled_submission = combined_predictions[['participant_id', 'ADHD_Outcome', 'Sex_F']]\n",
        "\n",
        "ensembled_submission.to_csv('/content/drive/My Drive/widsdatathon2025/Work/Submission/two_model_ensembled.csv', index=False)"
      ],
      "metadata": {
        "id": "OT9BkAlx-QYF"
      },
      "execution_count": 51,
      "outputs": []
    },
    {
      "cell_type": "code",
      "source": [
        "# prompt: generate combined_prediction feature tuning graph\n",
        "\n",
        "import matplotlib.pyplot as plt\n",
        "import numpy as np\n",
        "# Assuming y_val_adhd_prob, y_val_sex_prob, y_val_adhd_split, and y_val_sex_split are defined as in your code.\n",
        "\n",
        "# Function to compute the weighted F1 score (same as before)\n",
        "def compute_weighted_f1(y_true_adhd, y_pred_adhd, y_true_sex, y_pred_sex):\n",
        "    weights = np.ones_like(y_true_adhd, dtype=float)\n",
        "    weights[(y_true_adhd == 1) & (y_true_sex == 1)] = 2.0\n",
        "    f1_adhd = f1_score(y_true_adhd, y_pred_adhd, sample_weight=weights)\n",
        "    f1_sex = f1_score(y_true_sex, y_pred_sex)\n",
        "    final_f1 = (f1_adhd + f1_sex) / 2.0\n",
        "    return final_f1, f1_adhd, f1_sex\n",
        "\n",
        "thresholds = np.linspace(0, 1, 101)\n",
        "f1_scores_combined = []\n",
        "\n",
        "for threshold in thresholds:\n",
        "    y_pred_adhd = (y_val_adhd_prob > threshold).astype(int)\n",
        "    y_pred_sex = (y_val_sex_prob > threshold).astype(int)\n",
        "    final_f1, _, _ = compute_weighted_f1(y_val_adhd_split, y_pred_adhd, y_val_sex_split, y_pred_sex)\n",
        "    f1_scores_combined.append(final_f1)\n",
        "\n",
        "# Plotting the threshold tuning graph\n",
        "plt.figure(figsize=(10, 6))\n",
        "plt.plot(thresholds, f1_scores_combined, label='Combined F1 Score')\n",
        "plt.xlabel('Threshold')\n",
        "plt.ylabel('F1 Score')\n",
        "plt.title('Threshold Tuning Graph for Combined Prediction')\n",
        "plt.legend()\n",
        "plt.grid(True)\n",
        "plt.show()\n"
      ],
      "metadata": {
        "id": "5bk060hI_75e",
        "outputId": "073ae9ca-375c-4b0e-b65c-35118530fe8e",
        "colab": {
          "base_uri": "https://localhost:8080/",
          "height": 564
        }
      },
      "execution_count": 50,
      "outputs": [
        {
          "output_type": "display_data",
          "data": {
            "text/plain": [
              "<Figure size 1000x600 with 1 Axes>"
            ],
            "image/png": "[encoded data removed]"
          },
          "metadata": {}
        }
      ]
    }
  ]
}